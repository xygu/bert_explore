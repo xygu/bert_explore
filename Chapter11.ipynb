{
  "cells": [
    {
      "cell_type": "markdown",
      "metadata": {
        "id": "view-in-github",
        "colab_type": "text"
      },
      "source": [
        "<a href=\"https://colab.research.google.com/github/xygu/bert_explore/blob/main/Chapter11.ipynb\" target=\"_parent\"><img src=\"https://colab.research.google.com/assets/colab-badge.svg\" alt=\"Open In Colab\"/></a>"
      ]
    },
    {
      "cell_type": "markdown",
      "metadata": {
        "id": "5QNW8f3BPIoi"
      },
      "source": [
        "# Deep Learning with PyTorch Step-by-Step: A Beginner's Guide"
      ]
    },
    {
      "cell_type": "markdown",
      "metadata": {
        "id": "JQfcyrdyPIok"
      },
      "source": [
        "# Chapter 11"
      ]
    },
    {
      "cell_type": "markdown",
      "metadata": {
        "id": "AA_yhplzPIol"
      },
      "source": [
        "## Additional Setup\n",
        "\n",
        "The repository for the `allennlp` library has been archived. The library was used by `flair` to provide ELMO embeddings. This required PyTorch to be downgraded to version 1.7.1, and it prevented updating other libraries used in this chapter.\n",
        "\n",
        "At this point, the sensible solution is to upgrade `flair` and the other packages to more up-to-date versions and retire the use of ELMO embeddings. For the sake of completion, these embeddings will be replaced by flair embeddings in the code. Some code will be commented out whenever the replacement produces results that are substantially different from those produced by ELMO.\n",
        "\n",
        "Moreover, upgrading the `gensim` library required a few changes in the code since some attributes were changed from its 3.8.3 to its 4.3.3 version. These changes are highlighted in the code.\n",
        "\n",
        "**IMPORTANT**: due to the major version upgrade, the output of several cells will be quite different than those shown in the book. The new Gensim version produces slightly different vocabularies, so you should expect small changes in the number of words in the vocabulary, for example."
      ]
    },
    {
      "cell_type": "code",
      "execution_count": 1,
      "metadata": {
        "colab": {
          "base_uri": "https://localhost:8080/"
        },
        "id": "C8BhclloPIom",
        "outputId": "0d2a382c-1147-4456-f33f-9331d8c30a11"
      },
      "outputs": [
        {
          "output_type": "stream",
          "name": "stdout",
          "text": [
            "Requirement already satisfied: gensim==4.3.3 in /usr/local/lib/python3.12/dist-packages (4.3.3)\n",
            "Requirement already satisfied: numpy<2.0,>=1.18.5 in /usr/local/lib/python3.12/dist-packages (from gensim==4.3.3) (1.26.4)\n",
            "Requirement already satisfied: scipy<1.14.0,>=1.7.0 in /usr/local/lib/python3.12/dist-packages (from gensim==4.3.3) (1.13.1)\n",
            "Requirement already satisfied: smart-open>=1.8.1 in /usr/local/lib/python3.12/dist-packages (from gensim==4.3.3) (7.3.1)\n",
            "Requirement already satisfied: wrapt in /usr/local/lib/python3.12/dist-packages (from smart-open>=1.8.1->gensim==4.3.3) (1.17.3)\n",
            "Requirement already satisfied: flair==0.13.1 in /usr/local/lib/python3.12/dist-packages (0.13.1)\n",
            "Requirement already satisfied: boto3>=1.20.27 in /usr/local/lib/python3.12/dist-packages (from flair==0.13.1) (1.40.35)\n",
            "Requirement already satisfied: bpemb>=0.3.2 in /usr/local/lib/python3.12/dist-packages (from flair==0.13.1) (0.3.6)\n",
            "Requirement already satisfied: conllu>=4.0 in /usr/local/lib/python3.12/dist-packages (from flair==0.13.1) (6.0.0)\n",
            "Requirement already satisfied: deprecated>=1.2.13 in /usr/local/lib/python3.12/dist-packages (from flair==0.13.1) (1.2.18)\n",
            "Requirement already satisfied: ftfy>=6.1.0 in /usr/local/lib/python3.12/dist-packages (from flair==0.13.1) (6.3.1)\n",
            "Requirement already satisfied: gdown>=4.4.0 in /usr/local/lib/python3.12/dist-packages (from flair==0.13.1) (5.2.0)\n",
            "Requirement already satisfied: gensim>=4.2.0 in /usr/local/lib/python3.12/dist-packages (from flair==0.13.1) (4.3.3)\n",
            "Requirement already satisfied: huggingface-hub>=0.10.0 in /usr/local/lib/python3.12/dist-packages (from flair==0.13.1) (0.34.4)\n",
            "Requirement already satisfied: janome>=0.4.2 in /usr/local/lib/python3.12/dist-packages (from flair==0.13.1) (0.5.0)\n",
            "Requirement already satisfied: langdetect>=1.0.9 in /usr/local/lib/python3.12/dist-packages (from flair==0.13.1) (1.0.9)\n",
            "Requirement already satisfied: lxml>=4.8.0 in /usr/local/lib/python3.12/dist-packages (from flair==0.13.1) (5.4.0)\n",
            "Requirement already satisfied: matplotlib>=2.2.3 in /usr/local/lib/python3.12/dist-packages (from flair==0.13.1) (3.10.0)\n",
            "Requirement already satisfied: more-itertools>=8.13.0 in /usr/local/lib/python3.12/dist-packages (from flair==0.13.1) (10.8.0)\n",
            "Requirement already satisfied: mpld3>=0.3 in /usr/local/lib/python3.12/dist-packages (from flair==0.13.1) (0.5.11)\n",
            "Requirement already satisfied: pptree>=3.1 in /usr/local/lib/python3.12/dist-packages (from flair==0.13.1) (3.1)\n",
            "Requirement already satisfied: python-dateutil>=2.8.2 in /usr/local/lib/python3.12/dist-packages (from flair==0.13.1) (2.9.0.post0)\n",
            "Requirement already satisfied: pytorch-revgrad>=0.2.0 in /usr/local/lib/python3.12/dist-packages (from flair==0.13.1) (0.2.0)\n",
            "Requirement already satisfied: regex>=2022.1.18 in /usr/local/lib/python3.12/dist-packages (from flair==0.13.1) (2024.11.6)\n",
            "Requirement already satisfied: scikit-learn>=1.0.2 in /usr/local/lib/python3.12/dist-packages (from flair==0.13.1) (1.6.1)\n",
            "Requirement already satisfied: segtok>=1.5.11 in /usr/local/lib/python3.12/dist-packages (from flair==0.13.1) (1.5.11)\n",
            "Requirement already satisfied: sqlitedict>=2.0.0 in /usr/local/lib/python3.12/dist-packages (from flair==0.13.1) (2.1.0)\n",
            "Requirement already satisfied: tabulate>=0.8.10 in /usr/local/lib/python3.12/dist-packages (from flair==0.13.1) (0.9.0)\n",
            "Requirement already satisfied: torch!=1.8,>=1.5.0 in /usr/local/lib/python3.12/dist-packages (from flair==0.13.1) (2.3.1)\n",
            "Requirement already satisfied: tqdm>=4.63.0 in /usr/local/lib/python3.12/dist-packages (from flair==0.13.1) (4.67.1)\n",
            "Requirement already satisfied: transformer-smaller-training-vocab>=0.2.3 in /usr/local/lib/python3.12/dist-packages (from flair==0.13.1) (0.4.2)\n",
            "Requirement already satisfied: transformers<5.0.0,>=4.18.0 in /usr/local/lib/python3.12/dist-packages (from transformers[sentencepiece]<5.0.0,>=4.18.0->flair==0.13.1) (4.37.2)\n",
            "Requirement already satisfied: urllib3<2.0.0,>=1.0.0 in /usr/local/lib/python3.12/dist-packages (from flair==0.13.1) (1.26.20)\n",
            "Requirement already satisfied: wikipedia-api>=0.5.7 in /usr/local/lib/python3.12/dist-packages (from flair==0.13.1) (0.8.1)\n",
            "Requirement already satisfied: semver<4.0.0,>=3.0.0 in /usr/local/lib/python3.12/dist-packages (from flair==0.13.1) (3.0.4)\n",
            "Requirement already satisfied: botocore<1.41.0,>=1.40.35 in /usr/local/lib/python3.12/dist-packages (from boto3>=1.20.27->flair==0.13.1) (1.40.35)\n",
            "Requirement already satisfied: jmespath<2.0.0,>=0.7.1 in /usr/local/lib/python3.12/dist-packages (from boto3>=1.20.27->flair==0.13.1) (1.0.1)\n",
            "Requirement already satisfied: s3transfer<0.15.0,>=0.14.0 in /usr/local/lib/python3.12/dist-packages (from boto3>=1.20.27->flair==0.13.1) (0.14.0)\n",
            "Requirement already satisfied: numpy in /usr/local/lib/python3.12/dist-packages (from bpemb>=0.3.2->flair==0.13.1) (1.26.4)\n",
            "Requirement already satisfied: requests in /usr/local/lib/python3.12/dist-packages (from bpemb>=0.3.2->flair==0.13.1) (2.32.4)\n",
            "Requirement already satisfied: sentencepiece in /usr/local/lib/python3.12/dist-packages (from bpemb>=0.3.2->flair==0.13.1) (0.2.1)\n",
            "Requirement already satisfied: wrapt<2,>=1.10 in /usr/local/lib/python3.12/dist-packages (from deprecated>=1.2.13->flair==0.13.1) (1.17.3)\n",
            "Requirement already satisfied: wcwidth in /usr/local/lib/python3.12/dist-packages (from ftfy>=6.1.0->flair==0.13.1) (0.2.13)\n",
            "Requirement already satisfied: beautifulsoup4 in /usr/local/lib/python3.12/dist-packages (from gdown>=4.4.0->flair==0.13.1) (4.13.5)\n",
            "Requirement already satisfied: filelock in /usr/local/lib/python3.12/dist-packages (from gdown>=4.4.0->flair==0.13.1) (3.19.1)\n",
            "Requirement already satisfied: scipy<1.14.0,>=1.7.0 in /usr/local/lib/python3.12/dist-packages (from gensim>=4.2.0->flair==0.13.1) (1.13.1)\n",
            "Requirement already satisfied: smart-open>=1.8.1 in /usr/local/lib/python3.12/dist-packages (from gensim>=4.2.0->flair==0.13.1) (7.3.1)\n",
            "Requirement already satisfied: fsspec>=2023.5.0 in /usr/local/lib/python3.12/dist-packages (from huggingface-hub>=0.10.0->flair==0.13.1) (2024.2.0)\n",
            "Requirement already satisfied: packaging>=20.9 in /usr/local/lib/python3.12/dist-packages (from huggingface-hub>=0.10.0->flair==0.13.1) (25.0)\n",
            "Requirement already satisfied: pyyaml>=5.1 in /usr/local/lib/python3.12/dist-packages (from huggingface-hub>=0.10.0->flair==0.13.1) (6.0.2)\n",
            "Requirement already satisfied: typing-extensions>=3.7.4.3 in /usr/local/lib/python3.12/dist-packages (from huggingface-hub>=0.10.0->flair==0.13.1) (4.15.0)\n",
            "Requirement already satisfied: hf-xet<2.0.0,>=1.1.3 in /usr/local/lib/python3.12/dist-packages (from huggingface-hub>=0.10.0->flair==0.13.1) (1.1.9)\n",
            "Requirement already satisfied: six in /usr/local/lib/python3.12/dist-packages (from langdetect>=1.0.9->flair==0.13.1) (1.17.0)\n",
            "Requirement already satisfied: contourpy>=1.0.1 in /usr/local/lib/python3.12/dist-packages (from matplotlib>=2.2.3->flair==0.13.1) (1.3.3)\n",
            "Requirement already satisfied: cycler>=0.10 in /usr/local/lib/python3.12/dist-packages (from matplotlib>=2.2.3->flair==0.13.1) (0.12.1)\n",
            "Requirement already satisfied: fonttools>=4.22.0 in /usr/local/lib/python3.12/dist-packages (from matplotlib>=2.2.3->flair==0.13.1) (4.59.2)\n",
            "Requirement already satisfied: kiwisolver>=1.3.1 in /usr/local/lib/python3.12/dist-packages (from matplotlib>=2.2.3->flair==0.13.1) (1.4.9)\n",
            "Requirement already satisfied: pillow>=8 in /usr/local/lib/python3.12/dist-packages (from matplotlib>=2.2.3->flair==0.13.1) (11.3.0)\n",
            "Requirement already satisfied: pyparsing>=2.3.1 in /usr/local/lib/python3.12/dist-packages (from matplotlib>=2.2.3->flair==0.13.1) (3.2.3)\n",
            "Requirement already satisfied: jinja2 in /usr/local/lib/python3.12/dist-packages (from mpld3>=0.3->flair==0.13.1) (3.1.6)\n",
            "Requirement already satisfied: joblib>=1.2.0 in /usr/local/lib/python3.12/dist-packages (from scikit-learn>=1.0.2->flair==0.13.1) (1.5.2)\n",
            "Requirement already satisfied: threadpoolctl>=3.1.0 in /usr/local/lib/python3.12/dist-packages (from scikit-learn>=1.0.2->flair==0.13.1) (3.6.0)\n",
            "Requirement already satisfied: sympy in /usr/local/lib/python3.12/dist-packages (from torch!=1.8,>=1.5.0->flair==0.13.1) (1.13.3)\n",
            "Requirement already satisfied: networkx in /usr/local/lib/python3.12/dist-packages (from torch!=1.8,>=1.5.0->flair==0.13.1) (3.5)\n",
            "Requirement already satisfied: nvidia-cuda-nvrtc-cu12==12.1.105 in /usr/local/lib/python3.12/dist-packages (from torch!=1.8,>=1.5.0->flair==0.13.1) (12.1.105)\n",
            "Requirement already satisfied: nvidia-cuda-runtime-cu12==12.1.105 in /usr/local/lib/python3.12/dist-packages (from torch!=1.8,>=1.5.0->flair==0.13.1) (12.1.105)\n",
            "Requirement already satisfied: nvidia-cuda-cupti-cu12==12.1.105 in /usr/local/lib/python3.12/dist-packages (from torch!=1.8,>=1.5.0->flair==0.13.1) (12.1.105)\n",
            "Requirement already satisfied: nvidia-cudnn-cu12==8.9.2.26 in /usr/local/lib/python3.12/dist-packages (from torch!=1.8,>=1.5.0->flair==0.13.1) (8.9.2.26)\n",
            "Requirement already satisfied: nvidia-cublas-cu12==12.1.3.1 in /usr/local/lib/python3.12/dist-packages (from torch!=1.8,>=1.5.0->flair==0.13.1) (12.1.3.1)\n",
            "Requirement already satisfied: nvidia-cufft-cu12==11.0.2.54 in /usr/local/lib/python3.12/dist-packages (from torch!=1.8,>=1.5.0->flair==0.13.1) (11.0.2.54)\n",
            "Requirement already satisfied: nvidia-curand-cu12==10.3.2.106 in /usr/local/lib/python3.12/dist-packages (from torch!=1.8,>=1.5.0->flair==0.13.1) (10.3.2.106)\n",
            "Requirement already satisfied: nvidia-cusolver-cu12==11.4.5.107 in /usr/local/lib/python3.12/dist-packages (from torch!=1.8,>=1.5.0->flair==0.13.1) (11.4.5.107)\n",
            "Requirement already satisfied: nvidia-cusparse-cu12==12.1.0.106 in /usr/local/lib/python3.12/dist-packages (from torch!=1.8,>=1.5.0->flair==0.13.1) (12.1.0.106)\n",
            "Requirement already satisfied: nvidia-nccl-cu12==2.20.5 in /usr/local/lib/python3.12/dist-packages (from torch!=1.8,>=1.5.0->flair==0.13.1) (2.20.5)\n",
            "Requirement already satisfied: nvidia-nvtx-cu12==12.1.105 in /usr/local/lib/python3.12/dist-packages (from torch!=1.8,>=1.5.0->flair==0.13.1) (12.1.105)\n",
            "Requirement already satisfied: nvidia-nvjitlink-cu12 in /usr/local/lib/python3.12/dist-packages (from nvidia-cusolver-cu12==11.4.5.107->torch!=1.8,>=1.5.0->flair==0.13.1) (12.6.85)\n",
            "Requirement already satisfied: tokenizers<0.19,>=0.14 in /usr/local/lib/python3.12/dist-packages (from transformers<5.0.0,>=4.18.0->transformers[sentencepiece]<5.0.0,>=4.18.0->flair==0.13.1) (0.15.2)\n",
            "Requirement already satisfied: safetensors>=0.4.1 in /usr/local/lib/python3.12/dist-packages (from transformers<5.0.0,>=4.18.0->transformers[sentencepiece]<5.0.0,>=4.18.0->flair==0.13.1) (0.6.2)\n",
            "Requirement already satisfied: protobuf in /usr/local/lib/python3.12/dist-packages (from transformers[sentencepiece]<5.0.0,>=4.18.0->flair==0.13.1) (5.29.5)\n",
            "Requirement already satisfied: accelerate>=0.21.0 in /usr/local/lib/python3.12/dist-packages (from transformers[sentencepiece,torch]<5.0,>=4.1->transformer-smaller-training-vocab>=0.2.3->flair==0.13.1) (0.28.0)\n",
            "Requirement already satisfied: soupsieve>1.2 in /usr/local/lib/python3.12/dist-packages (from beautifulsoup4->gdown>=4.4.0->flair==0.13.1) (2.8)\n",
            "Requirement already satisfied: MarkupSafe>=2.0 in /usr/local/lib/python3.12/dist-packages (from jinja2->mpld3>=0.3->flair==0.13.1) (3.0.2)\n",
            "Requirement already satisfied: charset_normalizer<4,>=2 in /usr/local/lib/python3.12/dist-packages (from requests->bpemb>=0.3.2->flair==0.13.1) (3.4.3)\n",
            "Requirement already satisfied: idna<4,>=2.5 in /usr/local/lib/python3.12/dist-packages (from requests->bpemb>=0.3.2->flair==0.13.1) (3.10)\n",
            "Requirement already satisfied: certifi>=2017.4.17 in /usr/local/lib/python3.12/dist-packages (from requests->bpemb>=0.3.2->flair==0.13.1) (2025.8.3)\n",
            "Requirement already satisfied: PySocks!=1.5.7,>=1.5.6 in /usr/local/lib/python3.12/dist-packages (from requests[socks]->gdown>=4.4.0->flair==0.13.1) (1.7.1)\n",
            "Requirement already satisfied: mpmath<1.4,>=1.1.0 in /usr/local/lib/python3.12/dist-packages (from sympy->torch!=1.8,>=1.5.0->flair==0.13.1) (1.3.0)\n",
            "Requirement already satisfied: psutil in /usr/local/lib/python3.12/dist-packages (from accelerate>=0.21.0->transformers[sentencepiece,torch]<5.0,>=4.1->transformer-smaller-training-vocab>=0.2.3->flair==0.13.1) (5.9.5)\n",
            "Requirement already satisfied: torchvision==0.18.1 in /usr/local/lib/python3.12/dist-packages (0.18.1)\n",
            "Requirement already satisfied: numpy in /usr/local/lib/python3.12/dist-packages (from torchvision==0.18.1) (1.26.4)\n",
            "Requirement already satisfied: torch==2.3.1 in /usr/local/lib/python3.12/dist-packages (from torchvision==0.18.1) (2.3.1)\n",
            "Requirement already satisfied: pillow!=8.3.*,>=5.3.0 in /usr/local/lib/python3.12/dist-packages (from torchvision==0.18.1) (11.3.0)\n",
            "Requirement already satisfied: filelock in /usr/local/lib/python3.12/dist-packages (from torch==2.3.1->torchvision==0.18.1) (3.19.1)\n",
            "Requirement already satisfied: typing-extensions>=4.8.0 in /usr/local/lib/python3.12/dist-packages (from torch==2.3.1->torchvision==0.18.1) (4.15.0)\n",
            "Requirement already satisfied: sympy in /usr/local/lib/python3.12/dist-packages (from torch==2.3.1->torchvision==0.18.1) (1.13.3)\n",
            "Requirement already satisfied: networkx in /usr/local/lib/python3.12/dist-packages (from torch==2.3.1->torchvision==0.18.1) (3.5)\n",
            "Requirement already satisfied: jinja2 in /usr/local/lib/python3.12/dist-packages (from torch==2.3.1->torchvision==0.18.1) (3.1.6)\n",
            "Requirement already satisfied: fsspec in /usr/local/lib/python3.12/dist-packages (from torch==2.3.1->torchvision==0.18.1) (2024.2.0)\n",
            "Requirement already satisfied: nvidia-cuda-nvrtc-cu12==12.1.105 in /usr/local/lib/python3.12/dist-packages (from torch==2.3.1->torchvision==0.18.1) (12.1.105)\n",
            "Requirement already satisfied: nvidia-cuda-runtime-cu12==12.1.105 in /usr/local/lib/python3.12/dist-packages (from torch==2.3.1->torchvision==0.18.1) (12.1.105)\n",
            "Requirement already satisfied: nvidia-cuda-cupti-cu12==12.1.105 in /usr/local/lib/python3.12/dist-packages (from torch==2.3.1->torchvision==0.18.1) (12.1.105)\n",
            "Requirement already satisfied: nvidia-cudnn-cu12==8.9.2.26 in /usr/local/lib/python3.12/dist-packages (from torch==2.3.1->torchvision==0.18.1) (8.9.2.26)\n",
            "Requirement already satisfied: nvidia-cublas-cu12==12.1.3.1 in /usr/local/lib/python3.12/dist-packages (from torch==2.3.1->torchvision==0.18.1) (12.1.3.1)\n",
            "Requirement already satisfied: nvidia-cufft-cu12==11.0.2.54 in /usr/local/lib/python3.12/dist-packages (from torch==2.3.1->torchvision==0.18.1) (11.0.2.54)\n",
            "Requirement already satisfied: nvidia-curand-cu12==10.3.2.106 in /usr/local/lib/python3.12/dist-packages (from torch==2.3.1->torchvision==0.18.1) (10.3.2.106)\n",
            "Requirement already satisfied: nvidia-cusolver-cu12==11.4.5.107 in /usr/local/lib/python3.12/dist-packages (from torch==2.3.1->torchvision==0.18.1) (11.4.5.107)\n",
            "Requirement already satisfied: nvidia-cusparse-cu12==12.1.0.106 in /usr/local/lib/python3.12/dist-packages (from torch==2.3.1->torchvision==0.18.1) (12.1.0.106)\n",
            "Requirement already satisfied: nvidia-nccl-cu12==2.20.5 in /usr/local/lib/python3.12/dist-packages (from torch==2.3.1->torchvision==0.18.1) (2.20.5)\n",
            "Requirement already satisfied: nvidia-nvtx-cu12==12.1.105 in /usr/local/lib/python3.12/dist-packages (from torch==2.3.1->torchvision==0.18.1) (12.1.105)\n",
            "Requirement already satisfied: nvidia-nvjitlink-cu12 in /usr/local/lib/python3.12/dist-packages (from nvidia-cusolver-cu12==11.4.5.107->torch==2.3.1->torchvision==0.18.1) (12.6.85)\n",
            "Requirement already satisfied: MarkupSafe>=2.0 in /usr/local/lib/python3.12/dist-packages (from jinja2->torch==2.3.1->torchvision==0.18.1) (3.0.2)\n",
            "Requirement already satisfied: mpmath<1.4,>=1.1.0 in /usr/local/lib/python3.12/dist-packages (from sympy->torch==2.3.1->torchvision==0.18.1) (1.3.0)\n",
            "Requirement already satisfied: transformers==4.37.2 in /usr/local/lib/python3.12/dist-packages (4.37.2)\n",
            "Requirement already satisfied: filelock in /usr/local/lib/python3.12/dist-packages (from transformers==4.37.2) (3.19.1)\n",
            "Requirement already satisfied: huggingface-hub<1.0,>=0.19.3 in /usr/local/lib/python3.12/dist-packages (from transformers==4.37.2) (0.34.4)\n",
            "Requirement already satisfied: numpy>=1.17 in /usr/local/lib/python3.12/dist-packages (from transformers==4.37.2) (1.26.4)\n",
            "Requirement already satisfied: packaging>=20.0 in /usr/local/lib/python3.12/dist-packages (from transformers==4.37.2) (25.0)\n",
            "Requirement already satisfied: pyyaml>=5.1 in /usr/local/lib/python3.12/dist-packages (from transformers==4.37.2) (6.0.2)\n",
            "Requirement already satisfied: regex!=2019.12.17 in /usr/local/lib/python3.12/dist-packages (from transformers==4.37.2) (2024.11.6)\n",
            "Requirement already satisfied: requests in /usr/local/lib/python3.12/dist-packages (from transformers==4.37.2) (2.32.4)\n",
            "Requirement already satisfied: tokenizers<0.19,>=0.14 in /usr/local/lib/python3.12/dist-packages (from transformers==4.37.2) (0.15.2)\n",
            "Requirement already satisfied: safetensors>=0.4.1 in /usr/local/lib/python3.12/dist-packages (from transformers==4.37.2) (0.6.2)\n",
            "Requirement already satisfied: tqdm>=4.27 in /usr/local/lib/python3.12/dist-packages (from transformers==4.37.2) (4.67.1)\n",
            "Requirement already satisfied: fsspec>=2023.5.0 in /usr/local/lib/python3.12/dist-packages (from huggingface-hub<1.0,>=0.19.3->transformers==4.37.2) (2024.2.0)\n",
            "Requirement already satisfied: typing-extensions>=3.7.4.3 in /usr/local/lib/python3.12/dist-packages (from huggingface-hub<1.0,>=0.19.3->transformers==4.37.2) (4.15.0)\n",
            "Requirement already satisfied: hf-xet<2.0.0,>=1.1.3 in /usr/local/lib/python3.12/dist-packages (from huggingface-hub<1.0,>=0.19.3->transformers==4.37.2) (1.1.9)\n",
            "Requirement already satisfied: charset_normalizer<4,>=2 in /usr/local/lib/python3.12/dist-packages (from requests->transformers==4.37.2) (3.4.3)\n",
            "Requirement already satisfied: idna<4,>=2.5 in /usr/local/lib/python3.12/dist-packages (from requests->transformers==4.37.2) (3.10)\n",
            "Requirement already satisfied: urllib3<3,>=1.21.1 in /usr/local/lib/python3.12/dist-packages (from requests->transformers==4.37.2) (1.26.20)\n",
            "Requirement already satisfied: certifi>=2017.4.17 in /usr/local/lib/python3.12/dist-packages (from requests->transformers==4.37.2) (2025.8.3)\n",
            "Requirement already satisfied: accelerate==0.28.0 in /usr/local/lib/python3.12/dist-packages (0.28.0)\n",
            "Requirement already satisfied: numpy>=1.17 in /usr/local/lib/python3.12/dist-packages (from accelerate==0.28.0) (1.26.4)\n",
            "Requirement already satisfied: packaging>=20.0 in /usr/local/lib/python3.12/dist-packages (from accelerate==0.28.0) (25.0)\n",
            "Requirement already satisfied: psutil in /usr/local/lib/python3.12/dist-packages (from accelerate==0.28.0) (5.9.5)\n",
            "Requirement already satisfied: pyyaml in /usr/local/lib/python3.12/dist-packages (from accelerate==0.28.0) (6.0.2)\n",
            "Requirement already satisfied: torch>=1.10.0 in /usr/local/lib/python3.12/dist-packages (from accelerate==0.28.0) (2.3.1)\n",
            "Requirement already satisfied: huggingface-hub in /usr/local/lib/python3.12/dist-packages (from accelerate==0.28.0) (0.34.4)\n",
            "Requirement already satisfied: safetensors>=0.3.1 in /usr/local/lib/python3.12/dist-packages (from accelerate==0.28.0) (0.6.2)\n",
            "Requirement already satisfied: filelock in /usr/local/lib/python3.12/dist-packages (from torch>=1.10.0->accelerate==0.28.0) (3.19.1)\n",
            "Requirement already satisfied: typing-extensions>=4.8.0 in /usr/local/lib/python3.12/dist-packages (from torch>=1.10.0->accelerate==0.28.0) (4.15.0)\n",
            "Requirement already satisfied: sympy in /usr/local/lib/python3.12/dist-packages (from torch>=1.10.0->accelerate==0.28.0) (1.13.3)\n",
            "Requirement already satisfied: networkx in /usr/local/lib/python3.12/dist-packages (from torch>=1.10.0->accelerate==0.28.0) (3.5)\n",
            "Requirement already satisfied: jinja2 in /usr/local/lib/python3.12/dist-packages (from torch>=1.10.0->accelerate==0.28.0) (3.1.6)\n",
            "Requirement already satisfied: fsspec in /usr/local/lib/python3.12/dist-packages (from torch>=1.10.0->accelerate==0.28.0) (2024.2.0)\n",
            "Requirement already satisfied: nvidia-cuda-nvrtc-cu12==12.1.105 in /usr/local/lib/python3.12/dist-packages (from torch>=1.10.0->accelerate==0.28.0) (12.1.105)\n",
            "Requirement already satisfied: nvidia-cuda-runtime-cu12==12.1.105 in /usr/local/lib/python3.12/dist-packages (from torch>=1.10.0->accelerate==0.28.0) (12.1.105)\n",
            "Requirement already satisfied: nvidia-cuda-cupti-cu12==12.1.105 in /usr/local/lib/python3.12/dist-packages (from torch>=1.10.0->accelerate==0.28.0) (12.1.105)\n",
            "Requirement already satisfied: nvidia-cudnn-cu12==8.9.2.26 in /usr/local/lib/python3.12/dist-packages (from torch>=1.10.0->accelerate==0.28.0) (8.9.2.26)\n",
            "Requirement already satisfied: nvidia-cublas-cu12==12.1.3.1 in /usr/local/lib/python3.12/dist-packages (from torch>=1.10.0->accelerate==0.28.0) (12.1.3.1)\n",
            "Requirement already satisfied: nvidia-cufft-cu12==11.0.2.54 in /usr/local/lib/python3.12/dist-packages (from torch>=1.10.0->accelerate==0.28.0) (11.0.2.54)\n",
            "Requirement already satisfied: nvidia-curand-cu12==10.3.2.106 in /usr/local/lib/python3.12/dist-packages (from torch>=1.10.0->accelerate==0.28.0) (10.3.2.106)\n",
            "Requirement already satisfied: nvidia-cusolver-cu12==11.4.5.107 in /usr/local/lib/python3.12/dist-packages (from torch>=1.10.0->accelerate==0.28.0) (11.4.5.107)\n",
            "Requirement already satisfied: nvidia-cusparse-cu12==12.1.0.106 in /usr/local/lib/python3.12/dist-packages (from torch>=1.10.0->accelerate==0.28.0) (12.1.0.106)\n",
            "Requirement already satisfied: nvidia-nccl-cu12==2.20.5 in /usr/local/lib/python3.12/dist-packages (from torch>=1.10.0->accelerate==0.28.0) (2.20.5)\n",
            "Requirement already satisfied: nvidia-nvtx-cu12==12.1.105 in /usr/local/lib/python3.12/dist-packages (from torch>=1.10.0->accelerate==0.28.0) (12.1.105)\n",
            "Requirement already satisfied: nvidia-nvjitlink-cu12 in /usr/local/lib/python3.12/dist-packages (from nvidia-cusolver-cu12==11.4.5.107->torch>=1.10.0->accelerate==0.28.0) (12.6.85)\n",
            "Requirement already satisfied: requests in /usr/local/lib/python3.12/dist-packages (from huggingface-hub->accelerate==0.28.0) (2.32.4)\n",
            "Requirement already satisfied: tqdm>=4.42.1 in /usr/local/lib/python3.12/dist-packages (from huggingface-hub->accelerate==0.28.0) (4.67.1)\n",
            "Requirement already satisfied: hf-xet<2.0.0,>=1.1.3 in /usr/local/lib/python3.12/dist-packages (from huggingface-hub->accelerate==0.28.0) (1.1.9)\n",
            "Requirement already satisfied: MarkupSafe>=2.0 in /usr/local/lib/python3.12/dist-packages (from jinja2->torch>=1.10.0->accelerate==0.28.0) (3.0.2)\n",
            "Requirement already satisfied: charset_normalizer<4,>=2 in /usr/local/lib/python3.12/dist-packages (from requests->huggingface-hub->accelerate==0.28.0) (3.4.3)\n",
            "Requirement already satisfied: idna<4,>=2.5 in /usr/local/lib/python3.12/dist-packages (from requests->huggingface-hub->accelerate==0.28.0) (3.10)\n",
            "Requirement already satisfied: urllib3<3,>=1.21.1 in /usr/local/lib/python3.12/dist-packages (from requests->huggingface-hub->accelerate==0.28.0) (1.26.20)\n",
            "Requirement already satisfied: certifi>=2017.4.17 in /usr/local/lib/python3.12/dist-packages (from requests->huggingface-hub->accelerate==0.28.0) (2025.8.3)\n",
            "Requirement already satisfied: mpmath<1.4,>=1.1.0 in /usr/local/lib/python3.12/dist-packages (from sympy->torch>=1.10.0->accelerate==0.28.0) (1.3.0)\n",
            "Requirement already satisfied: datasets==2.18.0 in /usr/local/lib/python3.12/dist-packages (2.18.0)\n",
            "Requirement already satisfied: filelock in /usr/local/lib/python3.12/dist-packages (from datasets==2.18.0) (3.19.1)\n",
            "Requirement already satisfied: numpy>=1.17 in /usr/local/lib/python3.12/dist-packages (from datasets==2.18.0) (1.26.4)\n",
            "Requirement already satisfied: pyarrow>=12.0.0 in /usr/local/lib/python3.12/dist-packages (from datasets==2.18.0) (18.1.0)\n",
            "Requirement already satisfied: pyarrow-hotfix in /usr/local/lib/python3.12/dist-packages (from datasets==2.18.0) (0.7)\n",
            "Requirement already satisfied: dill<0.3.9,>=0.3.0 in /usr/local/lib/python3.12/dist-packages (from datasets==2.18.0) (0.3.8)\n",
            "Requirement already satisfied: pandas in /usr/local/lib/python3.12/dist-packages (from datasets==2.18.0) (2.2.2)\n",
            "Requirement already satisfied: requests>=2.19.0 in /usr/local/lib/python3.12/dist-packages (from datasets==2.18.0) (2.32.4)\n",
            "Requirement already satisfied: tqdm>=4.62.1 in /usr/local/lib/python3.12/dist-packages (from datasets==2.18.0) (4.67.1)\n",
            "Requirement already satisfied: xxhash in /usr/local/lib/python3.12/dist-packages (from datasets==2.18.0) (3.5.0)\n",
            "Requirement already satisfied: multiprocess in /usr/local/lib/python3.12/dist-packages (from datasets==2.18.0) (0.70.16)\n",
            "Requirement already satisfied: fsspec<=2024.2.0,>=2023.1.0 in /usr/local/lib/python3.12/dist-packages (from fsspec[http]<=2024.2.0,>=2023.1.0->datasets==2.18.0) (2024.2.0)\n",
            "Requirement already satisfied: aiohttp in /usr/local/lib/python3.12/dist-packages (from datasets==2.18.0) (3.12.15)\n",
            "Requirement already satisfied: huggingface-hub>=0.19.4 in /usr/local/lib/python3.12/dist-packages (from datasets==2.18.0) (0.34.4)\n",
            "Requirement already satisfied: packaging in /usr/local/lib/python3.12/dist-packages (from datasets==2.18.0) (25.0)\n",
            "Requirement already satisfied: pyyaml>=5.1 in /usr/local/lib/python3.12/dist-packages (from datasets==2.18.0) (6.0.2)\n",
            "Requirement already satisfied: aiohappyeyeballs>=2.5.0 in /usr/local/lib/python3.12/dist-packages (from aiohttp->datasets==2.18.0) (2.6.1)\n",
            "Requirement already satisfied: aiosignal>=1.4.0 in /usr/local/lib/python3.12/dist-packages (from aiohttp->datasets==2.18.0) (1.4.0)\n",
            "Requirement already satisfied: attrs>=17.3.0 in /usr/local/lib/python3.12/dist-packages (from aiohttp->datasets==2.18.0) (25.3.0)\n",
            "Requirement already satisfied: frozenlist>=1.1.1 in /usr/local/lib/python3.12/dist-packages (from aiohttp->datasets==2.18.0) (1.7.0)\n",
            "Requirement already satisfied: multidict<7.0,>=4.5 in /usr/local/lib/python3.12/dist-packages (from aiohttp->datasets==2.18.0) (6.6.4)\n",
            "Requirement already satisfied: propcache>=0.2.0 in /usr/local/lib/python3.12/dist-packages (from aiohttp->datasets==2.18.0) (0.3.2)\n",
            "Requirement already satisfied: yarl<2.0,>=1.17.0 in /usr/local/lib/python3.12/dist-packages (from aiohttp->datasets==2.18.0) (1.20.1)\n",
            "Requirement already satisfied: typing-extensions>=3.7.4.3 in /usr/local/lib/python3.12/dist-packages (from huggingface-hub>=0.19.4->datasets==2.18.0) (4.15.0)\n",
            "Requirement already satisfied: hf-xet<2.0.0,>=1.1.3 in /usr/local/lib/python3.12/dist-packages (from huggingface-hub>=0.19.4->datasets==2.18.0) (1.1.9)\n",
            "Requirement already satisfied: charset_normalizer<4,>=2 in /usr/local/lib/python3.12/dist-packages (from requests>=2.19.0->datasets==2.18.0) (3.4.3)\n",
            "Requirement already satisfied: idna<4,>=2.5 in /usr/local/lib/python3.12/dist-packages (from requests>=2.19.0->datasets==2.18.0) (3.10)\n",
            "Requirement already satisfied: urllib3<3,>=1.21.1 in /usr/local/lib/python3.12/dist-packages (from requests>=2.19.0->datasets==2.18.0) (1.26.20)\n",
            "Requirement already satisfied: certifi>=2017.4.17 in /usr/local/lib/python3.12/dist-packages (from requests>=2.19.0->datasets==2.18.0) (2025.8.3)\n",
            "Requirement already satisfied: python-dateutil>=2.8.2 in /usr/local/lib/python3.12/dist-packages (from pandas->datasets==2.18.0) (2.9.0.post0)\n",
            "Requirement already satisfied: pytz>=2020.1 in /usr/local/lib/python3.12/dist-packages (from pandas->datasets==2.18.0) (2025.2)\n",
            "Requirement already satisfied: tzdata>=2022.7 in /usr/local/lib/python3.12/dist-packages (from pandas->datasets==2.18.0) (2025.2)\n",
            "Requirement already satisfied: six>=1.5 in /usr/local/lib/python3.12/dist-packages (from python-dateutil>=2.8.2->pandas->datasets==2.18.0) (1.17.0)\n"
          ]
        }
      ],
      "source": [
        "# UPDATED\n",
        "###########################################################\n",
        "!pip install gensim==4.3.3\n",
        "# The library has been archived and won't be used anymore\n",
        "# # !pip install allennlp==0.9.0\n",
        "!pip install flair==0.13.1\n",
        "!pip install torchvision==0.18.1\n",
        "# # HuggingFace\n",
        "!pip install transformers==4.37.2\n",
        "!pip install accelerate==0.28.0\n",
        "!pip install datasets==2.18.0\n",
        "###########################################################"
      ]
    },
    {
      "cell_type": "code",
      "execution_count": 2,
      "metadata": {
        "colab": {
          "base_uri": "https://localhost:8080/"
        },
        "id": "w5okKRDWPIon",
        "outputId": "4ad1425c-def2-41e1-bcc4-5a6bfc2d0094"
      },
      "outputs": [
        {
          "output_type": "stream",
          "name": "stdout",
          "text": [
            "Downloading files from GitHub repo to Colab...\n",
            "Finished!\n"
          ]
        }
      ],
      "source": [
        "try:\n",
        "    import google.colab\n",
        "    import requests\n",
        "    url = 'https://raw.githubusercontent.com/dvgodoy/PyTorchStepByStep/master/config.py'\n",
        "    r = requests.get(url, allow_redirects=True)\n",
        "    open('config.py', 'wb').write(r.content)\n",
        "except ModuleNotFoundError:\n",
        "    pass\n",
        "\n",
        "from config import *\n",
        "config_chapter11()\n",
        "# This is needed to render the plots in this chapter\n",
        "from plots.chapter11 import *"
      ]
    },
    {
      "cell_type": "code",
      "execution_count": 3,
      "metadata": {
        "id": "MMmcGqLxPIoo"
      },
      "outputs": [],
      "source": [
        "import os\n",
        "import json\n",
        "import errno\n",
        "import requests\n",
        "import numpy as np\n",
        "from copy import deepcopy\n",
        "from operator import itemgetter\n",
        "\n",
        "import torch\n",
        "import torch.optim as optim\n",
        "import torch.nn as nn\n",
        "import torch.nn.functional as F\n",
        "from torch.utils.data import DataLoader, TensorDataset, Dataset\n",
        "\n",
        "from data_generation.nlp import ALICE_URL, WIZARD_URL, download_text\n",
        "from stepbystep.v4 import StepByStep\n",
        "# These are the classes we built in Chapter 10\n",
        "from seq2seq import *\n",
        "\n",
        "import nltk\n",
        "from nltk.tokenize import sent_tokenize"
      ]
    },
    {
      "cell_type": "code",
      "source": [
        "device = 'cuda' if torch.cuda.is_available() else 'cpu'"
      ],
      "metadata": {
        "id": "2uxlcQiHi0tz"
      },
      "execution_count": 248,
      "outputs": []
    },
    {
      "cell_type": "code",
      "execution_count": 4,
      "metadata": {
        "id": "fU1AMangTB1o"
      },
      "outputs": [],
      "source": [
        "import gensim\n",
        "from gensim import corpora, downloader\n",
        "from gensim.parsing.preprocessing import *\n",
        "from gensim.utils import simple_preprocess\n",
        "from gensim.models import Word2Vec"
      ]
    },
    {
      "cell_type": "code",
      "execution_count": 5,
      "metadata": {
        "id": "L6HR2OpPTtEJ"
      },
      "outputs": [],
      "source": [
        "from flair.data import Sentence\n",
        "#from flair.embeddings import ELMoEmbeddings, WordEmbeddings, \\\n",
        "#    TransformerWordEmbeddings, TransformerDocumentEmbeddings\n",
        "from flair.embeddings import WordEmbeddings, \\\n",
        "    TransformerWordEmbeddings, TransformerDocumentEmbeddings"
      ]
    },
    {
      "cell_type": "code",
      "execution_count": 6,
      "metadata": {
        "id": "sfXyVryWT2mM"
      },
      "outputs": [],
      "source": [
        "from datasets import load_dataset, Split\n",
        "from transformers import (\n",
        "    DataCollatorForLanguageModeling,\n",
        "    BertModel, BertTokenizer, BertForSequenceClassification,\n",
        "    DistilBertModel, DistilBertTokenizer,\n",
        "    DistilBertForSequenceClassification,\n",
        "    AutoModelForSequenceClassification,\n",
        "    AutoModel, AutoTokenizer, AutoModelForCausalLM,\n",
        "    Trainer, TrainingArguments, pipeline, TextClassificationPipeline\n",
        ")\n",
        "from transformers.pipelines import SUPPORTED_TASKS"
      ]
    },
    {
      "cell_type": "markdown",
      "metadata": {
        "id": "aOMOKCI3PIop"
      },
      "source": [
        "# Down the Yellow Brick Rabbit Hole"
      ]
    },
    {
      "cell_type": "markdown",
      "metadata": {
        "id": "RG2bSGFtPIop"
      },
      "source": [
        "![](https://github.com/dvgodoy/PyTorchStepByStep/blob/master/images/alice_dorothy.png?raw=1)\n",
        "\n",
        "*Left: \"Alice and the Baby Pig\" illustration by John Tenniel's, from \"Alice's Adventure's in Wonderland\" (1865).*\n",
        "\n",
        "*Right: \"Dorothy meets the Cowardly Lion\" illustration by W.W. Denslow, from \"The Wonderful Wizard of Oz\" (1900)*"
      ]
    },
    {
      "cell_type": "markdown",
      "metadata": {
        "id": "zqGeN0zzPIoq"
      },
      "source": [
        "# Building a Dataset"
      ]
    },
    {
      "cell_type": "code",
      "execution_count": 7,
      "metadata": {
        "id": "YIiNrb9uPIor"
      },
      "outputs": [],
      "source": [
        "localfolder = 'texts'\n",
        "download_text(ALICE_URL, localfolder)\n",
        "download_text(WIZARD_URL, localfolder)"
      ]
    },
    {
      "cell_type": "code",
      "execution_count": 8,
      "metadata": {
        "id": "4IceFMuyPIor"
      },
      "outputs": [],
      "source": [
        "with open(os.path.join(localfolder, 'alice28-1476.txt'), 'r') as f:\n",
        "    alice = ''.join(f.readlines()[104:3704])\n",
        "\n",
        "with open(os.path.join(localfolder, 'wizoz10-1740.txt'), 'r') as f:\n",
        "    wizard = ''.join(f.readlines()[310:5100])"
      ]
    },
    {
      "cell_type": "code",
      "execution_count": 9,
      "metadata": {
        "colab": {
          "base_uri": "https://localhost:8080/"
        },
        "id": "Hpw53y4yPIos",
        "outputId": "382d53a1-eb28-477d-e37a-4d5699f3cefe"
      },
      "outputs": [
        {
          "output_type": "stream",
          "name": "stdout",
          "text": [
            "                ALICE'S ADVENTURES IN WONDERLAND\n",
            "\n",
            "                          Lewis Carroll\n",
            "\n",
            "               THE MILLENNIUM FULCRUM EDITION 2.8\n",
            "\n",
            "\n",
            "\n",
            "\n",
            "                            CHAPTER I\n",
            "\n",
            "                      Down the Rabbit-Hole\n",
            "\n",
            "\n",
            "  Alice was beginning to get very tired of sitting by her sister\n",
            "on the bank, and of having nothing to do:  once or twice she had\n",
            "peeped into the book her sister was reading, but it had no\n",
            "pictures or conversations in it, `and what is the use of a book,'\n",
            "thought Alice `w\n",
            "\n",
            "\n",
            "                    THE WONDERFUL WIZARD OF OZ\n",
            "\n",
            "\n",
            "                          1.  The Cyclone\n",
            "\n",
            "\n",
            "    Dorothy lived in the midst of the great Kansas prairies, with\n",
            "Uncle Henry, who was a farmer, and Aunt Em, who was the farmer's\n",
            "wife.  Their house was small, for the lumber to build it had to be\n",
            "carried by wagon many miles.  There were four walls, a floor and a\n",
            "roof, which made one room; and this room contained a rusty looking\n",
            "cookstove, a cupboard for the dishes, a table, three or four\n",
            "chairs, and th\n"
          ]
        }
      ],
      "source": [
        "print(alice[:500])\n",
        "print('\\n')\n",
        "print(wizard[:500])"
      ]
    },
    {
      "cell_type": "code",
      "execution_count": 10,
      "metadata": {
        "id": "JNdQPUzqPIos"
      },
      "outputs": [],
      "source": [
        "text_cfg = \"\"\"fname,start,end\n",
        "alice28-1476.txt,104,3704\n",
        "wizoz10-1740.txt,310,5100\"\"\"\n",
        "bytes_written = open(os.path.join(localfolder, 'lines.cfg'), 'w').write(text_cfg)"
      ]
    },
    {
      "cell_type": "markdown",
      "metadata": {
        "id": "Cd4tQSexPIot"
      },
      "source": [
        "## Sentence Tokenization"
      ]
    },
    {
      "cell_type": "code",
      "execution_count": 11,
      "metadata": {
        "colab": {
          "base_uri": "https://localhost:8080/"
        },
        "id": "Ms_jPDTWPIot",
        "outputId": "6d842eef-9976-4d96-d064-dfd82b6a0f31"
      },
      "outputs": [
        {
          "output_type": "execute_result",
          "data": {
            "text/plain": [
              "[\"I'm\", 'following', 'the', 'white', 'rabbit']"
            ]
          },
          "metadata": {},
          "execution_count": 11
        }
      ],
      "source": [
        "sentence = \"I'm following the white rabbit\"\n",
        "tokens = sentence.split(' ')\n",
        "tokens"
      ]
    },
    {
      "cell_type": "code",
      "execution_count": 12,
      "metadata": {
        "colab": {
          "base_uri": "https://localhost:8080/"
        },
        "id": "UxbboLMMPIou",
        "outputId": "6888c89d-8aa7-456f-f450-bc7e9e41ba2e"
      },
      "outputs": [
        {
          "output_type": "stream",
          "name": "stderr",
          "text": [
            "[nltk_data] Downloading package punkt to /root/nltk_data...\n",
            "[nltk_data]   Package punkt is already up-to-date!\n"
          ]
        },
        {
          "output_type": "execute_result",
          "data": {
            "text/plain": [
              "(1612, 2240)"
            ]
          },
          "metadata": {},
          "execution_count": 12
        }
      ],
      "source": [
        "import nltk\n",
        "from nltk.tokenize import sent_tokenize\n",
        "\n",
        "nltk.download('punkt')\n",
        "corpus_alice = sent_tokenize(alice)\n",
        "corpus_wizard = sent_tokenize(wizard)\n",
        "len(corpus_alice), len(corpus_wizard)"
      ]
    },
    {
      "cell_type": "code",
      "execution_count": 13,
      "metadata": {
        "colab": {
          "base_uri": "https://localhost:8080/",
          "height": 53
        },
        "id": "IQ0TkRtRPIou",
        "outputId": "843836e2-bf0c-4483-d801-439c46925b01"
      },
      "outputs": [
        {
          "output_type": "execute_result",
          "data": {
            "text/plain": [
              "'There was nothing so VERY remarkable in that; nor did Alice\\nthink it so VERY much out of the way to hear the Rabbit say to\\nitself, `Oh dear!'"
            ],
            "application/vnd.google.colaboratory.intrinsic+json": {
              "type": "string"
            }
          },
          "metadata": {},
          "execution_count": 13
        }
      ],
      "source": [
        "corpus_alice[2]"
      ]
    },
    {
      "cell_type": "code",
      "execution_count": 14,
      "metadata": {
        "colab": {
          "base_uri": "https://localhost:8080/",
          "height": 35
        },
        "id": "gFOXRwwLPIov",
        "outputId": "8b389a45-073b-4010-875f-0a025035e866"
      },
      "outputs": [
        {
          "output_type": "execute_result",
          "data": {
            "text/plain": [
              "'\"There\\'s a cyclone coming, Em,\" he called to his wife.'"
            ],
            "application/vnd.google.colaboratory.intrinsic+json": {
              "type": "string"
            }
          },
          "metadata": {},
          "execution_count": 14
        }
      ],
      "source": [
        "corpus_wizard[30]"
      ]
    },
    {
      "cell_type": "code",
      "execution_count": 15,
      "metadata": {
        "id": "8TX0L1NqPIov"
      },
      "outputs": [],
      "source": [
        "def sentence_tokenize(source, quote_char='\\\\', sep_char=',',\n",
        "                      include_header=True, include_source=True,\n",
        "                      extensions=('txt'), **kwargs):\n",
        "    nltk.download('punkt')\n",
        "    # If source is a folder, goes through all files inside it\n",
        "    # that match the desired extensions ('txt' by default)\n",
        "    if os.path.isdir(source):\n",
        "        filenames = [f for f in os.listdir(source)\n",
        "                     if os.path.isfile(os.path.join(source, f)) and\n",
        "                        os.path.splitext(f)[1][1:] in extensions]\n",
        "    elif isinstance(source, str):\n",
        "        filenames = [source]\n",
        "\n",
        "    # If there is a configuration file, builds a dictionary with\n",
        "    # the corresponding start and end lines of each text file\n",
        "    config_file = os.path.join(source, 'lines.cfg')\n",
        "    config = {}\n",
        "    if os.path.exists(config_file):\n",
        "        with open(config_file, 'r') as f:\n",
        "            rows = f.readlines()\n",
        "\n",
        "        for r in rows[1:]:\n",
        "            fname, start, end = r.strip().split(',')\n",
        "            config.update({fname: (int(start), int(end))})\n",
        "\n",
        "    new_fnames = []\n",
        "    # For each file of text\n",
        "    for fname in filenames:\n",
        "        # If there's a start and end line for that file, use it\n",
        "        try:\n",
        "            start, end = config[fname]\n",
        "        except KeyError:\n",
        "            start = None\n",
        "            end = None\n",
        "\n",
        "        # Opens the file, slices the configures lines (if any)\n",
        "        # cleans line breaks and uses the sentence tokenizer\n",
        "        with open(os.path.join(source, fname), 'r') as f:\n",
        "            contents = (''.join(f.readlines()[slice(start, end, None)])\n",
        "                        .replace('\\n', ' ').replace('\\r', ''))\n",
        "        corpus = sent_tokenize(contents, **kwargs)\n",
        "\n",
        "        # Builds a CSV file containing tokenized sentences\n",
        "        base = os.path.splitext(fname)[0]\n",
        "        new_fname = f'{base}.sent.csv'\n",
        "        new_fname = os.path.join(source, new_fname)\n",
        "        with open(new_fname, 'w') as f:\n",
        "            # Header of the file\n",
        "            if include_header:\n",
        "                if include_source:\n",
        "                    f.write('sentence,source\\n')\n",
        "                else:\n",
        "                    f.write('sentence\\n')\n",
        "            # Writes one line for each sentence\n",
        "            for sentence in corpus:\n",
        "                if include_source:\n",
        "                    f.write(f'{quote_char}{sentence}{quote_char}{sep_char}{fname}\\n')\n",
        "                else:\n",
        "                    f.write(f'{quote_char}{sentence}{quote_char}\\n')\n",
        "        new_fnames.append(new_fname)\n",
        "\n",
        "    # Returns list of the newly generated CSV files\n",
        "    return sorted(new_fnames)"
      ]
    },
    {
      "cell_type": "code",
      "execution_count": 16,
      "metadata": {
        "colab": {
          "base_uri": "https://localhost:8080/"
        },
        "id": "duMi-DzQPIov",
        "outputId": "ade8be68-ee08-44e1-c9e2-17584d9aca83"
      },
      "outputs": [
        {
          "output_type": "stream",
          "name": "stderr",
          "text": [
            "[nltk_data] Downloading package punkt to /root/nltk_data...\n",
            "[nltk_data]   Package punkt is already up-to-date!\n"
          ]
        },
        {
          "output_type": "execute_result",
          "data": {
            "text/plain": [
              "['texts/alice28-1476.sent.csv', 'texts/wizoz10-1740.sent.csv']"
            ]
          },
          "metadata": {},
          "execution_count": 16
        }
      ],
      "source": [
        "new_fnames = sentence_tokenize(localfolder)\n",
        "new_fnames"
      ]
    },
    {
      "cell_type": "code",
      "execution_count": 17,
      "metadata": {
        "id": "tvQ5ikWQPIow"
      },
      "outputs": [],
      "source": [
        "# import spacy\n",
        "# nlp = spacy.blank(\"en\")\n",
        "# nlp.add_pipe(nlp.create_pipe(\"sentencizer\"))\n",
        "\n",
        "# sentences = []\n",
        "# for doc in nlp.pipe(corpus_alice):\n",
        "#     sentences.extend(sent.text for sent in doc.sents)\n",
        "\n",
        "# len(sentences), sentences[2]"
      ]
    },
    {
      "cell_type": "markdown",
      "metadata": {
        "id": "TNMT7-ClPIow"
      },
      "source": [
        "## HuggingFace's Dataset"
      ]
    },
    {
      "cell_type": "markdown",
      "metadata": {
        "id": "s5T31ZJtPIow"
      },
      "source": [
        "## Loading a Dataset"
      ]
    },
    {
      "cell_type": "code",
      "execution_count": 18,
      "metadata": {
        "colab": {
          "base_uri": "https://localhost:8080/",
          "height": 49,
          "referenced_widgets": [
            "84fbe6bcd21e45fb958ac904539e54d4",
            "ed50390609f44708a5f26c18b1cd0275",
            "931dabe2c9bd4b688822a5957ebc28f2",
            "2ec0cd5228f649b8bd253f0fcc7914b3",
            "9631f8b4b8a84cbe9415f5c567b88bb6",
            "30beb139ea5f4d198985402ffce704b3",
            "c072cb1049d6486e8b62a93ed5152f31",
            "08350bab823b490981338822be7d456e",
            "d15951e5d349498187ca7967f6c9a372",
            "cbe4b78a62034a3a94bff6c09cdb697d",
            "d6a2a4447fa940e583bddc1d182c6709"
          ]
        },
        "id": "6mmR-5ItPIox",
        "outputId": "2c8b90d5-f57d-4971-cc22-bfa12db213cc"
      },
      "outputs": [
        {
          "output_type": "display_data",
          "data": {
            "text/plain": [
              "Generating train split: 0 examples [00:00, ? examples/s]"
            ],
            "application/vnd.jupyter.widget-view+json": {
              "version_major": 2,
              "version_minor": 0,
              "model_id": "84fbe6bcd21e45fb958ac904539e54d4"
            }
          },
          "metadata": {}
        }
      ],
      "source": [
        "from datasets import load_dataset, Split\n",
        "\n",
        "dataset = load_dataset(path='csv', data_files=new_fnames, quotechar='\\\\', split=Split.TRAIN)"
      ]
    },
    {
      "cell_type": "markdown",
      "metadata": {
        "id": "RHikb18aPIox"
      },
      "source": [
        "### Attributes"
      ]
    },
    {
      "cell_type": "code",
      "execution_count": 19,
      "metadata": {
        "colab": {
          "base_uri": "https://localhost:8080/"
        },
        "id": "DvVIqWAiPIox",
        "outputId": "84ec433d-21de-4b45-b0ff-12acf87dba3a"
      },
      "outputs": [
        {
          "output_type": "execute_result",
          "data": {
            "text/plain": [
              "({'sentence': Value(dtype='string', id=None),\n",
              "  'source': Value(dtype='string', id=None)},\n",
              " 2,\n",
              " (3852, 2))"
            ]
          },
          "metadata": {},
          "execution_count": 19
        }
      ],
      "source": [
        "dataset.features, dataset.num_columns, dataset.shape"
      ]
    },
    {
      "cell_type": "code",
      "execution_count": 20,
      "metadata": {
        "colab": {
          "base_uri": "https://localhost:8080/"
        },
        "id": "MtH_c0gVPIoy",
        "outputId": "2678eaff-379d-48bd-e37d-b840b0e128ae"
      },
      "outputs": [
        {
          "output_type": "execute_result",
          "data": {
            "text/plain": [
              "{'sentence': 'There was nothing so VERY remarkable in that; nor did Alice think it so VERY much out of the way to hear the Rabbit say to itself, `Oh dear!',\n",
              " 'source': 'alice28-1476.txt'}"
            ]
          },
          "metadata": {},
          "execution_count": 20
        }
      ],
      "source": [
        "dataset[2]"
      ]
    },
    {
      "cell_type": "code",
      "execution_count": 21,
      "metadata": {
        "colab": {
          "base_uri": "https://localhost:8080/"
        },
        "id": "xDOC9Hh4PIoy",
        "outputId": "c7262f7f-bc9c-4f61-97d8-495bb2e7e3c3"
      },
      "outputs": [
        {
          "output_type": "execute_result",
          "data": {
            "text/plain": [
              "['alice28-1476.txt', 'alice28-1476.txt', 'alice28-1476.txt']"
            ]
          },
          "metadata": {},
          "execution_count": 21
        }
      ],
      "source": [
        "dataset['source'][:3]"
      ]
    },
    {
      "cell_type": "markdown",
      "metadata": {
        "id": "EM-mEXGrPIoy"
      },
      "source": [
        "### Methods"
      ]
    },
    {
      "cell_type": "code",
      "execution_count": 22,
      "metadata": {
        "colab": {
          "base_uri": "https://localhost:8080/"
        },
        "id": "QprAteUMPIoy",
        "outputId": "81ae5c60-7a7b-44c0-94bd-3b60829daf97"
      },
      "outputs": [
        {
          "output_type": "execute_result",
          "data": {
            "text/plain": [
              "['alice28-1476.txt', 'wizoz10-1740.txt']"
            ]
          },
          "metadata": {},
          "execution_count": 22
        }
      ],
      "source": [
        "dataset.unique('source')"
      ]
    },
    {
      "cell_type": "code",
      "execution_count": 23,
      "metadata": {
        "colab": {
          "base_uri": "https://localhost:8080/",
          "height": 49,
          "referenced_widgets": [
            "3851f7513b59416991d022849549dcfd",
            "7e4c37a363ca4cbcbacecfed5ee07309",
            "52404e24af0c4156932ccca3635af78a",
            "8c26703d10304fbaae57d3559f7eeeb1",
            "9dc7cafc09da4b169e63eb7aaadf67d5",
            "f9a20dbb3e6d4ebdae2a471ff3a9cd8d",
            "47775547abd7439dadae74ce674c2c45",
            "19d206a25527433fb6a15c584f1e609b",
            "6522a8b70e4e46ac8b9748b272117455",
            "09dc685361d84d0bb9bfc53e7b755612",
            "1becfc48b0a34d9bad98eaf60a22566c"
          ]
        },
        "id": "9XbmJVItPIoz",
        "outputId": "cfd0e853-f8d6-47fd-fefe-a5799ab9a5a6"
      },
      "outputs": [
        {
          "output_type": "display_data",
          "data": {
            "text/plain": [
              "Map:   0%|          | 0/3852 [00:00<?, ? examples/s]"
            ],
            "application/vnd.jupyter.widget-view+json": {
              "version_major": 2,
              "version_minor": 0,
              "model_id": "3851f7513b59416991d022849549dcfd"
            }
          },
          "metadata": {}
        }
      ],
      "source": [
        "def is_alice_label(row):\n",
        "    is_alice = int(row['source'] == 'alice28-1476.txt')\n",
        "    return {'labels': is_alice}\n",
        "\n",
        "dataset = dataset.map(is_alice_label)"
      ]
    },
    {
      "cell_type": "code",
      "execution_count": 24,
      "metadata": {
        "colab": {
          "base_uri": "https://localhost:8080/"
        },
        "id": "Ei4rMiW0PIoz",
        "outputId": "eab03e66-5d6c-4c12-ccff-018b70b49852"
      },
      "outputs": [
        {
          "output_type": "execute_result",
          "data": {
            "text/plain": [
              "{'sentence': 'There was nothing so VERY remarkable in that; nor did Alice think it so VERY much out of the way to hear the Rabbit say to itself, `Oh dear!',\n",
              " 'source': 'alice28-1476.txt',\n",
              " 'labels': 1}"
            ]
          },
          "metadata": {},
          "execution_count": 24
        }
      ],
      "source": [
        "dataset[2]"
      ]
    },
    {
      "cell_type": "code",
      "execution_count": 25,
      "metadata": {
        "id": "zL8_4qImPIo0"
      },
      "outputs": [],
      "source": [
        "shuffled_dataset = dataset.shuffle(seed=42)"
      ]
    },
    {
      "cell_type": "code",
      "execution_count": 26,
      "metadata": {
        "colab": {
          "base_uri": "https://localhost:8080/"
        },
        "id": "svODbO3NPIo0",
        "outputId": "ffb6bea8-cf7d-4350-85d6-ef1b90253b9b"
      },
      "outputs": [
        {
          "output_type": "execute_result",
          "data": {
            "text/plain": [
              "DatasetDict({\n",
              "    train: Dataset({\n",
              "        features: ['sentence', 'source', 'labels'],\n",
              "        num_rows: 3081\n",
              "    })\n",
              "    test: Dataset({\n",
              "        features: ['sentence', 'source', 'labels'],\n",
              "        num_rows: 771\n",
              "    })\n",
              "})"
            ]
          },
          "metadata": {},
          "execution_count": 26
        }
      ],
      "source": [
        "split_dataset = shuffled_dataset.train_test_split(test_size=0.2)\n",
        "split_dataset"
      ]
    },
    {
      "cell_type": "code",
      "execution_count": 27,
      "metadata": {
        "id": "a-vhKAPsPIo0"
      },
      "outputs": [],
      "source": [
        "train_dataset, test_dataset = split_dataset['train'], split_dataset['test']"
      ]
    },
    {
      "cell_type": "markdown",
      "metadata": {
        "id": "jnTeb1APPIo0"
      },
      "source": [
        "## Data Augmentation"
      ]
    },
    {
      "cell_type": "code",
      "execution_count": 28,
      "metadata": {
        "id": "v18lfIROPIo1"
      },
      "outputs": [],
      "source": [
        "# !pip install textattack\n",
        "# from textattack.augmentation import EmbeddingAugmenter\n",
        "# augmenter = EmbeddingAugmenter()\n",
        "# feynman = 'What I cannot create, I do not understand.'"
      ]
    },
    {
      "cell_type": "code",
      "execution_count": 29,
      "metadata": {
        "id": "oKSTr__FPIo1"
      },
      "outputs": [],
      "source": [
        "# for i in range(5):\n",
        "#     print(augmenter.augment(feynman))"
      ]
    },
    {
      "cell_type": "markdown",
      "metadata": {
        "id": "1Apyc3vyPIo1"
      },
      "source": [
        "# Word Tokenization"
      ]
    },
    {
      "cell_type": "code",
      "execution_count": 30,
      "metadata": {
        "colab": {
          "base_uri": "https://localhost:8080/"
        },
        "id": "H6C3Qto1PIo1",
        "outputId": "2d6fa1d8-4c7b-4ffd-caba-6470ff5fad95"
      },
      "outputs": [
        {
          "output_type": "execute_result",
          "data": {
            "text/plain": [
              "[\"I'm\", 'following', 'the', 'white', 'rabbit']"
            ]
          },
          "metadata": {},
          "execution_count": 30
        }
      ],
      "source": [
        "sentence = \"I'm following the white rabbit\"\n",
        "tokens = sentence.split(' ')\n",
        "tokens"
      ]
    },
    {
      "cell_type": "code",
      "execution_count": 31,
      "metadata": {
        "colab": {
          "base_uri": "https://localhost:8080/"
        },
        "id": "gMiBbirCPIo2",
        "outputId": "b0705dc7-0f43-40fb-9b79-1ab53c094b03"
      },
      "outputs": [
        {
          "output_type": "execute_result",
          "data": {
            "text/plain": [
              "['follow', 'white', 'rabbit']"
            ]
          },
          "metadata": {},
          "execution_count": 31
        }
      ],
      "source": [
        "from gensim.parsing.preprocessing import *\n",
        "\n",
        "preprocess_string(sentence)"
      ]
    },
    {
      "cell_type": "code",
      "execution_count": 32,
      "metadata": {
        "colab": {
          "base_uri": "https://localhost:8080/"
        },
        "id": "g9I0NFCcPIo2",
        "outputId": "e3b38cdb-37d5-496e-d3d9-ff4669fd1dd3"
      },
      "outputs": [
        {
          "output_type": "execute_result",
          "data": {
            "text/plain": [
              "['i', 'm', 'following', 'the', 'white', 'rabbit']"
            ]
          },
          "metadata": {},
          "execution_count": 32
        }
      ],
      "source": [
        "filters = [lambda x: x.lower(), strip_tags, strip_punctuation, strip_multiple_whitespaces, strip_numeric]\n",
        "preprocess_string(sentence, filters=filters)"
      ]
    },
    {
      "cell_type": "code",
      "execution_count": 33,
      "metadata": {
        "colab": {
          "base_uri": "https://localhost:8080/"
        },
        "id": "I6zIZlDPPIo2",
        "outputId": "247f0fa6-04f7-48ad-ecc4-246f2b663b15"
      },
      "outputs": [
        {
          "output_type": "execute_result",
          "data": {
            "text/plain": [
              "['following', 'the', 'white', 'rabbit']"
            ]
          },
          "metadata": {},
          "execution_count": 33
        }
      ],
      "source": [
        "from gensim.utils import simple_preprocess\n",
        "\n",
        "tokens = simple_preprocess(sentence)\n",
        "tokens"
      ]
    },
    {
      "cell_type": "markdown",
      "metadata": {
        "id": "S41E3OspPIo3"
      },
      "source": [
        "## Vocabulary"
      ]
    },
    {
      "cell_type": "code",
      "execution_count": 34,
      "metadata": {
        "colab": {
          "base_uri": "https://localhost:8080/"
        },
        "id": "Nj8VJgZ-PIo3",
        "outputId": "8c5a141e-a1eb-44c7-dfec-670f3ba2ef87"
      },
      "outputs": [
        {
          "output_type": "execute_result",
          "data": {
            "text/plain": [
              "['they', 'walked', 'back', 'to', 'the', 'road']"
            ]
          },
          "metadata": {},
          "execution_count": 34
        }
      ],
      "source": [
        "sentences = train_dataset['sentence']\n",
        "tokens = [simple_preprocess(sent) for sent in sentences]\n",
        "tokens[0]"
      ]
    },
    {
      "cell_type": "code",
      "execution_count": 35,
      "metadata": {
        "colab": {
          "base_uri": "https://localhost:8080/"
        },
        "id": "RmGTVyKkPIo3",
        "outputId": "819c6602-32ba-4443-8930-c540cbccdac9"
      },
      "outputs": [
        {
          "output_type": "stream",
          "name": "stdout",
          "text": [
            "Dictionary<3705 unique tokens: ['back', 'road', 'the', 'they', 'to']...>\n"
          ]
        }
      ],
      "source": [
        "from gensim import corpora\n",
        "\n",
        "dictionary = corpora.Dictionary(tokens)\n",
        "print(dictionary)"
      ]
    },
    {
      "cell_type": "code",
      "execution_count": 36,
      "metadata": {
        "colab": {
          "base_uri": "https://localhost:8080/"
        },
        "id": "TbIfKFBIPIo3",
        "outputId": "c24e5f13-da56-45de-9c57-4b15406a722b"
      },
      "outputs": [
        {
          "output_type": "execute_result",
          "data": {
            "text/plain": [
              "3081"
            ]
          },
          "metadata": {},
          "execution_count": 36
        }
      ],
      "source": [
        "dictionary.num_docs"
      ]
    },
    {
      "cell_type": "code",
      "execution_count": 37,
      "metadata": {
        "colab": {
          "base_uri": "https://localhost:8080/"
        },
        "id": "fOPK8ULTPIo4",
        "outputId": "29121952-d3d8-4a73-dea6-ab7c63a2aef9"
      },
      "outputs": [
        {
          "output_type": "execute_result",
          "data": {
            "text/plain": [
              "50826"
            ]
          },
          "metadata": {},
          "execution_count": 37
        }
      ],
      "source": [
        "dictionary.num_pos # processed words"
      ]
    },
    {
      "cell_type": "code",
      "execution_count": 38,
      "metadata": {
        "colab": {
          "base_uri": "https://localhost:8080/"
        },
        "id": "3cR7uPunPIo4",
        "outputId": "74575f83-da3d-4c44-f0c1-64aeb94f69c7",
        "scrolled": true
      },
      "outputs": [
        {
          "output_type": "execute_result",
          "data": {
            "text/plain": [
              "{'back': 0,\n",
              " 'road': 1,\n",
              " 'the': 2,\n",
              " 'they': 3,\n",
              " 'to': 4,\n",
              " 'walked': 5,\n",
              " 'give': 6,\n",
              " 'heart': 7,\n",
              " 'me': 8,\n",
              " 'or': 9,\n",
              " 'said': 10,\n",
              " 'tin': 11,\n",
              " 'woodman': 12,\n",
              " 'and': 13,\n",
              " 'caterpillar': 14,\n",
              " 'hookah': 15,\n",
              " 'in': 16,\n",
              " 'its': 17,\n",
              " 'itself': 18,\n",
              " 'minute': 19,\n",
              " 'mouth': 20,\n",
              " 'of': 21,\n",
              " 'once': 22,\n",
              " 'out': 23,\n",
              " 'shook': 24,\n",
              " 'took': 25,\n",
              " 'twice': 26,\n",
              " 'two': 27,\n",
              " 'yawned': 28,\n",
              " 'cats': 29,\n",
              " 'didn': 30,\n",
              " 'forgot': 31,\n",
              " 'like': 32,\n",
              " 'quite': 33,\n",
              " 'you': 34,\n",
              " 'an': 35,\n",
              " 'else': 36,\n",
              " 'have': 37,\n",
              " 'honest': 38,\n",
              " 'man': 39,\n",
              " 'meant': 40,\n",
              " 'mischief': 41,\n",
              " 'must': 42,\n",
              " 'name': 43,\n",
              " 'signed': 44,\n",
              " 'some': 45,\n",
              " 'your': 46,\n",
              " 'hatter': 47,\n",
              " 'all': 48,\n",
              " 'anyone': 49,\n",
              " 'good': 50,\n",
              " 'help': 51,\n",
              " 'her': 52,\n",
              " 'hurt': 53,\n",
              " 'known': 54,\n",
              " 'magic': 55,\n",
              " 'never': 56,\n",
              " 'people': 57,\n",
              " 'she': 58,\n",
              " 'used': 59,\n",
              " 'was': 60,\n",
              " 'who': 61,\n",
              " 'alice': 62,\n",
              " 'asked': 63,\n",
              " 'curiosity': 64,\n",
              " 'great': 65,\n",
              " 'tone': 66,\n",
              " 'but': 67,\n",
              " 'head': 68,\n",
              " 'his': 69,\n",
              " 'king': 70,\n",
              " 'monkey': 71,\n",
              " 'am': 72,\n",
              " 'get': 73,\n",
              " 'how': 74,\n",
              " 'please': 75,\n",
              " 'then': 76,\n",
              " 'dormouse': 77,\n",
              " 'indignantly': 78,\n",
              " 'already': 79,\n",
              " 'angrily': 80,\n",
              " 'had': 81,\n",
              " 'plenty': 82,\n",
              " 'time': 83,\n",
              " 've': 84,\n",
              " 'are': 85,\n",
              " 'ears': 86,\n",
              " 'enough': 87,\n",
              " 'just': 88,\n",
              " 'same': 89,\n",
              " 'true': 90,\n",
              " 'which': 91,\n",
              " 'answered': 92,\n",
              " 'at': 93,\n",
              " 'city': 94,\n",
              " 'cottage': 95,\n",
              " 'emerald': 96,\n",
              " 'night': 97,\n",
              " 'on': 98,\n",
              " 'our': 99,\n",
              " 'oz': 100,\n",
              " 'pass': 101,\n",
              " 'see': 102,\n",
              " 'stopped': 103,\n",
              " 'way': 104,\n",
              " 'we': 105,\n",
              " 'know': 106,\n",
              " 'now': 107,\n",
              " 'fright': 108,\n",
              " 'gave': 109,\n",
              " 'leap': 110,\n",
              " 'mouse': 111,\n",
              " 'over': 112,\n",
              " 'quiver': 113,\n",
              " 'seemed': 114,\n",
              " 'sudden': 115,\n",
              " 'water': 116,\n",
              " 'with': 117,\n",
              " 'child': 118,\n",
              " 'did': 119,\n",
              " 'fear': 120,\n",
              " 'for': 121,\n",
              " 'full': 122,\n",
              " 'herself': 123,\n",
              " 'not': 124,\n",
              " 'this': 125,\n",
              " 'toto': 126,\n",
              " 'mad': 127,\n",
              " 're': 128,\n",
              " 'against': 129,\n",
              " 'cold': 130,\n",
              " 'down': 131,\n",
              " 'it': 132,\n",
              " 'made': 133,\n",
              " 'my': 134,\n",
              " 'run': 135,\n",
              " 'scratched': 136,\n",
              " 'shiver': 137,\n",
              " 'when': 138,\n",
              " 'also': 139,\n",
              " 'another': 140,\n",
              " 'as': 141,\n",
              " 'axe': 142,\n",
              " 'came': 143,\n",
              " 'could': 144,\n",
              " 'edge': 145,\n",
              " 'fell': 146,\n",
              " 'he': 147,\n",
              " 'raise': 148,\n",
              " 'sharp': 149,\n",
              " 'soon': 150,\n",
              " 'under': 151,\n",
              " 'up': 152,\n",
              " 'weapon': 153,\n",
              " 'wolf': 154,\n",
              " 'any': 155,\n",
              " 'arms': 156,\n",
              " 'body': 157,\n",
              " 'center': 158,\n",
              " 'chair': 159,\n",
              " 'enormous': 160,\n",
              " 'legs': 161,\n",
              " 'support': 162,\n",
              " 'whatever': 163,\n",
              " 'without': 164,\n",
              " 'big': 165,\n",
              " 'branches': 166,\n",
              " 'brick': 167,\n",
              " 'close': 168,\n",
              " 'evening': 169,\n",
              " 'forest': 170,\n",
              " 'grew': 171,\n",
              " 'met': 172,\n",
              " 'so': 173,\n",
              " 'that': 174,\n",
              " 'their': 175,\n",
              " 'together': 176,\n",
              " 'toward': 177,\n",
              " 'trees': 178,\n",
              " 'where': 179,\n",
              " 'yellow': 180,\n",
              " 'eyes': 181,\n",
              " 'peck': 182,\n",
              " 'will': 183,\n",
              " 'be': 184,\n",
              " 'brains': 185,\n",
              " 'if': 186,\n",
              " 'no': 187,\n",
              " 'off': 188,\n",
              " 'than': 189,\n",
              " 'worse': 190,\n",
              " 'about': 191,\n",
              " 'after': 192,\n",
              " 'looking': 193,\n",
              " 'marched': 194,\n",
              " 'others': 195,\n",
              " 'quietly': 196,\n",
              " 'soldiers': 197,\n",
              " 'them': 198,\n",
              " 'three': 199,\n",
              " 'wandered': 200,\n",
              " 'disease': 201,\n",
              " 'perhaps': 202,\n",
              " 'lion': 203,\n",
              " 'quick': 204,\n",
              " 'replied': 205,\n",
              " 'troubles': 206,\n",
              " 'yes': 207,\n",
              " 'bondage': 208,\n",
              " 'called': 209,\n",
              " 'delighted': 210,\n",
              " 'do': 211,\n",
              " 'dorothy': 212,\n",
              " 'free': 213,\n",
              " 'friends': 214,\n",
              " 'from': 215,\n",
              " 'power': 216,\n",
              " 'rescue': 217,\n",
              " 'set': 218,\n",
              " 'winkies': 219,\n",
              " 'would': 220,\n",
              " 'gratefully': 221,\n",
              " 'thank': 222,\n",
              " 'been': 223,\n",
              " 'is': 224,\n",
              " 'seen': 225,\n",
              " 'south': 226,\n",
              " 'there': 227,\n",
              " 'anywhere': 228,\n",
              " 'behind': 229,\n",
              " 'can': 230,\n",
              " 'dog': 231,\n",
              " 'find': 232,\n",
              " 'leave': 233,\n",
              " 'little': 234,\n",
              " 'wish': 235,\n",
              " 'again': 236,\n",
              " 'although': 237,\n",
              " 'bark': 238,\n",
              " 'bitten': 239,\n",
              " 'by': 240,\n",
              " 'creeping': 241,\n",
              " 'him': 242,\n",
              " 'mice': 243,\n",
              " 'one': 244,\n",
              " 'tried': 245,\n",
              " 'very': 246,\n",
              " 'well': 247,\n",
              " 'afraid': 248,\n",
              " 'anything': 249,\n",
              " 'because': 250,\n",
              " 'course': 251,\n",
              " 'let': 252,\n",
              " 'promised': 253,\n",
              " 'think': 254,\n",
              " 'were': 255,\n",
              " 'wished': 256,\n",
              " 'come': 257,\n",
              " 'along': 258,\n",
              " 'bank': 259,\n",
              " 'basket': 260,\n",
              " 'carried': 261,\n",
              " 'grassy': 262,\n",
              " 'picked': 263,\n",
              " 'rested': 264,\n",
              " 'river': 265,\n",
              " 'started': 266,\n",
              " 'learn': 267,\n",
              " 'make': 268,\n",
              " 'personal': 269,\n",
              " 'remarks': 270,\n",
              " 'rude': 271,\n",
              " 'severity': 272,\n",
              " 'should': 273,\n",
              " 'cannot': 274,\n",
              " 'part': 275,\n",
              " 'bread': 276,\n",
              " 'cloth': 277,\n",
              " 'cupboard': 278,\n",
              " 'filled': 279,\n",
              " 'laying': 280,\n",
              " 'top': 281,\n",
              " 'white': 282,\n",
              " 'getting': 283,\n",
              " 'interesting': 284,\n",
              " 'more': 285,\n",
              " 'nearly': 286,\n",
              " 'nothing': 287,\n",
              " 'sat': 288,\n",
              " 'saying': 289,\n",
              " 'sir': 290,\n",
              " 'still': 291,\n",
              " 'story': 292,\n",
              " 'thinking': 293,\n",
              " 'real': 294,\n",
              " 'witch': 295,\n",
              " 'alone': 296,\n",
              " 'doorway': 297,\n",
              " 'found': 298,\n",
              " 'himself': 299,\n",
              " 'morning': 300,\n",
              " 'politeness': 301,\n",
              " 'room': 302,\n",
              " 'scarecrow': 303,\n",
              " 'spot': 304,\n",
              " 'stood': 305,\n",
              " 'stupidly': 306,\n",
              " 'till': 307,\n",
              " 'wait': 308,\n",
              " 'wasted': 309,\n",
              " 'within': 310,\n",
              " 'dance': 311,\n",
              " 'sort': 312,\n",
              " 'what': 313,\n",
              " 'stork': 314,\n",
              " 'only': 315,\n",
              " 'pulling': 316,\n",
              " 'window': 317,\n",
              " 'beautiful': 318,\n",
              " 'blood': 319,\n",
              " 'country': 320,\n",
              " 'dreary': 321,\n",
              " 'ever': 322,\n",
              " 'flesh': 323,\n",
              " 'gray': 324,\n",
              " 'homes': 325,\n",
              " 'live': 326,\n",
              " 'matter': 327,\n",
              " 'other': 328,\n",
              " 'rather': 329,\n",
              " 'above': 330,\n",
              " 'animal': 331,\n",
              " 'bill': 332,\n",
              " 'chimney': 333,\n",
              " 'couldn': 334,\n",
              " 'drew': 335,\n",
              " 'far': 336,\n",
              " 'foot': 337,\n",
              " 'guess': 338,\n",
              " 'happen': 339,\n",
              " 'heard': 340,\n",
              " 'kick': 341,\n",
              " 'next': 342,\n",
              " 'scrambling': 343,\n",
              " 'scratching': 344,\n",
              " 'waited': 345,\n",
              " 'became': 346,\n",
              " 'frightened': 347,\n",
              " 'greatly': 348,\n",
              " 'many': 349,\n",
              " 'motions': 350,\n",
              " 'relieve': 351,\n",
              " 'understand': 352,\n",
              " 'better': 353,\n",
              " 'conversation': 354,\n",
              " 'game': 355,\n",
              " 'going': 356,\n",
              " 'keeping': 357,\n",
              " 'clean': 358,\n",
              " 'cup': 359,\n",
              " 'interrupted': 360,\n",
              " 'move': 361,\n",
              " 'place': 362,\n",
              " 'want': 363,\n",
              " 'cross': 364,\n",
              " 'hammer': 365,\n",
              " 'heads': 366,\n",
              " 'hill': 367,\n",
              " 'thing': 368,\n",
              " 'worries': 369,\n",
              " 'admit': 370,\n",
              " 'decided': 371,\n",
              " 'forehead': 372,\n",
              " 'last': 373,\n",
              " 'mark': 374,\n",
              " 'presence': 375,\n",
              " 'told': 376,\n",
              " 'upon': 377,\n",
              " 'being': 378,\n",
              " 'done': 379,\n",
              " 'everybody': 380,\n",
              " 'humbug': 381,\n",
              " 'knows': 382,\n",
              " 'these': 383,\n",
              " 'things': 384,\n",
              " 'grass': 385,\n",
              " 'indeed': 386,\n",
              " 'slept': 387,\n",
              " 'stars': 388,\n",
              " 'angry': 389,\n",
              " 'bother': 390,\n",
              " 'destroy': 391,\n",
              " 'errand': 392,\n",
              " 'foolish': 393,\n",
              " 'idle': 394,\n",
              " 'instant': 395,\n",
              " 'might': 396,\n",
              " 'powerful': 397,\n",
              " 'reflections': 398,\n",
              " 'terrible': 399,\n",
              " 'wise': 400,\n",
              " 'wizard': 401,\n",
              " 'apron': 402,\n",
              " 'carefully': 403,\n",
              " 'every': 404,\n",
              " 'face': 405,\n",
              " 'into': 406,\n",
              " 'joints': 407,\n",
              " 'joy': 408,\n",
              " 'pleased': 409,\n",
              " 'rescuing': 410,\n",
              " 'rusted': 411,\n",
              " 'tear': 412,\n",
              " 'tears': 413,\n",
              " 'thanked': 414,\n",
              " 'wept': 415,\n",
              " 'wipe': 416,\n",
              " 'door': 417,\n",
              " 'farmhouse': 418,\n",
              " 'four': 419,\n",
              " 'knocked': 420,\n",
              " 'monkeys': 421,\n",
              " 'near': 422,\n",
              " 'travelers': 423,\n",
              " 'sighed': 424,\n",
              " 'wearily': 425,\n",
              " 'before': 426,\n",
              " 'dead': 427,\n",
              " 'forty': 428,\n",
              " 'heap': 429,\n",
              " 'killed': 430,\n",
              " 'lay': 431,\n",
              " 'times': 432,\n",
              " 'wolves': 433,\n",
              " 'journey': 434,\n",
              " 'shall': 435,\n",
              " 'strange': 436,\n",
              " 'try': 437,\n",
              " 'appeared': 438,\n",
              " 'around': 439,\n",
              " 'astonished': 440,\n",
              " 'lying': 441,\n",
              " 'standing': 442,\n",
              " 'thousands': 443,\n",
              " 'timidly': 444,\n",
              " 'long': 445,\n",
              " 'returned': 446,\n",
              " 'soldier': 447,\n",
              " 'abide': 448,\n",
              " 'don': 449,\n",
              " 'duchess': 450,\n",
              " 'figures': 451,\n",
              " 'oh': 452,\n",
              " 'toes': 453,\n",
              " 'bye': 454,\n",
              " 'across': 455,\n",
              " 'gulf': 456,\n",
              " 'reply': 457,\n",
              " 'suddenly': 458,\n",
              " 'croqueting': 459,\n",
              " 'difficulty': 460,\n",
              " 'engaged': 461,\n",
              " 'excellent': 462,\n",
              " 'fight': 463,\n",
              " 'flamingo': 464,\n",
              " 'fly': 465,\n",
              " 'garden': 466,\n",
              " 'gone': 467,\n",
              " 'hedgehog': 468,\n",
              " 'helpless': 469,\n",
              " 'opportunity': 470,\n",
              " 'side': 471,\n",
              " 'tree': 472,\n",
              " 'trying': 473,\n",
              " 'bring': 474,\n",
              " 'growing': 475,\n",
              " 'laugh': 476,\n",
              " 'saved': 477,\n",
              " 'surroundings': 478,\n",
              " 'added': 479,\n",
              " 'kind': 480,\n",
              " 'pigeon': 481,\n",
              " 'repeated': 482,\n",
              " 'seems': 483,\n",
              " 'sob': 484,\n",
              " 'subdued': 485,\n",
              " 'suit': 486,\n",
              " 'slaves': 487,\n",
              " 'castle': 488,\n",
              " 'girl': 489,\n",
              " 'went': 490,\n",
              " 'dare': 491,\n",
              " 'may': 492,\n",
              " 'say': 493,\n",
              " 'gryphon': 494,\n",
              " 'here': 495,\n",
              " 'mock': 496,\n",
              " 'mouths': 497,\n",
              " 'reason': 498,\n",
              " 'shut': 499,\n",
              " 'tails': 500,\n",
              " 'tell': 501,\n",
              " 'turtle': 502,\n",
              " 'among': 503,\n",
              " 'asleep': 504,\n",
              " 'fall': 505,\n",
              " 'feared': 506,\n",
              " 'hurriedly': 507,\n",
              " 'order': 508,\n",
              " 'poppies': 509,\n",
              " 'queen': 510,\n",
              " 'start': 511,\n",
              " 'stayed': 512,\n",
              " 'too': 513,\n",
              " 'brought': 514,\n",
              " 'pleasure': 515,\n",
              " 'towel': 516,\n",
              " 'desert': 517,\n",
              " 'easy': 518,\n",
              " 'first': 519,\n",
              " 'home': 520,\n",
              " 'ask': 521,\n",
              " 'away': 522,\n",
              " 'began': 523,\n",
              " 'darkness': 524,\n",
              " 'desperate': 525,\n",
              " 'dropped': 526,\n",
              " 'fan': 527,\n",
              " 'felt': 528,\n",
              " 'gloves': 529,\n",
              " 'go': 530,\n",
              " 'hard': 531,\n",
              " 'kid': 532,\n",
              " 'low': 533,\n",
              " 'rabbit': 534,\n",
              " 'ready': 535,\n",
              " 'skurried': 536,\n",
              " 'timid': 537,\n",
              " 'violently': 538,\n",
              " 'voice': 539,\n",
              " 'deep': 540,\n",
              " 'dipped': 541,\n",
              " 'falling': 542,\n",
              " 'hole': 543,\n",
              " 'moment': 544,\n",
              " 'stopping': 545,\n",
              " 'straight': 546,\n",
              " 'tunnel': 547,\n",
              " 'failed': 548,\n",
              " 'lovely': 549,\n",
              " 'mourn': 550,\n",
              " 'truly': 551,\n",
              " 'ungrateful': 552,\n",
              " 'both': 553,\n",
              " 'knew': 554,\n",
              " 'neither': 555,\n",
              " 'nor': 556,\n",
              " 'saw': 557,\n",
              " 'surprised': 558,\n",
              " 'wicked': 559,\n",
              " 'winged': 560,\n",
              " 'worried': 561,\n",
              " 'desk': 562,\n",
              " 'hearing': 563,\n",
              " 'opened': 564,\n",
              " 'raven': 565,\n",
              " 'why': 566,\n",
              " 'wide': 567,\n",
              " 'writing': 568,\n",
              " 'east': 569,\n",
              " 'messenger': 570,\n",
              " 'munchkins': 571,\n",
              " 'sent': 572,\n",
              " 'swift': 573,\n",
              " 'bars': 574,\n",
              " 'gate': 575,\n",
              " 'harness': 576,\n",
              " 'speaking': 577,\n",
              " 'starve': 578,\n",
              " 'through': 579,\n",
              " 'surprise': 580,\n",
              " 'lessons': 581,\n",
              " 'doing': 582,\n",
              " 'mind': 583,\n",
              " 'bitterly': 584,\n",
              " 'cry': 585,\n",
              " 'dismally': 586,\n",
              " 'feet': 587,\n",
              " 'hours': 588,\n",
              " 'mistress': 589,\n",
              " 'show': 590,\n",
              " 'sitting': 591,\n",
              " 'sometimes': 592,\n",
              " 'sorry': 593,\n",
              " 'whining': 594,\n",
              " 'mournfully': 595,\n",
              " 'baby': 596,\n",
              " 'flinging': 597,\n",
              " 'spoke': 598,\n",
              " 'makes': 599,\n",
              " 'sign': 600,\n",
              " 'arrived': 601,\n",
              " 'assembled': 602,\n",
              " 'beasts': 603,\n",
              " 'birds': 604,\n",
              " 'cards': 605,\n",
              " 'chains': 606,\n",
              " 'crowd': 607,\n",
              " 'each': 608,\n",
              " 'guard': 609,\n",
              " 'hand': 610,\n",
              " 'hearts': 611,\n",
              " 'knave': 612,\n",
              " 'pack': 613,\n",
              " 'parchment': 614,\n",
              " 'scroll': 615,\n",
              " 'seated': 616,\n",
              " 'sorts': 617,\n",
              " 'throne': 618,\n",
              " 'trumpet': 619,\n",
              " 'whole': 620,\n",
              " 'whiting': 621,\n",
              " 'cap': 622,\n",
              " 'exhausted': 623,\n",
              " 'golden': 624,\n",
              " 'powers': 625,\n",
              " 'until': 626,\n",
              " 'use': 627,\n",
              " 'much': 628,\n",
              " 'needs': 629,\n",
              " 'own': 630,\n",
              " 'put': 631,\n",
              " 'reach': 632,\n",
              " 'shoes': 633,\n",
              " 'silver': 634,\n",
              " 'skinny': 635,\n",
              " 'snatched': 636,\n",
              " 'seek': 637,\n",
              " 'asking': 638,\n",
              " 'crowded': 639,\n",
              " 'has': 640,\n",
              " 'panting': 641,\n",
              " 'round': 642,\n",
              " 'won': 643,\n",
              " 'cat': 644,\n",
              " 'sight': 645,\n",
              " 'anyway': 646,\n",
              " 'house': 647,\n",
              " 'old': 648,\n",
              " 'woman': 649,\n",
              " 'aren': 650,\n",
              " 'even': 651,\n",
              " 'everything': 652,\n",
              " 'forgive': 653,\n",
              " 'hope': 654,\n",
              " 'kansas': 655,\n",
              " 'send': 656,\n",
              " 'willing': 657,\n",
              " 'brave': 658,\n",
              " 'deed': 659,\n",
              " 'life': 660,\n",
              " 'saving': 661,\n",
              " 'therefore': 662,\n",
              " 'arm': 663,\n",
              " 'consider': 664,\n",
              " 'dear': 665,\n",
              " 'laid': 666,\n",
              " 'fish': 667,\n",
              " 'footman': 668,\n",
              " 'ground': 669,\n",
              " 'laughed': 670,\n",
              " 'peeped': 671,\n",
              " 'sky': 672,\n",
              " 'staring': 673,\n",
              " 'wood': 674,\n",
              " 'acceptance': 675,\n",
              " 'beg': 676,\n",
              " 'cheered': 677,\n",
              " 'dodo': 678,\n",
              " 'elegant': 679,\n",
              " 'finished': 680,\n",
              " 'presented': 681,\n",
              " 'short': 682,\n",
              " 'solemnly': 683,\n",
              " 'speech': 684,\n",
              " 'thimble': 685,\n",
              " 'while': 686,\n",
              " 'minutes': 687,\n",
              " 'several': 688,\n",
              " 'watched': 689,\n",
              " 'wiped': 690,\n",
              " 'accident': 691,\n",
              " 'burning': 692,\n",
              " 'caught': 693,\n",
              " 'crept': 694,\n",
              " 'fire': 695,\n",
              " 'heat': 696,\n",
              " 'intense': 697,\n",
              " 'nearer': 698,\n",
              " 'singed': 699,\n",
              " 'thought': 700,\n",
              " 'tremblingly': 701,\n",
              " 'whiskers': 702,\n",
              " 'meekly': 703,\n",
              " 'wrong': 704,\n",
              " 'fortunate': 705,\n",
              " 'princess': 706,\n",
              " 'beginning': 707,\n",
              " 'feel': 708,\n",
              " 'right': 709,\n",
              " 'sharply': 710,\n",
              " 'agreed': 711,\n",
              " 'high': 712,\n",
              " 'learned': 713,\n",
              " 'rooms': 714,\n",
              " 'spirits': 715,\n",
              " 'coming': 716,\n",
              " 'cyclone': 717,\n",
              " 'em': 718,\n",
              " 'wife': 719,\n",
              " 'easily': 720,\n",
              " 'always': 721,\n",
              " 'outside': 722,\n",
              " 'permitted': 723,\n",
              " 'talk': 724,\n",
              " 'glinda': 725,\n",
              " 'receive': 726,\n",
              " 'coward': 727,\n",
              " 'capital': 728,\n",
              " 'certain': 729,\n",
              " 'london': 730,\n",
              " 'paris': 731,\n",
              " 'rome': 732,\n",
              " 'current': 733,\n",
              " 'drawn': 734,\n",
              " 'helped': 735,\n",
              " 'land': 736,\n",
              " 'pole': 737,\n",
              " 'push': 738,\n",
              " 'raft': 739,\n",
              " 'work': 740,\n",
              " 'accounts': 741,\n",
              " 'lives': 742,\n",
              " 'remain': 743,\n",
              " 'different': 744,\n",
              " 'feelings': 745,\n",
              " 'queer': 746,\n",
              " 'air': 747,\n",
              " 'flew': 748,\n",
              " 'cared': 749,\n",
              " 'farms': 750,\n",
              " 'farther': 751,\n",
              " 'ant': 752,\n",
              " 'harm': 753,\n",
              " 'step': 754,\n",
              " 'thereafter': 755,\n",
              " 'tiny': 756,\n",
              " 'toiling': 757,\n",
              " 'impatiently': 758,\n",
              " 'tossing': 759,\n",
              " 'turning': 760,\n",
              " 'happened': 761,\n",
              " 'trouble': 762,\n",
              " 'gracious': 763,\n",
              " 'followed': 764,\n",
              " 'led': 765,\n",
              " 'exactly': 766,\n",
              " 'ruled': 767,\n",
              " 'shouldn': 768,\n",
              " 'keep': 769,\n",
              " 'remember': 770,\n",
              " 'size': 771,\n",
              " 'ten': 772,\n",
              " 'gown': 773,\n",
              " 'green': 774,\n",
              " 'silk': 775,\n",
              " 'except': 776,\n",
              " 'longed': 777,\n",
              " 'party': 778,\n",
              " 'satisfied': 779,\n",
              " 'thus': 780,\n",
              " 'nest': 781,\n",
              " 'settled': 782,\n",
              " 'sulky': 783,\n",
              " 'having': 784,\n",
              " 'bats': 785,\n",
              " 'eat': 786,\n",
              " 'wonder': 787,\n",
              " 'business': 788,\n",
              " 'got': 789,\n",
              " 'rate': 790,\n",
              " 'take': 791,\n",
              " 'corner': 792,\n",
              " 'patiently': 793,\n",
              " 'tired': 794,\n",
              " 'empty': 795,\n",
              " 'managed': 796,\n",
              " 'butterfly': 797,\n",
              " 'chase': 798,\n",
              " 'companions': 799,\n",
              " 'looked': 800,\n",
              " 'past': 801,\n",
              " 'immediately': 802,\n",
              " 'screamed': 803,\n",
              " 'lonely': 804,\n",
              " 'poor': 805,\n",
              " 'spirited': 806,\n",
              " 'busy': 807,\n",
              " 'company': 808,\n",
              " 'table': 809,\n",
              " 'lived': 810,\n",
              " 'loved': 811,\n",
              " 'pity': 812,\n",
              " 'nobody': 813,\n",
              " 'opinion': 814,\n",
              " 'friendly': 815,\n",
              " 'ep': 816,\n",
              " 'kak': 817,\n",
              " 'ke': 818,\n",
              " 'left': 819,\n",
              " 'pe': 820,\n",
              " 'pep': 821,\n",
              " 'slowly': 822,\n",
              " 'anxious': 823,\n",
              " 'bite': 824,\n",
              " 'cautiously': 825,\n",
              " 'experiment': 826,\n",
              " 'feeling': 827,\n",
              " 'll': 828,\n",
              " 'alive': 829,\n",
              " 'awakened': 830,\n",
              " 'breathing': 831,\n",
              " 'cowardly': 832,\n",
              " 'deadly': 833,\n",
              " 'fragrance': 834,\n",
              " 'glad': 835,\n",
              " 'guardian': 836,\n",
              " 'lain': 837,\n",
              " 'open': 838,\n",
              " 'roll': 839,\n",
              " 'truck': 840,\n",
              " 'flowers': 841,\n",
              " 'exclaimed': 842,\n",
              " 'sadly': 843,\n",
              " 'west': 844,\n",
              " 'court': 845,\n",
              " 'guinea': 846,\n",
              " 'officers': 847,\n",
              " 'pigs': 848,\n",
              " 'suppressed': 849,\n",
              " 'bit': 850,\n",
              " 'common': 851,\n",
              " 'trembled': 852,\n",
              " 'day': 853,\n",
              " 'eggs': 854,\n",
              " 'hatching': 855,\n",
              " 'look': 856,\n",
              " 'serpents': 857,\n",
              " 'wasn': 858,\n",
              " 'dress': 859,\n",
              " 'longer': 860,\n",
              " 'palace': 861,\n",
              " 'pretty': 862,\n",
              " 'pure': 863,\n",
              " 'wore': 864,\n",
              " 'broken': 865,\n",
              " 'glass': 866,\n",
              " 'shrieks': 867,\n",
              " 'sounds': 868,\n",
              " 'answer': 869,\n",
              " 'dates': 870,\n",
              " 'eagerly': 871,\n",
              " 'jury': 872,\n",
              " 'pence': 873,\n",
              " 'reduced': 874,\n",
              " 'shillings': 875,\n",
              " 'slates': 876,\n",
              " 'write': 877,\n",
              " 'wrote': 878,\n",
              " 'command': 879,\n",
              " 'china': 880,\n",
              " 'unhappy': 881,\n",
              " 'mabel': 882,\n",
              " 'play': 883,\n",
              " 'poky': 884,\n",
              " 'sure': 885,\n",
              " 'those': 886,\n",
              " 'toys': 887,\n",
              " 'words': 888,\n",
              " 'cause': 889,\n",
              " 'condemn': 890,\n",
              " 'cunning': 891,\n",
              " 'death': 892,\n",
              " 'fury': 893,\n",
              " 'judge': 894,\n",
              " 'cried': 895,\n",
              " 'third': 896,\n",
              " 'us': 897,\n",
              " 'unless': 898,\n",
              " 'ashamed': 899,\n",
              " 'earth': 900,\n",
              " 'ought': 901,\n",
              " 'question': 902,\n",
              " 'silent': 903,\n",
              " 'simple': 904,\n",
              " 'sink': 905,\n",
              " 'such': 906,\n",
              " 'yourself': 907,\n",
              " 'announced': 908,\n",
              " 'courage': 909,\n",
              " 'entering': 910,\n",
              " 'begun': 911,\n",
              " 'friend': 912,\n",
              " 'pleaded': 913,\n",
              " 'secret': 914,\n",
              " 'hastily': 915,\n",
              " 'funny': 916,\n",
              " 'wildcat': 917,\n",
              " 'lost': 918,\n",
              " 'carrying': 919,\n",
              " 'clubs': 920,\n",
              " 'corners': 921,\n",
              " 'courtiers': 922,\n",
              " 'diamonds': 923,\n",
              " 'flat': 924,\n",
              " 'gardeners': 925,\n",
              " 'hands': 926,\n",
              " 'oblong': 927,\n",
              " 'ornamented': 928,\n",
              " 'shaped': 929,\n",
              " 'history': 930,\n",
              " 'lady': 931,\n",
              " 'wants': 932,\n",
              " 'young': 933,\n",
              " 'hare': 934,\n",
              " 'march': 935,\n",
              " 'moved': 936,\n",
              " 'unwillingly': 937,\n",
              " 'turn': 938,\n",
              " 'explain': 939,\n",
              " 'grow': 940,\n",
              " 'large': 941,\n",
              " 'really': 942,\n",
              " 'late': 943,\n",
              " 'camp': 944,\n",
              " 'houses': 945,\n",
              " 'obliged': 946,\n",
              " 'clatter': 947,\n",
              " 'cow': 948,\n",
              " 'kicked': 949,\n",
              " 'milkmaid': 950,\n",
              " 'pail': 951,\n",
              " 'stool': 952,\n",
              " 'serpent': 953,\n",
              " 'ugh': 954,\n",
              " 'fairy': 955,\n",
              " 'fancied': 956,\n",
              " 'middle': 957,\n",
              " 'read': 958,\n",
              " 'tales': 959,\n",
              " 'admitted': 960,\n",
              " 'most': 961,\n",
              " 'careful': 962,\n",
              " 'dreamy': 963,\n",
              " 'sleepy': 964,\n",
              " 'everywhere': 965,\n",
              " 'eye': 966,\n",
              " 'telescope': 967,\n",
              " 'yet': 968,\n",
              " 'begins': 969,\n",
              " 'draw': 970,\n",
              " 'learning': 971,\n",
              " 'manner': 972,\n",
              " 'rubbing': 973,\n",
              " 'yawning': 974,\n",
              " 'covered': 975,\n",
              " 'hair': 976,\n",
              " 'stiffly': 977,\n",
              " 'wrinkles': 978,\n",
              " 'born': 979,\n",
              " 'suppose': 980,\n",
              " 'case': 981,\n",
              " 'mine': 982,\n",
              " 'act': 983,\n",
              " 'begin': 984,\n",
              " 'besides': 985,\n",
              " 'blow': 986,\n",
              " 'bursting': 987,\n",
              " 'chief': 988,\n",
              " 'comfortably': 989,\n",
              " 'conclusion': 990,\n",
              " 'crawling': 991,\n",
              " 'difficult': 992,\n",
              " 'doubled': 993,\n",
              " 'expression': 994,\n",
              " 'furrow': 995,\n",
              " 'generally': 996,\n",
              " 'hanging': 997,\n",
              " 'laughing': 998,\n",
              " 'managing': 999,\n",
              " ...}"
            ]
          },
          "metadata": {},
          "execution_count": 38
        }
      ],
      "source": [
        "dictionary.token2id"
      ]
    },
    {
      "cell_type": "code",
      "execution_count": 39,
      "metadata": {
        "colab": {
          "base_uri": "https://localhost:8080/"
        },
        "id": "B2R6GIb0PIo5",
        "outputId": "92b8face-1ac3-47ec-e796-22c2ec6099f0"
      },
      "outputs": [
        {
          "output_type": "execute_result",
          "data": {
            "text/plain": [
              "['back', 'road', 'the', 'they', 'to']"
            ]
          },
          "metadata": {},
          "execution_count": 39
        }
      ],
      "source": [
        "vocab = list(dictionary.token2id.keys())\n",
        "vocab[:5]"
      ]
    },
    {
      "cell_type": "code",
      "execution_count": 40,
      "metadata": {
        "colab": {
          "base_uri": "https://localhost:8080/"
        },
        "id": "MaZdrWZDPIo5",
        "outputId": "b3866144-2f20-4b8c-8aa8-645cabae8444"
      },
      "outputs": [
        {
          "output_type": "execute_result",
          "data": {
            "text/plain": [
              "{3: 431,\n",
              " 5: 43,\n",
              " 0: 116,\n",
              " 4: 1490,\n",
              " 2: 3688,\n",
              " 1: 37,\n",
              " 9: 94,\n",
              " 6: 43,\n",
              " 8: 207,\n",
              " 7: 61,\n",
              " 10: 628,\n",
              " 11: 112,\n",
              " 12: 142,\n",
              " 16: 659,\n",
              " 19: 22,\n",
              " 27: 51,\n",
              " 14: 23,\n",
              " 25: 42,\n",
              " 15: 4,\n",
              " 23: 182,\n",
              " 21: 1079,\n",
              " 17: 70,\n",
              " 20: 21,\n",
              " 13: 2004,\n",
              " 28: 3,\n",
              " 22: 73,\n",
              " 26: 6,\n",
              " 24: 13,\n",
              " 18: 14,\n",
              " 33: 73,\n",
              " 31: 3,\n",
              " 34: 700,\n",
              " 30: 17,\n",
              " 32: 131,\n",
              " 29: 12,\n",
              " 42: 87,\n",
              " 37: 195,\n",
              " 40: 5,\n",
              " 45: 66,\n",
              " 41: 3,\n",
              " 36: 13,\n",
              " 44: 2,\n",
              " 46: 103,\n",
              " 43: 12,\n",
              " 35: 76,\n",
              " 38: 1,\n",
              " 39: 63,\n",
              " 47: 51,\n",
              " 48: 352,\n",
              " 52: 533,\n",
              " 55: 9,\n",
              " 60: 699,\n",
              " 59: 16,\n",
              " 51: 40,\n",
              " 57: 62,\n",
              " 58: 773,\n",
              " 56: 87,\n",
              " 54: 7,\n",
              " 53: 18,\n",
              " 49: 9,\n",
              " 61: 147,\n",
              " 50: 102,\n",
              " 62: 319,\n",
              " 63: 102,\n",
              " 66: 34,\n",
              " 65: 143,\n",
              " 64: 3,\n",
              " 67: 375,\n",
              " 71: 7,\n",
              " 70: 75,\n",
              " 69: 258,\n",
              " 68: 110,\n",
              " 75: 26,\n",
              " 76: 187,\n",
              " 74: 124,\n",
              " 72: 80,\n",
              " 73: 106,\n",
              " 77: 34,\n",
              " 78: 4,\n",
              " 84: 40,\n",
              " 81: 362,\n",
              " 82: 6,\n",
              " 83: 84,\n",
              " 79: 3,\n",
              " 80: 10,\n",
              " 85: 141,\n",
              " 86: 11,\n",
              " 88: 78,\n",
              " 89: 39,\n",
              " 91: 88,\n",
              " 90: 14,\n",
              " 87: 25,\n",
              " 105: 138,\n",
              " 98: 286,\n",
              " 99: 30,\n",
              " 104: 98,\n",
              " 96: 46,\n",
              " 94: 65,\n",
              " 102: 124,\n",
              " 100: 127,\n",
              " 92: 65,\n",
              " 103: 11,\n",
              " 93: 371,\n",
              " 95: 6,\n",
              " 101: 11,\n",
              " 97: 24,\n",
              " 107: 110,\n",
              " 106: 103,\n",
              " 111: 37,\n",
              " 109: 34,\n",
              " 115: 6,\n",
              " 110: 2,\n",
              " 116: 24,\n",
              " 114: 45,\n",
              " 113: 1,\n",
              " 112: 102,\n",
              " 117: 358,\n",
              " 108: 2,\n",
              " 118: 23,\n",
              " 119: 116,\n",
              " 124: 307,\n",
              " 125: 219,\n",
              " 122: 21,\n",
              " 120: 10,\n",
              " 121: 385,\n",
              " 123: 85,\n",
              " 126: 73,\n",
              " 128: 27,\n",
              " 127: 14,\n",
              " 138: 197,\n",
              " 136: 1,\n",
              " 129: 13,\n",
              " 132: 798,\n",
              " 133: 98,\n",
              " 130: 4,\n",
              " 137: 2,\n",
              " 135: 15,\n",
              " 131: 156,\n",
              " 134: 194,\n",
              " 141: 476,\n",
              " 150: 49,\n",
              " 147: 475,\n",
              " 144: 165,\n",
              " 148: 2,\n",
              " 142: 24,\n",
              " 140: 39,\n",
              " 154: 3,\n",
              " 143: 114,\n",
              " 152: 162,\n",
              " 139: 28,\n",
              " 146: 24,\n",
              " 151: 25,\n",
              " 149: 17,\n",
              " 145: 9,\n",
              " 153: 1,\n",
              " 158: 4,\n",
              " 159: 6,\n",
              " 160: 2,\n",
              " 164: 25,\n",
              " 157: 18,\n",
              " 162: 1,\n",
              " 155: 67,\n",
              " 156: 35,\n",
              " 161: 18,\n",
              " 163: 4,\n",
              " 177: 19,\n",
              " 169: 6,\n",
              " 170: 37,\n",
              " 179: 77,\n",
              " 178: 31,\n",
              " 171: 10,\n",
              " 173: 356,\n",
              " 165: 43,\n",
              " 168: 23,\n",
              " 176: 29,\n",
              " 174: 571,\n",
              " 175: 119,\n",
              " 166: 14,\n",
              " 172: 12,\n",
              " 180: 29,\n",
              " 167: 14,\n",
              " 183: 154,\n",
              " 182: 2,\n",
              " 181: 71,\n",
              " 186: 194,\n",
              " 185: 46,\n",
              " 184: 266,\n",
              " 187: 175,\n",
              " 190: 5,\n",
              " 188: 92,\n",
              " 189: 60,\n",
              " 199: 47,\n",
              " 197: 10,\n",
              " 200: 1,\n",
              " 191: 111,\n",
              " 193: 36,\n",
              " 198: 263,\n",
              " 196: 5,\n",
              " 194: 3,\n",
              " 192: 86,\n",
              " 195: 18,\n",
              " 202: 21,\n",
              " 201: 2,\n",
              " 207: 26,\n",
              " 204: 8,\n",
              " 206: 2,\n",
              " 205: 61,\n",
              " 203: 135,\n",
              " 209: 29,\n",
              " 219: 27,\n",
              " 220: 166,\n",
              " 217: 4,\n",
              " 214: 28,\n",
              " 210: 3,\n",
              " 211: 167,\n",
              " 216: 11,\n",
              " 212: 291,\n",
              " 218: 34,\n",
              " 213: 10,\n",
              " 215: 126,\n",
              " 208: 4,\n",
              " 222: 15,\n",
              " 221: 2,\n",
              " 224: 290,\n",
              " 226: 12,\n",
              " 223: 83,\n",
              " 227: 178,\n",
              " 225: 22,\n",
              " 230: 111,\n",
              " 232: 45,\n",
              " 228: 3,\n",
              " 235: 36,\n",
              " 233: 15,\n",
              " 234: 213,\n",
              " 231: 12,\n",
              " 229: 26,\n",
              " 244: 183,\n",
              " 240: 122,\n",
              " 243: 28,\n",
              " 241: 1,\n",
              " 238: 6,\n",
              " 236: 146,\n",
              " 237: 15,\n",
              " 245: 22,\n",
              " 239: 2,\n",
              " 242: 188,\n",
              " 246: 178,\n",
              " 247: 100,\n",
              " 251: 36,\n",
              " 252: 39,\n",
              " 254: 76,\n",
              " 250: 29,\n",
              " 255: 241,\n",
              " 248: 34,\n",
              " 253: 9,\n",
              " 249: 29,\n",
              " 256: 7,\n",
              " 257: 99,\n",
              " 264: 5,\n",
              " 263: 13,\n",
              " 260: 21,\n",
              " 266: 19,\n",
              " 258: 29,\n",
              " 262: 1,\n",
              " 259: 6,\n",
              " 265: 17,\n",
              " 261: 27,\n",
              " 273: 66,\n",
              " 267: 7,\n",
              " 268: 58,\n",
              " 269: 2,\n",
              " 270: 2,\n",
              " 272: 1,\n",
              " 271: 2,\n",
              " 275: 13,\n",
              " 274: 31,\n",
              " 279: 8,\n",
              " 276: 13,\n",
              " 278: 6,\n",
              " 280: 2,\n",
              " 282: 35,\n",
              " 277: 2,\n",
              " 281: 19,\n",
              " 286: 21,\n",
              " 283: 18,\n",
              " 289: 19,\n",
              " 290: 8,\n",
              " 284: 4,\n",
              " 292: 16,\n",
              " 293: 19,\n",
              " 285: 63,\n",
              " 288: 38,\n",
              " 291: 28,\n",
              " 287: 53,\n",
              " 294: 5,\n",
              " 295: 98,\n",
              " 301: 1,\n",
              " 309: 2,\n",
              " 303: 170,\n",
              " 298: 63,\n",
              " 299: 29,\n",
              " 296: 10,\n",
              " 302: 57,\n",
              " 305: 37,\n",
              " 306: 2,\n",
              " 304: 6,\n",
              " 310: 7,\n",
              " 297: 3,\n",
              " 308: 8,\n",
              " 307: 24,\n",
              " 300: 29,\n",
              " 313: 180,\n",
              " 312: 16,\n",
              " 311: 10,\n",
              " 314: 10,\n",
              " 316: 1,\n",
              " 317: 7,\n",
              " 315: 82,\n",
              " 327: 13,\n",
              " 321: 1,\n",
              " 324: 12,\n",
              " 325: 1,\n",
              " 323: 6,\n",
              " 319: 2,\n",
              " 329: 33,\n",
              " 326: 24,\n",
              " 328: 70,\n",
              " 320: 54,\n",
              " 322: 52,\n",
              " 318: 39,\n",
              " 335: 7,\n",
              " 337: 16,\n",
              " 336: 26,\n",
              " 333: 5,\n",
              " 345: 12,\n",
              " 340: 40,\n",
              " 331: 7,\n",
              " 334: 8,\n",
              " 338: 4,\n",
              " 344: 1,\n",
              " 343: 1,\n",
              " 330: 7,\n",
              " 332: 12,\n",
              " 341: 3,\n",
              " 339: 7,\n",
              " 342: 50,\n",
              " 346: 13,\n",
              " 348: 13,\n",
              " 347: 16,\n",
              " 349: 44,\n",
              " 350: 1,\n",
              " 351: 1,\n",
              " 352: 12,\n",
              " 355: 12,\n",
              " 356: 40,\n",
              " 353: 20,\n",
              " 357: 3,\n",
              " 354: 10,\n",
              " 363: 23,\n",
              " 358: 6,\n",
              " 359: 2,\n",
              " 360: 6,\n",
              " 361: 6,\n",
              " 362: 25,\n",
              " 368: 60,\n",
              " 369: 1,\n",
              " 364: 15,\n",
              " 367: 9,\n",
              " 365: 3,\n",
              " 366: 17,\n",
              " 373: 46,\n",
              " 376: 29,\n",
              " 374: 6,\n",
              " 377: 91,\n",
              " 372: 6,\n",
              " 371: 8,\n",
              " 370: 4,\n",
              " 375: 4,\n",
              " 378: 36,\n",
              " 381: 8,\n",
              " 383: 42,\n",
              " 384: 41,\n",
              " 380: 9,\n",
              " 382: 5,\n",
              " 379: 28,\n",
              " 387: 5,\n",
              " 385: 20,\n",
              " 388: 2,\n",
              " 386: 38,\n",
              " 397: 8,\n",
              " 399: 23,\n",
              " 394: 2,\n",
              " 393: 4,\n",
              " 392: 2,\n",
              " 390: 3,\n",
              " 400: 8,\n",
              " 398: 1,\n",
              " 401: 31,\n",
              " 396: 40,\n",
              " 389: 15,\n",
              " 391: 7,\n",
              " 395: 2,\n",
              " 406: 119,\n",
              " 414: 8,\n",
              " 410: 1,\n",
              " 409: 18,\n",
              " 415: 5,\n",
              " 413: 22,\n",
              " 408: 7,\n",
              " 416: 3,\n",
              " 404: 30,\n",
              " 412: 5,\n",
              " 403: 16,\n",
              " 405: 36,\n",
              " 402: 3,\n",
              " 407: 10,\n",
              " 411: 8,\n",
              " 421: 32,\n",
              " 422: 28,\n",
              " 418: 2,\n",
              " 419: 19,\n",
              " 423: 20,\n",
              " 420: 6,\n",
              " 417: 47,\n",
              " 424: 6,\n",
              " 425: 1,\n",
              " 428: 4,\n",
              " 433: 9,\n",
              " 432: 22,\n",
              " 430: 16,\n",
              " 431: 26,\n",
              " 427: 14,\n",
              " 429: 3,\n",
              " 426: 86,\n",
              " 436: 19,\n",
              " 437: 21,\n",
              " 435: 89,\n",
              " 434: 27,\n",
              " 438: 8,\n",
              " 440: 2,\n",
              " 441: 18,\n",
              " 443: 3,\n",
              " 442: 11,\n",
              " 439: 34,\n",
              " 444: 11,\n",
              " 445: 78,\n",
              " 447: 20,\n",
              " 446: 21,\n",
              " 452: 66,\n",
              " 449: 71,\n",
              " 450: 33,\n",
              " 448: 1,\n",
              " 451: 1,\n",
              " 453: 3,\n",
              " 454: 18,\n",
              " 457: 7,\n",
              " 458: 17,\n",
              " 456: 4,\n",
              " 455: 12,\n",
              " 468: 7,\n",
              " 461: 2,\n",
              " 463: 10,\n",
              " 462: 1,\n",
              " 470: 7,\n",
              " 459: 1,\n",
              " 460: 2,\n",
              " 464: 3,\n",
              " 467: 25,\n",
              " 471: 33,\n",
              " 466: 11,\n",
              " 473: 14,\n",
              " 469: 3,\n",
              " 465: 5,\n",
              " 472: 31,\n",
              " 474: 7,\n",
              " 476: 6,\n",
              " 477: 7,\n",
              " 475: 9,\n",
              " 478: 1,\n",
              " 482: 10,\n",
              " 481: 9,\n",
              " 485: 1,\n",
              " 479: 27,\n",
              " 480: 21,\n",
              " 484: 1,\n",
              " 483: 8,\n",
              " 486: 3,\n",
              " 487: 10,\n",
              " 489: 83,\n",
              " 490: 101,\n",
              " 488: 18,\n",
              " 491: 7,\n",
              " 493: 54,\n",
              " 492: 25,\n",
              " 500: 4,\n",
              " 497: 4,\n",
              " 498: 11,\n",
              " 495: 73,\n",
              " 496: 43,\n",
              " 502: 45,\n",
              " 499: 9,\n",
              " 501: 49,\n",
              " 494: 47,\n",
              " 510: 75,\n",
              " 507: 2,\n",
              " 508: 9,\n",
              " 511: 6,\n",
              " 506: 4,\n",
              " 512: 1,\n",
              " 503: 19,\n",
              " 509: 7,\n",
              " 513: 45,\n",
              " 505: 13,\n",
              " 504: 18,\n",
              " 515: 3,\n",
              " 514: 10,\n",
              " 516: 2,\n",
              " 519: 81,\n",
              " 517: 12,\n",
              " 518: 3,\n",
              " 520: 21,\n",
              " 528: 28,\n",
              " 525: 1,\n",
              " 535: 19,\n",
              " 521: 26,\n",
              " 534: 39,\n",
              " 523: 64,\n",
              " 533: 24,\n",
              " 537: 4,\n",
              " 539: 67,\n",
              " 538: 4,\n",
              " 526: 8,\n",
              " 532: 3,\n",
              " 529: 6,\n",
              " 527: 5,\n",
              " 536: 1,\n",
              " 522: 71,\n",
              " 524: 2,\n",
              " 531: 21,\n",
              " 530: 103,\n",
              " 543: 11,\n",
              " 546: 9,\n",
              " 547: 1,\n",
              " 541: 2,\n",
              " 544: 38,\n",
              " 545: 4,\n",
              " 542: 4,\n",
              " 540: 10,\n",
              " 551: 3,\n",
              " 552: 1,\n",
              " 548: 1,\n",
              " 550: 1,\n",
              " 549: 17,\n",
              " 559: 59,\n",
              " 553: 23,\n",
              " 558: 17,\n",
              " 561: 4,\n",
              " 557: 61,\n",
              " 554: 34,\n",
              " 555: 9,\n",
              " 560: 25,\n",
              " 556: 24,\n",
              " 564: 20,\n",
              " 567: 6,\n",
              " 563: 3,\n",
              " 566: 60,\n",
              " 565: 1,\n",
              " 568: 3,\n",
              " 562: 1,\n",
              " 569: 16,\n",
              " 571: 14,\n",
              " 572: 14,\n",
              " 573: 2,\n",
              " 570: 1,\n",
              " 576: 3,\n",
              " 577: 5,\n",
              " 579: 52,\n",
              " 574: 1,\n",
              " 575: 16,\n",
              " 578: 1,\n",
              " 580: 17,\n",
              " 581: 10,\n",
              " 583: 25,\n",
              " 582: 6,\n",
              " 592: 10,\n",
              " 585: 13,\n",
              " 584: 2,\n",
              " 588: 6,\n",
              " 591: 15,\n",
              " 587: 32,\n",
              " 594: 1,\n",
              " 586: 2,\n",
              " 590: 7,\n",
              " 593: 12,\n",
              " 589: 2,\n",
              " 595: 1,\n",
              " 597: 1,\n",
              " 596: 14,\n",
              " 598: 22,\n",
              " 600: 1,\n",
              " 599: 14,\n",
              " 611: 10,\n",
              " 616: 2,\n",
              " 618: 27,\n",
              " 601: 1,\n",
              " 607: 6,\n",
              " 602: 2,\n",
              " 617: 3,\n",
              " 604: 17,\n",
              " 603: 19,\n",
              " 620: 12,\n",
              " 613: 4,\n",
              " 605: 2,\n",
              " 612: 9,\n",
              " 606: 1,\n",
              " 608: 21,\n",
              " 609: 3,\n",
              " 619: 3,\n",
              " 610: 19,\n",
              " 615: 2,\n",
              " 614: 2,\n",
              " 621: 4,\n",
              " 627: 28,\n",
              " 624: 27,\n",
              " 622: 25,\n",
              " 626: 47,\n",
              " 625: 4,\n",
              " 623: 1,\n",
              " 629: 3,\n",
              " 628: 81,\n",
              " 634: 22,\n",
              " 633: 30,\n",
              " 632: 9,\n",
              " 636: 1,\n",
              " 631: 49,\n",
              " 630: 25,\n",
              " 635: 1,\n",
              " 637: 6,\n",
              " 639: 4,\n",
              " 642: 34,\n",
              " 641: 2,\n",
              " 638: 5,\n",
              " 640: 39,\n",
              " 643: 22,\n",
              " 644: 32,\n",
              " 645: 17,\n",
              " 647: 44,\n",
              " 646: 1,\n",
              " 648: 45,\n",
              " 649: 32,\n",
              " 650: 2,\n",
              " 651: 38,\n",
              " 654: 11,\n",
              " 656: 14,\n",
              " 655: 38,\n",
              " 657: 3,\n",
              " 653: 2,\n",
              " 652: 26,\n",
              " 662: 7,\n",
              " 659: 1,\n",
              " 658: 6,\n",
              " 661: 6,\n",
              " 660: 28,\n",
              " 666: 2,\n",
              " 663: 13,\n",
              " 664: 5,\n",
              " 665: 32,\n",
              " 670: 7,\n",
              " 674: 12,\n",
              " 671: 3,\n",
              " 667: 6,\n",
              " 668: 14,\n",
              " 669: 19,\n",
              " 673: 4,\n",
              " 672: 14,\n",
              " 686: 60,\n",
              " 678: 7,\n",
              " 683: 3,\n",
              " 681: 1,\n",
              " 685: 4,\n",
              " 676: 8,\n",
              " 675: 1,\n",
              " 679: 1,\n",
              " 680: 17,\n",
              " 682: 13,\n",
              " 684: 6,\n",
              " 677: 3,\n",
              " 688: 13,\n",
              " 687: 11,\n",
              " 689: 8,\n",
              " 690: 3,\n",
              " 700: 94,\n",
              " 691: 3,\n",
              " 693: 13,\n",
              " 695: 16,\n",
              " 692: 1,\n",
              " 698: 8,\n",
              " 696: 1,\n",
              " 697: 1,\n",
              " 699: 1,\n",
              " 702: 9,\n",
              " 694: 4,\n",
              " 701: 1,\n",
              " 704: 10,\n",
              " 703: 5,\n",
              " 705: 2,\n",
              " 706: 9,\n",
              " 709: 42,\n",
              " 710: 5,\n",
              " 707: 14,\n",
              " 708: 16,\n",
              " 711: 3,\n",
              " 713: 3,\n",
              " 714: 5,\n",
              " 712: 20,\n",
              " 715: 1,\n",
              " 717: 13,\n",
              " 716: 18,\n",
              " 718: 23,\n",
              " 719: 5,\n",
              " 720: 11,\n",
              " 724: 12,\n",
              " 721: 27,\n",
              " 722: 5,\n",
              " 723: 3,\n",
              " 725: 13,\n",
              " 726: 2,\n",
              " 727: 11,\n",
              " 730: 1,\n",
              " 728: 4,\n",
              " 731: 2,\n",
              " 732: 2,\n",
              " 729: 3,\n",
              " 740: 24,\n",
              " 734: 1,\n",
              " 733: 2,\n",
              " 737: 15,\n",
              " 735: 9,\n",
              " 738: 3,\n",
              " 739: 11,\n",
              " 736: 28,\n",
              " 741: 2,\n",
              " 742: 8,\n",
              " 743: 3,\n",
              " 745: 2,\n",
              " 744: 7,\n",
              " 746: 17,\n",
              " 748: 21,\n",
              " 747: 41,\n",
              " 750: 2,\n",
              " 749: 1,\n",
              " 751: 11,\n",
              " 755: 2,\n",
              " 756: 6,\n",
              " 752: 1,\n",
              " 757: 1,\n",
              " 754: 5,\n",
              " 753: 8,\n",
              " 759: 3,\n",
              " 758: 4,\n",
              " 760: 12,\n",
              " 761: 15,\n",
              " 762: 12,\n",
              " 763: 3,\n",
              " 765: 14,\n",
              " 764: 19,\n",
              " 766: 12,\n",
              " 767: 6,\n",
              " 768: 6,\n",
              " 770: 13,\n",
              " 769: 32,\n",
              " 771: 11,\n",
              " 772: 6,\n",
              " 774: 90,\n",
              " 775: 13,\n",
              " 773: 2,\n",
              " 780: 1,\n",
              " 778: 16,\n",
              " 779: 2,\n",
              " 776: 13,\n",
              " 777: 3,\n",
              " 783: 2,\n",
              " 782: 2,\n",
              " 781: 3,\n",
              " 784: 21,\n",
              " 786: 21,\n",
              " 785: 3,\n",
              " 787: 22,\n",
              " 789: 50,\n",
              " 788: 7,\n",
              " 790: 10,\n",
              " 791: 34,\n",
              " 794: 17,\n",
              " 792: 15,\n",
              " 793: 4,\n",
              " 795: 4,\n",
              " 796: 4,\n",
              " 800: 86,\n",
              " 799: 6,\n",
              " 798: 4,\n",
              " 797: 2,\n",
              " 801: 4,\n",
              " 802: 5,\n",
              " 803: 8,\n",
              " 805: 35,\n",
              " 804: 5,\n",
              " 806: 1,\n",
              " 808: 6,\n",
              " 807: 4,\n",
              " 809: 19,\n",
              " 811: 3,\n",
              " 810: 17,\n",
              " 812: 2,\n",
              " 813: 8,\n",
              " 814: 2,\n",
              " 815: 3,\n",
              " 819: 30,\n",
              " 822: 13,\n",
              " 816: 2,\n",
              " 820: 4,\n",
              " 821: 2,\n",
              " 817: 2,\n",
              " 818: 2,\n",
              " 824: 8,\n",
              " 825: 3,\n",
              " 827: 8,\n",
              " 823: 7,\n",
              " 826: 1,\n",
              " 828: 58,\n",
              " 836: 11,\n",
              " 832: 16,\n",
              " 830: 3,\n",
              " 837: 1,\n",
              " 831: 2,\n",
              " 833: 5,\n",
              " 834: 1,\n",
              " 838: 13,\n",
              " 839: 2,\n",
              " 840: 6,\n",
              " 835: 23,\n",
              " 829: 6,\n",
              " 841: 17,\n",
              " 842: 13,\n",
              " 843: 9,\n",
              " 844: 21,\n",
              " 846: 6,\n",
              " 848: 5,\n",
              " 849: 3,\n",
              " 847: 3,\n",
              " 845: 11,\n",
              " 850: 15,\n",
              " 851: 3,\n",
              " 852: 3,\n",
              " 858: 9,\n",
              " 855: 1,\n",
              " 854: 5,\n",
              " 856: 38,\n",
              " 857: 3,\n",
              " 853: 57,\n",
              " 864: 9,\n",
              " 862: 21,\n",
              " 859: 4,\n",
              " 861: 18,\n",
              " 860: 8,\n",
              " 863: 2,\n",
              " 867: 1,\n",
              " 868: 3,\n",
              " 865: 12,\n",
              " 866: 7,\n",
              " 877: 5,\n",
              " 872: 18,\n",
              " 871: 9,\n",
              " 878: 2,\n",
              " 870: 1,\n",
              " 876: 5,\n",
              " 874: 1,\n",
              " 869: 13,\n",
              " 875: 1,\n",
              " 873: 1,\n",
              " 879: 9,\n",
              " 881: 11,\n",
              " 880: 15,\n",
              " 885: 37,\n",
              " 886: 20,\n",
              " 888: 19,\n",
              " 882: 3,\n",
              " 884: 1,\n",
              " 887: 1,\n",
              " 883: 7,\n",
              " 894: 4,\n",
              " 891: 2,\n",
              " 893: 3,\n",
              " 889: 3,\n",
              " 890: 1,\n",
              " 892: 4,\n",
              " 895: 40,\n",
              " 897: 70,\n",
              " 896: 2,\n",
              " 898: 7,\n",
              " 901: 14,\n",
              " 899: 4,\n",
              " 907: 16,\n",
              " 906: 45,\n",
              " 904: 6,\n",
              " 902: 15,\n",
              " 903: 5,\n",
              " 905: 1,\n",
              " 900: 4,\n",
              " 909: 19,\n",
              " 908: 2,\n",
              " 910: 2,\n",
              " 913: 4,\n",
              " 911: 9,\n",
              " 912: 13,\n",
              " 914: 2,\n",
              " 915: 13,\n",
              " 916: 6,\n",
              " 917: 5,\n",
              " 918: 17,\n",
              " 919: 3,\n",
              " 920: 1,\n",
              " 929: 3,\n",
              " 925: 7,\n",
              " 927: 1,\n",
              " 924: 4,\n",
              " 926: 21,\n",
              " 921: 1,\n",
              " 922: 2,\n",
              " 928: 2,\n",
              " 923: 3,\n",
              " 933: 7,\n",
              " 931: 10,\n",
              " 932: 3,\n",
              " 930: 7,\n",
              " 936: 8,\n",
              " 935: 27,\n",
              " 934: 24,\n",
              " 937: 1,\n",
              " 938: 11,\n",
              " 939: 8,\n",
              " 940: 12,\n",
              " 941: 37,\n",
              " 942: 26,\n",
              " 943: 6,\n",
              " 946: 6,\n",
              " 944: 1,\n",
              " 945: 9,\n",
              " 948: 8,\n",
              " 949: 1,\n",
              " 952: 2,\n",
              " 951: 2,\n",
              " 950: 5,\n",
              " 947: 1,\n",
              " 954: 2,\n",
              " 953: 6,\n",
              " 958: 10,\n",
              " 955: 2,\n",
              " 959: 1,\n",
              " 956: 1,\n",
              " 957: 18,\n",
              " 960: 2,\n",
              " 961: 23,\n",
              " 962: 5,\n",
              " 964: 5,\n",
              " 963: 1,\n",
              " 966: 10,\n",
              " 968: 29,\n",
              " 967: 4,\n",
              " 965: 7,\n",
              " 971: 1,\n",
              " 970: 6,\n",
              " 974: 3,\n",
              " 973: 3,\n",
              " 972: 2,\n",
              " 969: 4,\n",
              " 975: 9,\n",
              " 978: 3,\n",
              " 976: 13,\n",
              " 977: 1,\n",
              " 980: 23,\n",
              " 979: 2,\n",
              " 981: 5,\n",
              " 982: 11,\n",
              " 988: 1,\n",
              " 999: 1,\n",
              " 1007: 3,\n",
              " 1008: 3,\n",
              " 989: 1,\n",
              " 997: 5,\n",
              " 996: 7,\n",
              " 1000: 19,\n",
              " 1001: 2,\n",
              " 1006: 2,\n",
              " 986: 4,\n",
              " 1009: 2,\n",
              " 1004: 10,\n",
              " 994: 1,\n",
              " 987: 1,\n",
              " 998: 5,\n",
              " 984: 12,\n",
              " ...}"
            ]
          },
          "metadata": {},
          "execution_count": 40
        }
      ],
      "source": [
        "dictionary.cfs"
      ]
    },
    {
      "cell_type": "code",
      "execution_count": 41,
      "metadata": {
        "colab": {
          "base_uri": "https://localhost:8080/"
        },
        "id": "8f_mMaGqPIo6",
        "outputId": "2f573fb8-6dad-4a69-c682-a491cb14ed61"
      },
      "outputs": [
        {
          "output_type": "execute_result",
          "data": {
            "text/plain": [
              "{3: 333,\n",
              " 5: 43,\n",
              " 0: 115,\n",
              " 4: 1096,\n",
              " 2: 1868,\n",
              " 1: 35,\n",
              " 9: 83,\n",
              " 6: 43,\n",
              " 8: 181,\n",
              " 7: 56,\n",
              " 10: 617,\n",
              " 11: 112,\n",
              " 12: 139,\n",
              " 16: 570,\n",
              " 19: 22,\n",
              " 27: 50,\n",
              " 14: 21,\n",
              " 25: 41,\n",
              " 15: 4,\n",
              " 23: 176,\n",
              " 21: 807,\n",
              " 17: 57,\n",
              " 20: 21,\n",
              " 13: 1302,\n",
              " 28: 3,\n",
              " 22: 71,\n",
              " 26: 6,\n",
              " 24: 13,\n",
              " 18: 12,\n",
              " 33: 68,\n",
              " 31: 3,\n",
              " 34: 541,\n",
              " 30: 16,\n",
              " 32: 124,\n",
              " 29: 11,\n",
              " 42: 84,\n",
              " 37: 181,\n",
              " 40: 5,\n",
              " 45: 63,\n",
              " 41: 3,\n",
              " 36: 13,\n",
              " 44: 2,\n",
              " 46: 99,\n",
              " 43: 12,\n",
              " 35: 73,\n",
              " 38: 1,\n",
              " 39: 61,\n",
              " 47: 51,\n",
              " 48: 323,\n",
              " 52: 386,\n",
              " 55: 9,\n",
              " 60: 557,\n",
              " 59: 16,\n",
              " 51: 39,\n",
              " 57: 62,\n",
              " 58: 511,\n",
              " 56: 83,\n",
              " 54: 7,\n",
              " 53: 18,\n",
              " 49: 9,\n",
              " 61: 143,\n",
              " 50: 95,\n",
              " 62: 310,\n",
              " 63: 102,\n",
              " 66: 34,\n",
              " 65: 141,\n",
              " 64: 3,\n",
              " 67: 364,\n",
              " 71: 7,\n",
              " 70: 72,\n",
              " 69: 212,\n",
              " 68: 102,\n",
              " 75: 26,\n",
              " 76: 180,\n",
              " 74: 116,\n",
              " 72: 72,\n",
              " 73: 104,\n",
              " 77: 31,\n",
              " 78: 4,\n",
              " 84: 36,\n",
              " 81: 312,\n",
              " 82: 6,\n",
              " 83: 81,\n",
              " 79: 3,\n",
              " 80: 10,\n",
              " 85: 133,\n",
              " 86: 11,\n",
              " 88: 77,\n",
              " 89: 39,\n",
              " 91: 84,\n",
              " 90: 14,\n",
              " 87: 25,\n",
              " 105: 118,\n",
              " 98: 269,\n",
              " 99: 29,\n",
              " 104: 92,\n",
              " 96: 46,\n",
              " 94: 64,\n",
              " 102: 118,\n",
              " 100: 126,\n",
              " 92: 65,\n",
              " 103: 11,\n",
              " 93: 333,\n",
              " 95: 6,\n",
              " 101: 11,\n",
              " 97: 24,\n",
              " 107: 109,\n",
              " 106: 98,\n",
              " 111: 36,\n",
              " 109: 30,\n",
              " 115: 6,\n",
              " 110: 2,\n",
              " 116: 22,\n",
              " 114: 45,\n",
              " 113: 1,\n",
              " 112: 98,\n",
              " 117: 315,\n",
              " 108: 2,\n",
              " 118: 23,\n",
              " 119: 112,\n",
              " 124: 275,\n",
              " 125: 215,\n",
              " 122: 20,\n",
              " 120: 10,\n",
              " 121: 359,\n",
              " 123: 77,\n",
              " 126: 71,\n",
              " 128: 26,\n",
              " 127: 13,\n",
              " 138: 187,\n",
              " 136: 1,\n",
              " 129: 13,\n",
              " 132: 605,\n",
              " 133: 95,\n",
              " 130: 4,\n",
              " 137: 2,\n",
              " 135: 15,\n",
              " 131: 143,\n",
              " 134: 173,\n",
              " 141: 340,\n",
              " 150: 48,\n",
              " 147: 365,\n",
              " 144: 156,\n",
              " 148: 2,\n",
              " 142: 23,\n",
              " 140: 39,\n",
              " 154: 3,\n",
              " 143: 112,\n",
              " 152: 154,\n",
              " 139: 28,\n",
              " 146: 24,\n",
              " 151: 25,\n",
              " 149: 17,\n",
              " 145: 9,\n",
              " 153: 1,\n",
              " 158: 4,\n",
              " 159: 6,\n",
              " 160: 2,\n",
              " 164: 25,\n",
              " 157: 18,\n",
              " 162: 1,\n",
              " 155: 66,\n",
              " 156: 34,\n",
              " 161: 18,\n",
              " 163: 4,\n",
              " 177: 19,\n",
              " 169: 6,\n",
              " 170: 35,\n",
              " 179: 77,\n",
              " 178: 30,\n",
              " 171: 10,\n",
              " 173: 343,\n",
              " 165: 43,\n",
              " 168: 23,\n",
              " 176: 28,\n",
              " 174: 508,\n",
              " 175: 108,\n",
              " 166: 14,\n",
              " 172: 12,\n",
              " 180: 29,\n",
              " 167: 14,\n",
              " 183: 134,\n",
              " 182: 2,\n",
              " 181: 70,\n",
              " 186: 188,\n",
              " 185: 44,\n",
              " 184: 245,\n",
              " 187: 165,\n",
              " 190: 5,\n",
              " 188: 89,\n",
              " 189: 58,\n",
              " 199: 46,\n",
              " 197: 9,\n",
              " 200: 1,\n",
              " 191: 110,\n",
              " 193: 36,\n",
              " 198: 232,\n",
              " 196: 5,\n",
              " 194: 3,\n",
              " 192: 85,\n",
              " 195: 18,\n",
              " 202: 21,\n",
              " 201: 2,\n",
              " 207: 26,\n",
              " 204: 8,\n",
              " 206: 2,\n",
              " 205: 61,\n",
              " 203: 133,\n",
              " 209: 29,\n",
              " 219: 26,\n",
              " 220: 146,\n",
              " 217: 4,\n",
              " 214: 28,\n",
              " 210: 3,\n",
              " 211: 165,\n",
              " 216: 10,\n",
              " 212: 287,\n",
              " 218: 34,\n",
              " 213: 10,\n",
              " 215: 123,\n",
              " 208: 4,\n",
              " 222: 14,\n",
              " 221: 2,\n",
              " 224: 263,\n",
              " 226: 12,\n",
              " 223: 78,\n",
              " 227: 173,\n",
              " 225: 22,\n",
              " 230: 107,\n",
              " 232: 45,\n",
              " 228: 3,\n",
              " 235: 36,\n",
              " 233: 15,\n",
              " 234: 200,\n",
              " 231: 12,\n",
              " 229: 26,\n",
              " 244: 170,\n",
              " 240: 116,\n",
              " 243: 24,\n",
              " 241: 1,\n",
              " 238: 6,\n",
              " 236: 141,\n",
              " 237: 15,\n",
              " 245: 20,\n",
              " 239: 2,\n",
              " 242: 158,\n",
              " 246: 167,\n",
              " 247: 98,\n",
              " 251: 36,\n",
              " 252: 39,\n",
              " 254: 76,\n",
              " 250: 26,\n",
              " 255: 208,\n",
              " 248: 34,\n",
              " 253: 9,\n",
              " 249: 29,\n",
              " 256: 7,\n",
              " 257: 96,\n",
              " 264: 5,\n",
              " 263: 13,\n",
              " 260: 21,\n",
              " 266: 19,\n",
              " 258: 29,\n",
              " 262: 1,\n",
              " 259: 6,\n",
              " 265: 17,\n",
              " 261: 27,\n",
              " 273: 64,\n",
              " 267: 7,\n",
              " 268: 56,\n",
              " 269: 2,\n",
              " 270: 2,\n",
              " 272: 1,\n",
              " 271: 2,\n",
              " 275: 13,\n",
              " 274: 31,\n",
              " 279: 8,\n",
              " 276: 13,\n",
              " 278: 6,\n",
              " 280: 2,\n",
              " 282: 34,\n",
              " 277: 2,\n",
              " 281: 19,\n",
              " 286: 21,\n",
              " 283: 17,\n",
              " 289: 19,\n",
              " 290: 8,\n",
              " 284: 4,\n",
              " 292: 16,\n",
              " 293: 19,\n",
              " 285: 60,\n",
              " 288: 37,\n",
              " 291: 27,\n",
              " 287: 53,\n",
              " 294: 5,\n",
              " 295: 98,\n",
              " 301: 1,\n",
              " 309: 2,\n",
              " 303: 170,\n",
              " 298: 60,\n",
              " 299: 28,\n",
              " 296: 10,\n",
              " 302: 54,\n",
              " 305: 37,\n",
              " 306: 2,\n",
              " 304: 6,\n",
              " 310: 7,\n",
              " 297: 3,\n",
              " 308: 8,\n",
              " 307: 23,\n",
              " 300: 29,\n",
              " 313: 173,\n",
              " 312: 16,\n",
              " 311: 10,\n",
              " 314: 9,\n",
              " 316: 1,\n",
              " 317: 7,\n",
              " 315: 82,\n",
              " 327: 13,\n",
              " 321: 1,\n",
              " 324: 11,\n",
              " 325: 1,\n",
              " 323: 6,\n",
              " 319: 2,\n",
              " 329: 33,\n",
              " 326: 23,\n",
              " 328: 68,\n",
              " 320: 52,\n",
              " 322: 51,\n",
              " 318: 37,\n",
              " 335: 7,\n",
              " 337: 16,\n",
              " 336: 25,\n",
              " 333: 4,\n",
              " 345: 11,\n",
              " 340: 40,\n",
              " 331: 7,\n",
              " 334: 8,\n",
              " 338: 4,\n",
              " 344: 1,\n",
              " 343: 1,\n",
              " 330: 7,\n",
              " 332: 11,\n",
              " 341: 3,\n",
              " 339: 7,\n",
              " 342: 48,\n",
              " 346: 13,\n",
              " 348: 13,\n",
              " 347: 16,\n",
              " 349: 44,\n",
              " 350: 1,\n",
              " 351: 1,\n",
              " 352: 12,\n",
              " 355: 12,\n",
              " 356: 38,\n",
              " 353: 20,\n",
              " 357: 3,\n",
              " 354: 10,\n",
              " 363: 23,\n",
              " 358: 6,\n",
              " 359: 2,\n",
              " 360: 6,\n",
              " 361: 6,\n",
              " 362: 24,\n",
              " 368: 59,\n",
              " 369: 1,\n",
              " 364: 15,\n",
              " 367: 9,\n",
              " 365: 3,\n",
              " 366: 17,\n",
              " 373: 46,\n",
              " 376: 29,\n",
              " 374: 6,\n",
              " 377: 87,\n",
              " 372: 6,\n",
              " 371: 8,\n",
              " 370: 4,\n",
              " 375: 4,\n",
              " 378: 36,\n",
              " 381: 8,\n",
              " 383: 41,\n",
              " 384: 40,\n",
              " 380: 9,\n",
              " 382: 5,\n",
              " 379: 28,\n",
              " 387: 5,\n",
              " 385: 20,\n",
              " 388: 2,\n",
              " 386: 38,\n",
              " 397: 8,\n",
              " 399: 23,\n",
              " 394: 2,\n",
              " 393: 4,\n",
              " 392: 2,\n",
              " 390: 3,\n",
              " 400: 8,\n",
              " 398: 1,\n",
              " 401: 31,\n",
              " 396: 38,\n",
              " 389: 15,\n",
              " 391: 7,\n",
              " 395: 2,\n",
              " 406: 110,\n",
              " 414: 8,\n",
              " 410: 1,\n",
              " 409: 18,\n",
              " 415: 5,\n",
              " 413: 21,\n",
              " 408: 7,\n",
              " 416: 3,\n",
              " 404: 30,\n",
              " 412: 5,\n",
              " 403: 16,\n",
              " 405: 35,\n",
              " 402: 3,\n",
              " 407: 10,\n",
              " 411: 8,\n",
              " 421: 32,\n",
              " 422: 28,\n",
              " 418: 2,\n",
              " 419: 18,\n",
              " 423: 20,\n",
              " 420: 6,\n",
              " 417: 46,\n",
              " 424: 6,\n",
              " 425: 1,\n",
              " 428: 2,\n",
              " 433: 9,\n",
              " 432: 22,\n",
              " 430: 16,\n",
              " 431: 25,\n",
              " 427: 14,\n",
              " 429: 3,\n",
              " 426: 85,\n",
              " 436: 19,\n",
              " 437: 21,\n",
              " 435: 88,\n",
              " 434: 27,\n",
              " 438: 8,\n",
              " 440: 2,\n",
              " 441: 17,\n",
              " 443: 3,\n",
              " 442: 11,\n",
              " 439: 33,\n",
              " 444: 11,\n",
              " 445: 76,\n",
              " 447: 20,\n",
              " 446: 21,\n",
              " 452: 66,\n",
              " 449: 68,\n",
              " 450: 32,\n",
              " 448: 1,\n",
              " 451: 1,\n",
              " 453: 3,\n",
              " 454: 18,\n",
              " 457: 7,\n",
              " 458: 16,\n",
              " 456: 4,\n",
              " 455: 12,\n",
              " 468: 4,\n",
              " 461: 2,\n",
              " 463: 10,\n",
              " 462: 1,\n",
              " 470: 7,\n",
              " 459: 1,\n",
              " 460: 2,\n",
              " 464: 3,\n",
              " 467: 25,\n",
              " 471: 31,\n",
              " 466: 11,\n",
              " 473: 14,\n",
              " 469: 3,\n",
              " 465: 5,\n",
              " 472: 29,\n",
              " 474: 7,\n",
              " 476: 6,\n",
              " 477: 6,\n",
              " 475: 9,\n",
              " 478: 1,\n",
              " 482: 10,\n",
              " 481: 9,\n",
              " 485: 1,\n",
              " 479: 27,\n",
              " 480: 21,\n",
              " 484: 1,\n",
              " 483: 8,\n",
              " 486: 3,\n",
              " 487: 10,\n",
              " 489: 82,\n",
              " 490: 100,\n",
              " 488: 18,\n",
              " 491: 7,\n",
              " 493: 52,\n",
              " 492: 25,\n",
              " 500: 4,\n",
              " 497: 4,\n",
              " 498: 10,\n",
              " 495: 72,\n",
              " 496: 43,\n",
              " 502: 45,\n",
              " 499: 9,\n",
              " 501: 49,\n",
              " 494: 46,\n",
              " 510: 72,\n",
              " 507: 2,\n",
              " 508: 9,\n",
              " 511: 6,\n",
              " 506: 4,\n",
              " 512: 1,\n",
              " 503: 18,\n",
              " 509: 6,\n",
              " 513: 44,\n",
              " 505: 13,\n",
              " 504: 18,\n",
              " 515: 3,\n",
              " 514: 10,\n",
              " 516: 2,\n",
              " 519: 79,\n",
              " 517: 12,\n",
              " 518: 3,\n",
              " 520: 21,\n",
              " 528: 28,\n",
              " 525: 1,\n",
              " 535: 19,\n",
              " 521: 26,\n",
              " 534: 36,\n",
              " 523: 63,\n",
              " 533: 24,\n",
              " 537: 4,\n",
              " 539: 67,\n",
              " 538: 4,\n",
              " 526: 8,\n",
              " 532: 3,\n",
              " 529: 6,\n",
              " 527: 5,\n",
              " 536: 1,\n",
              " 522: 70,\n",
              " 524: 2,\n",
              " 531: 20,\n",
              " 530: 101,\n",
              " 543: 11,\n",
              " 546: 9,\n",
              " 547: 1,\n",
              " 541: 2,\n",
              " 544: 36,\n",
              " 545: 4,\n",
              " 542: 4,\n",
              " 540: 10,\n",
              " 551: 3,\n",
              " 552: 1,\n",
              " 548: 1,\n",
              " 550: 1,\n",
              " 549: 16,\n",
              " 559: 56,\n",
              " 553: 23,\n",
              " 558: 17,\n",
              " 561: 4,\n",
              " 557: 61,\n",
              " 554: 32,\n",
              " 555: 9,\n",
              " 560: 25,\n",
              " 556: 20,\n",
              " 564: 20,\n",
              " 567: 6,\n",
              " 563: 3,\n",
              " 566: 60,\n",
              " 565: 1,\n",
              " 568: 3,\n",
              " 562: 1,\n",
              " 569: 16,\n",
              " 571: 14,\n",
              " 572: 14,\n",
              " 573: 2,\n",
              " 570: 1,\n",
              " 576: 3,\n",
              " 577: 5,\n",
              " 579: 51,\n",
              " 574: 1,\n",
              " 575: 15,\n",
              " 578: 1,\n",
              " 580: 17,\n",
              " 581: 10,\n",
              " 583: 25,\n",
              " 582: 6,\n",
              " 592: 8,\n",
              " 585: 13,\n",
              " 584: 2,\n",
              " 588: 6,\n",
              " 591: 15,\n",
              " 587: 31,\n",
              " 594: 1,\n",
              " 586: 2,\n",
              " 590: 7,\n",
              " 593: 12,\n",
              " 589: 2,\n",
              " 595: 1,\n",
              " 597: 1,\n",
              " 596: 14,\n",
              " 598: 22,\n",
              " 600: 1,\n",
              " 599: 11,\n",
              " 611: 8,\n",
              " 616: 2,\n",
              " 618: 26,\n",
              " 601: 1,\n",
              " 607: 6,\n",
              " 602: 2,\n",
              " 617: 3,\n",
              " 604: 16,\n",
              " 603: 19,\n",
              " 620: 12,\n",
              " 613: 4,\n",
              " 605: 2,\n",
              " 612: 9,\n",
              " 606: 1,\n",
              " 608: 19,\n",
              " 609: 3,\n",
              " 619: 3,\n",
              " 610: 17,\n",
              " 615: 2,\n",
              " 614: 2,\n",
              " 621: 4,\n",
              " 627: 28,\n",
              " 624: 27,\n",
              " 622: 24,\n",
              " 626: 47,\n",
              " 625: 4,\n",
              " 623: 1,\n",
              " 629: 3,\n",
              " 628: 80,\n",
              " 634: 22,\n",
              " 633: 30,\n",
              " 632: 9,\n",
              " 636: 1,\n",
              " 631: 49,\n",
              " 630: 25,\n",
              " 635: 1,\n",
              " 637: 6,\n",
              " 639: 4,\n",
              " 642: 34,\n",
              " 641: 2,\n",
              " 638: 5,\n",
              " 640: 38,\n",
              " 643: 20,\n",
              " 644: 32,\n",
              " 645: 17,\n",
              " 647: 42,\n",
              " 646: 1,\n",
              " 648: 45,\n",
              " 649: 32,\n",
              " 650: 2,\n",
              " 651: 37,\n",
              " 654: 11,\n",
              " 656: 14,\n",
              " 655: 38,\n",
              " 657: 3,\n",
              " 653: 2,\n",
              " 652: 26,\n",
              " 662: 7,\n",
              " 659: 1,\n",
              " 658: 6,\n",
              " 661: 6,\n",
              " 660: 28,\n",
              " 666: 2,\n",
              " 663: 12,\n",
              " 664: 5,\n",
              " 665: 32,\n",
              " 670: 7,\n",
              " 674: 12,\n",
              " 671: 3,\n",
              " 667: 6,\n",
              " 668: 12,\n",
              " 669: 18,\n",
              " 673: 4,\n",
              " 672: 14,\n",
              " 686: 60,\n",
              " 678: 7,\n",
              " 683: 3,\n",
              " 681: 1,\n",
              " 685: 3,\n",
              " 676: 8,\n",
              " 675: 1,\n",
              " 679: 1,\n",
              " 680: 17,\n",
              " 682: 13,\n",
              " 684: 6,\n",
              " 677: 3,\n",
              " 688: 13,\n",
              " 687: 11,\n",
              " 689: 8,\n",
              " 690: 3,\n",
              " 700: 94,\n",
              " 691: 3,\n",
              " 693: 13,\n",
              " 695: 14,\n",
              " 692: 1,\n",
              " 698: 7,\n",
              " 696: 1,\n",
              " 697: 1,\n",
              " 699: 1,\n",
              " 702: 9,\n",
              " 694: 4,\n",
              " 701: 1,\n",
              " 704: 10,\n",
              " 703: 5,\n",
              " 705: 2,\n",
              " 706: 9,\n",
              " 709: 42,\n",
              " 710: 5,\n",
              " 707: 14,\n",
              " 708: 16,\n",
              " 711: 3,\n",
              " 713: 3,\n",
              " 714: 5,\n",
              " 712: 20,\n",
              " 715: 1,\n",
              " 717: 11,\n",
              " 716: 18,\n",
              " 718: 22,\n",
              " 719: 5,\n",
              " 720: 11,\n",
              " 724: 12,\n",
              " 721: 27,\n",
              " 722: 5,\n",
              " 723: 3,\n",
              " 725: 13,\n",
              " 726: 2,\n",
              " 727: 11,\n",
              " 730: 1,\n",
              " 728: 3,\n",
              " 731: 1,\n",
              " 732: 1,\n",
              " 729: 3,\n",
              " 740: 23,\n",
              " 734: 1,\n",
              " 733: 2,\n",
              " 737: 15,\n",
              " 735: 9,\n",
              " 738: 3,\n",
              " 739: 10,\n",
              " 736: 28,\n",
              " 741: 2,\n",
              " 742: 7,\n",
              " 743: 3,\n",
              " 745: 2,\n",
              " 744: 7,\n",
              " 746: 17,\n",
              " 748: 20,\n",
              " 747: 39,\n",
              " 750: 2,\n",
              " 749: 1,\n",
              " 751: 9,\n",
              " 755: 2,\n",
              " 756: 6,\n",
              " 752: 1,\n",
              " 757: 1,\n",
              " 754: 5,\n",
              " 753: 8,\n",
              " 759: 3,\n",
              " 758: 4,\n",
              " 760: 12,\n",
              " 761: 15,\n",
              " 762: 12,\n",
              " 763: 3,\n",
              " 765: 14,\n",
              " 764: 19,\n",
              " 766: 12,\n",
              " 767: 6,\n",
              " 768: 6,\n",
              " 770: 13,\n",
              " 769: 31,\n",
              " 771: 11,\n",
              " 772: 5,\n",
              " 774: 66,\n",
              " 775: 13,\n",
              " 773: 2,\n",
              " 780: 1,\n",
              " 778: 16,\n",
              " 779: 2,\n",
              " 776: 13,\n",
              " 777: 3,\n",
              " 783: 2,\n",
              " 782: 2,\n",
              " 781: 3,\n",
              " 784: 21,\n",
              " 786: 20,\n",
              " 785: 3,\n",
              " 787: 22,\n",
              " 789: 49,\n",
              " 788: 7,\n",
              " 790: 10,\n",
              " 791: 33,\n",
              " 794: 17,\n",
              " 792: 14,\n",
              " 793: 4,\n",
              " 795: 4,\n",
              " 796: 4,\n",
              " 800: 83,\n",
              " 799: 6,\n",
              " 798: 4,\n",
              " 797: 2,\n",
              " 801: 4,\n",
              " 802: 5,\n",
              " 803: 8,\n",
              " 805: 35,\n",
              " 804: 5,\n",
              " 806: 1,\n",
              " 808: 6,\n",
              " 807: 4,\n",
              " 809: 18,\n",
              " 811: 3,\n",
              " 810: 17,\n",
              " 812: 2,\n",
              " 813: 8,\n",
              " 814: 2,\n",
              " 815: 3,\n",
              " 819: 30,\n",
              " 822: 13,\n",
              " 816: 2,\n",
              " 820: 2,\n",
              " 821: 2,\n",
              " 817: 2,\n",
              " 818: 2,\n",
              " 824: 7,\n",
              " 825: 3,\n",
              " 827: 8,\n",
              " 823: 7,\n",
              " 826: 1,\n",
              " 828: 53,\n",
              " 836: 11,\n",
              " 832: 16,\n",
              " 830: 3,\n",
              " 837: 1,\n",
              " 831: 2,\n",
              " 833: 5,\n",
              " 834: 1,\n",
              " 838: 13,\n",
              " 839: 2,\n",
              " 840: 6,\n",
              " 835: 23,\n",
              " 829: 6,\n",
              " 841: 17,\n",
              " 842: 13,\n",
              " 843: 9,\n",
              " 844: 19,\n",
              " 846: 6,\n",
              " 848: 5,\n",
              " 849: 3,\n",
              " 847: 3,\n",
              " 845: 10,\n",
              " 850: 15,\n",
              " 851: 3,\n",
              " 852: 3,\n",
              " 858: 9,\n",
              " 855: 1,\n",
              " 854: 4,\n",
              " 856: 37,\n",
              " 857: 3,\n",
              " 853: 52,\n",
              " 864: 9,\n",
              " 862: 21,\n",
              " 859: 4,\n",
              " 861: 18,\n",
              " 860: 8,\n",
              " 863: 2,\n",
              " 867: 1,\n",
              " 868: 3,\n",
              " 865: 12,\n",
              " 866: 7,\n",
              " 877: 5,\n",
              " 872: 17,\n",
              " 871: 9,\n",
              " 878: 2,\n",
              " 870: 1,\n",
              " 876: 5,\n",
              " 874: 1,\n",
              " 869: 13,\n",
              " 875: 1,\n",
              " 873: 1,\n",
              " 879: 9,\n",
              " 881: 10,\n",
              " 880: 13,\n",
              " 885: 36,\n",
              " 886: 19,\n",
              " 888: 19,\n",
              " 882: 3,\n",
              " 884: 1,\n",
              " 887: 1,\n",
              " 883: 7,\n",
              " 894: 4,\n",
              " 891: 2,\n",
              " 893: 3,\n",
              " 889: 3,\n",
              " 890: 1,\n",
              " 892: 4,\n",
              " 895: 40,\n",
              " 897: 64,\n",
              " 896: 2,\n",
              " 898: 7,\n",
              " 901: 13,\n",
              " 899: 4,\n",
              " 907: 16,\n",
              " 906: 41,\n",
              " 904: 4,\n",
              " 902: 15,\n",
              " 903: 5,\n",
              " 905: 1,\n",
              " 900: 4,\n",
              " 909: 18,\n",
              " 908: 2,\n",
              " 910: 2,\n",
              " 913: 4,\n",
              " 911: 9,\n",
              " 912: 13,\n",
              " 914: 2,\n",
              " 915: 13,\n",
              " 916: 6,\n",
              " 917: 5,\n",
              " 918: 17,\n",
              " 919: 3,\n",
              " 920: 1,\n",
              " 929: 3,\n",
              " 925: 6,\n",
              " 927: 1,\n",
              " 924: 4,\n",
              " 926: 21,\n",
              " 921: 1,\n",
              " 922: 2,\n",
              " 928: 2,\n",
              " 923: 3,\n",
              " 933: 7,\n",
              " 931: 9,\n",
              " 932: 3,\n",
              " 930: 7,\n",
              " 936: 7,\n",
              " 935: 24,\n",
              " 934: 23,\n",
              " 937: 1,\n",
              " 938: 11,\n",
              " 939: 8,\n",
              " 940: 9,\n",
              " 941: 36,\n",
              " 942: 26,\n",
              " 943: 6,\n",
              " 946: 6,\n",
              " 944: 1,\n",
              " 945: 9,\n",
              " 948: 8,\n",
              " 949: 1,\n",
              " 952: 2,\n",
              " 951: 2,\n",
              " 950: 5,\n",
              " 947: 1,\n",
              " 954: 2,\n",
              " 953: 6,\n",
              " 958: 10,\n",
              " 955: 2,\n",
              " 959: 1,\n",
              " 956: 1,\n",
              " 957: 18,\n",
              " 960: 2,\n",
              " 961: 23,\n",
              " 962: 5,\n",
              " 964: 5,\n",
              " 963: 1,\n",
              " 966: 10,\n",
              " 968: 27,\n",
              " 967: 4,\n",
              " 965: 7,\n",
              " 971: 1,\n",
              " 970: 5,\n",
              " 974: 3,\n",
              " 973: 3,\n",
              " 972: 2,\n",
              " 969: 4,\n",
              " 975: 9,\n",
              " 978: 3,\n",
              " 976: 13,\n",
              " 977: 1,\n",
              " 980: 23,\n",
              " 979: 2,\n",
              " 981: 5,\n",
              " 982: 11,\n",
              " 988: 1,\n",
              " 999: 1,\n",
              " 1007: 3,\n",
              " 1008: 3,\n",
              " 989: 1,\n",
              " 997: 5,\n",
              " 996: 6,\n",
              " 1000: 19,\n",
              " 1001: 2,\n",
              " 1006: 2,\n",
              " 986: 4,\n",
              " 1009: 2,\n",
              " 1004: 10,\n",
              " 994: 1,\n",
              " 987: 1,\n",
              " 998: 5,\n",
              " 984: 12,\n",
              " ...}"
            ]
          },
          "metadata": {},
          "execution_count": 41
        }
      ],
      "source": [
        "dictionary.dfs"
      ]
    },
    {
      "cell_type": "code",
      "execution_count": 42,
      "metadata": {
        "colab": {
          "base_uri": "https://localhost:8080/"
        },
        "id": "D8trSPV_PIo6",
        "outputId": "96c51038-8a47-4c9c-beb4-35fe592f026c"
      },
      "outputs": [
        {
          "output_type": "stream",
          "name": "stdout",
          "text": [
            "['follow', 'the', 'white', 'rabbit']\n",
            "[2713, 2, 282, 534]\n"
          ]
        }
      ],
      "source": [
        "sentence = 'follow the white rabbit'\n",
        "new_tokens = simple_preprocess(sentence)\n",
        "ids = dictionary.doc2idx(new_tokens)\n",
        "print(new_tokens)\n",
        "print(ids)"
      ]
    },
    {
      "cell_type": "code",
      "execution_count": 43,
      "metadata": {
        "id": "jTnw8JNXPIo6"
      },
      "outputs": [],
      "source": [
        "special_tokens = {'[PAD]': 0, '[UNK]': 1}\n",
        "dictionary.patch_with_special_tokens(special_tokens)"
      ]
    },
    {
      "cell_type": "code",
      "execution_count": 44,
      "metadata": {
        "id": "2y0NKpAuPIo7"
      },
      "outputs": [],
      "source": [
        "def get_rare_ids(dictionary, min_freq):\n",
        "    rare_ids = [t[0] for t in dictionary.cfs.items() if t[1] < min_freq]\n",
        "    return rare_ids"
      ]
    },
    {
      "cell_type": "code",
      "execution_count": 45,
      "metadata": {
        "id": "rO9cRL8fPIo7"
      },
      "outputs": [],
      "source": [
        "def make_vocab(sentences, folder=None, special_tokens=None, vocab_size=None, min_freq=None):\n",
        "    if folder is not None:\n",
        "        if not os.path.exists(folder):\n",
        "            os.mkdir(folder)\n",
        "\n",
        "    # tokenizes the sentences and create a Dictionary\n",
        "    tokens = [simple_preprocess(sent) for sent in sentences]\n",
        "    dictionary = corpora.Dictionary(tokens)\n",
        "    # keeps only the most frequent words (vocab size)\n",
        "    if vocab_size is not None:\n",
        "        dictionary.filter_extremes(keep_n=vocab_size)\n",
        "    # removes rare words (in case the vocab size still\n",
        "    # includes words with low frequency)\n",
        "    if min_freq is not None:\n",
        "        rare_tokens = get_rare_ids(dictionary, min_freq)\n",
        "        dictionary.filter_tokens(bad_ids=rare_tokens)\n",
        "    # gets the whole list of tokens and frequencies\n",
        "    items = dictionary.cfs.items()\n",
        "    # sorts the tokens in descending order\n",
        "    words = [dictionary[t[0]] for t in sorted(dictionary.cfs.items(), key=lambda t: -t[1])]\n",
        "    # prepends special tokens, if any\n",
        "    if special_tokens is not None:\n",
        "        to_add = []\n",
        "        for special_token in special_tokens:\n",
        "            if special_token not in words:\n",
        "                to_add.append(special_token)\n",
        "        words = to_add + words\n",
        "\n",
        "    with open(os.path.join(folder, 'vocab.txt'), 'w') as f:\n",
        "        for word in words:\n",
        "            f.write(f'{word}\\n')"
      ]
    },
    {
      "cell_type": "code",
      "execution_count": 46,
      "metadata": {
        "id": "3x1exiX0PIo7"
      },
      "outputs": [],
      "source": [
        "make_vocab(train_dataset['sentence'], 'our_vocab/', special_tokens=['[PAD]', '[UNK]', '[SEP]', '[CLS]', '[MASK]'], min_freq=2)"
      ]
    },
    {
      "cell_type": "markdown",
      "metadata": {
        "id": "7Cq5LmV6PIo7"
      },
      "source": [
        "## HugginFace's Tokenizer"
      ]
    },
    {
      "cell_type": "code",
      "execution_count": 47,
      "metadata": {
        "id": "AbW7Cd8jPIo8"
      },
      "outputs": [],
      "source": [
        "from transformers import BertTokenizer\n",
        "\n",
        "tokenizer = BertTokenizer('our_vocab/vocab.txt')"
      ]
    },
    {
      "cell_type": "code",
      "execution_count": 48,
      "metadata": {
        "colab": {
          "base_uri": "https://localhost:8080/"
        },
        "id": "nhxCrkJjPIo8",
        "outputId": "d7cfd644-41f0-49df-bae4-3d514e47a6a0"
      },
      "outputs": [
        {
          "output_type": "execute_result",
          "data": {
            "text/plain": [
              "['follow', 'the', 'white', 'rabbit', '[UNK]']"
            ]
          },
          "metadata": {},
          "execution_count": 48
        }
      ],
      "source": [
        "new_sentence = 'follow the white rabbit neo'\n",
        "new_tokens = tokenizer.tokenize(new_sentence)\n",
        "new_tokens"
      ]
    },
    {
      "cell_type": "code",
      "execution_count": 49,
      "metadata": {
        "colab": {
          "base_uri": "https://localhost:8080/"
        },
        "id": "V6DlCKGxPIo8",
        "outputId": "1228485a-55ab-4ccf-a2dc-4390ffcd00ad"
      },
      "outputs": [
        {
          "output_type": "execute_result",
          "data": {
            "text/plain": [
              "[1324, 5, 221, 201, 1]"
            ]
          },
          "metadata": {},
          "execution_count": 49
        }
      ],
      "source": [
        "new_ids = tokenizer.convert_tokens_to_ids(new_tokens)\n",
        "new_ids"
      ]
    },
    {
      "cell_type": "code",
      "execution_count": 50,
      "metadata": {
        "colab": {
          "base_uri": "https://localhost:8080/"
        },
        "id": "06gmmhDvPIo9",
        "outputId": "5a109e50-9380-48a3-f756-9ecf2e77a381"
      },
      "outputs": [
        {
          "output_type": "execute_result",
          "data": {
            "text/plain": [
              "[3, 1324, 5, 221, 201, 1, 2]"
            ]
          },
          "metadata": {},
          "execution_count": 50
        }
      ],
      "source": [
        "new_ids = tokenizer.encode(new_sentence)\n",
        "new_ids"
      ]
    },
    {
      "cell_type": "code",
      "execution_count": 51,
      "metadata": {
        "colab": {
          "base_uri": "https://localhost:8080/"
        },
        "id": "98Ccyt_LPIo9",
        "outputId": "997d644e-a236-4553-ab70-5f4a9f954e89"
      },
      "outputs": [
        {
          "output_type": "execute_result",
          "data": {
            "text/plain": [
              "['[CLS]', 'follow', 'the', 'white', 'rabbit', '[UNK]', '[SEP]']"
            ]
          },
          "metadata": {},
          "execution_count": 51
        }
      ],
      "source": [
        "tokenizer.convert_ids_to_tokens(new_ids)"
      ]
    },
    {
      "cell_type": "code",
      "execution_count": 52,
      "metadata": {
        "colab": {
          "base_uri": "https://localhost:8080/"
        },
        "id": "yVOy3y3SPIo9",
        "outputId": "d876af8c-531c-4c04-a1e7-57fe35eb8eb4"
      },
      "outputs": [
        {
          "output_type": "execute_result",
          "data": {
            "text/plain": [
              "[1324, 5, 221, 201, 1]"
            ]
          },
          "metadata": {},
          "execution_count": 52
        }
      ],
      "source": [
        "tokenizer.encode(new_sentence, add_special_tokens=False)"
      ]
    },
    {
      "cell_type": "code",
      "execution_count": 53,
      "metadata": {
        "colab": {
          "base_uri": "https://localhost:8080/"
        },
        "id": "tGBDu8aoPIo9",
        "outputId": "12489fe4-b808-4198-ac76-2ddd860b01da"
      },
      "outputs": [
        {
          "output_type": "execute_result",
          "data": {
            "text/plain": [
              "{'input_ids': tensor([[1324,    5,  221,  201,    1]]), 'token_type_ids': tensor([[0, 0, 0, 0, 0]]), 'attention_mask': tensor([[1, 1, 1, 1, 1]])}"
            ]
          },
          "metadata": {},
          "execution_count": 53
        }
      ],
      "source": [
        "tokenizer(new_sentence, add_special_tokens=False, return_tensors='pt')"
      ]
    },
    {
      "cell_type": "code",
      "execution_count": 54,
      "metadata": {
        "colab": {
          "base_uri": "https://localhost:8080/"
        },
        "id": "VB8-t1puPIo_",
        "outputId": "de1fbb45-c5b1-4132-ab6b-7028e94bc45e"
      },
      "outputs": [
        {
          "output_type": "execute_result",
          "data": {
            "text/plain": [
              "{'input_ids': [3, 1324, 5, 221, 201, 1, 2, 50, 45, 78, 32, 260, 47, 5, 1, 30, 2], 'token_type_ids': [0, 0, 0, 0, 0, 0, 0, 1, 1, 1, 1, 1, 1, 1, 1, 1, 1], 'attention_mask': [1, 1, 1, 1, 1, 1, 1, 1, 1, 1, 1, 1, 1, 1, 1, 1, 1]}"
            ]
          },
          "metadata": {},
          "execution_count": 54
        }
      ],
      "source": [
        "sentence1 = 'follow the white rabbit neo'\n",
        "sentence2 = 'no one can be told what the matrix is'\n",
        "joined_sentences = tokenizer(sentence1, sentence2)\n",
        "joined_sentences"
      ]
    },
    {
      "cell_type": "code",
      "execution_count": 55,
      "metadata": {
        "colab": {
          "base_uri": "https://localhost:8080/"
        },
        "id": "IjJ5EQqfPIo_",
        "outputId": "c8b0cefd-7f3c-4e04-a7b0-d98eb1dec2b4"
      },
      "outputs": [
        {
          "output_type": "stream",
          "name": "stdout",
          "text": [
            "['[CLS]', 'follow', 'the', 'white', 'rabbit', '[UNK]', '[SEP]', 'no', 'one', 'can', 'be', 'told', 'what', 'the', '[UNK]', 'is', '[SEP]']\n"
          ]
        }
      ],
      "source": [
        "print(tokenizer.convert_ids_to_tokens(joined_sentences['input_ids']))"
      ]
    },
    {
      "cell_type": "code",
      "execution_count": 56,
      "metadata": {
        "colab": {
          "base_uri": "https://localhost:8080/"
        },
        "id": "jNHKY9CrPIo_",
        "outputId": "0fefa3f3-4bd4-4cd3-9c82-b91823ef103d"
      },
      "outputs": [
        {
          "output_type": "execute_result",
          "data": {
            "text/plain": [
              "{'input_ids': [[3, 1324, 5, 221, 201, 1, 2, 0, 0, 0, 0], [3, 50, 45, 78, 32, 260, 47, 5, 1, 30, 2]], 'token_type_ids': [[0, 0, 0, 0, 0, 0, 0, 0, 0, 0, 0], [0, 0, 0, 0, 0, 0, 0, 0, 0, 0, 0]], 'attention_mask': [[1, 1, 1, 1, 1, 1, 1, 0, 0, 0, 0], [1, 1, 1, 1, 1, 1, 1, 1, 1, 1, 1]]}"
            ]
          },
          "metadata": {},
          "execution_count": 56
        }
      ],
      "source": [
        "separate_sentences = tokenizer([sentence1, sentence2], padding=True)\n",
        "separate_sentences"
      ]
    },
    {
      "cell_type": "code",
      "execution_count": 57,
      "metadata": {
        "colab": {
          "base_uri": "https://localhost:8080/"
        },
        "id": "ZOQDFqKbPIpF",
        "outputId": "acffe18d-f7f7-4ac1-ef45-df4181abd1b8"
      },
      "outputs": [
        {
          "output_type": "stream",
          "name": "stdout",
          "text": [
            "['[CLS]', 'follow', 'the', 'white', 'rabbit', '[UNK]', '[SEP]', '[PAD]', '[PAD]', '[PAD]', '[PAD]']\n",
            "[1, 1, 1, 1, 1, 1, 1, 0, 0, 0, 0]\n"
          ]
        }
      ],
      "source": [
        "print(tokenizer.convert_ids_to_tokens(separate_sentences['input_ids'][0]))\n",
        "print(separate_sentences['attention_mask'][0])"
      ]
    },
    {
      "cell_type": "code",
      "execution_count": 58,
      "metadata": {
        "colab": {
          "base_uri": "https://localhost:8080/"
        },
        "id": "Uqsq7GS3PIpG",
        "outputId": "e3b35a3d-9f64-4016-a8bc-778ea386644c"
      },
      "outputs": [
        {
          "output_type": "stream",
          "name": "stdout",
          "text": [
            "['[CLS]', 'follow', 'the', 'white', 'rabbit', '[UNK]', '[SEP]', 'no', 'one', 'can', 'be', 'told', 'what', 'the', '[UNK]', 'is', '[SEP]']\n",
            "['[CLS]', 'another', 'first', 'sentence', '[SEP]', '[UNK]', 'second', 'sentence', 'here', '[SEP]']\n"
          ]
        }
      ],
      "source": [
        "first_sentences = [sentence1, 'another first sentence']\n",
        "second_sentences = [sentence2, 'a second sentence here']\n",
        "batch_of_pairs = tokenizer(first_sentences, second_sentences)\n",
        "first_input = tokenizer.convert_ids_to_tokens(batch_of_pairs['input_ids'][0])\n",
        "second_input = tokenizer.convert_ids_to_tokens(batch_of_pairs['input_ids'][1])\n",
        "print(first_input)\n",
        "print(second_input)"
      ]
    },
    {
      "cell_type": "code",
      "execution_count": 59,
      "metadata": {
        "colab": {
          "base_uri": "https://localhost:8080/"
        },
        "id": "2U40RGXSPIpG",
        "outputId": "4bbdb52e-c164-420f-da39-e7d09fa4f942"
      },
      "outputs": [
        {
          "output_type": "execute_result",
          "data": {
            "text/plain": [
              "tensor([[   3,   27,    1,  ...,   94,  864,    2],\n",
              "        [   3,   25,   10,  ..., 1530,    5,    2],\n",
              "        [   3,   48,   12,  ...,    0,    0,    0],\n",
              "        ...,\n",
              "        [   3,    1,    6,  ...,    0,    0,    0],\n",
              "        [   3,    6,  135,  ...,    0,    0,    0],\n",
              "        [   3,    1,    1,  ...,    0,    0,    0]])"
            ]
          },
          "metadata": {},
          "execution_count": 59
        }
      ],
      "source": [
        "tokenized_dataset = tokenizer(dataset['sentence'],\n",
        "                              padding=True,\n",
        "                              return_tensors='pt',\n",
        "                              max_length=50,\n",
        "                              truncation=True)\n",
        "tokenized_dataset['input_ids']"
      ]
    },
    {
      "cell_type": "markdown",
      "metadata": {
        "id": "RYIpul-cPIpG"
      },
      "source": [
        "# Before Word Embeddings"
      ]
    },
    {
      "cell_type": "markdown",
      "metadata": {
        "id": "U80QzETEPIpH"
      },
      "source": [
        "## One-Hot Encoding (OHE)"
      ]
    },
    {
      "cell_type": "markdown",
      "metadata": {
        "id": "NS3mlNgIPIpH"
      },
      "source": [
        "![](https://github.com/dvgodoy/PyTorchStepByStep/blob/master/images/ohe1.png?raw=1)"
      ]
    },
    {
      "cell_type": "markdown",
      "metadata": {
        "id": "MLGxP_hdPIpH"
      },
      "source": [
        "![](https://github.com/dvgodoy/PyTorchStepByStep/blob/master/images/ohe2.png?raw=1)"
      ]
    },
    {
      "cell_type": "markdown",
      "metadata": {
        "id": "-K2WB4P5PIpH"
      },
      "source": [
        "## Bag of Words (BoW)"
      ]
    },
    {
      "cell_type": "code",
      "execution_count": 60,
      "metadata": {
        "colab": {
          "base_uri": "https://localhost:8080/"
        },
        "id": "L6ljfjKBPIpH",
        "outputId": "19964ba4-7c3a-4865-e5c2-2b8361eec31f"
      },
      "outputs": [
        {
          "output_type": "execute_result",
          "data": {
            "text/plain": [
              "['the', 'white', 'rabbit', 'is', 'rabbit']"
            ]
          },
          "metadata": {},
          "execution_count": 60
        }
      ],
      "source": [
        "sentence = 'the white rabbit is a rabbit'\n",
        "bow_tokens = simple_preprocess(sentence)\n",
        "bow_tokens"
      ]
    },
    {
      "cell_type": "code",
      "execution_count": 61,
      "metadata": {
        "colab": {
          "base_uri": "https://localhost:8080/"
        },
        "id": "wLrldcH-PIpI",
        "outputId": "f468ade6-981d-4c26-f6f7-56ab6de1ee7d"
      },
      "outputs": [
        {
          "output_type": "execute_result",
          "data": {
            "text/plain": [
              "[(2, 1), (224, 1), (282, 1), (534, 2)]"
            ]
          },
          "metadata": {},
          "execution_count": 61
        }
      ],
      "source": [
        "bow = dictionary.doc2bow(bow_tokens)\n",
        "bow"
      ]
    },
    {
      "cell_type": "markdown",
      "metadata": {
        "id": "Dfbvtiv2PIpI"
      },
      "source": [
        "## Language Models\n",
        "\n",
        "![](https://github.com/dvgodoy/PyTorchStepByStep/blob/master/images/blank1.png?raw=1)\n",
        "\n",
        "![](https://github.com/dvgodoy/PyTorchStepByStep/blob/master/images/blank2.png?raw=1)\n",
        "\n",
        "![](https://github.com/dvgodoy/PyTorchStepByStep/blob/master/images/fill1.png?raw=1)\n",
        "\n",
        "![](https://github.com/dvgodoy/PyTorchStepByStep/blob/master/images/fill2.png?raw=1)\n",
        "\n",
        "## N-grams\n",
        "\n",
        "![](https://github.com/dvgodoy/PyTorchStepByStep/blob/master/images/ngrams.png?raw=1)\n",
        "\n",
        "## Continuous Bag-of-Words (CBoW)\n",
        "\n",
        "![](https://github.com/dvgodoy/PyTorchStepByStep/blob/master/images/blank_end.png?raw=1)\n",
        "\n",
        "![](https://github.com/dvgodoy/PyTorchStepByStep/blob/master/images/blank_center.png?raw=1)"
      ]
    },
    {
      "cell_type": "markdown",
      "metadata": {
        "id": "UxDgKYloPIpI"
      },
      "source": [
        "# Word Embeddings\n",
        "\n",
        "## Word2Vec\n",
        "\n",
        "![](https://github.com/dvgodoy/PyTorchStepByStep/blob/master/images/cbow.png?raw=1)"
      ]
    },
    {
      "cell_type": "code",
      "execution_count": 62,
      "metadata": {
        "id": "atT-CpiCPIpI"
      },
      "outputs": [],
      "source": [
        "class CBOW(nn.Module):\n",
        "    def __init__(self, vocab_size, embedding_size):\n",
        "        super().__init__()\n",
        "        self.embedding = nn.Embedding(vocab_size, embedding_size)\n",
        "        self.linear = nn.Linear(embedding_size, vocab_size)\n",
        "\n",
        "    def forward(self, X):\n",
        "        embeddings = self.embedding(X)\n",
        "        bow = embeddings.mean(dim=1)\n",
        "        logits = self.linear(bow)\n",
        "        return logits"
      ]
    },
    {
      "cell_type": "code",
      "execution_count": 63,
      "metadata": {
        "colab": {
          "base_uri": "https://localhost:8080/"
        },
        "id": "xn-7a8LHPIpJ",
        "outputId": "bb624121-e171-44d9-f675-140f9d85bf2d"
      },
      "outputs": [
        {
          "output_type": "execute_result",
          "data": {
            "text/plain": [
              "OrderedDict([('weight',\n",
              "              tensor([[ 0.3367,  0.1288,  0.2345],\n",
              "                      [ 0.2303, -1.1229, -0.1863],\n",
              "                      [ 2.2082, -0.6380,  0.4617],\n",
              "                      [ 0.2674,  0.5349,  0.8094],\n",
              "                      [ 1.1103, -1.6898, -0.9890]]))])"
            ]
          },
          "metadata": {},
          "execution_count": 63
        }
      ],
      "source": [
        "torch.manual_seed(42)\n",
        "dummy_cbow = CBOW(vocab_size=5, embedding_size=3)\n",
        "dummy_cbow.embedding.state_dict()"
      ]
    },
    {
      "cell_type": "markdown",
      "metadata": {
        "id": "PavMubbxPIpJ"
      },
      "source": [
        "![](https://github.com/dvgodoy/PyTorchStepByStep/blob/master/images/w2v_embed.png?raw=1)"
      ]
    },
    {
      "cell_type": "code",
      "execution_count": 64,
      "metadata": {
        "colab": {
          "base_uri": "https://localhost:8080/"
        },
        "id": "VQ4ZKqOCPIpJ",
        "outputId": "0f2cf8ce-ae6f-4154-92d6-018b6965f14f"
      },
      "outputs": [
        {
          "output_type": "execute_result",
          "data": {
            "text/plain": [
              "tensor([[ 2.2082, -0.6380,  0.4617],\n",
              "        [ 0.2674,  0.5349,  0.8094]], grad_fn=<EmbeddingBackward0>)"
            ]
          },
          "metadata": {},
          "execution_count": 64
        }
      ],
      "source": [
        "# tokens: ['is', 'barking']\n",
        "dummy_cbow.embedding(torch.as_tensor([2, 3]))"
      ]
    },
    {
      "cell_type": "code",
      "execution_count": 65,
      "metadata": {
        "id": "Xeo7CI0FPIpK"
      },
      "outputs": [],
      "source": [
        "tiny_vocab = ['the', 'small', 'is', 'barking', 'dog']\n",
        "context_words = ['the', 'small', 'is', 'barking']\n",
        "target_words = ['dog']"
      ]
    },
    {
      "cell_type": "code",
      "execution_count": 66,
      "metadata": {
        "id": "64hplr5JPIpK"
      },
      "outputs": [],
      "source": [
        "batch_context = torch.as_tensor([[0, 1, 2, 3]]).long()\n",
        "batch_target = torch.as_tensor([4]).long()"
      ]
    },
    {
      "cell_type": "markdown",
      "metadata": {
        "id": "uobj-IG8PIpK"
      },
      "source": [
        "![](https://github.com/dvgodoy/PyTorchStepByStep/blob/master/images/w2v_cbow.png?raw=1)"
      ]
    },
    {
      "cell_type": "code",
      "execution_count": 67,
      "metadata": {
        "colab": {
          "base_uri": "https://localhost:8080/"
        },
        "id": "hMfauJsZPIpK",
        "outputId": "3a1cf14c-ba65-468f-fb25-dab25d1393b9"
      },
      "outputs": [
        {
          "output_type": "execute_result",
          "data": {
            "text/plain": [
              "tensor([[ 0.7606, -0.2743,  0.3298]], grad_fn=<MeanBackward1>)"
            ]
          },
          "metadata": {},
          "execution_count": 67
        }
      ],
      "source": [
        "cbow_features = dummy_cbow.embedding(batch_context).mean(dim=1)\n",
        "cbow_features"
      ]
    },
    {
      "cell_type": "markdown",
      "metadata": {
        "id": "e19wHR2-PIpK"
      },
      "source": [
        "![](https://github.com/dvgodoy/PyTorchStepByStep/blob/master/images/w2v_logits.png?raw=1)"
      ]
    },
    {
      "cell_type": "code",
      "execution_count": 68,
      "metadata": {
        "colab": {
          "base_uri": "https://localhost:8080/"
        },
        "id": "3e5bcIGOPIpL",
        "outputId": "ffa3c002-fa70-4ebd-a49e-04df8e73c368"
      },
      "outputs": [
        {
          "output_type": "execute_result",
          "data": {
            "text/plain": [
              "tensor([[ 0.3542,  0.6937, -0.2028, -0.5873,  0.2099]],\n",
              "       grad_fn=<AddmmBackward0>)"
            ]
          },
          "metadata": {},
          "execution_count": 68
        }
      ],
      "source": [
        "logits = dummy_cbow.linear(cbow_features)\n",
        "logits"
      ]
    },
    {
      "cell_type": "markdown",
      "metadata": {
        "id": "BY_RwBJSPIpL"
      },
      "source": [
        "## What is an Embeddings Anyway?"
      ]
    },
    {
      "cell_type": "markdown",
      "metadata": {
        "id": "9u0vTklVPIpL"
      },
      "source": [
        "![](https://github.com/dvgodoy/PyTorchStepByStep/blob/master/images/rest_discrete.png?raw=1)"
      ]
    },
    {
      "cell_type": "markdown",
      "metadata": {
        "id": "QUBiuMFyPIpL"
      },
      "source": [
        "![](https://github.com/dvgodoy/PyTorchStepByStep/blob/master/images/rest_continuous.png?raw=1)"
      ]
    },
    {
      "cell_type": "code",
      "execution_count": 69,
      "metadata": {
        "colab": {
          "base_uri": "https://localhost:8080/"
        },
        "id": "lPzPn8PaPIpM",
        "outputId": "9358a285-642b-40f9-805e-b8a19ee2e072"
      },
      "outputs": [
        {
          "output_type": "execute_result",
          "data": {
            "text/plain": [
              "tensor([[ 1.0000, -0.4318,  0.9976, -0.2974],\n",
              "        [-0.4318,  1.0000, -0.4270,  0.3581],\n",
              "        [ 0.9976, -0.4270,  1.0000, -0.3598],\n",
              "        [-0.2974,  0.3581, -0.3598,  1.0000]])"
            ]
          },
          "metadata": {},
          "execution_count": 69
        }
      ],
      "source": [
        "ratings = torch.as_tensor([[.7, -.4, .7],\n",
        "                           [.3, .7, -.5],\n",
        "                           [.9, -.55, .8],\n",
        "                           [-.3, .8, .34]]).float()\n",
        "sims = torch.zeros(4, 4)\n",
        "for i in range(4):\n",
        "    for j in range(4):\n",
        "        sims[i, j] = F.cosine_similarity(ratings[i], ratings[j], dim=0)\n",
        "sims"
      ]
    },
    {
      "cell_type": "markdown",
      "metadata": {
        "id": "wkxlGEraPIpM"
      },
      "source": [
        "## Pre-trained Word2Vec"
      ]
    },
    {
      "cell_type": "markdown",
      "metadata": {
        "id": "Vrvd1NarPIpM"
      },
      "source": [
        "## Global Vectors (GloVe)"
      ]
    },
    {
      "cell_type": "code",
      "execution_count": 70,
      "metadata": {
        "colab": {
          "base_uri": "https://localhost:8080/"
        },
        "id": "wl_JFk35PIpM",
        "outputId": "687495e3-ff06-4e34-86d9-530deec0328c"
      },
      "outputs": [
        {
          "output_type": "execute_result",
          "data": {
            "text/plain": [
              "400000"
            ]
          },
          "metadata": {},
          "execution_count": 70
        }
      ],
      "source": [
        "from gensim import downloader\n",
        "\n",
        "glove = downloader.load('glove-wiki-gigaword-50')\n",
        "\n",
        "# UPDATED\n",
        "###########################################################\n",
        "# The vocab property isn't available anymore at the newer\n",
        "# Gensim version. It was replaced by key_to_index\n",
        "# len(glove.vocab)\n",
        "len(glove.key_to_index)\n",
        "###########################################################"
      ]
    },
    {
      "cell_type": "code",
      "execution_count": 71,
      "metadata": {
        "colab": {
          "base_uri": "https://localhost:8080/"
        },
        "id": "fDzgsj0bPIpN",
        "outputId": "58371e32-69ba-4c00-84f6-8e54d3898564"
      },
      "outputs": [
        {
          "output_type": "execute_result",
          "data": {
            "text/plain": [
              "array([ 0.16386 ,  0.57795 , -0.59197 , -0.32446 ,  0.29762 ,  0.85151 ,\n",
              "       -0.76695 , -0.20733 ,  0.21491 , -0.51587 , -0.17517 ,  0.94459 ,\n",
              "        0.12705 , -0.33031 ,  0.75951 ,  0.44449 ,  0.16553 , -0.19235 ,\n",
              "        0.065533, -0.12394 ,  0.61446 ,  0.89784 ,  0.17413 ,  0.41149 ,\n",
              "        1.191   , -0.39461 , -0.459   ,  0.022161, -0.50843 , -0.44464 ,\n",
              "        0.68721 , -0.7167  ,  0.20835 , -0.23437 ,  0.02604 , -0.47993 ,\n",
              "        0.31873 , -0.29135 ,  0.50273 , -0.55144 , -0.066692,  0.43873 ,\n",
              "       -0.24293 , -1.0247  ,  0.029375,  0.068499,  0.25451 , -1.9663  ,\n",
              "        0.26673 ,  0.88486 ], dtype=float32)"
            ]
          },
          "metadata": {},
          "execution_count": 71
        }
      ],
      "source": [
        "glove['alice']"
      ]
    },
    {
      "cell_type": "code",
      "execution_count": 72,
      "metadata": {
        "id": "46hbjBCmPIpO"
      },
      "outputs": [],
      "source": [
        "synthetic_queen = glove['king'] - glove['man'] + glove['woman']"
      ]
    },
    {
      "cell_type": "code",
      "execution_count": 73,
      "metadata": {
        "colab": {
          "base_uri": "https://localhost:8080/",
          "height": 322
        },
        "id": "kcrptYwOPIpP",
        "outputId": "1fb538f3-0ff3-4cd7-8af8-2b48742ce3de"
      },
      "outputs": [
        {
          "output_type": "stream",
          "name": "stderr",
          "text": [
            "/content/plots/chapter11.py:23: UserWarning: set_ticklabels() should only be used with a fixed number of ticks, i.e. after set_ticks() or using a FixedLocator.\n",
            "  axs[i].set_yticklabels(['', word, ''])\n",
            "/content/plots/chapter11.py:23: UserWarning: set_ticklabels() should only be used with a fixed number of ticks, i.e. after set_ticks() or using a FixedLocator.\n",
            "  axs[i].set_yticklabels(['', word, ''])\n",
            "/content/plots/chapter11.py:23: UserWarning: set_ticklabels() should only be used with a fixed number of ticks, i.e. after set_ticks() or using a FixedLocator.\n",
            "  axs[i].set_yticklabels(['', word, ''])\n",
            "/content/plots/chapter11.py:23: UserWarning: set_ticklabels() should only be used with a fixed number of ticks, i.e. after set_ticks() or using a FixedLocator.\n",
            "  axs[i].set_yticklabels(['', word, ''])\n",
            "/content/plots/chapter11.py:23: UserWarning: set_ticklabels() should only be used with a fixed number of ticks, i.e. after set_ticks() or using a FixedLocator.\n",
            "  axs[i].set_yticklabels(['', word, ''])\n"
          ]
        },
        {
          "output_type": "display_data",
          "data": {
            "text/plain": [
              "<Figure size 1800x350 with 5 Axes>"
            ],
            "image/png": "[encoded data removed]"
          },
          "metadata": {}
        }
      ],
      "source": [
        "fig = plot_word_vectors(glove,\n",
        "                        ['king', 'man', 'woman', 'synthetic', 'queen'],\n",
        "                        other={'synthetic': synthetic_queen})"
      ]
    },
    {
      "cell_type": "code",
      "execution_count": 74,
      "metadata": {
        "colab": {
          "base_uri": "https://localhost:8080/"
        },
        "id": "gtLfGWX7PIpP",
        "outputId": "c9f273c8-566a-4e0e-cd9e-44f037ef9796"
      },
      "outputs": [
        {
          "output_type": "execute_result",
          "data": {
            "text/plain": [
              "[('king', 0.8859834671020508),\n",
              " ('queen', 0.8609582185745239),\n",
              " ('daughter', 0.7684512734413147),\n",
              " ('prince', 0.7640699744224548),\n",
              " ('throne', 0.7634970545768738)]"
            ]
          },
          "metadata": {},
          "execution_count": 74
        }
      ],
      "source": [
        "glove.similar_by_vector(synthetic_queen, topn=5)"
      ]
    },
    {
      "cell_type": "markdown",
      "metadata": {
        "id": "fEk297ScPIpQ"
      },
      "source": [
        "![](https://github.com/dvgodoy/PyTorchStepByStep/blob/master/images/embed_arithmetic.png?raw=1)"
      ]
    },
    {
      "cell_type": "markdown",
      "metadata": {
        "id": "6uv9IVvGPIpQ"
      },
      "source": [
        "$$\n",
        "\\Large\n",
        "w_{\\text{king}} - w_{\\text{man}}\\approx w_{\\text{queen}}-w_{\\text{woman}} \\implies w_{\\text{king}} - w_{\\text{man}} + w_{\\text{woman}} \\approx w_{\\text{queen}}\n",
        "$$"
      ]
    },
    {
      "cell_type": "markdown",
      "metadata": {
        "id": "O7M0z1YMPIpQ"
      },
      "source": [
        "## Using Word Embeddings"
      ]
    },
    {
      "cell_type": "markdown",
      "metadata": {
        "id": "MuAY6Gk6PIpQ"
      },
      "source": [
        "### Vocabulary Coverage"
      ]
    },
    {
      "cell_type": "code",
      "execution_count": 75,
      "metadata": {
        "colab": {
          "base_uri": "https://localhost:8080/"
        },
        "id": "bpLS4nhMPIpQ",
        "outputId": "e4e69dcc-1eeb-4f6a-d3eb-5807144edb2b"
      },
      "outputs": [
        {
          "output_type": "execute_result",
          "data": {
            "text/plain": [
              "3707"
            ]
          },
          "metadata": {},
          "execution_count": 75
        }
      ],
      "source": [
        "vocab = list(dictionary.token2id.keys())\n",
        "len(vocab)"
      ]
    },
    {
      "cell_type": "code",
      "execution_count": 76,
      "metadata": {
        "colab": {
          "base_uri": "https://localhost:8080/"
        },
        "id": "AWvfyewTPIpQ",
        "outputId": "c7e2564a-5958-4b69-e28c-1b806a888433"
      },
      "outputs": [
        {
          "output_type": "stream",
          "name": "stdout",
          "text": [
            "42\n",
            "['[PAD]', '[UNK]', 'barrowful', 'carecrow', 'comfits']\n"
          ]
        }
      ],
      "source": [
        "# UPDATED\n",
        "###########################################################\n",
        "# The vocab property isn't available anymore at the newer\n",
        "# Gensim version. It was replaced by key_to_index\n",
        "# unknown_words = sorted(list(set(vocab).difference(set(glove.vocab))))\n",
        "\n",
        "unknown_words = sorted(list(set(vocab).difference(set(glove.key_to_index))))\n",
        "###########################################################\n",
        "print(len(unknown_words))\n",
        "print(unknown_words[:5])"
      ]
    },
    {
      "cell_type": "code",
      "execution_count": 77,
      "metadata": {
        "colab": {
          "base_uri": "https://localhost:8080/"
        },
        "id": "EddC0V1zPIpR",
        "outputId": "ab388bb5-aa2c-4578-d02d-7c675a13d37b"
      },
      "outputs": [
        {
          "output_type": "execute_result",
          "data": {
            "text/plain": [
              "(80, 50826)"
            ]
          },
          "metadata": {},
          "execution_count": 77
        }
      ],
      "source": [
        "unknown_ids = [dictionary.token2id[w] for w in unknown_words if w not in ['[PAD]', '[UNK]']]\n",
        "unknown_count = np.sum([dictionary.cfs[idx] for idx in unknown_ids])\n",
        "unknown_count, dictionary.num_pos"
      ]
    },
    {
      "cell_type": "code",
      "execution_count": 78,
      "metadata": {
        "id": "IWUf3u6CPIpR"
      },
      "outputs": [],
      "source": [
        "def vocab_coverage(gensim_dict, pretrained_wv, special_tokens=('[PAD]', '[UNK]')):\n",
        "    vocab = list(gensim_dict.token2id.keys())\n",
        "    # UPDATED\n",
        "    ###########################################################\n",
        "    # The vocab property isn't available anymore at the newer\n",
        "    # Gensim version. It was replaced by key_to_index\n",
        "    # unknown_words = sorted(list(set(vocab).difference(set(pretrained_wv.vocab))))\n",
        "    unknown_words = sorted(list(set(vocab).difference(set(pretrained_wv.key_to_index))))\n",
        "    ###########################################################\n",
        "    unknown_ids = [gensim_dict.token2id[w] for w in unknown_words if w not in special_tokens]\n",
        "    unknown_count = np.sum([gensim_dict.cfs[idx] for idx in unknown_ids])\n",
        "    cov = 1 - unknown_count / gensim_dict.num_pos\n",
        "    return cov"
      ]
    },
    {
      "cell_type": "code",
      "execution_count": 79,
      "metadata": {
        "colab": {
          "base_uri": "https://localhost:8080/"
        },
        "id": "eYZTCStNPIpR",
        "outputId": "1c0aef18-edb9-4af5-ccbb-f627c3d52248"
      },
      "outputs": [
        {
          "output_type": "execute_result",
          "data": {
            "text/plain": [
              "0.9984260024396963"
            ]
          },
          "metadata": {},
          "execution_count": 79
        }
      ],
      "source": [
        "vocab_coverage(dictionary, glove)"
      ]
    },
    {
      "cell_type": "markdown",
      "metadata": {
        "id": "EKzOosVxPIpR"
      },
      "source": [
        "### Tokenizer"
      ]
    },
    {
      "cell_type": "code",
      "execution_count": 80,
      "metadata": {
        "id": "Mf8fyy3mPIpS"
      },
      "outputs": [],
      "source": [
        "def make_vocab_from_wv(wv, folder=None, special_tokens=None):\n",
        "    if folder is not None:\n",
        "        if not os.path.exists(folder):\n",
        "            os.mkdir(folder)\n",
        "\n",
        "    # UPDATED\n",
        "    ###########################################################\n",
        "    # The index2word property isn't available anymore at the\n",
        "    # newer Gensim version. It was replaced by index_to_key\n",
        "    # words = wv.index2word\n",
        "    words = wv.index_to_key\n",
        "    ###########################################################\n",
        "    if special_tokens is not None:\n",
        "        to_add = []\n",
        "        for special_token in special_tokens:\n",
        "            if special_token not in words:\n",
        "                to_add.append(special_token)\n",
        "        words = to_add + words\n",
        "\n",
        "    with open(os.path.join(folder, 'vocab.txt'), 'w') as f:\n",
        "        for word in words:\n",
        "            f.write(f'{word}\\n')"
      ]
    },
    {
      "cell_type": "code",
      "execution_count": 81,
      "metadata": {
        "id": "K4Y-ub7iPIpS"
      },
      "outputs": [],
      "source": [
        "make_vocab_from_wv(glove, 'glove_vocab/', special_tokens=['[PAD]', '[UNK]'])"
      ]
    },
    {
      "cell_type": "code",
      "execution_count": 82,
      "metadata": {
        "id": "3NIjvZpFPIpS"
      },
      "outputs": [],
      "source": [
        "glove_tokenizer = BertTokenizer('glove_vocab/vocab.txt')"
      ]
    },
    {
      "cell_type": "code",
      "execution_count": 83,
      "metadata": {
        "colab": {
          "base_uri": "https://localhost:8080/"
        },
        "id": "IN_vm748PIpS",
        "outputId": "c6fc5155-5146-4d04-f671-d7900a032ac6"
      },
      "outputs": [
        {
          "output_type": "execute_result",
          "data": {
            "text/plain": [
              "[7101, 930, 2, 300, 12427]"
            ]
          },
          "metadata": {},
          "execution_count": 83
        }
      ],
      "source": [
        "glove_tokenizer.encode('alice followed the white rabbit', add_special_tokens=False)"
      ]
    },
    {
      "cell_type": "code",
      "execution_count": 84,
      "metadata": {
        "colab": {
          "base_uri": "https://localhost:8080/"
        },
        "id": "TwsVqJhtPIpS",
        "outputId": "f11adeb0-fa2c-400f-b7c1-13390089b782"
      },
      "outputs": [
        {
          "output_type": "execute_result",
          "data": {
            "text/plain": [
              "(400002, 400000)"
            ]
          },
          "metadata": {},
          "execution_count": 84
        }
      ],
      "source": [
        "len(glove_tokenizer.vocab), len(glove.vectors)"
      ]
    },
    {
      "cell_type": "markdown",
      "metadata": {
        "id": "YBrqOhP-PIpT"
      },
      "source": [
        "### Special Tokens' Embeddings"
      ]
    },
    {
      "cell_type": "code",
      "execution_count": 85,
      "metadata": {
        "id": "UzAqTQ9CPIpT"
      },
      "outputs": [],
      "source": [
        "special_embeddings = np.zeros((2, glove.vector_size))"
      ]
    },
    {
      "cell_type": "code",
      "execution_count": 86,
      "metadata": {
        "colab": {
          "base_uri": "https://localhost:8080/"
        },
        "id": "4AWIyA3JPIpT",
        "outputId": "98bce8a4-146d-4bd9-b45e-1931726de5b1"
      },
      "outputs": [
        {
          "output_type": "execute_result",
          "data": {
            "text/plain": [
              "(400002, 50)"
            ]
          },
          "metadata": {},
          "execution_count": 86
        }
      ],
      "source": [
        "extended_embeddings = np.concatenate([special_embeddings, glove.vectors], axis=0)\n",
        "extended_embeddings.shape"
      ]
    },
    {
      "cell_type": "code",
      "execution_count": 87,
      "metadata": {
        "colab": {
          "base_uri": "https://localhost:8080/"
        },
        "id": "fMTUfdESPIpT",
        "outputId": "055435fb-4236-410f-ce35-d6aa9d8119c4"
      },
      "outputs": [
        {
          "output_type": "execute_result",
          "data": {
            "text/plain": [
              "True"
            ]
          },
          "metadata": {},
          "execution_count": 87
        }
      ],
      "source": [
        "alice_idx = glove_tokenizer.encode('alice', add_special_tokens=False)\n",
        "np.all(extended_embeddings[alice_idx] == glove['alice'])"
      ]
    },
    {
      "cell_type": "markdown",
      "metadata": {
        "id": "k8_PGFaXPIpU"
      },
      "source": [
        "## Model I - GloVe + Classifier"
      ]
    },
    {
      "cell_type": "markdown",
      "metadata": {
        "id": "rzpeWYcdPIpU"
      },
      "source": [
        "### Data Preparation"
      ]
    },
    {
      "cell_type": "code",
      "execution_count": 88,
      "metadata": {
        "id": "QOc1ZhgdPIpU"
      },
      "outputs": [],
      "source": [
        "train_sentences = train_dataset['sentence']\n",
        "train_labels = train_dataset['labels']\n",
        "\n",
        "test_sentences = test_dataset['sentence']\n",
        "test_labels = test_dataset['labels']"
      ]
    },
    {
      "cell_type": "code",
      "execution_count": 89,
      "metadata": {
        "id": "r5SLBMioPIpU"
      },
      "outputs": [],
      "source": [
        "train_ids = glove_tokenizer(train_sentences,\n",
        "                            truncation=True,\n",
        "                            padding=True,\n",
        "                            max_length=60,\n",
        "                            add_special_tokens=False,\n",
        "                            return_tensors='pt')['input_ids']\n",
        "train_labels = torch.as_tensor(train_labels).float().view(-1, 1)\n",
        "\n",
        "test_ids = glove_tokenizer(test_sentences,\n",
        "                           truncation=True,\n",
        "                           padding=True,\n",
        "                           max_length=60,\n",
        "                           add_special_tokens=False,\n",
        "                           return_tensors='pt')['input_ids']\n",
        "test_labels = torch.as_tensor(test_labels).float().view(-1, 1)"
      ]
    },
    {
      "cell_type": "code",
      "execution_count": 90,
      "metadata": {
        "id": "3Gy9RIDEPIpU"
      },
      "outputs": [],
      "source": [
        "train_tensor_dataset = TensorDataset(train_ids, train_labels)\n",
        "generator = torch.Generator()\n",
        "train_loader = DataLoader(train_tensor_dataset, batch_size=32, shuffle=True, generator=generator)\n",
        "test_tensor_dataset = TensorDataset(test_ids, test_labels)\n",
        "test_loader = DataLoader(test_tensor_dataset, batch_size=32)"
      ]
    },
    {
      "cell_type": "markdown",
      "metadata": {
        "id": "j-3CdOpWPIpU"
      },
      "source": [
        "### Pre-Trained PyTorch Embeddings"
      ]
    },
    {
      "cell_type": "code",
      "execution_count": 91,
      "metadata": {
        "id": "bGxrKlyDPIpV"
      },
      "outputs": [],
      "source": [
        "extended_embeddings = torch.as_tensor(extended_embeddings).float()\n",
        "torch_embeddings = nn.Embedding.from_pretrained(extended_embeddings)"
      ]
    },
    {
      "cell_type": "code",
      "execution_count": 92,
      "metadata": {
        "colab": {
          "base_uri": "https://localhost:8080/"
        },
        "id": "SpdJmQNsPIpV",
        "outputId": "7837e142-3fc8-475a-bfbd-15fb032dc49e"
      },
      "outputs": [
        {
          "output_type": "execute_result",
          "data": {
            "text/plain": [
              "tensor([[  36, 1363,  287,  ...,    0,    0,    0],\n",
              "        [  10,   39,   16,  ...,    0,    0,    0],\n",
              "        [   7, 1423,    2,  ...,    0,    0,    0],\n",
              "        ...,\n",
              "        [ 934, 2400,   16,  ...,    0,    0,    0],\n",
              "        [  28,  364,   17,  ...,    0,    0,    0],\n",
              "        [  85,   83,   45,  ...,    0,    0,    0]])"
            ]
          },
          "metadata": {},
          "execution_count": 92
        }
      ],
      "source": [
        "token_ids, labels = next(iter(train_loader))\n",
        "token_ids"
      ]
    },
    {
      "cell_type": "code",
      "execution_count": 93,
      "metadata": {
        "colab": {
          "base_uri": "https://localhost:8080/"
        },
        "id": "rwyGjFNSPIpV",
        "outputId": "11693f41-10e0-4127-9006-346540ebc9a1"
      },
      "outputs": [
        {
          "output_type": "execute_result",
          "data": {
            "text/plain": [
              "torch.Size([32, 60, 50])"
            ]
          },
          "metadata": {},
          "execution_count": 93
        }
      ],
      "source": [
        "token_embeddings = torch_embeddings(token_ids)\n",
        "token_embeddings.shape"
      ]
    },
    {
      "cell_type": "code",
      "execution_count": 94,
      "metadata": {
        "colab": {
          "base_uri": "https://localhost:8080/"
        },
        "id": "UIHGuQ4WPIpV",
        "outputId": "84392218-cb65-4ca3-80f2-4227eed592ec"
      },
      "outputs": [
        {
          "output_type": "execute_result",
          "data": {
            "text/plain": [
              "tensor([[ 0.0304,  0.0309, -0.0512,  ..., -0.0346,  0.0200,  0.0797],\n",
              "        [ 0.1208,  0.0620, -0.0357,  ..., -0.1315,  0.0473,  0.1333],\n",
              "        [ 0.1013,  0.3428,  0.0159,  ..., -0.2509,  0.0620, -0.0068],\n",
              "        ...,\n",
              "        [ 0.0431,  0.0986, -0.0392,  ..., -0.0608,  0.0285,  0.0397],\n",
              "        [ 0.0324,  0.0149, -0.0068,  ..., -0.0543,  0.0004, -0.0527],\n",
              "        [ 0.2350,  0.1445, -0.1068,  ..., -0.1654, -0.0325,  0.0180]])"
            ]
          },
          "metadata": {},
          "execution_count": 94
        }
      ],
      "source": [
        "token_embeddings.mean(dim=1)"
      ]
    },
    {
      "cell_type": "code",
      "execution_count": 95,
      "metadata": {
        "colab": {
          "base_uri": "https://localhost:8080/"
        },
        "id": "PT2eZ1EqPIpV",
        "outputId": "4c2c629b-d0c4-48bf-b897-9467ed6cc081"
      },
      "outputs": [
        {
          "output_type": "execute_result",
          "data": {
            "text/plain": [
              "tensor([[ 0.0304,  0.0309, -0.0512,  ..., -0.0346,  0.0200,  0.0797],\n",
              "        [ 0.1208,  0.0620, -0.0357,  ..., -0.1315,  0.0473,  0.1333],\n",
              "        [ 0.1013,  0.3428,  0.0159,  ..., -0.2509,  0.0620, -0.0068],\n",
              "        ...,\n",
              "        [ 0.0431,  0.0986, -0.0392,  ..., -0.0608,  0.0285,  0.0397],\n",
              "        [ 0.0324,  0.0149, -0.0068,  ..., -0.0543,  0.0004, -0.0527],\n",
              "        [ 0.2350,  0.1445, -0.1068,  ..., -0.1654, -0.0325,  0.0180]])"
            ]
          },
          "metadata": {},
          "execution_count": 95
        }
      ],
      "source": [
        "boe_mean = nn.EmbeddingBag.from_pretrained(extended_embeddings, mode='mean')\n",
        "boe_mean(token_ids)"
      ]
    },
    {
      "cell_type": "markdown",
      "metadata": {
        "id": "UDyYigyhPIpV"
      },
      "source": [
        "### Model Configuration & Training"
      ]
    },
    {
      "cell_type": "code",
      "execution_count": 96,
      "metadata": {
        "id": "3yaB00G4PIpW"
      },
      "outputs": [],
      "source": [
        "extended_embeddings = torch.as_tensor(extended_embeddings).float()\n",
        "boe_mean = nn.EmbeddingBag.from_pretrained(\n",
        "    extended_embeddings, mode='mean'\n",
        ")\n",
        "torch.manual_seed(41)\n",
        "model = nn.Sequential(\n",
        "    # Embeddings\n",
        "    boe_mean,\n",
        "    # Classifier\n",
        "    nn.Linear(boe_mean.embedding_dim, 128),\n",
        "    nn.ReLU(),\n",
        "    nn.Linear(128, 1)\n",
        ")\n",
        "loss_fn = nn.BCEWithLogitsLoss()\n",
        "optimizer = optim.Adam(model.parameters(), lr=0.01)"
      ]
    },
    {
      "cell_type": "code",
      "execution_count": 97,
      "metadata": {
        "id": "KTWpbPdfPIpW"
      },
      "outputs": [],
      "source": [
        "sbs_emb = StepByStep(model, loss_fn, optimizer)\n",
        "sbs_emb.set_loaders(train_loader, test_loader)\n",
        "sbs_emb.train(20)"
      ]
    },
    {
      "cell_type": "code",
      "execution_count": 98,
      "metadata": {
        "colab": {
          "base_uri": "https://localhost:8080/",
          "height": 256
        },
        "id": "qiaVP9uvPIpW",
        "outputId": "1b820ce3-d7f4-47c3-ef83-06bbce95c5e1"
      },
      "outputs": [
        {
          "output_type": "display_data",
          "data": {
            "text/plain": [
              "<Figure size 1000x400 with 1 Axes>"
            ],
            "image/png": "[encoded data removed]"
          },
          "metadata": {}
        }
      ],
      "source": [
        "fig = sbs_emb.plot_losses()"
      ]
    },
    {
      "cell_type": "code",
      "execution_count": 99,
      "metadata": {
        "colab": {
          "base_uri": "https://localhost:8080/"
        },
        "id": "ZCKFSECRPIpW",
        "outputId": "598b2df6-b190-4048-c4bf-6c2e5bfb2bcf"
      },
      "outputs": [
        {
          "output_type": "execute_result",
          "data": {
            "text/plain": [
              "tensor([[414, 449],\n",
              "        [288, 322]])"
            ]
          },
          "metadata": {},
          "execution_count": 99
        }
      ],
      "source": [
        "StepByStep.loader_apply(test_loader, sbs_emb.correct)"
      ]
    },
    {
      "cell_type": "markdown",
      "metadata": {
        "id": "_kqa22QNPIpX"
      },
      "source": [
        "## Model II - GloVe + Transformer"
      ]
    },
    {
      "cell_type": "code",
      "execution_count": 100,
      "metadata": {
        "id": "MH3DdVEFPIpX"
      },
      "outputs": [],
      "source": [
        "class TransfClassifier(nn.Module):\n",
        "    def __init__(self, embedding_layer, encoder, n_outputs):\n",
        "        super().__init__()\n",
        "        self.d_model = encoder.d_model\n",
        "        self.n_outputs = n_outputs\n",
        "        self.encoder = encoder\n",
        "        self.mlp = nn.Linear(self.d_model, n_outputs)\n",
        "\n",
        "        self.embed = embedding_layer\n",
        "        self.cls_token = nn.Parameter(torch.zeros(1, 1, self.d_model))\n",
        "\n",
        "    def preprocess(self, X):\n",
        "        # N, L -> N, L, D\n",
        "        src = self.embed(X)\n",
        "        # Special classifier token\n",
        "        # 1, 1, D -> N, 1, D\n",
        "        cls_tokens = self.cls_token.expand(X.size(0), -1, -1)\n",
        "        # Concatenates CLS tokens -> N, 1 + L, D\n",
        "        src = torch.cat((cls_tokens, src), dim=1)\n",
        "        return src\n",
        "\n",
        "    def encode(self, source, source_mask=None):\n",
        "        # Encoder generates \"hidden states\"\n",
        "        states = self.encoder(source, source_mask)\n",
        "        # Gets state from first token only: [CLS]\n",
        "        cls_state = states[:, 0]  # N, 1, D\n",
        "        return cls_state\n",
        "\n",
        "    @staticmethod\n",
        "    def source_mask(X):\n",
        "        cls_mask = torch.ones(X.size(0), 1).type_as(X)\n",
        "        pad_mask = torch.cat((cls_mask, X > 0), dim=1).bool()\n",
        "        return pad_mask.unsqueeze(1)\n",
        "\n",
        "    def forward(self, X):\n",
        "        src = self.preprocess(X)\n",
        "        # Featurizer\n",
        "        cls_state = self.encode(src, self.source_mask(X))\n",
        "        # Classifier\n",
        "        out = self.mlp(cls_state) # N, 1, outputs\n",
        "        return out"
      ]
    },
    {
      "cell_type": "code",
      "execution_count": 101,
      "metadata": {
        "id": "aUum393hPIpX"
      },
      "outputs": [],
      "source": [
        "torch.manual_seed(33)\n",
        "# Loads the pretrained GloVe embeddings into an embedding layer\n",
        "torch_embeddings = nn.Embedding.from_pretrained(extended_embeddings)\n",
        "# Creates a Transformer Encoder\n",
        "layer = EncoderLayer(n_heads=2, d_model=torch_embeddings.embedding_dim, ff_units=128)\n",
        "encoder = EncoderTransf(layer, n_layers=1)\n",
        "# Uses both layers above to build our model\n",
        "model = TransfClassifier(torch_embeddings, encoder, n_outputs=1)\n",
        "loss_fn = nn.BCEWithLogitsLoss()\n",
        "optimizer = optim.Adam(model.parameters(), lr=1e-4)"
      ]
    },
    {
      "cell_type": "code",
      "execution_count": 102,
      "metadata": {
        "id": "2mBjsLwHPIpX"
      },
      "outputs": [],
      "source": [
        "sbs_transf = StepByStep(model, loss_fn, optimizer)\n",
        "sbs_transf.set_loaders(train_loader, test_loader)\n",
        "sbs_transf.train(10)"
      ]
    },
    {
      "cell_type": "code",
      "execution_count": 103,
      "metadata": {
        "colab": {
          "base_uri": "https://localhost:8080/",
          "height": 256
        },
        "id": "4CwpEol1PIpY",
        "outputId": "3d1e72cb-5403-4072-fcdb-cafc8a8e08c8"
      },
      "outputs": [
        {
          "output_type": "display_data",
          "data": {
            "text/plain": [
              "<Figure size 1000x400 with 1 Axes>"
            ],
            "image/png": "[encoded data removed]"
          },
          "metadata": {}
        }
      ],
      "source": [
        "fig = sbs_transf.plot_losses()"
      ]
    },
    {
      "cell_type": "code",
      "execution_count": 104,
      "metadata": {
        "colab": {
          "base_uri": "https://localhost:8080/"
        },
        "id": "HPQvdYWVPIpY",
        "outputId": "3d96c5fa-6a66-47ff-f60f-ed42eb867d9b"
      },
      "outputs": [
        {
          "output_type": "execute_result",
          "data": {
            "text/plain": [
              "tensor([[425, 449],\n",
              "        [290, 322]])"
            ]
          },
          "metadata": {},
          "execution_count": 104
        }
      ],
      "source": [
        "StepByStep.loader_apply(test_loader, sbs_transf.correct)"
      ]
    },
    {
      "cell_type": "markdown",
      "metadata": {
        "id": "8Xh8xxgTPIpY"
      },
      "source": [
        "### Visualizing Attention"
      ]
    },
    {
      "cell_type": "code",
      "execution_count": 105,
      "metadata": {
        "colab": {
          "base_uri": "https://localhost:8080/"
        },
        "id": "i5_67okaPIpY",
        "outputId": "d7ffdb15-7af2-40cd-9f3e-ce0f90b2648d"
      },
      "outputs": [
        {
          "output_type": "execute_result",
          "data": {
            "text/plain": [
              "tensor([[    2,   300, 12427,     7,  7101,  1423,   422],\n",
              "        [    2,  6659,   811, 11238,    15,     2,   588]], device='cuda:0')"
            ]
          },
          "metadata": {},
          "execution_count": 105
        }
      ],
      "source": [
        "sentences = ['The white rabbit and Alice ran away', 'The lion met Dorothy on the road']\n",
        "inputs = glove_tokenizer(sentences, add_special_tokens=False, return_tensors='pt')['input_ids']\n",
        "inputs = inputs.to(sbs_transf.device)\n",
        "inputs"
      ]
    },
    {
      "cell_type": "code",
      "execution_count": 106,
      "metadata": {
        "colab": {
          "base_uri": "https://localhost:8080/"
        },
        "id": "Cu3MXRxgPIpZ",
        "outputId": "137e2acd-105d-497f-a3d0-ba22304fc8f4"
      },
      "outputs": [
        {
          "output_type": "execute_result",
          "data": {
            "text/plain": [
              "tensor([[0.9891],\n",
              "        [0.0092]], device='cuda:0', grad_fn=<SigmoidBackward0>)"
            ]
          },
          "metadata": {},
          "execution_count": 106
        }
      ],
      "source": [
        "sbs_transf.model.eval()\n",
        "out = sbs_transf.model(inputs)\n",
        "# our model outputs logits, so we turn them into probs\n",
        "torch.sigmoid(out)"
      ]
    },
    {
      "cell_type": "code",
      "execution_count": 107,
      "metadata": {
        "colab": {
          "base_uri": "https://localhost:8080/"
        },
        "id": "4Nld9xIhPIpZ",
        "outputId": "240d82da-a9b4-4a98-c472-40d050493968"
      },
      "outputs": [
        {
          "output_type": "execute_result",
          "data": {
            "text/plain": [
              "tensor([[[2.5707e-01, 7.0586e-02, 2.2622e-01, 1.3485e-01, 1.1331e-01,\n",
              "          1.3022e-01, 5.3373e-02, 1.4372e-02],\n",
              "         [5.2963e-05, 2.9660e-03, 4.4199e-03, 7.5878e-02, 4.0270e-03,\n",
              "          9.1002e-01, 1.1697e-03, 1.4623e-03]],\n",
              "\n",
              "        [[6.7323e-02, 1.8485e-02, 8.2055e-02, 6.4121e-02, 6.2406e-01,\n",
              "          1.1057e-02, 1.6442e-02, 1.1645e-01],\n",
              "         [3.7875e-04, 2.1211e-02, 2.4569e-01, 4.0334e-02, 5.9883e-01,\n",
              "          4.3009e-02, 2.5408e-02, 2.5134e-02]]], device='cuda:0')"
            ]
          },
          "metadata": {},
          "execution_count": 107
        }
      ],
      "source": [
        "alphas = sbs_transf.model.encoder.layers[0].self_attn_heads.alphas\n",
        "alphas[:, :, 0, :].squeeze()"
      ]
    },
    {
      "cell_type": "code",
      "execution_count": 108,
      "metadata": {
        "colab": {
          "base_uri": "https://localhost:8080/",
          "height": 268
        },
        "id": "B5gATXCkPIpZ",
        "outputId": "c6922e6f-d46a-4416-e14e-3b4d753e873a"
      },
      "outputs": [
        {
          "output_type": "stream",
          "name": "stderr",
          "text": [
            "/content/plots/chapter11.py:50: UserWarning: set_ticklabels() should only be used with a fixed number of ticks, i.e. after set_ticks() or using a FixedLocator.\n",
            "  ax.set_yticklabels(['', f'Head #{i}', ''])\n",
            "/content/plots/chapter11.py:50: UserWarning: set_ticklabels() should only be used with a fixed number of ticks, i.e. after set_ticks() or using a FixedLocator.\n",
            "  ax.set_yticklabels(['', f'Head #{i}', ''])\n",
            "/content/plots/chapter11.py:50: UserWarning: set_ticklabels() should only be used with a fixed number of ticks, i.e. after set_ticks() or using a FixedLocator.\n",
            "  ax.set_yticklabels(['', f'Head #{i}', ''])\n",
            "/content/plots/chapter11.py:50: UserWarning: set_ticklabels() should only be used with a fixed number of ticks, i.e. after set_ticks() or using a FixedLocator.\n",
            "  ax.set_yticklabels(['', f'Head #{i}', ''])\n"
          ]
        },
        {
          "output_type": "display_data",
          "data": {
            "text/plain": [
              "<Figure size 1600x200 with 4 Axes>"
            ],
            "image/png": "[encoded data removed]"
          },
          "metadata": {}
        }
      ],
      "source": [
        "tokens = [['[CLS]'] + glove_tokenizer.tokenize(sent) for sent in sentences]\n",
        "fig = plot_attention(tokens, alphas)"
      ]
    },
    {
      "cell_type": "markdown",
      "metadata": {
        "id": "dNXPXiSlPIpa"
      },
      "source": [
        "# Contextual Word Embeddings"
      ]
    },
    {
      "cell_type": "markdown",
      "metadata": {
        "id": "J5oqS0x7PIpa"
      },
      "source": [
        "## ELMo"
      ]
    },
    {
      "cell_type": "code",
      "execution_count": 109,
      "metadata": {
        "id": "5N8dJJJmPIpa"
      },
      "outputs": [],
      "source": [
        "watch1 = \"\"\"\n",
        "The Hatter was the first to break the silence. `What day of the month is it?' he said, turning to Alice:  he had taken his watch out of his pocket, and was looking at it uneasily, shaking it every now and then, and holding it to his ear.\n",
        "\"\"\"\n",
        "\n",
        "watch2 = \"\"\"\n",
        "Alice thought this a very curious thing, and she went nearer to watch them, and just as she came up to them she heard one of them say, `Look out now, Five!  Don't go splashing paint over me like that!\n",
        "\"\"\"\n",
        "\n",
        "sentences = [watch1, watch2]"
      ]
    },
    {
      "cell_type": "code",
      "execution_count": 110,
      "metadata": {
        "colab": {
          "base_uri": "https://localhost:8080/"
        },
        "id": "1M_qVWdNPIpa",
        "outputId": "24d2c187-8e37-413f-b555-7eda9e3aa4c8"
      },
      "outputs": [
        {
          "output_type": "execute_result",
          "data": {
            "text/plain": [
              "Sentence[58]: \" The Hatter was the first to break the silence. `What day of the month is it?' he said, turning to Alice:  he had taken his watch out of his pocket, and was looking at it uneasily, shaking it every now and then, and holding it to his ear.\""
            ]
          },
          "metadata": {},
          "execution_count": 110
        }
      ],
      "source": [
        "from flair.data import Sentence\n",
        "\n",
        "flair_sentences = [Sentence(s) for s in sentences]\n",
        "flair_sentences[0]"
      ]
    },
    {
      "cell_type": "code",
      "execution_count": 111,
      "metadata": {
        "colab": {
          "base_uri": "https://localhost:8080/"
        },
        "id": "HsasoxvnPIpb",
        "outputId": "80aa520a-0584-4443-bad2-5486e66ca3da"
      },
      "outputs": [
        {
          "output_type": "execute_result",
          "data": {
            "text/plain": [
              "Token[31]: \"watch\""
            ]
          },
          "metadata": {},
          "execution_count": 111
        }
      ],
      "source": [
        "flair_sentences[0].get_token(32)"
      ]
    },
    {
      "cell_type": "code",
      "execution_count": 112,
      "metadata": {
        "colab": {
          "base_uri": "https://localhost:8080/"
        },
        "id": "bdaPu5VNPIpb",
        "outputId": "5b2a2a5f-486e-4fbc-ce48-402000a83560"
      },
      "outputs": [
        {
          "output_type": "execute_result",
          "data": {
            "text/plain": [
              "Token[31]: \"watch\""
            ]
          },
          "metadata": {},
          "execution_count": 112
        }
      ],
      "source": [
        "flair_sentences[0].tokens[31]"
      ]
    },
    {
      "cell_type": "code",
      "execution_count": 113,
      "metadata": {
        "id": "g_iTjhAuPIpb"
      },
      "outputs": [],
      "source": [
        "# UPDATED\n",
        "###########################################################\n",
        "# Unfortunately, ELMO embeddings were returned by flair\n",
        "# using the allennlp library that has been archived.\n",
        "# from flair.embeddings import ELMoEmbeddings\n",
        "# elmo = ELMoEmbeddings()\n",
        "\n",
        "# As replacement, we'll be using flair's own embeddings instead\n",
        "from flair.embeddings import FlairEmbeddings\n",
        "flair_emb = FlairEmbeddings('news-forward')\n",
        "###########################################################"
      ]
    },
    {
      "cell_type": "code",
      "execution_count": 114,
      "metadata": {
        "colab": {
          "base_uri": "https://localhost:8080/"
        },
        "id": "wZOGM9xpPIpb",
        "outputId": "40673987-7b83-483e-ff46-870978edb0cd"
      },
      "outputs": [
        {
          "output_type": "execute_result",
          "data": {
            "text/plain": [
              "[Sentence[58]: \" The Hatter was the first to break the silence. `What day of the month is it?' he said, turning to Alice:  he had taken his watch out of his pocket, and was looking at it uneasily, shaking it every now and then, and holding it to his ear.\",\n",
              " Sentence[48]: \" Alice thought this a very curious thing, and she went nearer to watch them, and just as she came up to them she heard one of them say, `Look out now, Five!  Don't go splashing paint over me like that!\"]"
            ]
          },
          "metadata": {},
          "execution_count": 114
        }
      ],
      "source": [
        "# UPDATED\n",
        "###########################################################\n",
        "# Instead of elmo, embeds sentences using flair embeddings\n",
        "# elmo.embed(flair_sentences)\n",
        "flair_emb.embed(flair_sentences)\n",
        "###########################################################"
      ]
    },
    {
      "cell_type": "code",
      "execution_count": 115,
      "metadata": {
        "colab": {
          "base_uri": "https://localhost:8080/"
        },
        "id": "UdFVdgRZPIpc",
        "outputId": "4dc0bc93-69d6-4b07-d360-d6c746681d66"
      },
      "outputs": [
        {
          "output_type": "execute_result",
          "data": {
            "text/plain": [
              "(Token[31]: \"watch\", Token[13]: \"watch\")"
            ]
          },
          "metadata": {},
          "execution_count": 115
        }
      ],
      "source": [
        "token_watch1 = flair_sentences[0].tokens[31]\n",
        "token_watch2 = flair_sentences[1].tokens[13]\n",
        "token_watch1, token_watch2"
      ]
    },
    {
      "cell_type": "code",
      "execution_count": 116,
      "metadata": {
        "colab": {
          "base_uri": "https://localhost:8080/"
        },
        "id": "3XbrpwUfPIpc",
        "outputId": "a35e0dd4-c28a-44b2-cebe-82f510049641"
      },
      "outputs": [
        {
          "output_type": "execute_result",
          "data": {
            "text/plain": [
              "(tensor([-0.0007, -0.0057,  0.0187,  ..., -0.0051, -0.0022,  0.0026],\n",
              "        device='cuda:0'),\n",
              " tensor([-0.0011, -0.0037,  0.1031,  ..., -0.0079, -0.0044,  0.0002],\n",
              "        device='cuda:0'))"
            ]
          },
          "metadata": {},
          "execution_count": 116
        }
      ],
      "source": [
        "token_watch1.embedding, token_watch2.embedding"
      ]
    },
    {
      "cell_type": "markdown",
      "metadata": {
        "id": "ucsg8w21PIpd"
      },
      "source": [
        "### Where do ELMo Embeddings come from?\n",
        "\n",
        "![](https://github.com/dvgodoy/PyTorchStepByStep/blob/master/images/elmo_lstm.png?raw=1)\n",
        "\n",
        "![](https://github.com/dvgodoy/PyTorchStepByStep/blob/master/images/elmo_embed.png?raw=1)"
      ]
    },
    {
      "cell_type": "code",
      "execution_count": 117,
      "metadata": {
        "id": "AehQ4275PIpd"
      },
      "outputs": [],
      "source": [
        "# UPDATED\n",
        "###########################################################\n",
        "# Unfortunately, this piece of code only makes sense for\n",
        "# ELMO embeddings. Flair embeddings are structured differently\n",
        "# and therefore this code is commented out.\n",
        "# token_watch1.embedding[0], token_watch1.embedding[512]\n",
        "###########################################################"
      ]
    },
    {
      "cell_type": "code",
      "execution_count": 118,
      "metadata": {
        "id": "VFAgysccPIpd"
      },
      "outputs": [],
      "source": [
        "# UPDATED\n",
        "###########################################################\n",
        "# Unfortunately, this piece of code only makes sense for\n",
        "# ELMO embeddings. Flair embeddings are structured differently\n",
        "# and therefore this code is commented out.\n",
        "# (token_watch1.embedding[:1024] == token_watch2.embedding[:1024]).all()\n",
        "###########################################################"
      ]
    },
    {
      "cell_type": "code",
      "execution_count": 119,
      "metadata": {
        "colab": {
          "base_uri": "https://localhost:8080/"
        },
        "id": "3hxX2iMHPIpd",
        "outputId": "54f975d8-fd6d-498f-90a0-693b0bad5cd4",
        "scrolled": true
      },
      "outputs": [
        {
          "output_type": "execute_result",
          "data": {
            "text/plain": [
              "tensor(0.5003, device='cuda:0')"
            ]
          },
          "metadata": {},
          "execution_count": 119
        }
      ],
      "source": [
        "similarity = nn.CosineSimilarity(dim=0, eps=1e-6)\n",
        "similarity(token_watch1.embedding, token_watch2.embedding)"
      ]
    },
    {
      "cell_type": "code",
      "execution_count": 120,
      "metadata": {
        "id": "jF_w6p-rPIpe"
      },
      "outputs": [],
      "source": [
        "def get_embeddings(embeddings, sentence):\n",
        "    sent = Sentence(sentence)\n",
        "    embeddings.embed(sent)\n",
        "    return torch.stack([token.embedding for token in sent.tokens]).float()"
      ]
    },
    {
      "cell_type": "code",
      "execution_count": 121,
      "metadata": {
        "colab": {
          "base_uri": "https://localhost:8080/"
        },
        "id": "kEU5nynEPIpe",
        "outputId": "86a163f6-faf2-44e6-fe33-8ebedd93d7fe",
        "scrolled": true
      },
      "outputs": [
        {
          "output_type": "execute_result",
          "data": {
            "text/plain": [
              "tensor([[-2.0933e-03,  5.0415e-04,  4.6944e-02,  ..., -4.4014e-04,\n",
              "         -3.9301e-02,  1.0601e-02],\n",
              "        [ 3.2224e-04,  1.4939e-03,  2.5947e-02,  ..., -9.2415e-04,\n",
              "         -1.4211e-02,  3.0942e-03],\n",
              "        [ 1.7407e-03, -1.8324e-04,  5.3375e-02,  ...,  4.5165e-04,\n",
              "          5.4484e-02,  9.7125e-03],\n",
              "        ...,\n",
              "        [ 2.2250e-03,  2.2138e-04,  4.4385e-02,  ..., -3.9766e-03,\n",
              "         -7.9449e-04,  2.2444e-02],\n",
              "        [-2.2455e-03,  9.7197e-04,  3.4624e-02,  ..., -7.1559e-05,\n",
              "          1.2647e-02,  1.3210e-02],\n",
              "        [ 1.0997e-03,  8.4726e-05,  1.5534e-01,  ..., -1.5737e-04,\n",
              "          9.5801e-04,  5.3785e-03]], device='cuda:0')"
            ]
          },
          "metadata": {},
          "execution_count": 121
        }
      ],
      "source": [
        "# UPDATED\n",
        "###########################################################\n",
        "# Instead of elmo, embeds sentences using flair embeddings\n",
        "# get_embeddings(elmo, watch1)\n",
        "get_embeddings(flair_emb, watch1)\n",
        "###########################################################"
      ]
    },
    {
      "cell_type": "markdown",
      "metadata": {
        "id": "fX_xJposPIpe"
      },
      "source": [
        "## GloVe"
      ]
    },
    {
      "cell_type": "code",
      "execution_count": 122,
      "metadata": {
        "id": "p7Y54X9_PIpe"
      },
      "outputs": [],
      "source": [
        "from flair.embeddings import WordEmbeddings\n",
        "glove_embedding = WordEmbeddings('glove')"
      ]
    },
    {
      "cell_type": "code",
      "execution_count": 123,
      "metadata": {
        "colab": {
          "base_uri": "https://localhost:8080/"
        },
        "id": "mibBx6mvPIpe",
        "outputId": "2d261b99-8ca5-4061-d51f-0094eb1d0eed"
      },
      "outputs": [
        {
          "output_type": "execute_result",
          "data": {
            "text/plain": [
              "[Sentence[58]: \" The Hatter was the first to break the silence. `What day of the month is it?' he said, turning to Alice:  he had taken his watch out of his pocket, and was looking at it uneasily, shaking it every now and then, and holding it to his ear.\",\n",
              " Sentence[48]: \" Alice thought this a very curious thing, and she went nearer to watch them, and just as she came up to them she heard one of them say, `Look out now, Five!  Don't go splashing paint over me like that!\"]"
            ]
          },
          "metadata": {},
          "execution_count": 123
        }
      ],
      "source": [
        "new_flair_sentences = [Sentence(s) for s in sentences]\n",
        "glove_embedding.embed(new_flair_sentences)"
      ]
    },
    {
      "cell_type": "code",
      "execution_count": 124,
      "metadata": {
        "colab": {
          "base_uri": "https://localhost:8080/"
        },
        "id": "WzaqGrPBPIpf",
        "outputId": "6eda7f83-2b54-4feb-b434-97fe1916b94f"
      },
      "outputs": [
        {
          "output_type": "execute_result",
          "data": {
            "text/plain": [
              "tensor(True, device='cuda:0')"
            ]
          },
          "metadata": {},
          "execution_count": 124
        }
      ],
      "source": [
        "torch.all(new_flair_sentences[0].tokens[31].embedding == new_flair_sentences[1].tokens[13].embedding)"
      ]
    },
    {
      "cell_type": "markdown",
      "metadata": {
        "id": "mIH-ZF35PIpf"
      },
      "source": [
        "## BERT"
      ]
    },
    {
      "cell_type": "code",
      "execution_count": 125,
      "metadata": {
        "colab": {
          "base_uri": "https://localhost:8080/"
        },
        "id": "wppmv3qLPIpf",
        "outputId": "02b5f8e8-1c6c-4859-c31e-e33db7bc4599"
      },
      "outputs": [
        {
          "output_type": "stream",
          "name": "stderr",
          "text": [
            "/usr/local/lib/python3.12/dist-packages/huggingface_hub/file_download.py:945: FutureWarning: `resume_download` is deprecated and will be removed in version 1.0.0. Downloads always resume when possible. If you want to force a new download, use `force_download=True`.\n",
            "  warnings.warn(\n",
            "/usr/local/lib/python3.12/dist-packages/huggingface_hub/utils/_auth.py:94: UserWarning: \n",
            "The secret `HF_TOKEN` does not exist in your Colab secrets.\n",
            "To authenticate with the Hugging Face Hub, create a token in your settings tab (https://huggingface.co/settings/tokens), set it as secret in your Google Colab and restart your session.\n",
            "You will be able to reuse this secret in all of your notebooks.\n",
            "Please note that authentication is recommended but still optional to access public models or datasets.\n",
            "  warnings.warn(\n"
          ]
        }
      ],
      "source": [
        "from flair.embeddings import TransformerWordEmbeddings\n",
        "bert_flair = TransformerWordEmbeddings('bert-base-uncased', layers='-1')"
      ]
    },
    {
      "cell_type": "code",
      "execution_count": 126,
      "metadata": {
        "colab": {
          "base_uri": "https://localhost:8080/"
        },
        "id": "IXKlNCfdPIpf",
        "outputId": "c62d5d0b-ce90-440a-f715-6e5f8d924352"
      },
      "outputs": [
        {
          "output_type": "execute_result",
          "data": {
            "text/plain": [
              "tensor([[ 0.6554, -0.3799, -0.2842,  ...,  0.0601,  0.8865,  0.4760],\n",
              "        [-0.1459, -0.0204, -0.0615,  ..., -0.0257,  0.5052,  0.3324],\n",
              "        [-0.0436, -0.0400, -0.0135,  ...,  0.3920,  0.5231,  0.9067],\n",
              "        ...,\n",
              "        [-0.2582,  0.6933,  0.2688,  ..., -0.0325,  0.0772,  0.2187],\n",
              "        [-0.1868,  0.6398, -0.8127,  ..., -0.5957,  0.2793,  0.1880],\n",
              "        [-0.1021,  0.5222, -0.7142,  ...,  0.3644,  0.0600, -0.1419]],\n",
              "       device='cuda:0')"
            ]
          },
          "metadata": {},
          "execution_count": 126
        }
      ],
      "source": [
        "embed1 = get_embeddings(bert_flair, watch1)\n",
        "embed2 = get_embeddings(bert_flair, watch2)\n",
        "embed2"
      ]
    },
    {
      "cell_type": "code",
      "execution_count": 127,
      "metadata": {
        "colab": {
          "base_uri": "https://localhost:8080/"
        },
        "id": "ZNZPqZPUPIpg",
        "outputId": "5f37484a-d5e6-404b-837f-32afb12d6536"
      },
      "outputs": [
        {
          "output_type": "execute_result",
          "data": {
            "text/plain": [
              "(tensor([ 8.5760e-01,  3.5888e-01, -3.7825e-01, -8.3564e-01,  1.3528e+00,\n",
              "          1.0204e-01, -8.2618e-01,  3.1570e-01,  3.1091e-01, -4.2653e-01,\n",
              "          1.6632e-01,  7.2440e-02, -1.0276e+00,  4.4680e-01, -1.4549e-01,\n",
              "          1.8315e-01,  3.7484e-01, -4.0245e-01, -1.4190e-01, -5.1596e-01,\n",
              "          1.1984e+00,  6.8202e-01,  1.1028e+00, -4.3956e-02,  1.6932e-02,\n",
              "          7.4420e-01, -1.0604e-01,  3.8719e-01,  7.3662e-02,  2.2424e-01,\n",
              "         -5.0282e-02,  1.9586e-01,  1.0773e+00,  1.0341e+00,  4.4217e-01,\n",
              "         -6.5567e-01, -5.6308e-01, -1.1827e-01,  1.2862e-01,  4.6581e-01,\n",
              "         -7.1305e-01, -1.5682e-01, -1.3552e-01,  4.5852e-02,  8.2852e-03,\n",
              "          5.2762e-01,  1.6906e+00,  5.5388e-01, -7.3777e-02,  5.1504e-01,\n",
              "         -2.0619e-01, -2.9503e-03,  2.5389e-01, -1.5379e-01,  8.4900e-01,\n",
              "          6.5440e-01, -3.2925e-01, -1.1198e+00,  2.4251e-01,  1.5586e-01,\n",
              "          5.7514e-01,  8.5832e-02,  3.3306e-01, -3.9344e-01, -4.1766e-01,\n",
              "          1.0790e+00,  1.1719e-02,  7.0214e-01, -6.0665e-01,  7.3702e-01,\n",
              "          6.8223e-02, -3.7110e-01, -7.7589e-01, -1.3057e-01,  1.7179e-01,\n",
              "          6.2051e-01, -6.4163e-01,  4.2881e-01,  5.7445e-01,  3.9801e-02,\n",
              "         -2.1279e-01, -5.1984e-01,  7.5919e-01,  3.0600e-01, -3.3987e-01,\n",
              "         -3.0427e-01, -5.7486e-01, -5.2273e-02, -6.8957e-01,  7.3935e-01,\n",
              "         -1.6545e-01, -8.2786e-01,  3.4169e-02,  7.1547e-01, -5.6962e-01,\n",
              "         -7.8686e-01,  3.6913e-01, -1.9961e-02, -5.7287e-01, -2.6407e-01,\n",
              "          8.5581e-01, -6.1419e-02,  3.8184e-01, -9.1566e-03, -1.0273e+00,\n",
              "         -5.3303e-01,  4.4014e-01,  1.7875e-01,  9.1851e-01,  5.9216e-01,\n",
              "         -4.8853e-01, -3.9106e-01, -8.8284e-02, -7.1935e-01, -3.8647e-01,\n",
              "          9.9550e-02,  2.2983e-01, -1.5325e+00,  6.5409e-02, -1.0896e+00,\n",
              "          1.2108e-01, -1.9921e-01, -2.5195e-01,  1.4421e-01,  2.7531e-02,\n",
              "         -3.0479e-01, -3.8533e-01, -1.1540e-01, -8.3979e-01, -7.7467e-01,\n",
              "          6.5181e-01,  3.1980e-01,  4.7616e-01, -8.2181e-01, -4.4323e-01,\n",
              "          1.2445e-01, -2.9082e-01, -4.2669e-01, -6.8031e-01,  1.1736e+00,\n",
              "          1.0199e+00,  7.3959e-01, -6.1510e-01,  1.0691e+00,  5.6806e-01,\n",
              "          9.4541e-01, -9.8110e-01, -7.1101e-01,  3.6151e-01,  2.0443e-01,\n",
              "         -5.0706e-02, -2.8712e-01,  1.2332e-01,  3.9614e-01, -4.4268e-01,\n",
              "         -5.5477e-01,  2.8325e-01,  5.5901e-01, -3.8944e-01, -4.2003e-01,\n",
              "         -1.2470e-01, -9.5830e-01, -3.4775e-02,  1.0381e+00, -2.2607e-02,\n",
              "          4.7267e-01,  8.1840e-01,  9.0778e-01, -1.9271e-02,  9.3007e-03,\n",
              "         -2.9097e-01,  5.1579e-01,  6.5791e-01,  3.1353e-01,  4.7983e-01,\n",
              "          6.2282e-01,  1.4813e-01, -3.8600e-01,  1.8680e-01, -7.3365e-01,\n",
              "         -5.2868e-01, -3.5756e-01,  1.4778e+00,  1.7065e+00,  5.2843e-01,\n",
              "          4.3788e-01, -6.0783e-01, -2.0891e-01, -2.6378e-01, -3.5563e-01,\n",
              "         -1.9136e-01,  4.4895e-01, -2.1979e-01, -2.2114e-01, -6.3080e-01,\n",
              "         -1.1537e+00,  3.8770e-01, -6.5096e-01, -1.4381e-01, -3.3387e-01,\n",
              "         -4.8165e-01, -2.2851e-01,  4.4550e-01, -1.4106e-01, -1.9820e-01,\n",
              "          1.2682e-01,  5.7340e-01,  5.2960e-01,  3.8535e-01, -1.8421e-01,\n",
              "         -2.7734e-01,  2.1106e-02, -5.1269e-01,  1.2724e-01, -5.2737e-01,\n",
              "          1.9794e-01,  6.6517e-01, -4.9908e-01, -5.2315e-01, -3.3081e-01,\n",
              "         -6.9502e-01, -2.1738e-01, -9.1546e-01,  8.4446e-01, -8.6271e-01,\n",
              "          9.8701e-01, -5.3786e-01,  2.2177e-01, -7.9477e-01,  1.6505e-01,\n",
              "         -3.9847e-01, -2.9883e-01,  2.0877e-01,  2.4684e-01,  1.0068e-01,\n",
              "          1.6014e-01, -1.1922e+00, -1.5679e-01, -2.0235e-03, -5.7467e-01,\n",
              "          4.6138e-03, -2.6884e-01,  4.2084e-01, -7.2791e-03,  3.4696e-01,\n",
              "          5.3609e-01,  2.1878e-01,  3.3520e-01, -2.8570e-01, -5.0958e-01,\n",
              "         -3.9454e-01, -8.9165e-01,  1.2181e+00, -6.8443e-01,  1.9280e-01,\n",
              "         -2.1449e-01,  4.6196e-02,  5.2594e-01, -4.3565e-02,  2.4555e-01,\n",
              "          1.9387e+00,  1.5278e-01,  9.9872e-01,  4.8577e-01, -4.1082e-01,\n",
              "         -8.3016e-01,  2.7045e-01,  4.8655e-01, -2.4722e-01, -1.8512e-01,\n",
              "          2.0524e-01, -6.6171e-02,  2.3728e-01,  1.2404e+00, -2.6077e-01,\n",
              "         -1.6077e-01,  1.3507e-01,  1.1847e-01, -2.9235e-01,  5.5437e-01,\n",
              "         -1.8560e-01,  1.3344e+00, -3.6667e-01, -3.7478e-01, -5.5665e-02,\n",
              "         -3.4930e-01,  8.5271e-01,  1.5741e+00,  6.0562e-01,  4.3780e-01,\n",
              "         -1.0298e+00,  4.0719e-01, -8.2617e-02,  2.7545e-02, -4.9199e-01,\n",
              "          7.3797e-01,  2.4101e-01,  9.6176e-01,  6.4367e-01,  1.1653e-01,\n",
              "          9.4047e-01, -2.6082e-01,  1.0976e+00, -1.1490e-01, -9.5253e-01,\n",
              "          5.8644e-02, -2.3060e-01, -6.7886e-02, -3.0703e+00,  2.4538e-02,\n",
              "          2.7582e-01, -4.3797e-01, -7.8420e-02,  4.2382e-01,  1.0763e+00,\n",
              "          1.8140e-01, -1.0572e+00, -3.9120e-01, -9.3492e-02, -3.7970e-01,\n",
              "          5.3947e-02,  1.1576e+00,  8.4130e-01,  1.8007e-01, -5.2631e-01,\n",
              "         -2.0291e-01, -1.9092e-02,  6.1720e-01,  1.1918e-01, -1.4457e+00,\n",
              "         -2.5592e-01, -1.2389e-01,  2.3928e-01,  1.1959e+00, -5.4284e-01,\n",
              "         -8.6952e-01, -4.8750e-01,  2.3500e-01,  1.3830e-02, -2.6659e-01,\n",
              "          9.7897e-01, -8.5489e-01,  3.1946e-01, -4.9998e-01, -3.2241e-01,\n",
              "         -1.3864e-01,  1.2900e-01, -7.5765e-01, -4.5315e-01,  2.9473e-01,\n",
              "          8.7803e-02, -1.3806e-01,  4.5430e-01,  8.0650e-02, -4.1994e-01,\n",
              "          5.8679e-03, -7.0910e-02,  3.8368e-01, -1.3059e-01,  8.7690e-01,\n",
              "         -6.1343e-01, -6.1015e-01, -7.0236e-01,  3.7512e-01,  3.3982e-01,\n",
              "          8.0856e-01, -1.6385e-01, -1.0569e-01,  6.1967e-01, -5.8364e-02,\n",
              "          2.3294e-01, -2.7713e-01,  5.2177e-01, -1.7158e-01, -1.0602e+00,\n",
              "         -4.3479e-01, -6.6953e-02,  3.6794e-01, -2.3135e-01, -2.0400e-01,\n",
              "         -5.3282e-01, -1.2286e+00, -2.4328e-01, -2.8658e-01,  1.3142e+00,\n",
              "          3.1902e-01, -9.1673e-02, -6.9225e-01, -3.0026e-01, -9.0491e-01,\n",
              "          8.4392e-02,  2.1298e-01,  8.2160e-01, -6.7558e-01, -8.9888e-01,\n",
              "          3.5113e-01, -5.2840e-01, -3.1060e-02, -2.8948e-01,  5.1492e-01,\n",
              "         -2.2329e-02,  1.6455e-01, -1.3406e-01,  7.9522e-01, -1.0633e-01,\n",
              "          4.0473e-01,  3.6492e-01, -6.1566e-01, -5.1250e-01, -5.4742e-01,\n",
              "          3.2135e-02, -4.5447e-02,  5.3155e-02,  7.0305e-01, -1.5488e+00,\n",
              "          6.2800e-01, -4.1181e-01,  3.1977e-01,  3.9906e-01, -1.7447e-01,\n",
              "          1.0357e+00, -5.4064e-01,  2.1086e-01, -5.4963e-01, -3.4768e-02,\n",
              "         -1.6814e-01,  4.8931e-01,  1.6012e-01, -6.6077e-01, -6.7637e-02,\n",
              "          9.2604e-02, -1.1114e+00,  4.6336e-01, -3.5745e-01, -3.2055e-02,\n",
              "          3.4265e-01,  3.5538e-01,  6.7498e-01, -2.0282e-01,  2.1987e-02,\n",
              "         -1.0548e+00,  9.8446e-01, -5.6733e-01,  6.9380e-02, -4.7736e-01,\n",
              "         -9.9546e-01, -3.5254e-02,  4.6173e-01,  7.1046e-01,  3.3707e-01,\n",
              "         -8.1136e-02, -4.8355e-01,  5.4515e-01,  3.7669e-02,  5.2528e-01,\n",
              "          4.1853e-02, -1.2564e+00, -3.2226e-01, -8.2649e-01, -7.5457e-02,\n",
              "         -7.5999e-01, -1.8107e-01,  1.1781e+00,  7.7896e-01,  6.6844e-01,\n",
              "         -7.6050e-01, -4.5029e-01, -5.4186e-01,  2.7288e-03,  2.3229e-01,\n",
              "         -6.9320e-01, -4.4791e-02, -7.4108e-02,  9.3096e-01, -4.1993e-01,\n",
              "         -7.3685e-01,  6.3003e-02,  4.0879e-01, -7.2932e-01, -1.6402e-01,\n",
              "         -2.7400e-01,  7.5049e-01, -6.5255e-01, -4.3226e-01, -6.2632e-02,\n",
              "         -8.2434e-01, -9.1996e-01,  5.1996e-01,  3.3342e-01,  3.0549e-03,\n",
              "         -3.7381e-01,  8.1910e-01, -2.5230e-01, -8.2635e-01,  3.8007e-01,\n",
              "         -1.0642e+00, -7.9937e-01,  1.0933e-01, -2.3652e-01,  4.5540e-01,\n",
              "         -2.9788e-01, -1.5564e+00, -2.3166e-01, -1.1862e+00, -2.9165e-01,\n",
              "         -2.1934e-01,  1.1169e-01,  1.3712e-01, -5.1983e-01, -2.5509e-01,\n",
              "         -4.4754e-01, -4.7948e-01,  4.6833e-01, -1.8625e-01,  6.9716e-01,\n",
              "         -1.1866e-01,  6.1084e-01,  6.3114e-01, -8.4579e-01, -4.6913e-01,\n",
              "          9.2668e-02,  2.9336e-02,  2.5508e-01,  4.5543e-01,  1.8251e-01,\n",
              "         -1.1855e-01, -1.2805e-01,  8.3519e-02,  1.7325e-01,  6.1112e-01,\n",
              "         -3.9921e-01,  1.6798e-01, -8.4275e-02,  3.9789e-01,  9.2255e-01,\n",
              "          7.7275e-02, -4.0163e-01,  3.1146e-01, -3.0563e-01, -5.8679e-01,\n",
              "          4.1130e-01, -4.3300e-01, -1.2496e+00, -8.5653e-01, -2.3101e-01,\n",
              "         -1.2980e+00, -2.7850e-01,  1.3634e-01,  3.4896e-01,  4.5002e-01,\n",
              "         -6.9828e-01,  6.2787e-01, -2.2598e-01, -1.7731e-01, -3.2118e-02,\n",
              "          4.8136e-01,  5.0901e-01,  5.0199e-01,  3.6993e-01, -4.5981e-01,\n",
              "         -6.7486e-02, -8.6722e-01, -5.7723e-01, -3.2765e-01,  7.8836e-01,\n",
              "          4.0974e-01, -1.8077e-01, -8.4644e-01, -2.5588e-01,  1.0655e+00,\n",
              "         -3.7329e-01, -4.9543e-01, -2.4806e-01, -3.7839e-02,  9.1718e-02,\n",
              "         -1.5725e-01,  2.4216e-01,  6.5864e-02,  1.3641e+00, -1.2707e+00,\n",
              "          7.8174e-02, -1.0401e+00, -3.9388e-01, -2.5627e-01, -4.9158e-01,\n",
              "         -4.0819e-01,  7.3981e-01, -4.4651e-01, -3.1208e-01,  6.2193e-01,\n",
              "          1.1230e+00, -4.4226e-02, -1.2044e+00,  2.2500e-01, -9.1115e-02,\n",
              "          3.5365e-01, -3.7870e-01, -1.0870e-01,  3.2082e-01,  1.2314e-01,\n",
              "         -2.1645e-02,  1.1413e+00,  1.3573e-02, -9.9737e-02,  9.3759e-01,\n",
              "          5.0417e-02, -4.9671e-01,  9.0127e-01,  1.4178e-01,  2.0027e-01,\n",
              "          6.3084e-01, -2.0751e-02,  3.0619e-01,  4.5247e-01, -7.6788e-01,\n",
              "         -7.2624e-01, -5.2419e-01,  6.0564e-01, -1.9887e-02, -2.9045e-01,\n",
              "          4.0384e-01,  9.0467e-01, -9.9711e-01,  1.0205e-02,  1.7958e-01,\n",
              "          3.5786e-02, -2.3696e-01,  6.4812e-01,  1.5352e-01,  3.1153e-02,\n",
              "          1.3805e-01, -1.4471e-01, -9.9713e-01,  1.7288e-01,  1.8074e-01,\n",
              "         -2.8294e-02,  7.8877e-01,  3.7700e-01, -7.0563e-02,  1.0712e+00,\n",
              "         -4.2392e-01,  4.1656e-01, -6.8028e-01,  1.6911e-01,  2.6617e-01,\n",
              "         -1.1312e+00,  1.6047e-01, -4.5070e-01,  4.9935e-01,  3.4413e-01,\n",
              "          6.4540e-01, -2.6726e-01,  1.5033e-01,  4.2149e-01,  3.4961e-01,\n",
              "         -1.5505e-01,  1.5471e+00,  7.7871e-01, -2.7912e-01, -4.5703e-01,\n",
              "         -7.9149e-01, -5.7845e-01, -2.4879e-01, -6.0028e-01,  6.9574e-02,\n",
              "         -1.9024e-02,  2.0337e-01,  1.3373e+00,  1.7257e-01, -3.3319e-01,\n",
              "          1.4024e-01, -2.2573e-02, -2.2282e-01,  3.4986e-02, -1.4985e-01,\n",
              "          5.2162e-02,  1.5562e-01, -2.3856e-01, -7.4214e-02, -2.1547e-01,\n",
              "          7.6900e-01,  1.1663e-01,  5.3913e-02, -2.6870e-01, -2.3951e-01,\n",
              "          8.8452e-01,  3.2750e-01, -7.8228e-02,  4.5901e-01, -4.3255e-01,\n",
              "         -4.4316e-01, -3.2504e-01, -1.4550e+00, -8.6594e-02, -7.3577e-02,\n",
              "         -2.0595e-01, -6.1714e-01, -7.1308e-01,  8.2567e-01,  1.6622e-01,\n",
              "         -8.5806e-01, -6.5291e-01, -1.5518e-02, -6.2837e-01,  5.6276e-01,\n",
              "          9.6669e-02,  4.9524e-01,  3.4259e-01, -6.7065e-01, -4.1591e-01,\n",
              "         -3.3399e-01, -7.4808e-01,  3.2285e-01, -5.1326e-02,  4.1144e-01,\n",
              "          2.6481e-01, -9.0313e-01, -4.4464e-01,  6.6254e-02,  4.1635e-01,\n",
              "         -7.5472e-01,  1.2165e+00, -4.2961e-01,  6.3139e-01, -2.1192e-02,\n",
              "         -4.6616e-01, -1.4575e-01, -7.4167e-01, -2.7592e-01, -4.6199e-02,\n",
              "          4.5393e-01,  4.7207e-01, -1.7622e-01, -6.7738e-01,  3.7787e-01,\n",
              "          5.3374e-01,  3.6832e-01,  1.3724e-01, -1.1172e+00, -2.5947e-01,\n",
              "          1.1888e+00, -1.0117e-01, -4.8335e-01,  5.8897e-02,  1.6610e-01,\n",
              "          6.6885e-01, -9.0577e-01, -2.3182e-01,  5.9258e-01,  1.1081e-01,\n",
              "          1.8942e-01,  6.5041e-01,  4.6973e-01, -3.1615e-01, -5.9470e-01,\n",
              "         -5.1061e-01, -9.7604e-01,  6.0229e-01, -6.3250e-01, -4.2595e-01,\n",
              "         -5.7413e-01, -7.1769e-01,  9.2507e-01, -6.2844e-01,  1.8694e-01,\n",
              "          2.0768e-01,  1.1880e-01,  4.1445e-01], device='cuda:0'),\n",
              " tensor([-9.8449e-02,  1.4698e+00,  2.8573e-01, -3.9569e-01,  9.6890e-02,\n",
              "          8.6436e-01, -3.7401e-01,  2.1752e-01, -2.5937e-01, -4.2487e-01,\n",
              "         -6.1410e-02,  3.3272e-01, -1.9102e-01, -2.9803e-02, -1.7782e-01,\n",
              "          7.1223e-01, -3.6092e-01,  4.7531e-01,  1.8901e-01, -1.9464e-01,\n",
              "          5.5041e-01, -2.0075e-01, -4.9742e-01, -1.3700e-02,  6.5577e-02,\n",
              "          2.2761e-01,  7.6017e-01, -7.9264e-02,  2.7941e-01, -5.4700e-02,\n",
              "         -2.6595e-01,  5.5095e-01, -2.1662e-01,  1.4398e-01, -3.8731e-01,\n",
              "         -1.9042e-01,  1.3155e-01,  2.2447e-01,  2.9488e-01,  2.7523e-01,\n",
              "         -2.7458e-01, -5.0480e-01, -3.9631e-01,  3.0837e-01, -6.3027e-01,\n",
              "         -3.5416e-01,  1.1856e+00,  8.9831e-02,  4.4822e-01,  4.0406e-01,\n",
              "         -3.4759e-01,  5.6113e-01,  1.0385e+00,  1.5012e-01,  3.7633e-01,\n",
              "         -3.9084e-01,  1.0627e-01, -5.0344e-02,  2.2779e-01, -5.2758e-01,\n",
              "         -1.9242e-01,  1.8374e-02,  5.2802e-01,  1.6686e-01, -7.3694e-01,\n",
              "          4.7303e-01, -4.7016e-01,  1.6289e-01,  9.7774e-02,  1.2824e-01,\n",
              "         -2.8870e-01, -3.9116e-01, -1.8324e-01,  5.2460e-01, -1.9830e-01,\n",
              "          5.4971e-01,  4.1160e-02, -3.3559e-01,  2.1168e-02, -8.5710e-02,\n",
              "          1.3109e-01, -3.6348e-01,  2.7382e-01,  1.1263e+00, -2.5038e-01,\n",
              "         -6.4161e-01, -3.2357e-01, -1.3938e-01, -1.0110e+00,  7.3331e-01,\n",
              "          1.0102e-01,  1.5387e-01, -2.9724e-01,  2.5424e-01,  3.2296e-01,\n",
              "         -3.5495e-01,  1.2272e-01,  9.6730e-02,  2.1486e-02,  9.1426e-02,\n",
              "         -1.4177e-01,  5.2628e-01,  2.1227e-01, -1.7098e-01, -3.8352e-01,\n",
              "          1.6601e-01,  4.4298e-01,  6.3218e-03, -5.9510e-01,  3.5965e-01,\n",
              "         -7.1792e-01, -3.6388e-01, -7.0435e-02,  1.8896e-01,  5.4331e-03,\n",
              "          1.1766e-02,  1.0752e-01, -5.5095e-01, -6.7836e-02,  3.5240e-01,\n",
              "         -2.6229e-01,  3.7230e-01, -8.1172e-02,  4.8515e-01,  1.0485e-02,\n",
              "         -2.9454e-01, -3.1111e-01, -2.6310e-01,  6.3381e-02, -1.0854e-01,\n",
              "          1.3688e+00,  2.9465e-01,  2.0623e-01,  3.8317e-02,  5.4437e-02,\n",
              "         -1.5726e+00,  3.7239e-01, -6.0964e-01, -8.8024e-01,  2.4682e-01,\n",
              "          6.7070e-01, -5.6562e-01,  2.1737e-01,  8.4505e-02, -2.6882e-01,\n",
              "          1.4112e-01, -8.0701e-01, -1.1845e-01, -3.2562e-01,  7.8287e-01,\n",
              "         -1.8123e-01, -7.1260e-01,  2.0073e-01, -2.2902e-01, -1.7190e-01,\n",
              "          8.2328e-02,  3.2728e-01,  3.3844e-01, -4.3359e-01, -2.0109e-01,\n",
              "          5.2177e-01, -2.1286e-01, -5.4271e-01,  4.2771e-01, -2.8439e-02,\n",
              "          6.8534e-01,  3.0166e-01,  3.3880e-01, -7.2538e-01,  4.7892e-02,\n",
              "         -5.7754e-01,  4.3418e-01,  6.2832e-01,  1.1230e-01,  1.6312e-02,\n",
              "         -3.1558e-01,  3.0021e-01, -3.4793e-01, -4.2287e-01,  8.9215e-02,\n",
              "         -1.7020e-01,  5.5911e-01,  4.3507e-01,  1.0352e+00, -6.0532e-02,\n",
              "          6.4033e-02,  6.3265e-01,  5.8860e-01, -6.2739e-01, -3.6926e-01,\n",
              "         -1.3001e-01,  3.0337e-01, -7.3679e-01, -1.0968e+00, -4.9620e-01,\n",
              "         -2.4885e-02,  6.0554e-02, -2.8982e-01, -5.5470e-01,  9.2083e-02,\n",
              "         -3.5928e-01, -6.8506e-01,  7.0259e-01,  7.4057e-01,  4.1953e-02,\n",
              "         -2.2261e-01,  3.1581e-02, -5.7034e-01, -1.5258e-01, -1.9746e-01,\n",
              "         -5.7486e-01, -6.6855e-01, -5.3475e-01,  2.1482e-01, -8.8653e-01,\n",
              "          9.2318e-02, -2.2077e-02,  9.8558e-01, -8.5093e-01, -1.6057e-02,\n",
              "         -1.1169e-01, -2.8778e-01, -4.2301e-01,  7.7859e-02,  6.9498e-02,\n",
              "          4.2390e-01, -7.0422e-02,  7.7603e-02, -4.0021e-01, -2.4131e-01,\n",
              "          1.3328e-01, -1.1587e-01,  9.0171e-01, -3.4312e-01,  6.0788e-01,\n",
              "          3.1653e-01, -2.4758e-01,  4.5196e-02,  4.9370e-01,  3.8995e-01,\n",
              "         -3.4692e-01,  3.3056e-02,  2.0106e-01,  4.0234e-01,  1.2993e-01,\n",
              "          2.9119e-01,  9.2159e-01, -4.1758e-01,  1.5004e-02,  5.2865e-02,\n",
              "          6.0922e-01,  7.6300e-02,  2.6940e-01, -6.3987e-01,  1.7187e-01,\n",
              "         -1.4997e-01, -2.2630e-01, -5.7578e-01, -5.4688e-02, -1.4096e-01,\n",
              "         -1.8318e-01,  1.6508e-01,  5.1326e-01,  4.4380e-01, -2.8080e-01,\n",
              "         -4.5417e-01, -3.0488e-01,  4.8724e-01, -1.7721e-01, -2.2289e-01,\n",
              "          6.0853e-01, -2.2062e-04,  5.6217e-01,  1.1224e+00, -1.4180e+00,\n",
              "         -3.6117e-01,  1.5190e-01, -1.7284e-01, -1.7632e-02, -2.1651e-01,\n",
              "         -8.6195e-01,  4.2032e-02, -4.6597e-01,  7.2990e-02, -6.2120e-02,\n",
              "         -3.9781e-01,  3.5995e-01, -3.4646e-01, -3.0336e-01, -1.5005e-02,\n",
              "          3.3628e-01,  5.7878e-02, -3.3315e-01,  1.1097e-01,  3.0777e-02,\n",
              "         -7.1115e-01,  3.6039e-01,  1.6007e-01,  3.4098e-01, -5.3309e-01,\n",
              "          5.6319e-01,  2.1157e-01,  2.6252e-01,  4.2321e-01, -5.2220e-01,\n",
              "          2.4814e-01, -3.6991e-01, -5.4816e-01, -5.3290e+00,  1.0130e-01,\n",
              "         -2.4280e-01,  2.6960e-01,  6.2188e-01,  3.4420e-01,  2.2724e-01,\n",
              "          1.2104e-01, -3.0778e-01, -1.3375e-01,  1.2070e-01,  6.9458e-01,\n",
              "         -1.7730e-01,  6.3572e-01,  3.9321e-01,  1.0829e-03, -4.1992e-01,\n",
              "         -3.1437e-01,  4.6219e-01,  3.0782e-01, -2.4236e-01, -6.3911e-01,\n",
              "         -7.2800e-03, -2.1637e-02,  2.9671e-01,  8.6041e-01, -1.6743e-01,\n",
              "         -5.2726e-01, -7.3631e-01, -4.9699e-01, -4.0285e-02, -5.5160e-02,\n",
              "         -2.8419e-01,  3.4066e-01,  1.9508e-01, -3.1847e-01,  1.1065e-01,\n",
              "         -1.3114e+00, -6.5144e-02, -5.2608e-01, -2.2926e-01, -4.9479e-01,\n",
              "         -3.6531e-01, -1.5898e-01,  9.3911e-02,  1.2114e-01, -1.5592e-01,\n",
              "          1.9144e-01, -7.1318e-01, -1.7203e-01, -6.8007e-02,  4.2680e-01,\n",
              "          2.7249e-01, -8.1866e-02, -7.7034e-01,  4.4868e-02,  6.1248e-01,\n",
              "          6.4211e-01, -4.2664e-01, -4.1450e-01, -4.6396e-02, -5.7337e-01,\n",
              "          4.2681e-01, -4.0819e-02,  2.8339e-02, -3.5921e-01, -2.4894e-01,\n",
              "         -4.9875e-02,  5.8249e-01, -1.4033e-02, -3.2829e-01,  1.0102e-01,\n",
              "         -4.5791e-01, -1.0023e+00, -2.6306e-01, -2.5233e-01,  6.0858e-01,\n",
              "          2.0588e-01, -2.5912e-01, -1.0158e-01, -3.4643e-01, -1.6082e-01,\n",
              "         -3.1902e-01,  5.3895e-01,  2.7880e-01, -6.8466e-01, -7.6329e-02,\n",
              "          9.4314e-02,  1.3531e-01, -8.8651e-01, -5.7966e-01, -3.3632e-01,\n",
              "          3.1987e-01, -1.9380e-01,  2.8006e-01,  5.9293e-01,  5.4405e-01,\n",
              "          3.7746e-01,  1.5074e-01,  1.3050e-01,  1.8917e-01, -8.2223e-03,\n",
              "         -3.1581e-01,  3.0006e-01,  2.2615e-01, -4.7198e-01,  2.9255e-01,\n",
              "          3.9098e-01,  7.1997e-01, -6.5656e-01, -5.7877e-02, -7.4665e-01,\n",
              "          4.5998e-01, -1.7215e-01,  3.4801e-01, -3.4560e-01,  3.4529e-01,\n",
              "          4.9162e-01,  3.4105e-01,  5.2297e-01, -5.5147e-01,  2.9069e-02,\n",
              "         -1.3466e+00,  1.6773e-01, -2.8781e-01, -6.5206e-01, -2.8571e-01,\n",
              "          4.4820e-01, -8.2600e-01,  2.7299e-01, -1.6052e-01, -4.9491e-01,\n",
              "         -4.4123e-01, -3.0832e-02,  3.5858e-01, -3.2000e-01, -3.6482e-01,\n",
              "         -4.6250e-01,  6.8682e-01,  6.2212e-01, -6.7616e-01,  4.4652e-01,\n",
              "          6.3600e-02,  5.6310e-01,  9.1847e-01,  4.4499e-01,  4.0972e-01,\n",
              "          6.3158e-01, -4.8508e-01, -4.0152e-01, -5.0366e-01, -4.5478e-02,\n",
              "         -4.5590e-01, -7.5448e-01,  6.8782e-01, -3.8171e-01,  2.5105e-01,\n",
              "          1.3606e-01,  1.9530e-01, -1.6731e-01,  1.8509e-01,  2.4151e-01,\n",
              "         -1.2497e-01,  7.3939e-02,  8.0915e-02,  4.0503e-01, -4.4470e-01,\n",
              "          1.4211e-01, -6.2766e-02, -1.0847e+00,  1.5061e-02,  3.1442e-01,\n",
              "          6.1792e-02, -2.7084e-01, -9.5111e-02,  8.0670e-01,  3.4658e-01,\n",
              "          1.7020e-01, -3.4658e-01,  6.2307e-01, -3.1217e-01,  6.7439e-02,\n",
              "         -4.2302e-01,  6.6040e-01,  2.8155e-01, -3.0294e-02,  1.3720e-01,\n",
              "         -4.0739e-01,  4.6180e-01,  7.8493e-01, -2.0656e-01, -6.3212e-02,\n",
              "         -8.2126e-01,  1.9584e-01, -8.8633e-02, -1.0430e+00,  2.6545e-01,\n",
              "          1.2379e+00,  6.7183e-01, -6.8933e-01,  2.3559e-01,  6.4715e-01,\n",
              "          1.2310e-01, -2.8892e-01,  2.7236e-01, -4.1748e-01,  9.3375e-01,\n",
              "          1.2763e-01, -4.8758e-01,  4.1386e-01, -5.7510e-01,  3.0247e-02,\n",
              "         -5.2484e-01, -3.5384e-01, -4.3309e-01, -5.0379e-01, -1.4411e-01,\n",
              "         -9.1641e-02,  1.3801e-01, -2.2796e-01,  4.0613e-01, -5.3039e-01,\n",
              "          2.8264e-01,  1.4536e-01, -3.8260e-01, -1.0636e-01, -1.9395e-01,\n",
              "          2.4888e-01,  3.9480e-01, -1.9706e-01, -9.8293e-02, -5.3219e-01,\n",
              "          3.9783e-01, -3.8129e-01,  1.8971e-01, -3.3756e-01, -6.2739e-01,\n",
              "         -7.0887e-01,  3.7720e-01,  2.1101e-01, -5.8501e-01, -4.8129e-01,\n",
              "          2.2947e-01, -1.3340e-01,  1.1180e+00,  6.6438e-02,  4.8484e-01,\n",
              "         -2.2995e-01, -3.2569e-01,  4.2933e-02,  3.4589e-01, -2.4830e-01,\n",
              "          1.0948e-01, -1.3069e-01, -5.7944e-01, -1.9196e-01, -7.8060e-02,\n",
              "          1.1934e-01, -2.3422e-01, -2.1563e-01, -3.3932e-01,  8.7396e-02,\n",
              "          2.8107e-01, -4.7970e-01,  2.1479e-01, -1.1446e-01, -5.0093e-01,\n",
              "         -1.2180e-01,  5.6778e-01, -1.7505e-01,  5.0499e-01, -6.7217e-01,\n",
              "          3.6737e-01, -1.8358e-01,  2.3660e-01,  2.9736e-02, -3.5624e-01,\n",
              "         -1.1451e-01,  6.5315e-01, -4.0913e-01, -5.6405e-01,  7.2596e-01,\n",
              "         -2.3398e-01,  1.7279e-01, -4.2138e-01,  1.0075e-01,  1.4012e-01,\n",
              "          1.6682e-01,  2.0844e-01,  7.5970e-02,  2.4352e-01,  1.3455e-01,\n",
              "          1.4141e-01,  1.7959e-01,  1.4143e+00,  1.2107e-01,  3.6410e-01,\n",
              "         -5.9567e-01,  4.5288e-02,  4.0947e-02, -6.3150e-03, -1.5476e-02,\n",
              "         -5.4967e-02,  4.0418e-02,  5.3073e-01,  3.6719e-01,  5.9932e-03,\n",
              "         -6.0457e-01, -4.0461e-02,  3.0526e-01,  2.2857e-01,  3.1699e-01,\n",
              "         -6.1115e-01, -3.5432e-01, -1.7680e-01,  3.0425e-01,  4.4631e-01,\n",
              "         -8.0750e-02,  3.3443e-02, -1.7067e-01,  2.9058e-01,  1.1439e-01,\n",
              "         -1.2962e-02,  2.6377e-01, -2.9394e-01, -2.3483e-01,  2.1922e-01,\n",
              "          7.9876e-01,  9.3168e-01, -1.6078e-01, -6.8043e-02, -2.8835e-01,\n",
              "         -3.7442e-02,  8.7288e-01, -3.0851e-02, -2.6066e-01,  8.7559e-01,\n",
              "          5.2805e-02,  4.2036e-01, -4.4657e-01, -6.0128e-01,  2.4042e-01,\n",
              "          1.0409e+00,  4.5662e-02, -5.9405e-01, -7.7239e-02,  4.4467e-01,\n",
              "          2.8607e-01,  3.1795e-01,  4.0720e-01, -4.4101e-01,  1.0156e-01,\n",
              "          8.4664e-02,  2.2385e-01,  3.2971e-02,  8.5590e-01, -8.3133e-02,\n",
              "          2.4421e-01, -2.5320e-01,  3.0961e-01,  3.2430e-01,  7.6288e-01,\n",
              "         -4.1389e-01, -7.4261e-01, -1.0888e-01,  3.0744e-02, -8.4961e-02,\n",
              "         -3.3006e-01, -9.4410e-02, -1.7684e-01,  9.1215e-02,  3.9247e-01,\n",
              "         -1.6165e-01, -2.5071e-01,  3.2119e-01, -5.8943e-01,  5.3371e-01,\n",
              "         -3.9494e-01,  4.5296e-01, -3.2192e-02,  2.9046e-02,  9.0094e-02,\n",
              "          8.0394e-02, -3.8424e-01, -2.4358e-01, -5.8893e-01, -1.6014e-01,\n",
              "         -5.0848e-01, -2.1314e-02, -5.0818e-01, -9.5969e-02,  4.0968e-01,\n",
              "          3.0001e-01, -5.3867e-01,  2.3648e-01, -5.9909e-01,  1.8138e-01,\n",
              "          5.6676e-01,  3.3343e-01,  3.6125e-02, -7.1760e-01, -2.8207e-01,\n",
              "         -1.7438e-01, -9.5262e-02,  2.1486e-01, -5.2020e-02, -1.4042e-04,\n",
              "         -1.5751e-01, -6.5503e-02,  3.1234e-01, -1.2235e-01, -1.2310e-01,\n",
              "         -2.6430e-01,  6.9013e-01, -8.8553e-01,  1.4780e-01, -4.3434e-01,\n",
              "          9.2152e-03, -5.1354e-01, -4.0582e-01,  4.0951e-02, -9.0218e-01,\n",
              "          1.7678e-01,  8.2160e-01,  9.0611e-02,  1.0791e-01, -5.0325e-01,\n",
              "          5.2987e-01, -4.0699e-01,  1.9170e-01, -2.1431e-01,  4.5255e-01,\n",
              "          5.6901e-01,  2.7348e-01, -4.4278e-01,  1.8978e-01,  1.3639e-03,\n",
              "          2.6983e-01,  6.8033e-01, -4.7854e-01,  8.3501e-01,  5.7284e-01,\n",
              "          5.5622e-01, -3.8540e-01, -1.7700e-02,  3.0426e-01,  2.9132e-01,\n",
              "         -2.5081e-01, -5.4555e-01,  4.0296e-02, -3.4137e-01,  4.2379e-01,\n",
              "         -5.2939e-01,  1.7819e-01, -1.2489e-02,  5.5839e-01,  1.0675e-01,\n",
              "          3.1746e-01, -2.8264e-01, -2.1325e-01], device='cuda:0'))"
            ]
          },
          "metadata": {},
          "execution_count": 127
        }
      ],
      "source": [
        "bert_watch1 = embed1[31]\n",
        "bert_watch2 = embed2[13]\n",
        "bert_watch1, bert_watch2"
      ]
    },
    {
      "cell_type": "code",
      "execution_count": 128,
      "metadata": {
        "colab": {
          "base_uri": "https://localhost:8080/"
        },
        "id": "qvTJj1vcPIpg",
        "outputId": "b2b41acb-4893-4512-a3f1-236c8fbd4112"
      },
      "outputs": [
        {
          "output_type": "execute_result",
          "data": {
            "text/plain": [
              "tensor(0.3504, device='cuda:0')"
            ]
          },
          "metadata": {},
          "execution_count": 128
        }
      ],
      "source": [
        "similarity = nn.CosineSimilarity(dim=0, eps=1e-6)\n",
        "similarity(bert_watch1, bert_watch2)"
      ]
    },
    {
      "cell_type": "markdown",
      "metadata": {
        "id": "qt9Wl8aIPIpg"
      },
      "source": [
        "## Document Embeddings"
      ]
    },
    {
      "cell_type": "code",
      "execution_count": 129,
      "metadata": {
        "id": "JgU-haTVPIpg"
      },
      "outputs": [],
      "source": [
        "documents = [Sentence(watch1), Sentence(watch2)]"
      ]
    },
    {
      "cell_type": "code",
      "execution_count": 130,
      "metadata": {
        "colab": {
          "base_uri": "https://localhost:8080/"
        },
        "id": "eLbRmOR_PIpg",
        "outputId": "77f41acb-6f6b-4019-bd81-2331b194724e"
      },
      "outputs": [
        {
          "output_type": "execute_result",
          "data": {
            "text/plain": [
              "[Sentence[58]: \" The Hatter was the first to break the silence. `What day of the month is it?' he said, turning to Alice:  he had taken his watch out of his pocket, and was looking at it uneasily, shaking it every now and then, and holding it to his ear.\",\n",
              " Sentence[48]: \" Alice thought this a very curious thing, and she went nearer to watch them, and just as she came up to them she heard one of them say, `Look out now, Five!  Don't go splashing paint over me like that!\"]"
            ]
          },
          "metadata": {},
          "execution_count": 130
        }
      ],
      "source": [
        "from flair.embeddings import TransformerDocumentEmbeddings\n",
        "bert_doc = TransformerDocumentEmbeddings('bert-base-uncased')\n",
        "bert_doc.embed(documents)"
      ]
    },
    {
      "cell_type": "code",
      "execution_count": 131,
      "metadata": {
        "colab": {
          "base_uri": "https://localhost:8080/"
        },
        "id": "UB6GBlxYPIpg",
        "outputId": "eaafaee2-34c1-4a22-b74c-a811d6c097e2"
      },
      "outputs": [
        {
          "output_type": "execute_result",
          "data": {
            "text/plain": [
              "tensor([-6.4245e-02,  3.5365e-01, -2.4962e-01, -5.3912e-01, -1.9917e-01,\n",
              "        -2.7712e-01,  1.6942e-01,  1.0867e-01, -4.0799e-01, -1.4945e-01,\n",
              "         4.4678e-02, -1.9687e-01, -3.0574e-01,  9.6215e-02,  2.8053e-01,\n",
              "         9.0462e-01, -3.0250e-01,  1.7854e-01, -1.6856e-01, -1.7227e-01,\n",
              "        -1.8270e-01,  4.5121e-01,  3.6129e-01,  1.2309e-01, -1.2047e-02,\n",
              "        -5.0255e-01,  4.2645e-01, -3.7184e-02, -1.7052e-01, -4.8920e-02,\n",
              "         1.0503e-01,  3.3456e-01, -3.8483e-02, -4.7287e-01, -7.4431e-02,\n",
              "         2.3990e-01, -8.3232e-02,  1.7974e-01,  4.8939e-01,  9.3026e-03,\n",
              "        -4.2722e-01,  2.6337e-01, -1.3217e-01, -1.3950e-01, -1.1859e-01,\n",
              "         4.5835e-02, -3.9031e+00, -1.0726e-01,  5.1103e-02, -9.9710e-02,\n",
              "         1.5913e-01, -9.5331e-02,  2.1513e-01,  4.7707e-01,  2.1226e-01,\n",
              "         4.3450e-01, -4.5154e-01,  1.8344e-01, -1.0171e-01, -3.6373e-01,\n",
              "         8.9560e-01,  3.5931e-01, -2.8519e-01,  2.9427e-02,  3.3968e-01,\n",
              "         4.1062e-01, -2.1051e-02,  2.7801e-02,  2.8888e-01,  4.5761e-01,\n",
              "        -3.8254e-01, -1.9211e-01, -2.6551e-01,  1.7064e-01, -2.0920e-01,\n",
              "        -3.3608e-01, -1.0044e-01, -2.9611e-01, -5.6573e-01,  4.3841e-01,\n",
              "        -8.9239e-02, -1.4645e-02,  2.2009e-01,  2.5755e-01, -2.6711e-01,\n",
              "        -1.4440e-01, -2.8944e-01,  2.2547e-01,  6.0303e-01,  1.0250e-01,\n",
              "        -2.0606e-01, -1.5392e-01, -3.2987e-03,  7.7605e-02,  1.8428e-01,\n",
              "         1.6114e-01,  2.5668e-01, -8.3616e-02,  2.7078e-01, -5.4946e-02,\n",
              "         4.9633e-01, -2.7734e-01,  4.1486e-01, -5.3346e-01, -7.8131e-01,\n",
              "         1.7047e-01,  2.8687e-01,  4.9673e-02,  4.6922e-01, -1.6500e+00,\n",
              "         4.6991e-01, -1.5328e-01,  2.7729e-01, -1.0157e+00,  1.5022e-01,\n",
              "        -1.7466e-01,  4.1232e-02, -4.4218e-01, -5.0299e-01,  1.1937e-01,\n",
              "         1.8505e-01,  1.7673e-01,  2.1935e-01, -1.3052e+00, -3.4139e-01,\n",
              "        -3.8845e-02, -2.4191e-01,  2.5905e-01,  1.2551e-01, -1.7338e-02,\n",
              "         4.4672e-01,  3.3219e-01, -2.1076e-01, -2.6042e-01,  2.1485e-01,\n",
              "         1.6804e-01, -1.6398e-01,  1.1147e-01, -1.4731e-01,  1.0370e-01,\n",
              "        -2.0025e-01, -1.7985e-01, -2.5822e+00, -9.3411e-02,  5.8352e-01,\n",
              "         4.2851e-01,  1.3719e-01, -4.4423e-01, -2.4915e-03,  6.3892e-01,\n",
              "         4.1029e-01, -3.2187e-01,  5.8879e-02, -2.1344e-01, -4.0472e-02,\n",
              "        -4.0414e-01,  3.8056e-01,  1.7888e-01, -4.1893e-01,  1.6880e-01,\n",
              "        -4.6562e-02, -3.3560e-01,  1.3598e-02,  2.4541e-01, -1.9910e-01,\n",
              "         5.3978e-01,  5.7400e-01,  5.7995e-01, -3.8400e-02, -4.4134e-02,\n",
              "         3.8312e-01, -1.6357e-02,  7.0812e-01, -1.6653e-01, -4.0108e-01,\n",
              "         8.2582e-02,  4.2481e-01, -1.2611e-01,  4.2772e-01, -7.9697e-02,\n",
              "        -7.4779e-01,  7.4372e-02,  2.0130e-01,  8.0436e-01,  8.2707e-01,\n",
              "         3.8594e-01, -2.6690e-02, -2.8838e-01,  2.1367e-01,  2.3883e-01,\n",
              "         1.4772e-01, -1.7737e-01, -1.6458e-01, -4.7632e-01, -9.9866e-02,\n",
              "        -7.7609e-02,  3.6381e-01, -5.1024e-01, -3.6723e-01, -2.4667e-01,\n",
              "        -2.0106e-01,  1.8970e-01,  1.2936e-01, -7.0922e-01,  1.8065e-01,\n",
              "         4.2441e+00,  3.2519e-01, -3.5622e-01,  7.9891e-02,  4.0457e-01,\n",
              "        -5.2027e-01, -4.0209e-01,  1.1543e-01,  5.4013e-01, -8.5186e-01,\n",
              "         5.7481e-01,  3.0116e-01,  3.0603e-01,  3.0003e-02, -3.7785e-01,\n",
              "        -2.3895e-01,  1.0855e-01, -7.3348e-02, -2.2568e-02, -1.8636e-01,\n",
              "         5.5137e-01, -2.5551e-01,  5.6108e-01,  8.9961e-02, -1.4174e+00,\n",
              "         1.9548e-01,  1.8128e-01,  5.7270e-01,  3.7286e-01,  2.1192e-02,\n",
              "         2.0576e-01, -2.7981e-01, -4.0403e-02, -5.4554e-02, -2.4785e-01,\n",
              "        -2.4466e-01, -4.0418e-03,  8.9291e-02,  5.5506e-01, -1.7438e-01,\n",
              "         4.4969e-01,  3.9400e-01, -5.3704e-01,  6.6374e-01,  3.8592e-01,\n",
              "         6.9357e-01,  6.0498e-01, -2.1726e-01, -1.0124e-01, -2.2627e-01,\n",
              "         5.7905e-01,  4.2297e-01, -1.2389e-01,  2.0031e-01,  4.5129e-01,\n",
              "         1.7262e-01,  1.0963e-02,  3.6436e-01,  5.7858e-01, -5.3210e-01,\n",
              "        -1.4753e-02,  6.1678e-01, -3.0254e-01, -3.7331e-01,  4.2933e-02,\n",
              "        -2.8411e-01,  2.5481e-01, -3.1135e-01, -2.4889e+00,  1.2208e-01,\n",
              "        -8.3915e-02, -1.0063e-01,  1.6028e-01,  9.8308e-02, -1.5816e-01,\n",
              "        -3.4995e-02, -1.4911e-01, -8.0463e-01,  5.4030e-01,  7.1562e-02,\n",
              "         1.7398e-01,  1.4491e-01, -7.0773e-01,  3.9191e-01,  1.0117e-01,\n",
              "        -2.8370e-01,  2.8936e-01,  1.5133e-01,  5.0763e-02, -2.4023e-01,\n",
              "         4.4110e-01, -3.9492e-02,  2.6435e-01,  3.1356e-01, -1.8297e-01,\n",
              "        -2.4273e-01, -1.7542e-01,  1.4501e-01,  3.0055e-01, -2.8845e-01,\n",
              "        -1.5901e-01,  1.7493e-01, -2.9559e-01, -3.4490e+00,  1.3099e-01,\n",
              "        -3.8233e-01, -1.0336e-01,  6.8291e-01,  6.9417e-01,  6.1574e-01,\n",
              "        -8.2423e-02, -1.2499e-01, -1.2243e-01,  2.8974e-01, -4.1564e-01,\n",
              "         6.8800e-02,  6.7222e-01,  5.1716e-01, -3.0253e-02,  3.6390e-01,\n",
              "        -5.9201e-01,  2.2436e-01, -2.7201e-01, -8.8383e-02, -5.5831e-01,\n",
              "         1.0460e-01, -3.3686e-01,  4.6233e-01,  6.3347e-01, -5.7720e-01,\n",
              "        -4.1045e-01, -6.3033e-02, -2.6181e-01,  2.5220e-01, -5.7010e-01,\n",
              "        -4.4242e-02, -2.5707e-03, -2.6010e-01, -2.0902e-01,  2.1671e-01,\n",
              "        -1.5338e-01,  2.3135e-02,  8.3759e-02,  2.4785e-01,  8.1829e-01,\n",
              "         4.6562e-01,  1.6161e-01,  1.5305e-01, -2.2000e-01, -2.5913e-01,\n",
              "        -3.0355e-01,  2.0841e-01, -8.6140e-02, -1.0182e-01,  7.8481e-01,\n",
              "         1.0315e+00, -5.8092e-01, -2.5592e-01,  1.4235e-01,  2.2627e-01,\n",
              "        -3.8135e-01, -1.7177e-01,  6.8986e-01,  9.5218e-01, -4.2518e-01,\n",
              "         2.9856e-01, -7.7871e-01,  4.6342e-01,  3.8082e-01,  3.3461e-01,\n",
              "        -3.6359e-01,  1.3449e-01,  6.0971e-02, -6.3682e-01,  6.5791e-01,\n",
              "        -3.4900e-01, -1.6919e+00, -1.1290e-01, -8.9324e-03,  7.0164e-01,\n",
              "        -2.4298e-01, -5.0133e-01, -9.4679e-02,  9.2998e-02, -6.9514e-01,\n",
              "         1.6732e-01,  1.0738e-01, -3.5135e-01, -4.1886e-01, -5.6835e-02,\n",
              "         1.8975e-01, -6.7744e-01, -5.0675e-02, -2.8237e-01, -9.4651e-02,\n",
              "         2.3333e-01,  2.1024e-01, -1.3943e-01,  4.7849e-01, -3.5598e-02,\n",
              "        -5.0288e-02,  2.2644e-01,  1.7870e-01, -8.6450e-02, -4.6139e-01,\n",
              "        -9.7895e-02,  9.5692e-03, -6.0332e-01, -1.0339e-01, -6.9934e-01,\n",
              "         8.6564e-01,  2.4269e-01,  1.2407e-01, -4.4824e-01,  6.2005e-02,\n",
              "         1.1447e-01, -4.3741e-02,  1.5308e+00, -4.7716e-01,  4.9675e-01,\n",
              "         8.2663e-01,  4.4054e-01, -8.6615e-02,  2.1151e-01, -1.6980e-02,\n",
              "         3.6449e-02,  5.2057e-02, -4.3879e-01, -2.0526e-01, -1.0826e-01,\n",
              "        -2.0654e-01,  5.4324e-02, -2.3006e-01, -2.3910e-01,  3.5886e-01,\n",
              "        -3.6865e-01, -4.1345e-01,  3.2852e-01, -2.1309e-01, -7.7967e-01,\n",
              "        -4.0635e-01,  4.1312e-01,  4.5644e-01,  5.6297e-01, -4.0113e-02,\n",
              "        -7.8324e-02,  3.5196e-01, -4.0508e-01,  4.9119e-01,  2.8871e-01,\n",
              "         1.2004e-02,  2.1122e-02,  5.8201e-01,  7.2554e-02, -1.2406e-01,\n",
              "        -2.2747e-01, -3.6875e-01,  1.2822e-01, -1.3219e-02, -2.5432e-01,\n",
              "        -5.4382e-01, -1.6104e-01, -4.9271e-01, -2.7153e-05, -1.6866e-01,\n",
              "        -2.0367e+00, -1.8150e-01,  7.2432e-01,  2.6644e-01,  2.3441e-01,\n",
              "         1.3906e-01, -7.0422e-03,  4.3320e-01, -3.9089e-01,  3.8913e-01,\n",
              "        -1.3505e-01,  1.8608e-01, -2.7714e-01,  7.7001e-02, -3.5178e-01,\n",
              "         3.1395e-01, -6.1126e-01, -1.9384e-01,  3.4077e-02,  7.6535e-02,\n",
              "        -6.3849e-01,  9.1558e-02,  6.1446e-01, -9.3747e-02,  2.7309e-02,\n",
              "        -2.9999e-01,  8.1415e-02,  2.3125e-01,  4.6290e-02,  1.2134e-01,\n",
              "         1.3592e-01, -5.6097e-01, -2.1794e-01, -6.8162e-01,  6.4019e-01,\n",
              "        -1.8568e-01, -1.6626e-01,  3.4131e-01,  1.8143e-01,  1.4511e-01,\n",
              "         4.1716e-02,  3.5290e-01,  2.6542e-01, -3.3044e-01,  6.5737e-01,\n",
              "        -4.8462e-01, -4.2369e-01,  5.4556e-01, -4.1632e-01, -7.4869e-02,\n",
              "        -2.7194e-01, -5.6729e-02, -1.9846e-01, -2.5328e-01, -8.4373e-01,\n",
              "        -2.5077e-01, -7.6245e-02,  1.3954e-01, -7.3810e-01, -7.1694e-02,\n",
              "         3.7180e-01, -6.6641e-01, -7.3948e-02,  1.0740e-02,  6.6874e-02,\n",
              "        -5.4790e-01, -2.3494e-01, -5.4339e-02, -2.7594e-01,  2.3641e-01,\n",
              "         9.0829e-02, -2.4923e-02, -6.5618e-01, -1.5407e-01,  6.5148e-03,\n",
              "        -1.8896e-01, -4.8536e-01,  4.1967e-01,  4.9990e-01, -2.3470e-01,\n",
              "         2.3999e-01,  2.2489e-02,  7.1899e-02,  3.7770e-01,  2.2666e-01,\n",
              "        -4.6463e-02,  7.9462e-02, -1.3600e-01,  2.6624e-01, -1.0557e-01,\n",
              "        -5.1542e-01, -2.1026e-01, -3.6529e-01,  3.7681e-01,  4.2558e-01,\n",
              "        -2.0674e-01,  1.7708e-01, -9.5000e-01,  3.5931e-01, -6.9485e-01,\n",
              "         2.6662e-01, -3.8393e-01, -1.4876e-01,  3.5606e-01, -1.9180e-01,\n",
              "         5.2490e-02,  6.9162e-01,  1.2743e-01, -2.9465e-01, -6.5748e-01,\n",
              "        -1.3319e-01, -1.6700e-01,  3.4043e-01,  1.0655e-01,  1.4711e-01,\n",
              "        -5.7975e-01, -1.9442e-01, -5.5820e-01,  1.5113e+00,  2.5854e-01,\n",
              "        -7.7182e-02,  1.9113e-01, -2.0155e-01,  5.2039e-02, -6.6809e-02,\n",
              "         7.7022e-01,  4.3338e-01,  2.1713e-01, -1.9559e-01,  1.1622e-01,\n",
              "         6.9701e-02,  1.9887e-01,  4.4560e-01, -2.0377e-01,  9.3891e-02,\n",
              "        -3.8858e-01, -1.0287e+00, -8.7257e-02,  3.0796e-01,  1.1579e-01,\n",
              "         2.2186e-01,  2.4396e-02, -2.2758e-01,  7.7906e-01,  8.9298e-02,\n",
              "        -5.7492e-01, -2.8990e-01,  5.5056e-01, -3.1180e-01,  5.1760e-01,\n",
              "        -2.1881e-01,  3.5772e-01, -9.8653e-01,  3.4400e-02, -1.5934e-01,\n",
              "        -2.6761e-01,  4.0133e-02,  7.4575e-02,  3.0935e-01,  2.3991e-02,\n",
              "        -2.4070e-01,  1.9046e-01, -3.6814e-01,  3.0127e-01,  1.0484e-01,\n",
              "         3.0938e-02,  3.2499e-01,  4.0934e-01, -1.7192e-01,  5.4189e-01,\n",
              "         3.5965e-01,  1.4977e-01, -2.0299e-01,  2.5858e-02, -2.3124e-01,\n",
              "        -5.2681e-01, -5.0653e-02, -4.0077e-01,  3.5185e-02,  6.1388e-01,\n",
              "         1.7713e-01, -5.8146e-01,  1.2276e-01,  2.9924e-02, -5.3960e-02,\n",
              "        -4.8978e-01,  8.5425e-02, -1.6308e-01,  2.2881e-02,  2.6261e-01,\n",
              "         2.0515e-01,  3.4557e-01,  2.7707e-01,  3.1900e-01,  6.0790e-01,\n",
              "        -5.5657e-01, -4.6023e-01, -1.5954e+00,  1.5275e-01,  3.5691e-01,\n",
              "         4.9637e-01, -1.7432e-01,  1.8391e-01,  5.2575e-01,  1.6172e-01,\n",
              "        -1.6158e-01,  1.2285e-01,  1.7329e-01,  1.0693e+00,  4.1782e-01,\n",
              "         2.6315e-01, -2.6413e-02, -3.4535e-01,  3.1312e-01,  3.1309e-03,\n",
              "        -1.3553e-01,  9.2502e-02,  1.8213e-01,  1.0432e-01, -5.5065e-02,\n",
              "        -5.2151e-01, -5.9766e-01, -3.0186e-01,  1.1254e-02,  6.2411e-01,\n",
              "        -2.4277e-01,  2.0318e-01, -1.6011e-01,  8.6397e-01, -2.2691e-02,\n",
              "        -4.4046e-01, -6.2857e-02, -3.9069e-01,  1.0784e-01,  1.1981e-01,\n",
              "         4.9630e-01, -3.8379e-03, -4.2250e-01,  1.0451e+00, -2.6349e-01,\n",
              "        -1.4386e-01,  2.8545e-01,  2.6442e-01,  5.0848e-01, -3.4545e-01,\n",
              "         2.0938e-01,  3.9765e-01, -2.8668e-01, -2.9289e-01,  1.0622e-01,\n",
              "         1.2800e-01,  4.2874e-01, -7.5396e-02,  2.4798e-01,  8.1016e-02,\n",
              "        -2.1906e-02, -2.7718e-01, -7.3759e-02, -5.9759e-02, -1.1127e-01,\n",
              "        -1.2804e-01,  2.8441e-01, -1.5104e-01, -2.0100e-01,  7.6934e-01,\n",
              "         3.0968e-01, -5.9233e-01, -3.4167e-01, -1.5913e-01, -5.3265e-02,\n",
              "         2.1583e-01, -3.5234e-01, -1.2197e-01,  3.0294e-01,  7.3882e-01,\n",
              "         1.3297e-01, -3.4018e-01, -8.1062e-02, -2.5973e-01,  1.7507e-01,\n",
              "         2.3974e-02,  4.1746e-01, -6.2069e+00,  1.1619e-01, -5.7523e-01,\n",
              "        -2.6148e-01, -3.7661e-01, -2.8330e-01,  1.3297e-01,  3.6957e-01,\n",
              "         7.4661e-02, -3.4777e-01,  1.5740e-01,  3.4407e-01, -5.0272e-01,\n",
              "         1.7432e-01,  7.9398e-01,  7.3562e-01], device='cuda:0')"
            ]
          },
          "metadata": {},
          "execution_count": 131
        }
      ],
      "source": [
        "documents[0].embedding"
      ]
    },
    {
      "cell_type": "code",
      "execution_count": 132,
      "metadata": {
        "colab": {
          "base_uri": "https://localhost:8080/"
        },
        "id": "zX4ZkKaPPIph",
        "outputId": "5f5635b7-693d-4653-ae46-67b00d6557b6"
      },
      "outputs": [
        {
          "output_type": "execute_result",
          "data": {
            "text/plain": [
              "tensor([], device='cuda:0')"
            ]
          },
          "metadata": {},
          "execution_count": 132
        }
      ],
      "source": [
        "documents[0].tokens[31].embedding"
      ]
    },
    {
      "cell_type": "code",
      "execution_count": 133,
      "metadata": {
        "id": "w8XT_0ahPIph"
      },
      "outputs": [],
      "source": [
        "def get_embeddings(embeddings, sentence):\n",
        "    sent = Sentence(sentence)\n",
        "    embeddings.embed(sent)\n",
        "    if len(sent.embedding):\n",
        "        return sent.embedding.float()\n",
        "    else:\n",
        "        return torch.stack([token.embedding for token in sent.tokens]).float()"
      ]
    },
    {
      "cell_type": "code",
      "execution_count": 134,
      "metadata": {
        "colab": {
          "base_uri": "https://localhost:8080/"
        },
        "id": "2yt6esWrPIph",
        "outputId": "8e8255f1-be1b-48eb-e0be-90f50beaae9e"
      },
      "outputs": [
        {
          "output_type": "execute_result",
          "data": {
            "text/plain": [
              "tensor([-6.4245e-02,  3.5365e-01, -2.4962e-01, -5.3912e-01, -1.9917e-01,\n",
              "        -2.7712e-01,  1.6942e-01,  1.0867e-01, -4.0799e-01, -1.4945e-01,\n",
              "         4.4679e-02, -1.9687e-01, -3.0574e-01,  9.6215e-02,  2.8053e-01,\n",
              "         9.0462e-01, -3.0250e-01,  1.7854e-01, -1.6856e-01, -1.7227e-01,\n",
              "        -1.8270e-01,  4.5121e-01,  3.6128e-01,  1.2309e-01, -1.2047e-02,\n",
              "        -5.0255e-01,  4.2645e-01, -3.7184e-02, -1.7052e-01, -4.8920e-02,\n",
              "         1.0503e-01,  3.3456e-01, -3.8483e-02, -4.7287e-01, -7.4431e-02,\n",
              "         2.3990e-01, -8.3232e-02,  1.7974e-01,  4.8939e-01,  9.3027e-03,\n",
              "        -4.2722e-01,  2.6337e-01, -1.3217e-01, -1.3950e-01, -1.1859e-01,\n",
              "         4.5834e-02, -3.9031e+00, -1.0726e-01,  5.1103e-02, -9.9710e-02,\n",
              "         1.5913e-01, -9.5331e-02,  2.1513e-01,  4.7707e-01,  2.1226e-01,\n",
              "         4.3450e-01, -4.5154e-01,  1.8344e-01, -1.0171e-01, -3.6373e-01,\n",
              "         8.9560e-01,  3.5931e-01, -2.8519e-01,  2.9427e-02,  3.3968e-01,\n",
              "         4.1062e-01, -2.1051e-02,  2.7801e-02,  2.8888e-01,  4.5761e-01,\n",
              "        -3.8254e-01, -1.9211e-01, -2.6551e-01,  1.7064e-01, -2.0920e-01,\n",
              "        -3.3608e-01, -1.0044e-01, -2.9611e-01, -5.6573e-01,  4.3841e-01,\n",
              "        -8.9239e-02, -1.4645e-02,  2.2009e-01,  2.5755e-01, -2.6711e-01,\n",
              "        -1.4440e-01, -2.8944e-01,  2.2546e-01,  6.0303e-01,  1.0250e-01,\n",
              "        -2.0606e-01, -1.5392e-01, -3.2986e-03,  7.7604e-02,  1.8428e-01,\n",
              "         1.6114e-01,  2.5668e-01, -8.3616e-02,  2.7078e-01, -5.4946e-02,\n",
              "         4.9633e-01, -2.7734e-01,  4.1486e-01, -5.3346e-01, -7.8131e-01,\n",
              "         1.7047e-01,  2.8687e-01,  4.9674e-02,  4.6922e-01, -1.6500e+00,\n",
              "         4.6991e-01, -1.5328e-01,  2.7729e-01, -1.0157e+00,  1.5022e-01,\n",
              "        -1.7466e-01,  4.1232e-02, -4.4218e-01, -5.0299e-01,  1.1937e-01,\n",
              "         1.8505e-01,  1.7673e-01,  2.1935e-01, -1.3052e+00, -3.4139e-01,\n",
              "        -3.8845e-02, -2.4191e-01,  2.5906e-01,  1.2551e-01, -1.7338e-02,\n",
              "         4.4672e-01,  3.3219e-01, -2.1076e-01, -2.6042e-01,  2.1485e-01,\n",
              "         1.6804e-01, -1.6398e-01,  1.1147e-01, -1.4731e-01,  1.0370e-01,\n",
              "        -2.0025e-01, -1.7985e-01, -2.5822e+00, -9.3411e-02,  5.8352e-01,\n",
              "         4.2851e-01,  1.3719e-01, -4.4423e-01, -2.4913e-03,  6.3892e-01,\n",
              "         4.1029e-01, -3.2187e-01,  5.8879e-02, -2.1344e-01, -4.0472e-02,\n",
              "        -4.0414e-01,  3.8056e-01,  1.7888e-01, -4.1893e-01,  1.6880e-01,\n",
              "        -4.6562e-02, -3.3560e-01,  1.3598e-02,  2.4541e-01, -1.9910e-01,\n",
              "         5.3978e-01,  5.7400e-01,  5.7995e-01, -3.8400e-02, -4.4135e-02,\n",
              "         3.8312e-01, -1.6357e-02,  7.0812e-01, -1.6653e-01, -4.0108e-01,\n",
              "         8.2581e-02,  4.2481e-01, -1.2611e-01,  4.2772e-01, -7.9696e-02,\n",
              "        -7.4779e-01,  7.4372e-02,  2.0130e-01,  8.0436e-01,  8.2707e-01,\n",
              "         3.8594e-01, -2.6690e-02, -2.8838e-01,  2.1367e-01,  2.3883e-01,\n",
              "         1.4773e-01, -1.7737e-01, -1.6458e-01, -4.7632e-01, -9.9866e-02,\n",
              "        -7.7609e-02,  3.6381e-01, -5.1024e-01, -3.6723e-01, -2.4667e-01,\n",
              "        -2.0106e-01,  1.8970e-01,  1.2936e-01, -7.0922e-01,  1.8065e-01,\n",
              "         4.2441e+00,  3.2519e-01, -3.5622e-01,  7.9890e-02,  4.0457e-01,\n",
              "        -5.2027e-01, -4.0209e-01,  1.1543e-01,  5.4013e-01, -8.5187e-01,\n",
              "         5.7481e-01,  3.0116e-01,  3.0603e-01,  3.0002e-02, -3.7785e-01,\n",
              "        -2.3895e-01,  1.0855e-01, -7.3348e-02, -2.2569e-02, -1.8636e-01,\n",
              "         5.5137e-01, -2.5551e-01,  5.6109e-01,  8.9961e-02, -1.4174e+00,\n",
              "         1.9548e-01,  1.8128e-01,  5.7270e-01,  3.7286e-01,  2.1192e-02,\n",
              "         2.0576e-01, -2.7981e-01, -4.0403e-02, -5.4554e-02, -2.4785e-01,\n",
              "        -2.4466e-01, -4.0415e-03,  8.9292e-02,  5.5506e-01, -1.7438e-01,\n",
              "         4.4969e-01,  3.9400e-01, -5.3704e-01,  6.6374e-01,  3.8592e-01,\n",
              "         6.9357e-01,  6.0498e-01, -2.1726e-01, -1.0124e-01, -2.2627e-01,\n",
              "         5.7905e-01,  4.2297e-01, -1.2389e-01,  2.0031e-01,  4.5129e-01,\n",
              "         1.7262e-01,  1.0963e-02,  3.6436e-01,  5.7858e-01, -5.3210e-01,\n",
              "        -1.4754e-02,  6.1678e-01, -3.0254e-01, -3.7331e-01,  4.2933e-02,\n",
              "        -2.8411e-01,  2.5481e-01, -3.1135e-01, -2.4889e+00,  1.2208e-01,\n",
              "        -8.3916e-02, -1.0063e-01,  1.6028e-01,  9.8307e-02, -1.5816e-01,\n",
              "        -3.4994e-02, -1.4911e-01, -8.0463e-01,  5.4030e-01,  7.1562e-02,\n",
              "         1.7398e-01,  1.4491e-01, -7.0773e-01,  3.9191e-01,  1.0117e-01,\n",
              "        -2.8370e-01,  2.8936e-01,  1.5133e-01,  5.0763e-02, -2.4023e-01,\n",
              "         4.4110e-01, -3.9492e-02,  2.6435e-01,  3.1356e-01, -1.8297e-01,\n",
              "        -2.4273e-01, -1.7542e-01,  1.4501e-01,  3.0055e-01, -2.8845e-01,\n",
              "        -1.5901e-01,  1.7493e-01, -2.9559e-01, -3.4490e+00,  1.3099e-01,\n",
              "        -3.8233e-01, -1.0336e-01,  6.8291e-01,  6.9417e-01,  6.1574e-01,\n",
              "        -8.2423e-02, -1.2499e-01, -1.2243e-01,  2.8974e-01, -4.1564e-01,\n",
              "         6.8800e-02,  6.7222e-01,  5.1716e-01, -3.0253e-02,  3.6390e-01,\n",
              "        -5.9201e-01,  2.2436e-01, -2.7201e-01, -8.8383e-02, -5.5831e-01,\n",
              "         1.0460e-01, -3.3686e-01,  4.6233e-01,  6.3347e-01, -5.7720e-01,\n",
              "        -4.1045e-01, -6.3033e-02, -2.6181e-01,  2.5220e-01, -5.7010e-01,\n",
              "        -4.4242e-02, -2.5706e-03, -2.6010e-01, -2.0902e-01,  2.1671e-01,\n",
              "        -1.5338e-01,  2.3135e-02,  8.3758e-02,  2.4785e-01,  8.1829e-01,\n",
              "         4.6562e-01,  1.6161e-01,  1.5305e-01, -2.2000e-01, -2.5913e-01,\n",
              "        -3.0355e-01,  2.0841e-01, -8.6139e-02, -1.0182e-01,  7.8481e-01,\n",
              "         1.0315e+00, -5.8092e-01, -2.5592e-01,  1.4235e-01,  2.2627e-01,\n",
              "        -3.8135e-01, -1.7177e-01,  6.8986e-01,  9.5218e-01, -4.2518e-01,\n",
              "         2.9856e-01, -7.7871e-01,  4.6342e-01,  3.8082e-01,  3.3461e-01,\n",
              "        -3.6359e-01,  1.3449e-01,  6.0971e-02, -6.3682e-01,  6.5791e-01,\n",
              "        -3.4900e-01, -1.6919e+00, -1.1290e-01, -8.9325e-03,  7.0164e-01,\n",
              "        -2.4298e-01, -5.0133e-01, -9.4679e-02,  9.2998e-02, -6.9514e-01,\n",
              "         1.6732e-01,  1.0738e-01, -3.5135e-01, -4.1886e-01, -5.6835e-02,\n",
              "         1.8975e-01, -6.7744e-01, -5.0675e-02, -2.8237e-01, -9.4652e-02,\n",
              "         2.3333e-01,  2.1025e-01, -1.3943e-01,  4.7849e-01, -3.5598e-02,\n",
              "        -5.0288e-02,  2.2644e-01,  1.7870e-01, -8.6450e-02, -4.6139e-01,\n",
              "        -9.7895e-02,  9.5687e-03, -6.0332e-01, -1.0339e-01, -6.9934e-01,\n",
              "         8.6564e-01,  2.4269e-01,  1.2407e-01, -4.4824e-01,  6.2005e-02,\n",
              "         1.1447e-01, -4.3741e-02,  1.5308e+00, -4.7716e-01,  4.9675e-01,\n",
              "         8.2663e-01,  4.4054e-01, -8.6616e-02,  2.1151e-01, -1.6980e-02,\n",
              "         3.6449e-02,  5.2057e-02, -4.3879e-01, -2.0526e-01, -1.0826e-01,\n",
              "        -2.0654e-01,  5.4324e-02, -2.3006e-01, -2.3910e-01,  3.5886e-01,\n",
              "        -3.6865e-01, -4.1345e-01,  3.2852e-01, -2.1309e-01, -7.7967e-01,\n",
              "        -4.0635e-01,  4.1312e-01,  4.5644e-01,  5.6297e-01, -4.0113e-02,\n",
              "        -7.8324e-02,  3.5196e-01, -4.0508e-01,  4.9119e-01,  2.8871e-01,\n",
              "         1.2004e-02,  2.1122e-02,  5.8201e-01,  7.2554e-02, -1.2406e-01,\n",
              "        -2.2747e-01, -3.6875e-01,  1.2822e-01, -1.3220e-02, -2.5432e-01,\n",
              "        -5.4382e-01, -1.6104e-01, -4.9272e-01, -2.7074e-05, -1.6866e-01,\n",
              "        -2.0367e+00, -1.8150e-01,  7.2432e-01,  2.6644e-01,  2.3441e-01,\n",
              "         1.3906e-01, -7.0424e-03,  4.3320e-01, -3.9089e-01,  3.8913e-01,\n",
              "        -1.3505e-01,  1.8608e-01, -2.7714e-01,  7.7001e-02, -3.5178e-01,\n",
              "         3.1395e-01, -6.1126e-01, -1.9384e-01,  3.4077e-02,  7.6536e-02,\n",
              "        -6.3849e-01,  9.1557e-02,  6.1446e-01, -9.3747e-02,  2.7309e-02,\n",
              "        -2.9999e-01,  8.1415e-02,  2.3125e-01,  4.6289e-02,  1.2134e-01,\n",
              "         1.3592e-01, -5.6097e-01, -2.1794e-01, -6.8162e-01,  6.4019e-01,\n",
              "        -1.8568e-01, -1.6626e-01,  3.4131e-01,  1.8143e-01,  1.4511e-01,\n",
              "         4.1716e-02,  3.5290e-01,  2.6542e-01, -3.3044e-01,  6.5737e-01,\n",
              "        -4.8462e-01, -4.2369e-01,  5.4556e-01, -4.1632e-01, -7.4868e-02,\n",
              "        -2.7194e-01, -5.6729e-02, -1.9846e-01, -2.5328e-01, -8.4373e-01,\n",
              "        -2.5077e-01, -7.6245e-02,  1.3954e-01, -7.3810e-01, -7.1693e-02,\n",
              "         3.7180e-01, -6.6641e-01, -7.3948e-02,  1.0741e-02,  6.6875e-02,\n",
              "        -5.4790e-01, -2.3494e-01, -5.4339e-02, -2.7594e-01,  2.3641e-01,\n",
              "         9.0829e-02, -2.4924e-02, -6.5618e-01, -1.5407e-01,  6.5148e-03,\n",
              "        -1.8896e-01, -4.8536e-01,  4.1967e-01,  4.9990e-01, -2.3470e-01,\n",
              "         2.3999e-01,  2.2488e-02,  7.1898e-02,  3.7770e-01,  2.2666e-01,\n",
              "        -4.6463e-02,  7.9462e-02, -1.3600e-01,  2.6624e-01, -1.0557e-01,\n",
              "        -5.1542e-01, -2.1026e-01, -3.6529e-01,  3.7681e-01,  4.2558e-01,\n",
              "        -2.0673e-01,  1.7708e-01, -9.5000e-01,  3.5931e-01, -6.9485e-01,\n",
              "         2.6662e-01, -3.8393e-01, -1.4876e-01,  3.5606e-01, -1.9180e-01,\n",
              "         5.2491e-02,  6.9162e-01,  1.2743e-01, -2.9465e-01, -6.5748e-01,\n",
              "        -1.3319e-01, -1.6700e-01,  3.4043e-01,  1.0655e-01,  1.4711e-01,\n",
              "        -5.7975e-01, -1.9442e-01, -5.5820e-01,  1.5113e+00,  2.5854e-01,\n",
              "        -7.7182e-02,  1.9113e-01, -2.0155e-01,  5.2040e-02, -6.6809e-02,\n",
              "         7.7022e-01,  4.3337e-01,  2.1713e-01, -1.9559e-01,  1.1622e-01,\n",
              "         6.9701e-02,  1.9887e-01,  4.4560e-01, -2.0377e-01,  9.3891e-02,\n",
              "        -3.8858e-01, -1.0287e+00, -8.7257e-02,  3.0796e-01,  1.1579e-01,\n",
              "         2.2186e-01,  2.4396e-02, -2.2758e-01,  7.7906e-01,  8.9299e-02,\n",
              "        -5.7492e-01, -2.8990e-01,  5.5056e-01, -3.1180e-01,  5.1760e-01,\n",
              "        -2.1880e-01,  3.5772e-01, -9.8653e-01,  3.4400e-02, -1.5934e-01,\n",
              "        -2.6761e-01,  4.0133e-02,  7.4575e-02,  3.0935e-01,  2.3991e-02,\n",
              "        -2.4070e-01,  1.9046e-01, -3.6814e-01,  3.0126e-01,  1.0484e-01,\n",
              "         3.0939e-02,  3.2499e-01,  4.0934e-01, -1.7192e-01,  5.4189e-01,\n",
              "         3.5965e-01,  1.4977e-01, -2.0299e-01,  2.5858e-02, -2.3124e-01,\n",
              "        -5.2681e-01, -5.0653e-02, -4.0077e-01,  3.5185e-02,  6.1388e-01,\n",
              "         1.7713e-01, -5.8146e-01,  1.2276e-01,  2.9924e-02, -5.3960e-02,\n",
              "        -4.8978e-01,  8.5425e-02, -1.6308e-01,  2.2882e-02,  2.6261e-01,\n",
              "         2.0515e-01,  3.4557e-01,  2.7707e-01,  3.1900e-01,  6.0790e-01,\n",
              "        -5.5657e-01, -4.6023e-01, -1.5954e+00,  1.5275e-01,  3.5691e-01,\n",
              "         4.9637e-01, -1.7432e-01,  1.8391e-01,  5.2575e-01,  1.6172e-01,\n",
              "        -1.6158e-01,  1.2285e-01,  1.7329e-01,  1.0693e+00,  4.1782e-01,\n",
              "         2.6315e-01, -2.6412e-02, -3.4535e-01,  3.1312e-01,  3.1306e-03,\n",
              "        -1.3553e-01,  9.2502e-02,  1.8213e-01,  1.0432e-01, -5.5065e-02,\n",
              "        -5.2151e-01, -5.9766e-01, -3.0186e-01,  1.1254e-02,  6.2411e-01,\n",
              "        -2.4277e-01,  2.0318e-01, -1.6011e-01,  8.6397e-01, -2.2691e-02,\n",
              "        -4.4046e-01, -6.2856e-02, -3.9069e-01,  1.0784e-01,  1.1981e-01,\n",
              "         4.9630e-01, -3.8379e-03, -4.2250e-01,  1.0451e+00, -2.6349e-01,\n",
              "        -1.4386e-01,  2.8545e-01,  2.6442e-01,  5.0848e-01, -3.4544e-01,\n",
              "         2.0938e-01,  3.9765e-01, -2.8668e-01, -2.9289e-01,  1.0621e-01,\n",
              "         1.2800e-01,  4.2874e-01, -7.5396e-02,  2.4798e-01,  8.1016e-02,\n",
              "        -2.1905e-02, -2.7718e-01, -7.3759e-02, -5.9758e-02, -1.1127e-01,\n",
              "        -1.2804e-01,  2.8441e-01, -1.5104e-01, -2.0100e-01,  7.6934e-01,\n",
              "         3.0968e-01, -5.9233e-01, -3.4167e-01, -1.5913e-01, -5.3265e-02,\n",
              "         2.1583e-01, -3.5234e-01, -1.2197e-01,  3.0294e-01,  7.3882e-01,\n",
              "         1.3297e-01, -3.4018e-01, -8.1062e-02, -2.5973e-01,  1.7507e-01,\n",
              "         2.3974e-02,  4.1746e-01, -6.2069e+00,  1.1619e-01, -5.7523e-01,\n",
              "        -2.6148e-01, -3.7661e-01, -2.8330e-01,  1.3297e-01,  3.6957e-01,\n",
              "         7.4662e-02, -3.4777e-01,  1.5740e-01,  3.4407e-01, -5.0272e-01,\n",
              "         1.7432e-01,  7.9398e-01,  7.3562e-01], device='cuda:0')"
            ]
          },
          "metadata": {},
          "execution_count": 134
        }
      ],
      "source": [
        "get_embeddings(bert_doc, watch1)"
      ]
    },
    {
      "cell_type": "markdown",
      "metadata": {
        "id": "Dp3LpDtwPIph"
      },
      "source": [
        "## Model III - Preprocessing Embeddings"
      ]
    },
    {
      "cell_type": "markdown",
      "metadata": {
        "id": "xafyHRinPIpi"
      },
      "source": [
        "### Data Preparation"
      ]
    },
    {
      "cell_type": "code",
      "execution_count": 196,
      "metadata": {
        "id": "62H2IcGYPIpi"
      },
      "outputs": [],
      "source": [
        "train_dataset_doc = train_dataset.map(lambda row: {'embeddings': get_embeddings(bert_doc, row['sentence'])})\n",
        "test_dataset_doc = test_dataset.map(lambda row: {'embeddings': get_embeddings(bert_doc, row['sentence'])})"
      ]
    },
    {
      "cell_type": "code",
      "execution_count": 197,
      "metadata": {
        "id": "q5rURvw6PIpi"
      },
      "outputs": [],
      "source": [
        "train_dataset_doc.set_format(type='torch', columns=['embeddings', 'labels'])\n",
        "test_dataset_doc.set_format(type='torch', columns=['embeddings', 'labels'])"
      ]
    },
    {
      "cell_type": "code",
      "execution_count": 198,
      "metadata": {
        "colab": {
          "base_uri": "https://localhost:8080/"
        },
        "id": "t9Ov7ucKPIpi",
        "outputId": "02ae5f4d-1678-4b99-f492-ba0b9707bca4"
      },
      "outputs": [
        {
          "output_type": "execute_result",
          "data": {
            "text/plain": [
              "tensor([[ 0.2939,  0.3620, -0.0109,  ..., -0.1065,  0.4953,  0.4308],\n",
              "        [ 0.0246,  0.2661, -0.3555,  ...,  0.2206,  0.7003,  0.4276],\n",
              "        [ 0.2284, -0.0560, -0.3010,  ...,  0.2766,  0.3554,  0.3978],\n",
              "        ...,\n",
              "        [-0.1394,  0.1298, -0.1915,  ..., -0.0798,  0.3269,  0.3746],\n",
              "        [-0.3726,  0.3462, -0.3327,  ...,  0.3237,  0.7560,  0.2751],\n",
              "        [ 0.2105,  0.1443, -0.3271,  ...,  0.4474,  0.5367,  0.3423]])"
            ]
          },
          "metadata": {},
          "execution_count": 198
        }
      ],
      "source": [
        "train_dataset_doc['embeddings']"
      ]
    },
    {
      "cell_type": "code",
      "execution_count": 199,
      "metadata": {
        "id": "OfMQkFCHPIpi"
      },
      "outputs": [],
      "source": [
        "train_dataset_doc = TensorDataset(train_dataset_doc['embeddings'].float(),\n",
        "                                  train_dataset_doc['labels'].view(-1, 1).float())\n",
        "generator = torch.Generator()\n",
        "train_loader = DataLoader(train_dataset_doc, batch_size=32, shuffle=True, generator=generator)\n",
        "\n",
        "test_dataset_doc = TensorDataset(test_dataset_doc['embeddings'].float(),\n",
        "                                 test_dataset_doc['labels'].view(-1, 1).float())\n",
        "test_loader = DataLoader(test_dataset_doc, batch_size=32, shuffle=True)"
      ]
    },
    {
      "cell_type": "markdown",
      "metadata": {
        "id": "RDOr-sgLPIpi"
      },
      "source": [
        "### Model Configuration & Training"
      ]
    },
    {
      "cell_type": "code",
      "execution_count": 280,
      "metadata": {
        "id": "NEjwk7i8PIpj"
      },
      "outputs": [],
      "source": [
        "torch.manual_seed(41)\n",
        "middle_dim = 3\n",
        "model = nn.Sequential(\n",
        "    # Classifier\n",
        "    nn.Linear(bert_doc.embedding_length, middle_dim),\n",
        "    nn.ReLU(),\n",
        "    nn.Linear(middle_dim, 1)\n",
        ")\n",
        "loss_fn = nn.BCEWithLogitsLoss()\n",
        "optimizer = optim.Adam(model.parameters(), lr=1e-3)\n",
        "sbs_doc_emb = StepByStep(model, loss_fn, optimizer)\n",
        "sbs_doc_emb.set_loaders(train_loader, test_loader)\n",
        "sbs_doc_emb.train(10)"
      ]
    },
    {
      "cell_type": "code",
      "execution_count": 223,
      "metadata": {
        "colab": {
          "base_uri": "https://localhost:8080/",
          "height": 292
        },
        "id": "5jSTsMaSPIpj",
        "outputId": "099b58c8-f98c-4fc8-ee3b-9a75c966afb3"
      },
      "outputs": [
        {
          "output_type": "stream",
          "name": "stdout",
          "text": [
            "tensor([[431, 449],\n",
            "        [301, 322]])\n"
          ]
        },
        {
          "output_type": "display_data",
          "data": {
            "text/plain": [
              "<Figure size 1000x400 with 1 Axes>"
            ],
            "image/png": "[encoded data removed]"
          },
          "metadata": {}
        }
      ],
      "source": [
        "fig = sbs_doc_emb.plot_losses()\n",
        "print(StepByStep.loader_apply(test_loader, sbs_doc_emb.correct))"
      ]
    },
    {
      "cell_type": "markdown",
      "metadata": {
        "id": "kLKZdrC9PIpj"
      },
      "source": [
        "# BERT"
      ]
    },
    {
      "cell_type": "code",
      "execution_count": 281,
      "metadata": {
        "colab": {
          "base_uri": "https://localhost:8080/"
        },
        "id": "PtgTF0CIPIpk",
        "outputId": "c57287af-c261-4647-b2b2-cfae8ae6221b"
      },
      "outputs": [
        {
          "output_type": "stream",
          "name": "stdout",
          "text": [
            "<class 'transformers.models.bert.modeling_bert.BertModel'>\n"
          ]
        }
      ],
      "source": [
        "from transformers import AutoModel\n",
        "auto_model = AutoModel.from_pretrained('bert-base-uncased')\n",
        "print(auto_model.__class__)"
      ]
    },
    {
      "cell_type": "code",
      "execution_count": 282,
      "metadata": {
        "id": "bYjuuJG-PIpk"
      },
      "outputs": [],
      "source": [
        "from transformers import BertModel\n",
        "bert_model = BertModel.from_pretrained('bert-base-uncased')"
      ]
    },
    {
      "cell_type": "code",
      "execution_count": 283,
      "metadata": {
        "colab": {
          "base_uri": "https://localhost:8080/"
        },
        "id": "IpDTWGNBPIpk",
        "outputId": "0fd6fa92-eb8b-4ae5-c538-7ff1e84fef54"
      },
      "outputs": [
        {
          "output_type": "execute_result",
          "data": {
            "text/plain": [
              "BertConfig {\n",
              "  \"_name_or_path\": \"bert-base-uncased\",\n",
              "  \"architectures\": [\n",
              "    \"BertForMaskedLM\"\n",
              "  ],\n",
              "  \"attention_probs_dropout_prob\": 0.1,\n",
              "  \"classifier_dropout\": null,\n",
              "  \"gradient_checkpointing\": false,\n",
              "  \"hidden_act\": \"gelu\",\n",
              "  \"hidden_dropout_prob\": 0.1,\n",
              "  \"hidden_size\": 768,\n",
              "  \"initializer_range\": 0.02,\n",
              "  \"intermediate_size\": 3072,\n",
              "  \"layer_norm_eps\": 1e-12,\n",
              "  \"max_position_embeddings\": 512,\n",
              "  \"model_type\": \"bert\",\n",
              "  \"num_attention_heads\": 12,\n",
              "  \"num_hidden_layers\": 12,\n",
              "  \"pad_token_id\": 0,\n",
              "  \"position_embedding_type\": \"absolute\",\n",
              "  \"transformers_version\": \"4.37.2\",\n",
              "  \"type_vocab_size\": 2,\n",
              "  \"use_cache\": true,\n",
              "  \"vocab_size\": 30522\n",
              "}"
            ]
          },
          "metadata": {},
          "execution_count": 283
        }
      ],
      "source": [
        "bert_model.config"
      ]
    },
    {
      "cell_type": "markdown",
      "metadata": {
        "id": "fBkvBjp5PIpk"
      },
      "source": [
        "## Tokenization"
      ]
    },
    {
      "cell_type": "code",
      "execution_count": 284,
      "metadata": {
        "colab": {
          "base_uri": "https://localhost:8080/"
        },
        "id": "M7ZcsRmdPIpk",
        "outputId": "f45dd8bf-ea3f-4e2c-f042-69936165d48b",
        "scrolled": true
      },
      "outputs": [
        {
          "output_type": "execute_result",
          "data": {
            "text/plain": [
              "30522"
            ]
          },
          "metadata": {},
          "execution_count": 284
        }
      ],
      "source": [
        "from transformers import BertTokenizer\n",
        "bert_tokenizer = BertTokenizer.from_pretrained('bert-base-uncased')\n",
        "len(bert_tokenizer.vocab)"
      ]
    },
    {
      "cell_type": "code",
      "execution_count": 295,
      "metadata": {
        "colab": {
          "base_uri": "https://localhost:8080/"
        },
        "id": "kyF47gBWPIpk",
        "outputId": "3894cf1c-3a07-4673-8e4c-04f3e1f10b25"
      },
      "outputs": [
        {
          "output_type": "execute_result",
          "data": {
            "text/plain": [
              "{'input_ids': tensor([[  101,  5650,  2003,  1999, 10288, 24759,  5555,  6321,  2206,  1996,\n",
              "          2317, 10442,   102,  3582,  1996,  2317, 10442,  1010,  9253,   102]]), 'token_type_ids': tensor([[0, 0, 0, 0, 0, 0, 0, 0, 0, 0, 0, 0, 0, 1, 1, 1, 1, 1, 1, 1]]), 'attention_mask': tensor([[1, 1, 1, 1, 1, 1, 1, 1, 1, 1, 1, 1, 1, 1, 1, 1, 1, 1, 1, 1]])}"
            ]
          },
          "metadata": {},
          "execution_count": 295
        }
      ],
      "source": [
        "sentence1 = 'Alice is inexplicably following the white rabbit'\n",
        "sentence2 = 'Follow the white rabbit, Neo'\n",
        "tokens = bert_tokenizer(sentence1, sentence2, return_tensors='pt')\n",
        "tokens"
      ]
    },
    {
      "cell_type": "code",
      "source": [
        "tokens = tokens.to(device)"
      ],
      "metadata": {
        "id": "8GgzItN7iFuT"
      },
      "execution_count": 301,
      "outputs": []
    },
    {
      "cell_type": "code",
      "execution_count": 287,
      "metadata": {
        "colab": {
          "base_uri": "https://localhost:8080/"
        },
        "id": "brcF_Ox1PIpl",
        "outputId": "adb5515c-6c4e-4917-ffea-bd0d43231f8f"
      },
      "outputs": [
        {
          "output_type": "stream",
          "name": "stdout",
          "text": [
            "['[CLS]', 'alice', 'is', 'in', '##ex', '##pl', '##ica', '##bly', 'following', 'the', 'white', 'rabbit', '[SEP]', 'follow', 'the', 'white', 'rabbit', ',', 'neo', '[SEP]']\n"
          ]
        }
      ],
      "source": [
        "print(bert_tokenizer.convert_ids_to_tokens(tokens['input_ids'][0]))"
      ]
    },
    {
      "cell_type": "code",
      "execution_count": 288,
      "metadata": {
        "colab": {
          "base_uri": "https://localhost:8080/"
        },
        "id": "1Cjrk1qCPIpl",
        "outputId": "b9e13bdc-23aa-4762-d9bd-644295c73751"
      },
      "outputs": [
        {
          "output_type": "stream",
          "name": "stdout",
          "text": [
            "<class 'transformers.models.bert.tokenization_bert_fast.BertTokenizerFast'>\n"
          ]
        }
      ],
      "source": [
        "from transformers import AutoTokenizer\n",
        "auto_tokenizer = AutoTokenizer.from_pretrained('bert-base-uncased')\n",
        "print(auto_tokenizer.__class__)"
      ]
    },
    {
      "cell_type": "markdown",
      "metadata": {
        "id": "j0A5jpZJPIpl"
      },
      "source": [
        "## Input Embeddings\n",
        "\n",
        "![](https://github.com/dvgodoy/PyTorchStepByStep/blob/master/images/bert_input_embed.png?raw=1)"
      ]
    },
    {
      "cell_type": "code",
      "execution_count": 302,
      "metadata": {
        "colab": {
          "base_uri": "https://localhost:8080/"
        },
        "id": "JOhc49UmPIpl",
        "outputId": "b0d1b919-5c5e-40df-8e5b-743ec4e357ce"
      },
      "outputs": [
        {
          "output_type": "execute_result",
          "data": {
            "text/plain": [
              "BertEmbeddings(\n",
              "  (word_embeddings): Embedding(30522, 768, padding_idx=0)\n",
              "  (position_embeddings): Embedding(512, 768)\n",
              "  (token_type_embeddings): Embedding(2, 768)\n",
              "  (LayerNorm): LayerNorm((768,), eps=1e-12, elementwise_affine=True)\n",
              "  (dropout): Dropout(p=0.1, inplace=False)\n",
              ")"
            ]
          },
          "metadata": {},
          "execution_count": 302
        }
      ],
      "source": [
        "input_embeddings = bert_model.embeddings.to(device)\n",
        "input_embeddings"
      ]
    },
    {
      "cell_type": "code",
      "execution_count": 297,
      "metadata": {
        "colab": {
          "base_uri": "https://localhost:8080/"
        },
        "id": "Zo5g1KN2PIpm",
        "outputId": "f4a803a2-b6f8-4096-8b72-56a771917c11"
      },
      "outputs": [
        {
          "output_type": "execute_result",
          "data": {
            "text/plain": [
              "Embedding(30522, 768, padding_idx=0)"
            ]
          },
          "metadata": {},
          "execution_count": 297
        }
      ],
      "source": [
        "token_embeddings = input_embeddings.word_embeddings\n",
        "token_embeddings"
      ]
    },
    {
      "cell_type": "code",
      "execution_count": 304,
      "metadata": {
        "colab": {
          "base_uri": "https://localhost:8080/"
        },
        "id": "jr_sA4KEPIpm",
        "outputId": "ecdf55af-a9f5-421c-fe4d-19ac779ff0ad"
      },
      "outputs": [
        {
          "output_type": "execute_result",
          "data": {
            "text/plain": [
              "torch.Size([1, 20, 768])"
            ]
          },
          "metadata": {},
          "execution_count": 304
        }
      ],
      "source": [
        "input_token_emb = token_embeddings(tokens['input_ids'])\n",
        "input_token_emb.shape"
      ]
    },
    {
      "cell_type": "code",
      "execution_count": 307,
      "metadata": {
        "colab": {
          "base_uri": "https://localhost:8080/"
        },
        "id": "rx5LiAACPIpm",
        "outputId": "67ed27aa-6b6d-4991-9ffd-dfd9a6cc07e0"
      },
      "outputs": [
        {
          "output_type": "execute_result",
          "data": {
            "text/plain": [
              "Embedding(512, 768)"
            ]
          },
          "metadata": {},
          "execution_count": 307
        }
      ],
      "source": [
        "position_embeddings = input_embeddings.position_embeddings\n",
        "position_embeddings"
      ]
    },
    {
      "cell_type": "code",
      "execution_count": 308,
      "metadata": {
        "colab": {
          "base_uri": "https://localhost:8080/"
        },
        "id": "W6e0kmEnPIpm",
        "outputId": "14649f43-765f-44ce-a77d-a06a45846d80"
      },
      "outputs": [
        {
          "output_type": "execute_result",
          "data": {
            "text/plain": [
              "tensor([[  0,   1,   2,   3,   4,   5,   6,   7,   8,   9,  10,  11,  12,  13,\n",
              "          14,  15,  16,  17,  18,  19,  20,  21,  22,  23,  24,  25,  26,  27,\n",
              "          28,  29,  30,  31,  32,  33,  34,  35,  36,  37,  38,  39,  40,  41,\n",
              "          42,  43,  44,  45,  46,  47,  48,  49,  50,  51,  52,  53,  54,  55,\n",
              "          56,  57,  58,  59,  60,  61,  62,  63,  64,  65,  66,  67,  68,  69,\n",
              "          70,  71,  72,  73,  74,  75,  76,  77,  78,  79,  80,  81,  82,  83,\n",
              "          84,  85,  86,  87,  88,  89,  90,  91,  92,  93,  94,  95,  96,  97,\n",
              "          98,  99, 100, 101, 102, 103, 104, 105, 106, 107, 108, 109, 110, 111,\n",
              "         112, 113, 114, 115, 116, 117, 118, 119, 120, 121, 122, 123, 124, 125,\n",
              "         126, 127, 128, 129, 130, 131, 132, 133, 134, 135, 136, 137, 138, 139,\n",
              "         140, 141, 142, 143, 144, 145, 146, 147, 148, 149, 150, 151, 152, 153,\n",
              "         154, 155, 156, 157, 158, 159, 160, 161, 162, 163, 164, 165, 166, 167,\n",
              "         168, 169, 170, 171, 172, 173, 174, 175, 176, 177, 178, 179, 180, 181,\n",
              "         182, 183, 184, 185, 186, 187, 188, 189, 190, 191, 192, 193, 194, 195,\n",
              "         196, 197, 198, 199, 200, 201, 202, 203, 204, 205, 206, 207, 208, 209,\n",
              "         210, 211, 212, 213, 214, 215, 216, 217, 218, 219, 220, 221, 222, 223,\n",
              "         224, 225, 226, 227, 228, 229, 230, 231, 232, 233, 234, 235, 236, 237,\n",
              "         238, 239, 240, 241, 242, 243, 244, 245, 246, 247, 248, 249, 250, 251,\n",
              "         252, 253, 254, 255, 256, 257, 258, 259, 260, 261, 262, 263, 264, 265,\n",
              "         266, 267, 268, 269, 270, 271, 272, 273, 274, 275, 276, 277, 278, 279,\n",
              "         280, 281, 282, 283, 284, 285, 286, 287, 288, 289, 290, 291, 292, 293,\n",
              "         294, 295, 296, 297, 298, 299, 300, 301, 302, 303, 304, 305, 306, 307,\n",
              "         308, 309, 310, 311, 312, 313, 314, 315, 316, 317, 318, 319, 320, 321,\n",
              "         322, 323, 324, 325, 326, 327, 328, 329, 330, 331, 332, 333, 334, 335,\n",
              "         336, 337, 338, 339, 340, 341, 342, 343, 344, 345, 346, 347, 348, 349,\n",
              "         350, 351, 352, 353, 354, 355, 356, 357, 358, 359, 360, 361, 362, 363,\n",
              "         364, 365, 366, 367, 368, 369, 370, 371, 372, 373, 374, 375, 376, 377,\n",
              "         378, 379, 380, 381, 382, 383, 384, 385, 386, 387, 388, 389, 390, 391,\n",
              "         392, 393, 394, 395, 396, 397, 398, 399, 400, 401, 402, 403, 404, 405,\n",
              "         406, 407, 408, 409, 410, 411, 412, 413, 414, 415, 416, 417, 418, 419,\n",
              "         420, 421, 422, 423, 424, 425, 426, 427, 428, 429, 430, 431, 432, 433,\n",
              "         434, 435, 436, 437, 438, 439, 440, 441, 442, 443, 444, 445, 446, 447,\n",
              "         448, 449, 450, 451, 452, 453, 454, 455, 456, 457, 458, 459, 460, 461,\n",
              "         462, 463, 464, 465, 466, 467, 468, 469, 470, 471, 472, 473, 474, 475,\n",
              "         476, 477, 478, 479, 480, 481, 482, 483, 484, 485, 486, 487, 488, 489,\n",
              "         490, 491, 492, 493, 494, 495, 496, 497, 498, 499, 500, 501, 502, 503,\n",
              "         504, 505, 506, 507, 508, 509, 510, 511]], device='cuda:0')"
            ]
          },
          "metadata": {},
          "execution_count": 308
        }
      ],
      "source": [
        "position_ids = torch.arange(512).expand((1, -1)).to(device)\n",
        "position_ids"
      ]
    },
    {
      "cell_type": "code",
      "execution_count": 309,
      "metadata": {
        "colab": {
          "base_uri": "https://localhost:8080/"
        },
        "id": "SqZUNJBhPIpn",
        "outputId": "3574663c-d8a0-41f1-8bcf-7caad451c774"
      },
      "outputs": [
        {
          "output_type": "execute_result",
          "data": {
            "text/plain": [
              "torch.Size([1, 20, 768])"
            ]
          },
          "metadata": {},
          "execution_count": 309
        }
      ],
      "source": [
        "seq_length = tokens['input_ids'].size(1)\n",
        "input_pos_emb = position_embeddings(position_ids[:, :seq_length])\n",
        "input_pos_emb.shape"
      ]
    },
    {
      "cell_type": "code",
      "source": [
        "import matplotlib.pyplot as plt\n",
        "plt.figure(figsize = (6,2))\n",
        "t_id = 3\n",
        "plt.plot(input_pos_emb[0,:,t_id].detach().cpu().numpy())\n",
        "plt.show()"
      ],
      "metadata": {
        "colab": {
          "base_uri": "https://localhost:8080/",
          "height": 225
        },
        "id": "Nycac4y2j5w8",
        "outputId": "3bce2b38-0df7-4a89-a764-4f00103b6335"
      },
      "execution_count": 273,
      "outputs": [
        {
          "output_type": "display_data",
          "data": {
            "text/plain": [
              "<Figure size 600x200 with 1 Axes>"
            ],
            "image/png": "[encoded data removed]"
          },
          "metadata": {}
        }
      ]
    },
    {
      "cell_type": "code",
      "execution_count": 310,
      "metadata": {
        "colab": {
          "base_uri": "https://localhost:8080/"
        },
        "id": "5DXX4yiEPIpn",
        "outputId": "2853627f-1a7c-4f43-ca82-2326767b374e"
      },
      "outputs": [
        {
          "output_type": "execute_result",
          "data": {
            "text/plain": [
              "Embedding(2, 768)"
            ]
          },
          "metadata": {},
          "execution_count": 310
        }
      ],
      "source": [
        "segment_embeddings = input_embeddings.token_type_embeddings\n",
        "segment_embeddings"
      ]
    },
    {
      "cell_type": "code",
      "source": [
        "input_pos_emb[0,:,0:5].std(dim=0)"
      ],
      "metadata": {
        "colab": {
          "base_uri": "https://localhost:8080/"
        },
        "id": "u8KXjhbOoKJ5",
        "outputId": "8e7b1f46-0486-4d8a-ed56-62f4e3b6aa79"
      },
      "execution_count": 316,
      "outputs": [
        {
          "output_type": "execute_result",
          "data": {
            "text/plain": [
              "tensor([0.0093, 0.0120, 0.0091, 0.0117, 0.0059], device='cuda:0',\n",
              "       grad_fn=<StdBackward0>)"
            ]
          },
          "metadata": {},
          "execution_count": 316
        }
      ]
    },
    {
      "cell_type": "code",
      "source": [
        "input_token_emb[0,:,0:5].std(dim=0)"
      ],
      "metadata": {
        "colab": {
          "base_uri": "https://localhost:8080/"
        },
        "id": "QCIlVeHEohKw",
        "outputId": "bac72bfb-03e7-41a3-d467-c94224d31cfd"
      },
      "execution_count": 317,
      "outputs": [
        {
          "output_type": "execute_result",
          "data": {
            "text/plain": [
              "tensor([0.0294, 0.0305, 0.0242, 0.0208, 0.0302], device='cuda:0',\n",
              "       grad_fn=<StdBackward0>)"
            ]
          },
          "metadata": {},
          "execution_count": 317
        }
      ]
    },
    {
      "cell_type": "code",
      "execution_count": 318,
      "metadata": {
        "colab": {
          "base_uri": "https://localhost:8080/"
        },
        "id": "GgCRoV2sPIpn",
        "outputId": "2ba48fd4-8b76-498c-e14d-14ac4a887867"
      },
      "outputs": [
        {
          "output_type": "execute_result",
          "data": {
            "text/plain": [
              "tensor([[[ 0.0004,  0.0110,  0.0037,  ..., -0.0066, -0.0034, -0.0086],\n",
              "         [ 0.0004,  0.0110,  0.0037,  ..., -0.0066, -0.0034, -0.0086],\n",
              "         [ 0.0004,  0.0110,  0.0037,  ..., -0.0066, -0.0034, -0.0086],\n",
              "         ...,\n",
              "         [ 0.0011, -0.0030, -0.0032,  ...,  0.0047, -0.0052, -0.0112],\n",
              "         [ 0.0011, -0.0030, -0.0032,  ...,  0.0047, -0.0052, -0.0112],\n",
              "         [ 0.0011, -0.0030, -0.0032,  ...,  0.0047, -0.0052, -0.0112]]],\n",
              "       device='cuda:0', grad_fn=<EmbeddingBackward0>)"
            ]
          },
          "metadata": {},
          "execution_count": 318
        }
      ],
      "source": [
        "input_seg_emb = segment_embeddings(tokens['token_type_ids'])\n",
        "input_seg_emb"
      ]
    },
    {
      "cell_type": "code",
      "execution_count": 319,
      "metadata": {
        "colab": {
          "base_uri": "https://localhost:8080/"
        },
        "id": "iUkjZrKTPIpn",
        "outputId": "28c002b6-a3ef-4020-aefb-36a2e448c038"
      },
      "outputs": [
        {
          "output_type": "execute_result",
          "data": {
            "text/plain": [
              "tensor([[[ 0.0316, -0.0411, -0.0564,  ...,  0.0021,  0.0044,  0.0219],\n",
              "         [-0.0615, -0.0750, -0.0107,  ...,  0.0364,  0.0482, -0.0277],\n",
              "         [-0.0469, -0.0156, -0.0336,  ...,  0.0117,  0.0135,  0.0109],\n",
              "         ...,\n",
              "         [-0.0081, -0.0051, -0.0172,  ...,  0.0542, -0.0103,  0.0083],\n",
              "         [-0.0425, -0.0756, -0.0414,  ..., -0.0252, -0.0180, -0.0060],\n",
              "         [-0.0138, -0.0138, -0.0194,  ...,  0.0032, -0.0011, -0.0133]]],\n",
              "       device='cuda:0', grad_fn=<AddBackward0>)"
            ]
          },
          "metadata": {},
          "execution_count": 319
        }
      ],
      "source": [
        "input_emb = input_token_emb + input_pos_emb + input_seg_emb\n",
        "input_emb"
      ]
    },
    {
      "cell_type": "markdown",
      "metadata": {
        "id": "dGkuZ7UdPIpn"
      },
      "source": [
        "## Pretraining Tasks"
      ]
    },
    {
      "cell_type": "markdown",
      "metadata": {
        "id": "m2FoG2AGPIpn"
      },
      "source": [
        "### Masked Language Model (MLM)\n",
        "\n",
        "![](https://github.com/dvgodoy/PyTorchStepByStep/blob/master/images/bert_mlm.png?raw=1)"
      ]
    },
    {
      "cell_type": "code",
      "execution_count": 159,
      "metadata": {
        "colab": {
          "base_uri": "https://localhost:8080/"
        },
        "id": "ZTw0eDKePIpo",
        "outputId": "7cc12362-b611-4491-a1c9-7b40eca25a22"
      },
      "outputs": [
        {
          "output_type": "execute_result",
          "data": {
            "text/plain": [
              "[101, 5650, 2003, 1999, 10288, 24759, 5555, 6321, 2206, 1996, 2317, 10442, 102]"
            ]
          },
          "metadata": {},
          "execution_count": 159
        }
      ],
      "source": [
        "sentence = 'Alice is inexplicably following the white rabbit'\n",
        "tokens = bert_tokenizer(sentence)\n",
        "tokens['input_ids']"
      ]
    },
    {
      "cell_type": "code",
      "execution_count": 160,
      "metadata": {
        "colab": {
          "base_uri": "https://localhost:8080/"
        },
        "id": "3yCbwZXgPIpo",
        "outputId": "6b047716-83c4-4eb9-a945-103cce319e2b"
      },
      "outputs": [
        {
          "output_type": "execute_result",
          "data": {
            "text/plain": [
              "{'input_ids': tensor([[  101,  5650,  2003,  1999, 10288, 24759,   103,  6321,  2206,  1996,\n",
              "          2317, 10442,   102]]), 'token_type_ids': tensor([[0, 0, 0, 0, 0, 0, 0, 0, 0, 0, 0, 0, 0]]), 'attention_mask': tensor([[1, 1, 1, 1, 1, 1, 1, 1, 1, 1, 1, 1, 1]]), 'labels': tensor([[-100, -100, -100, -100, -100, -100, 5555, -100, -100, -100, -100, -100,\n",
              "         -100]])}"
            ]
          },
          "metadata": {},
          "execution_count": 160
        }
      ],
      "source": [
        "from transformers import DataCollatorForLanguageModeling\n",
        "torch.manual_seed(41)\n",
        "data_collator = DataCollatorForLanguageModeling(tokenizer=bert_tokenizer, mlm_probability=0.15)\n",
        "mlm_tokens = data_collator([tokens])\n",
        "mlm_tokens"
      ]
    },
    {
      "cell_type": "code",
      "execution_count": 161,
      "metadata": {
        "colab": {
          "base_uri": "https://localhost:8080/"
        },
        "id": "XI180xPwPIpo",
        "outputId": "f66ad5a8-82b8-44e0-8118-7b04b3111876",
        "scrolled": true
      },
      "outputs": [
        {
          "output_type": "stream",
          "name": "stdout",
          "text": [
            "['[CLS]', 'alice', 'is', 'in', '##ex', '##pl', '##ica', '##bly', 'following', 'the', 'white', 'rabbit', '[SEP]']\n",
            "['[CLS]', 'alice', 'is', 'in', '##ex', '##pl', '[MASK]', '##bly', 'following', 'the', 'white', 'rabbit', '[SEP]']\n"
          ]
        }
      ],
      "source": [
        "print(bert_tokenizer.convert_ids_to_tokens(tokens['input_ids']))\n",
        "print(bert_tokenizer.convert_ids_to_tokens(mlm_tokens['input_ids'][0]))"
      ]
    },
    {
      "cell_type": "markdown",
      "metadata": {
        "id": "gyTICtkbPIpo"
      },
      "source": [
        "### Next Sentence Prediction (NSP)\n",
        "\n",
        "![](https://github.com/dvgodoy/PyTorchStepByStep/blob/master/images/bert_nsp.png?raw=1)"
      ]
    },
    {
      "cell_type": "code",
      "execution_count": 162,
      "metadata": {
        "colab": {
          "base_uri": "https://localhost:8080/"
        },
        "id": "eWrQN9DpPIpo",
        "outputId": "c7bae334-e17b-49b6-a250-8ff8c107ac65"
      },
      "outputs": [
        {
          "output_type": "execute_result",
          "data": {
            "text/plain": [
              "BertPooler(\n",
              "  (dense): Linear(in_features=768, out_features=768, bias=True)\n",
              "  (activation): Tanh()\n",
              ")"
            ]
          },
          "metadata": {},
          "execution_count": 162
        }
      ],
      "source": [
        "bert_model.pooler"
      ]
    },
    {
      "cell_type": "code",
      "execution_count": 163,
      "metadata": {
        "colab": {
          "base_uri": "https://localhost:8080/"
        },
        "id": "WmVOtEwePIpp",
        "outputId": "15026219-66f7-4043-887c-d7198a949c52"
      },
      "outputs": [
        {
          "output_type": "execute_result",
          "data": {
            "text/plain": [
              "{'input_ids': tensor([[  101,  5650,  4076,  1996,  2317, 10442,   102,  3582,  1996,  2317,\n",
              "         10442,  9253,   102]]), 'token_type_ids': tensor([[0, 0, 0, 0, 0, 0, 0, 1, 1, 1, 1, 1, 1]]), 'attention_mask': tensor([[1, 1, 1, 1, 1, 1, 1, 1, 1, 1, 1, 1, 1]])}"
            ]
          },
          "metadata": {},
          "execution_count": 163
        }
      ],
      "source": [
        "sentence1 = 'alice follows the white rabbit'\n",
        "sentence2 = 'follow the white rabbit neo'\n",
        "bert_tokenizer(sentence1, sentence2, return_tensors='pt')"
      ]
    },
    {
      "cell_type": "markdown",
      "metadata": {
        "id": "_HkUpyLUPIpp"
      },
      "source": [
        "## Outputs"
      ]
    },
    {
      "cell_type": "code",
      "execution_count": 164,
      "metadata": {
        "colab": {
          "base_uri": "https://localhost:8080/",
          "height": 35
        },
        "id": "5C-AaHkFPIpp",
        "outputId": "631ebe02-20bb-4cca-a2eb-90a4be53314e"
      },
      "outputs": [
        {
          "output_type": "execute_result",
          "data": {
            "text/plain": [
              "'They walked back to the road.'"
            ],
            "application/vnd.google.colaboratory.intrinsic+json": {
              "type": "string"
            }
          },
          "metadata": {},
          "execution_count": 164
        }
      ],
      "source": [
        "sentence = train_dataset[0]['sentence']\n",
        "sentence"
      ]
    },
    {
      "cell_type": "code",
      "execution_count": 165,
      "metadata": {
        "colab": {
          "base_uri": "https://localhost:8080/"
        },
        "id": "AmqPWjJuPIpp",
        "outputId": "538faadd-96ec-428b-d6bf-4db60a108945"
      },
      "outputs": [
        {
          "output_type": "execute_result",
          "data": {
            "text/plain": [
              "{'input_ids': tensor([[ 101, 2027, 2939, 2067, 2000, 1996, 2346, 1012,  102,    0,    0,    0,\n",
              "            0,    0,    0,    0,    0,    0,    0,    0,    0,    0,    0,    0,\n",
              "            0,    0,    0,    0,    0,    0]]), 'token_type_ids': tensor([[0, 0, 0, 0, 0, 0, 0, 0, 0, 0, 0, 0, 0, 0, 0, 0, 0, 0, 0, 0, 0, 0, 0, 0,\n",
              "         0, 0, 0, 0, 0, 0]]), 'attention_mask': tensor([[1, 1, 1, 1, 1, 1, 1, 1, 1, 0, 0, 0, 0, 0, 0, 0, 0, 0, 0, 0, 0, 0, 0, 0,\n",
              "         0, 0, 0, 0, 0, 0]])}"
            ]
          },
          "metadata": {},
          "execution_count": 165
        }
      ],
      "source": [
        "tokens = bert_tokenizer(sentence,\n",
        "                        padding='max_length',\n",
        "                        max_length=30,\n",
        "                        truncation=True,\n",
        "                        return_tensors=\"pt\")\n",
        "tokens"
      ]
    },
    {
      "cell_type": "code",
      "execution_count": 166,
      "metadata": {
        "colab": {
          "base_uri": "https://localhost:8080/"
        },
        "id": "f_ssmrA7PIpp",
        "outputId": "53269627-4f4a-43a9-e684-2d45b09a7409"
      },
      "outputs": [
        {
          "output_type": "execute_result",
          "data": {
            "text/plain": [
              "odict_keys(['last_hidden_state', 'pooler_output', 'hidden_states', 'attentions'])"
            ]
          },
          "metadata": {},
          "execution_count": 166
        }
      ],
      "source": [
        "bert_model.eval()\n",
        "out = bert_model(input_ids=tokens['input_ids'],\n",
        "                 attention_mask=tokens['attention_mask'],\n",
        "                 output_attentions=True,\n",
        "                 output_hidden_states=True,\n",
        "                 return_dict=True)\n",
        "out.keys()"
      ]
    },
    {
      "cell_type": "markdown",
      "metadata": {
        "id": "n0lNYShtPIpq"
      },
      "source": [
        "![](https://github.com/dvgodoy/PyTorchStepByStep/blob/master/images/bert_embeddings.png?raw=1)"
      ]
    },
    {
      "cell_type": "code",
      "execution_count": 167,
      "metadata": {
        "colab": {
          "base_uri": "https://localhost:8080/"
        },
        "id": "O9qGa0qaPIpq",
        "outputId": "963489a6-b64b-4827-d8a5-96aafe088440"
      },
      "outputs": [
        {
          "output_type": "execute_result",
          "data": {
            "text/plain": [
              "tensor([[ 0.6598,  0.3917, -0.0364,  ...,  0.0151,  1.0337, -0.0803],\n",
              "        [ 0.8864,  0.0588,  0.1100,  ...,  0.0456,  0.1382, -0.0662],\n",
              "        [ 0.4361,  0.0337,  0.0071,  ...,  0.2814,  0.2284, -0.2640],\n",
              "        ...,\n",
              "        [ 0.5471,  0.2523, -0.5454,  ..., -0.1005,  0.4525,  0.1288],\n",
              "        [ 0.8299,  0.0757,  0.1301,  ..., -0.1341, -0.0661,  0.1768],\n",
              "        [ 0.9105,  0.2523, -0.4685,  ...,  0.2981, -0.0403, -0.4670]],\n",
              "       grad_fn=<SliceBackward0>)"
            ]
          },
          "metadata": {},
          "execution_count": 167
        }
      ],
      "source": [
        "last_hidden_batch = out['last_hidden_state']\n",
        "last_hidden_sentence = last_hidden_batch[0]\n",
        "# Removes hidden states for [PAD] tokens using the mask\n",
        "mask = tokens['attention_mask'].squeeze().bool()\n",
        "embeddings = last_hidden_sentence[mask]\n",
        "# Removes embeddings for the first [CLS] and last [SEP] tokens\n",
        "embeddings[1:-1]"
      ]
    },
    {
      "cell_type": "code",
      "execution_count": 168,
      "metadata": {
        "colab": {
          "base_uri": "https://localhost:8080/"
        },
        "id": "rlqC7lDSPIpq",
        "outputId": "26acecbd-fca8-45fe-e2f5-3f31a34118ec"
      },
      "outputs": [
        {
          "output_type": "execute_result",
          "data": {
            "text/plain": [
              "tensor([[ 0.6598,  0.3917, -0.0364,  ...,  0.0151,  1.0337, -0.0803],\n",
              "        [ 0.8864,  0.0588,  0.1100,  ...,  0.0456,  0.1382, -0.0662],\n",
              "        [ 0.4361,  0.0337,  0.0071,  ...,  0.2814,  0.2284, -0.2640],\n",
              "        ...,\n",
              "        [ 0.5471,  0.2523, -0.5454,  ..., -0.1005,  0.4525,  0.1288],\n",
              "        [ 0.8299,  0.0757,  0.1301,  ..., -0.1341, -0.0661,  0.1768],\n",
              "        [ 0.9105,  0.2523, -0.4685,  ...,  0.2981, -0.0403, -0.4670]],\n",
              "       device='cuda:0')"
            ]
          },
          "metadata": {},
          "execution_count": 168
        }
      ],
      "source": [
        "get_embeddings(bert_flair, sentence)"
      ]
    },
    {
      "cell_type": "code",
      "execution_count": 169,
      "metadata": {
        "colab": {
          "base_uri": "https://localhost:8080/"
        },
        "id": "hNKAkRLyPIpq",
        "outputId": "eb182350-ed1e-4930-b7bd-a846b7725541"
      },
      "outputs": [
        {
          "output_type": "stream",
          "name": "stdout",
          "text": [
            "13\n",
            "torch.Size([1, 30, 768])\n"
          ]
        }
      ],
      "source": [
        "print(len(out['hidden_states']))\n",
        "print(out['hidden_states'][0].shape)"
      ]
    },
    {
      "cell_type": "code",
      "execution_count": 170,
      "metadata": {
        "colab": {
          "base_uri": "https://localhost:8080/"
        },
        "id": "451QgYohPIpq",
        "outputId": "7033a078-379f-48c9-db9b-5effd7b07247"
      },
      "outputs": [
        {
          "output_type": "execute_result",
          "data": {
            "text/plain": [
              "tensor(True)"
            ]
          },
          "metadata": {},
          "execution_count": 170
        }
      ],
      "source": [
        "(out['hidden_states'][0] == bert_model.embeddings(tokens['input_ids'])).all()"
      ]
    },
    {
      "cell_type": "code",
      "execution_count": 171,
      "metadata": {
        "colab": {
          "base_uri": "https://localhost:8080/"
        },
        "id": "93o1_w-EPIpr",
        "outputId": "8f4a2d92-7055-4265-c74d-39ba1cfefb4e"
      },
      "outputs": [
        {
          "output_type": "execute_result",
          "data": {
            "text/plain": [
              "tensor(True)"
            ]
          },
          "metadata": {},
          "execution_count": 171
        }
      ],
      "source": [
        "(out['hidden_states'][-1] == out['last_hidden_state']).all()"
      ]
    },
    {
      "cell_type": "code",
      "execution_count": 172,
      "metadata": {
        "colab": {
          "base_uri": "https://localhost:8080/"
        },
        "id": "bYA0p0XqPIpr",
        "outputId": "d264efac-c67f-411d-bc94-d43c0881e85c"
      },
      "outputs": [
        {
          "output_type": "execute_result",
          "data": {
            "text/plain": [
              "tensor(True)"
            ]
          },
          "metadata": {},
          "execution_count": 172
        }
      ],
      "source": [
        "(out['pooler_output'] == bert_model.pooler(out['last_hidden_state'])).all()"
      ]
    },
    {
      "cell_type": "code",
      "execution_count": 173,
      "metadata": {
        "colab": {
          "base_uri": "https://localhost:8080/"
        },
        "id": "jsdP4CnSPIpr",
        "outputId": "08839964-bec4-406d-edfe-d2d3eca08609"
      },
      "outputs": [
        {
          "output_type": "stream",
          "name": "stdout",
          "text": [
            "12\n",
            "torch.Size([1, 12, 30, 30])\n"
          ]
        }
      ],
      "source": [
        "print(len(out['attentions']))\n",
        "print(out['attentions'][0].shape)"
      ]
    },
    {
      "cell_type": "markdown",
      "metadata": {
        "id": "PlX9GImRPIpr"
      },
      "source": [
        "## Model IV - Classifying using BERT"
      ]
    },
    {
      "cell_type": "code",
      "execution_count": 174,
      "metadata": {
        "id": "zWB0IsJEPIpr"
      },
      "outputs": [],
      "source": [
        "class BERTClassifier(nn.Module):\n",
        "    def __init__(self, bert_model, ff_units, n_outputs, dropout=0.3):\n",
        "        super().__init__()\n",
        "        self.d_model = bert_model.config.dim\n",
        "        self.n_outputs = n_outputs\n",
        "        self.encoder = bert_model\n",
        "        self.mlp = nn.Sequential(\n",
        "            nn.Linear(self.d_model, ff_units),\n",
        "            nn.ReLU(),\n",
        "            nn.Dropout(dropout),\n",
        "            nn.Linear(ff_units, n_outputs)\n",
        "        )\n",
        "\n",
        "    def encode(self, source, source_mask=None):\n",
        "        states = self.encoder(input_ids=source,\n",
        "                              attention_mask=source_mask)[0]\n",
        "        cls_state = states[:, 0]\n",
        "        return cls_state\n",
        "\n",
        "    def forward(self, X):\n",
        "        source_mask = (X > 0)\n",
        "        # Featurizer\n",
        "        cls_state = self.encode(X, source_mask)\n",
        "        # Classifier\n",
        "        out = self.mlp(cls_state)\n",
        "        return out"
      ]
    },
    {
      "cell_type": "markdown",
      "metadata": {
        "id": "rN86j0y9PIps"
      },
      "source": [
        "### Data Preparation"
      ]
    },
    {
      "cell_type": "code",
      "execution_count": 175,
      "metadata": {
        "id": "LLFm2rAtPIps"
      },
      "outputs": [],
      "source": [
        "def tokenize_dataset(hf_dataset, sentence_field, label_field, tokenizer, **kwargs):\n",
        "    sentences = hf_dataset[sentence_field]\n",
        "    token_ids = tokenizer(sentences, return_tensors='pt', **kwargs)['input_ids']\n",
        "    labels = torch.as_tensor(hf_dataset[label_field])\n",
        "    dataset = TensorDataset(token_ids, labels)\n",
        "    return dataset"
      ]
    },
    {
      "cell_type": "code",
      "execution_count": 176,
      "metadata": {
        "id": "hvCj__6mPIps"
      },
      "outputs": [],
      "source": [
        "auto_tokenizer = AutoTokenizer.from_pretrained('distilbert-base-uncased')\n",
        "tokenizer_kwargs = dict(truncation=True, padding=True, max_length=30, add_special_tokens=True)"
      ]
    },
    {
      "cell_type": "code",
      "execution_count": 177,
      "metadata": {
        "colab": {
          "base_uri": "https://localhost:8080/",
          "height": 81,
          "referenced_widgets": [
            "6cd1d85a21c34b58b591d001ae452520",
            "7b4824a29f4f448985162acf9fdca6bc",
            "ba089235fde14a9aa6a7b3a6d5177365",
            "8dccd1b6290046ad8bf687f433d31bf8",
            "ba43fc63a3c84084989223e767cdd0f1",
            "014b95d0c82544fb8b55e3a05b77f758",
            "af8b46b8ae904789859e830cd327e221",
            "165bf5f14abd4818a845ddbf74407b75",
            "0ba0cd8ae2b94ec08e382665fc3934d8",
            "c99923e7789040da88a4f92ff56f2a72",
            "db077f1df80a496db53ae145a2632476",
            "fac0aeff160d4ed8ae8cadef9499d012",
            "e7a1c16938864ec88f7289ce00b4b0ba",
            "e307ca2b37694742a3b2ec8d3d470c2e",
            "2810e9ead8784ade9c9c5220e6e2bba5",
            "907585a9cc644c2e936aeb4310002611",
            "d7e173d2c883416f9e7edb9d0e676856",
            "1afd74770ca34439af9f968d3ca6a1e6",
            "603983057dbd47c9b91602db958ceb1c",
            "a422432ab1964e3988b8c138fa34e168",
            "ad600841b13e455eac778a7e010c0897",
            "d84b21ac694e4b95a810b2b4e97f9b3b"
          ]
        },
        "id": "bRuvrZRfPIps",
        "outputId": "89514a43-aa20-4519-a768-de7203610ea1"
      },
      "outputs": [
        {
          "output_type": "display_data",
          "data": {
            "text/plain": [
              "Map:   0%|          | 0/3081 [00:00<?, ? examples/s]"
            ],
            "application/vnd.jupyter.widget-view+json": {
              "version_major": 2,
              "version_minor": 0,
              "model_id": "6cd1d85a21c34b58b591d001ae452520"
            }
          },
          "metadata": {}
        },
        {
          "output_type": "display_data",
          "data": {
            "text/plain": [
              "Map:   0%|          | 0/771 [00:00<?, ? examples/s]"
            ],
            "application/vnd.jupyter.widget-view+json": {
              "version_major": 2,
              "version_minor": 0,
              "model_id": "fac0aeff160d4ed8ae8cadef9499d012"
            }
          },
          "metadata": {}
        }
      ],
      "source": [
        "train_dataset_float = train_dataset.map(lambda row: {'labels': [float(row['labels'])]})\n",
        "test_dataset_float = test_dataset.map(lambda row: {'labels': [float(row['labels'])]})\n",
        "\n",
        "train_tensor_dataset = tokenize_dataset(train_dataset_float, 'sentence', 'labels', auto_tokenizer, **tokenizer_kwargs)\n",
        "test_tensor_dataset = tokenize_dataset(test_dataset_float, 'sentence', 'labels', auto_tokenizer, **tokenizer_kwargs)\n",
        "\n",
        "generator = torch.Generator()\n",
        "train_loader = DataLoader(train_tensor_dataset, batch_size=4, shuffle=True, generator=generator)\n",
        "test_loader = DataLoader(test_tensor_dataset, batch_size=8)"
      ]
    },
    {
      "cell_type": "markdown",
      "metadata": {
        "id": "a_zRWx9gPIps"
      },
      "source": [
        "### Model Configuration & Training"
      ]
    },
    {
      "cell_type": "code",
      "execution_count": 178,
      "metadata": {
        "id": "3Z1oEHNkPIps"
      },
      "outputs": [],
      "source": [
        "torch.manual_seed(41)\n",
        "bert_model = AutoModel.from_pretrained(\"distilbert-base-uncased\")\n",
        "model = BERTClassifier(bert_model, 128, n_outputs=1)\n",
        "loss_fn = nn.BCEWithLogitsLoss()\n",
        "optimizer = optim.Adam(model.parameters(), lr=1e-5)"
      ]
    },
    {
      "cell_type": "code",
      "execution_count": 179,
      "metadata": {
        "id": "yZL4UQsVPIpt"
      },
      "outputs": [],
      "source": [
        "sbs_bert = StepByStep(model, loss_fn, optimizer)\n",
        "sbs_bert.set_loaders(train_loader, test_loader)\n",
        "sbs_bert.train(1)"
      ]
    },
    {
      "cell_type": "code",
      "execution_count": 180,
      "metadata": {
        "colab": {
          "base_uri": "https://localhost:8080/"
        },
        "id": "4Uma227MPIpt",
        "outputId": "4947762b-9954-4100-c253-872107a51021"
      },
      "outputs": [
        {
          "output_type": "execute_result",
          "data": {
            "text/plain": [
              "66461441"
            ]
          },
          "metadata": {},
          "execution_count": 180
        }
      ],
      "source": [
        "sbs_bert.count_parameters()"
      ]
    },
    {
      "cell_type": "code",
      "execution_count": 181,
      "metadata": {
        "colab": {
          "base_uri": "https://localhost:8080/"
        },
        "id": "AOE-3A4jPIpt",
        "outputId": "406d6b02-9ad5-4697-895d-7e45ab9e5d73"
      },
      "outputs": [
        {
          "output_type": "execute_result",
          "data": {
            "text/plain": [
              "tensor([[438, 449],\n",
              "        [312, 322]])"
            ]
          },
          "metadata": {},
          "execution_count": 181
        }
      ],
      "source": [
        "StepByStep.loader_apply(test_loader, sbs_bert.correct)"
      ]
    },
    {
      "cell_type": "markdown",
      "metadata": {
        "id": "M-YD9bvDPIpt"
      },
      "source": [
        "# Fine-Tuning with HuggingFace"
      ]
    },
    {
      "cell_type": "markdown",
      "metadata": {
        "id": "BXihCcZSPIpt"
      },
      "source": [
        "## Sequence Classification (or Regression)"
      ]
    },
    {
      "cell_type": "code",
      "execution_count": 182,
      "metadata": {
        "id": "VsEGVD3wPIpt"
      },
      "outputs": [],
      "source": [
        "from transformers import DistilBertForSequenceClassification\n",
        "torch.manual_seed(42)\n",
        "bert_cls = DistilBertForSequenceClassification.from_pretrained('distilbert-base-uncased', num_labels=2)"
      ]
    },
    {
      "cell_type": "code",
      "execution_count": 183,
      "metadata": {
        "colab": {
          "base_uri": "https://localhost:8080/"
        },
        "id": "w7MQ1ApTPIpu",
        "outputId": "e5dd7b84-da8d-41cd-bd7a-2ebfc430fe3b"
      },
      "outputs": [
        {
          "output_type": "stream",
          "name": "stdout",
          "text": [
            "<class 'transformers.models.distilbert.modeling_distilbert.DistilBertForSequenceClassification'>\n"
          ]
        }
      ],
      "source": [
        "from transformers import AutoModelForSequenceClassification\n",
        "auto_cls = AutoModelForSequenceClassification.from_pretrained('distilbert-base-uncased', num_labels=2)\n",
        "print(auto_cls.__class__)"
      ]
    },
    {
      "cell_type": "markdown",
      "metadata": {
        "id": "_3eWB1c2PIpu"
      },
      "source": [
        "## Tokenized Dataset"
      ]
    },
    {
      "cell_type": "code",
      "execution_count": 184,
      "metadata": {
        "id": "VmJOKQcmPIpu"
      },
      "outputs": [],
      "source": [
        "auto_tokenizer = AutoTokenizer.from_pretrained('distilbert-base-uncased')\n",
        "def tokenize(row):\n",
        "    return auto_tokenizer(row['sentence'],\n",
        "                          truncation=True,\n",
        "                          padding='max_length',\n",
        "                          max_length=30)"
      ]
    },
    {
      "cell_type": "code",
      "execution_count": 185,
      "metadata": {
        "colab": {
          "base_uri": "https://localhost:8080/",
          "height": 81,
          "referenced_widgets": [
            "ad6c357ac4f04cfa8ed36bfecddb5227",
            "3ed9a8a7e3714f8ba1006008f0850036",
            "e3c73b54eaa94167bf165a89a5f2ae2b",
            "f7e645a88e34429289e876516e105ffd",
            "c48c273947a0424c9384b5d38575b604",
            "48eef16a0ab54d49b1ac471f1709bc5c",
            "a1324c9f796c416ba40e3dfcd5299b60",
            "2cf40fdcfc9d46359f69a66322dcb6e3",
            "44653831c3a844daa9034bb386a29ed1",
            "d9590c72fbd44ee7ae8dab79cdde750c",
            "525285600f324db18d1cb80f32e1766b",
            "3cdb4dc1769b4f32bd256466f8a47948",
            "7e043746a5584a278e4f39d6270dabd5",
            "05e98583d1f546a7940d2069f0ee61ad",
            "29ae273fd10140969e11aa97e526ada1",
            "753bfa91e07a42ca83039615653c544b",
            "12eeb97da24042fcbe3729a03afb4777",
            "c895e9d31fc2481881f6e596c12d1613",
            "af894e7420a94a9f8c5d7a1548ee7d36",
            "15cb1d2f83674959b87fb412be95a446",
            "23b078952d734fa9901c029b698bffa7",
            "ba8aeb74eea644d19de866f3bf87da17"
          ]
        },
        "id": "FzW2xAeDPIpu",
        "outputId": "719e23a2-584f-4af5-b7f1-575f9f84e4fe"
      },
      "outputs": [
        {
          "output_type": "display_data",
          "data": {
            "text/plain": [
              "Map:   0%|          | 0/3081 [00:00<?, ? examples/s]"
            ],
            "application/vnd.jupyter.widget-view+json": {
              "version_major": 2,
              "version_minor": 0,
              "model_id": "ad6c357ac4f04cfa8ed36bfecddb5227"
            }
          },
          "metadata": {}
        },
        {
          "output_type": "display_data",
          "data": {
            "text/plain": [
              "Map:   0%|          | 0/771 [00:00<?, ? examples/s]"
            ],
            "application/vnd.jupyter.widget-view+json": {
              "version_major": 2,
              "version_minor": 0,
              "model_id": "3cdb4dc1769b4f32bd256466f8a47948"
            }
          },
          "metadata": {}
        }
      ],
      "source": [
        "tokenized_train_dataset = train_dataset.map(tokenize, batched=True)\n",
        "tokenized_test_dataset = test_dataset.map(tokenize, batched=True)"
      ]
    },
    {
      "cell_type": "code",
      "execution_count": 186,
      "metadata": {
        "colab": {
          "base_uri": "https://localhost:8080/"
        },
        "id": "MCToy9BpPIpv",
        "outputId": "bb711075-b26b-481f-e628-b10c7c8db5ff"
      },
      "outputs": [
        {
          "output_type": "stream",
          "name": "stdout",
          "text": [
            "{'sentence': 'They walked back to the road.', 'source': 'wizoz10-1740.txt', 'labels': 0, 'input_ids': [101, 2027, 2939, 2067, 2000, 1996, 2346, 1012, 102, 0, 0, 0, 0, 0, 0, 0, 0, 0, 0, 0, 0, 0, 0, 0, 0, 0, 0, 0, 0, 0], 'attention_mask': [1, 1, 1, 1, 1, 1, 1, 1, 1, 0, 0, 0, 0, 0, 0, 0, 0, 0, 0, 0, 0, 0, 0, 0, 0, 0, 0, 0, 0, 0]}\n"
          ]
        }
      ],
      "source": [
        "print(tokenized_train_dataset[0])"
      ]
    },
    {
      "cell_type": "code",
      "execution_count": 187,
      "metadata": {
        "id": "OJGHlBQ9PIpv"
      },
      "outputs": [],
      "source": [
        "tokenized_train_dataset.set_format(type='torch', columns=['input_ids', 'attention_mask', 'labels'])\n",
        "tokenized_test_dataset.set_format(type='torch', columns=['input_ids', 'attention_mask', 'labels'])"
      ]
    },
    {
      "cell_type": "code",
      "execution_count": 188,
      "metadata": {
        "colab": {
          "base_uri": "https://localhost:8080/"
        },
        "id": "nsQJ3GjfPIpv",
        "outputId": "0782daa2-0178-46e2-848d-7cbf0b304814"
      },
      "outputs": [
        {
          "output_type": "execute_result",
          "data": {
            "text/plain": [
              "{'labels': tensor(0),\n",
              " 'input_ids': tensor([ 101, 2027, 2939, 2067, 2000, 1996, 2346, 1012,  102,    0,    0,    0,\n",
              "            0,    0,    0,    0,    0,    0,    0,    0,    0,    0,    0,    0,\n",
              "            0,    0,    0,    0,    0,    0]),\n",
              " 'attention_mask': tensor([1, 1, 1, 1, 1, 1, 1, 1, 1, 0, 0, 0, 0, 0, 0, 0, 0, 0, 0, 0, 0, 0, 0, 0,\n",
              "         0, 0, 0, 0, 0, 0])}"
            ]
          },
          "metadata": {},
          "execution_count": 188
        }
      ],
      "source": [
        "tokenized_train_dataset[0]"
      ]
    },
    {
      "cell_type": "markdown",
      "metadata": {
        "id": "pWBcmaN1PIpv"
      },
      "source": [
        "## Trainer"
      ]
    },
    {
      "cell_type": "code",
      "execution_count": 189,
      "metadata": {
        "id": "dHy5s29tPIpv",
        "colab": {
          "base_uri": "https://localhost:8080/"
        },
        "outputId": "0917cf46-3ced-4dcc-8a88-4a948c7f3e95"
      },
      "outputs": [
        {
          "output_type": "stream",
          "name": "stderr",
          "text": [
            "/usr/local/lib/python3.12/dist-packages/accelerate/accelerator.py:432: FutureWarning: Passing the following arguments to `Accelerator` is deprecated and will be removed in version 1.0 of Accelerate: dict_keys(['dispatch_batches', 'split_batches']). Please pass an `accelerate.DataLoaderConfiguration` instead: \n",
            "dataloader_config = DataLoaderConfiguration(dispatch_batches=None, split_batches=False)\n",
            "  warnings.warn(\n"
          ]
        }
      ],
      "source": [
        "from transformers import Trainer\n",
        "trainer = Trainer(model=bert_cls, train_dataset=tokenized_train_dataset)"
      ]
    },
    {
      "cell_type": "code",
      "execution_count": 190,
      "metadata": {
        "colab": {
          "base_uri": "https://localhost:8080/"
        },
        "id": "O7pDhbwdPIpw",
        "outputId": "96aa6fd0-6328-4b41-c1a5-21d22c95d1ee"
      },
      "outputs": [
        {
          "output_type": "execute_result",
          "data": {
            "text/plain": [
              "TrainingArguments(\n",
              "_n_gpu=1,\n",
              "adafactor=False,\n",
              "adam_beta1=0.9,\n",
              "adam_beta2=0.999,\n",
              "adam_epsilon=1e-08,\n",
              "auto_find_batch_size=False,\n",
              "bf16=False,\n",
              "bf16_full_eval=False,\n",
              "data_seed=None,\n",
              "dataloader_drop_last=False,\n",
              "dataloader_num_workers=0,\n",
              "dataloader_persistent_workers=False,\n",
              "dataloader_pin_memory=True,\n",
              "ddp_backend=None,\n",
              "ddp_broadcast_buffers=None,\n",
              "ddp_bucket_cap_mb=None,\n",
              "ddp_find_unused_parameters=None,\n",
              "ddp_timeout=1800,\n",
              "debug=[],\n",
              "deepspeed=None,\n",
              "disable_tqdm=True,\n",
              "dispatch_batches=None,\n",
              "do_eval=False,\n",
              "do_predict=False,\n",
              "do_train=False,\n",
              "eval_accumulation_steps=None,\n",
              "eval_delay=0,\n",
              "eval_steps=None,\n",
              "evaluation_strategy=IntervalStrategy.NO,\n",
              "fp16=False,\n",
              "fp16_backend=auto,\n",
              "fp16_full_eval=False,\n",
              "fp16_opt_level=O1,\n",
              "fsdp=[],\n",
              "fsdp_config={'min_num_params': 0, 'xla': False, 'xla_fsdp_grad_ckpt': False},\n",
              "fsdp_min_num_params=0,\n",
              "fsdp_transformer_layer_cls_to_wrap=None,\n",
              "full_determinism=False,\n",
              "gradient_accumulation_steps=1,\n",
              "gradient_checkpointing=False,\n",
              "gradient_checkpointing_kwargs=None,\n",
              "greater_is_better=None,\n",
              "group_by_length=False,\n",
              "half_precision_backend=auto,\n",
              "hub_always_push=False,\n",
              "hub_model_id=None,\n",
              "hub_private_repo=False,\n",
              "hub_strategy=HubStrategy.EVERY_SAVE,\n",
              "hub_token=<HUB_TOKEN>,\n",
              "ignore_data_skip=False,\n",
              "include_inputs_for_metrics=False,\n",
              "include_num_input_tokens_seen=False,\n",
              "include_tokens_per_second=False,\n",
              "jit_mode_eval=False,\n",
              "label_names=None,\n",
              "label_smoothing_factor=0.0,\n",
              "learning_rate=5e-05,\n",
              "length_column_name=length,\n",
              "load_best_model_at_end=False,\n",
              "local_rank=0,\n",
              "log_level=passive,\n",
              "log_level_replica=warning,\n",
              "log_on_each_node=True,\n",
              "logging_dir=tmp_trainer/runs/Sep21_17-56-52_16d075c11ed5,\n",
              "logging_first_step=False,\n",
              "logging_nan_inf_filter=True,\n",
              "logging_steps=500,\n",
              "logging_strategy=IntervalStrategy.STEPS,\n",
              "lr_scheduler_kwargs={},\n",
              "lr_scheduler_type=SchedulerType.LINEAR,\n",
              "max_grad_norm=1.0,\n",
              "max_steps=-1,\n",
              "metric_for_best_model=None,\n",
              "mp_parameters=,\n",
              "neftune_noise_alpha=None,\n",
              "no_cuda=False,\n",
              "num_train_epochs=3.0,\n",
              "optim=OptimizerNames.ADAMW_TORCH,\n",
              "optim_args=None,\n",
              "output_dir=tmp_trainer,\n",
              "overwrite_output_dir=False,\n",
              "past_index=-1,\n",
              "per_device_eval_batch_size=8,\n",
              "per_device_train_batch_size=8,\n",
              "prediction_loss_only=False,\n",
              "push_to_hub=False,\n",
              "push_to_hub_model_id=None,\n",
              "push_to_hub_organization=None,\n",
              "push_to_hub_token=<PUSH_TO_HUB_TOKEN>,\n",
              "ray_scope=last,\n",
              "remove_unused_columns=True,\n",
              "report_to=['tensorboard', 'wandb'],\n",
              "resume_from_checkpoint=None,\n",
              "run_name=tmp_trainer,\n",
              "save_on_each_node=False,\n",
              "save_only_model=False,\n",
              "save_safetensors=True,\n",
              "save_steps=500,\n",
              "save_strategy=IntervalStrategy.STEPS,\n",
              "save_total_limit=None,\n",
              "seed=42,\n",
              "skip_memory_metrics=True,\n",
              "split_batches=False,\n",
              "tf32=None,\n",
              "torch_compile=False,\n",
              "torch_compile_backend=None,\n",
              "torch_compile_mode=None,\n",
              "torchdynamo=None,\n",
              "tpu_metrics_debug=False,\n",
              "tpu_num_cores=None,\n",
              "use_cpu=False,\n",
              "use_ipex=False,\n",
              "use_legacy_prediction_loop=False,\n",
              "use_mps_device=False,\n",
              "warmup_ratio=0.0,\n",
              "warmup_steps=0,\n",
              "weight_decay=0.0,\n",
              ")"
            ]
          },
          "metadata": {},
          "execution_count": 190
        }
      ],
      "source": [
        "trainer.args"
      ]
    },
    {
      "cell_type": "code",
      "execution_count": 191,
      "metadata": {
        "id": "vMVuTOSUPIpw"
      },
      "outputs": [],
      "source": [
        "from transformers import TrainingArguments\n",
        "training_args = TrainingArguments(\n",
        "    output_dir='output',\n",
        "    num_train_epochs=1,\n",
        "    per_device_train_batch_size=1,\n",
        "    per_device_eval_batch_size=8,\n",
        "    evaluation_strategy='steps',\n",
        "    eval_steps=300,\n",
        "    logging_steps=300,\n",
        "    gradient_accumulation_steps=8,\n",
        ")"
      ]
    },
    {
      "cell_type": "code",
      "execution_count": 192,
      "metadata": {
        "id": "LFxIhoybPIpw"
      },
      "outputs": [],
      "source": [
        "def compute_metrics(eval_pred):\n",
        "    predictions = eval_pred.predictions\n",
        "    labels = eval_pred.label_ids\n",
        "    predictions = np.argmax(predictions, axis=1)\n",
        "    return {\"accuracy\": (predictions == labels).mean()}"
      ]
    },
    {
      "cell_type": "code",
      "execution_count": 193,
      "metadata": {
        "id": "XKo42k7RPIpw",
        "colab": {
          "base_uri": "https://localhost:8080/"
        },
        "outputId": "5a87814e-c084-4322-a281-8cb31d8b7ba9"
      },
      "outputs": [
        {
          "output_type": "stream",
          "name": "stderr",
          "text": [
            "/usr/local/lib/python3.12/dist-packages/accelerate/accelerator.py:432: FutureWarning: Passing the following arguments to `Accelerator` is deprecated and will be removed in version 1.0 of Accelerate: dict_keys(['dispatch_batches', 'split_batches']). Please pass an `accelerate.DataLoaderConfiguration` instead: \n",
            "dataloader_config = DataLoaderConfiguration(dispatch_batches=None, split_batches=False)\n",
            "  warnings.warn(\n"
          ]
        }
      ],
      "source": [
        "trainer = Trainer(model=bert_cls,\n",
        "                  args=training_args,\n",
        "                  train_dataset=tokenized_train_dataset,\n",
        "                  eval_dataset=tokenized_test_dataset,\n",
        "                  compute_metrics=compute_metrics)"
      ]
    },
    {
      "cell_type": "code",
      "execution_count": 194,
      "metadata": {
        "colab": {
          "base_uri": "https://localhost:8080/",
          "height": 406
        },
        "id": "9wdDiBP4PIpw",
        "outputId": "e91bac0c-b9c4-41f4-cf43-3173f903efe2"
      },
      "outputs": [
        {
          "output_type": "display_data",
          "data": {
            "text/plain": [
              "<IPython.core.display.Javascript object>"
            ],
            "application/javascript": [
              "\n",
              "        window._wandbApiKey = new Promise((resolve, reject) => {\n",
              "            function loadScript(url) {\n",
              "            return new Promise(function(resolve, reject) {\n",
              "                let newScript = document.createElement(\"script\");\n",
              "                newScript.onerror = reject;\n",
              "                newScript.onload = resolve;\n",
              "                document.body.appendChild(newScript);\n",
              "                newScript.src = url;\n",
              "            });\n",
              "            }\n",
              "            loadScript(\"https://cdn.jsdelivr.net/npm/postmate/build/postmate.min.js\").then(() => {\n",
              "            const iframe = document.createElement('iframe')\n",
              "            iframe.style.cssText = \"width:0;height:0;border:none\"\n",
              "            document.body.appendChild(iframe)\n",
              "            const handshake = new Postmate({\n",
              "                container: iframe,\n",
              "                url: 'https://wandb.ai/authorize'\n",
              "            });\n",
              "            const timeout = setTimeout(() => reject(\"Couldn't auto authenticate\"), 5000)\n",
              "            handshake.then(function(child) {\n",
              "                child.on('authorize', data => {\n",
              "                    clearTimeout(timeout)\n",
              "                    resolve(data)\n",
              "                });\n",
              "            });\n",
              "            })\n",
              "        });\n",
              "    "
            ]
          },
          "metadata": {}
        },
        {
          "output_type": "stream",
          "name": "stderr",
          "text": [
            "\u001b[34m\u001b[1mwandb\u001b[0m: Logging into wandb.ai. (Learn how to deploy a W&B server locally: https://wandb.me/wandb-server)\n",
            "\u001b[34m\u001b[1mwandb\u001b[0m: You can find your API key in your browser here: https://wandb.ai/authorize?ref=models\n",
            "wandb: Paste an API key from your profile and hit enter:\n"
          ]
        },
        {
          "output_type": "error",
          "ename": "Abort",
          "evalue": "",
          "traceback": [
            "\u001b[0;31m---------------------------------------------------------------------------\u001b[0m",
            "\u001b[0;31mAbort\u001b[0m                                     Traceback (most recent call last)",
            "\u001b[0;32m/tmp/ipython-input-4032920361.py\u001b[0m in \u001b[0;36m<cell line: 0>\u001b[0;34m()\u001b[0m\n\u001b[0;32m----> 1\u001b[0;31m \u001b[0mtrainer\u001b[0m\u001b[0;34m.\u001b[0m\u001b[0mtrain\u001b[0m\u001b[0;34m(\u001b[0m\u001b[0;34m)\u001b[0m\u001b[0;34m\u001b[0m\u001b[0;34m\u001b[0m\u001b[0m\n\u001b[0m",
            "\u001b[0;32m/usr/local/lib/python3.12/dist-packages/transformers/trainer.py\u001b[0m in \u001b[0;36mtrain\u001b[0;34m(self, resume_from_checkpoint, trial, ignore_keys_for_eval, **kwargs)\u001b[0m\n\u001b[1;32m   1537\u001b[0m                 \u001b[0mhf_hub_utils\u001b[0m\u001b[0;34m.\u001b[0m\u001b[0menable_progress_bars\u001b[0m\u001b[0;34m(\u001b[0m\u001b[0;34m)\u001b[0m\u001b[0;34m\u001b[0m\u001b[0;34m\u001b[0m\u001b[0m\n\u001b[1;32m   1538\u001b[0m         \u001b[0;32melse\u001b[0m\u001b[0;34m:\u001b[0m\u001b[0;34m\u001b[0m\u001b[0;34m\u001b[0m\u001b[0m\n\u001b[0;32m-> 1539\u001b[0;31m             return inner_training_loop(\n\u001b[0m\u001b[1;32m   1540\u001b[0m                 \u001b[0margs\u001b[0m\u001b[0;34m=\u001b[0m\u001b[0margs\u001b[0m\u001b[0;34m,\u001b[0m\u001b[0;34m\u001b[0m\u001b[0;34m\u001b[0m\u001b[0m\n\u001b[1;32m   1541\u001b[0m                 \u001b[0mresume_from_checkpoint\u001b[0m\u001b[0;34m=\u001b[0m\u001b[0mresume_from_checkpoint\u001b[0m\u001b[0;34m,\u001b[0m\u001b[0;34m\u001b[0m\u001b[0;34m\u001b[0m\u001b[0m\n",
            "\u001b[0;32m/usr/local/lib/python3.12/dist-packages/transformers/trainer.py\u001b[0m in \u001b[0;36m_inner_training_loop\u001b[0;34m(self, batch_size, args, resume_from_checkpoint, trial, ignore_keys_for_eval)\u001b[0m\n\u001b[1;32m   1785\u001b[0m         \u001b[0mmodel\u001b[0m\u001b[0;34m.\u001b[0m\u001b[0mzero_grad\u001b[0m\u001b[0;34m(\u001b[0m\u001b[0;34m)\u001b[0m\u001b[0;34m\u001b[0m\u001b[0;34m\u001b[0m\u001b[0m\n\u001b[1;32m   1786\u001b[0m \u001b[0;34m\u001b[0m\u001b[0m\n\u001b[0;32m-> 1787\u001b[0;31m         \u001b[0mself\u001b[0m\u001b[0;34m.\u001b[0m\u001b[0mcontrol\u001b[0m \u001b[0;34m=\u001b[0m \u001b[0mself\u001b[0m\u001b[0;34m.\u001b[0m\u001b[0mcallback_handler\u001b[0m\u001b[0;34m.\u001b[0m\u001b[0mon_train_begin\u001b[0m\u001b[0;34m(\u001b[0m\u001b[0margs\u001b[0m\u001b[0;34m,\u001b[0m \u001b[0mself\u001b[0m\u001b[0;34m.\u001b[0m\u001b[0mstate\u001b[0m\u001b[0;34m,\u001b[0m \u001b[0mself\u001b[0m\u001b[0;34m.\u001b[0m\u001b[0mcontrol\u001b[0m\u001b[0;34m)\u001b[0m\u001b[0;34m\u001b[0m\u001b[0;34m\u001b[0m\u001b[0m\n\u001b[0m\u001b[1;32m   1788\u001b[0m \u001b[0;34m\u001b[0m\u001b[0m\n\u001b[1;32m   1789\u001b[0m         \u001b[0;31m# Skip the first epochs_trained epochs to get the random state of the dataloader at the right point.\u001b[0m\u001b[0;34m\u001b[0m\u001b[0;34m\u001b[0m\u001b[0m\n",
            "\u001b[0;32m/usr/local/lib/python3.12/dist-packages/transformers/trainer_callback.py\u001b[0m in \u001b[0;36mon_train_begin\u001b[0;34m(self, args, state, control)\u001b[0m\n\u001b[1;32m    368\u001b[0m     \u001b[0;32mdef\u001b[0m \u001b[0mon_train_begin\u001b[0m\u001b[0;34m(\u001b[0m\u001b[0mself\u001b[0m\u001b[0;34m,\u001b[0m \u001b[0margs\u001b[0m\u001b[0;34m:\u001b[0m \u001b[0mTrainingArguments\u001b[0m\u001b[0;34m,\u001b[0m \u001b[0mstate\u001b[0m\u001b[0;34m:\u001b[0m \u001b[0mTrainerState\u001b[0m\u001b[0;34m,\u001b[0m \u001b[0mcontrol\u001b[0m\u001b[0;34m:\u001b[0m \u001b[0mTrainerControl\u001b[0m\u001b[0;34m)\u001b[0m\u001b[0;34m:\u001b[0m\u001b[0;34m\u001b[0m\u001b[0;34m\u001b[0m\u001b[0m\n\u001b[1;32m    369\u001b[0m         \u001b[0mcontrol\u001b[0m\u001b[0;34m.\u001b[0m\u001b[0mshould_training_stop\u001b[0m \u001b[0;34m=\u001b[0m \u001b[0;32mFalse\u001b[0m\u001b[0;34m\u001b[0m\u001b[0;34m\u001b[0m\u001b[0m\n\u001b[0;32m--> 370\u001b[0;31m         \u001b[0;32mreturn\u001b[0m \u001b[0mself\u001b[0m\u001b[0;34m.\u001b[0m\u001b[0mcall_event\u001b[0m\u001b[0;34m(\u001b[0m\u001b[0;34m\"on_train_begin\"\u001b[0m\u001b[0;34m,\u001b[0m \u001b[0margs\u001b[0m\u001b[0;34m,\u001b[0m \u001b[0mstate\u001b[0m\u001b[0;34m,\u001b[0m \u001b[0mcontrol\u001b[0m\u001b[0;34m)\u001b[0m\u001b[0;34m\u001b[0m\u001b[0;34m\u001b[0m\u001b[0m\n\u001b[0m\u001b[1;32m    371\u001b[0m \u001b[0;34m\u001b[0m\u001b[0m\n\u001b[1;32m    372\u001b[0m     \u001b[0;32mdef\u001b[0m \u001b[0mon_train_end\u001b[0m\u001b[0;34m(\u001b[0m\u001b[0mself\u001b[0m\u001b[0;34m,\u001b[0m \u001b[0margs\u001b[0m\u001b[0;34m:\u001b[0m \u001b[0mTrainingArguments\u001b[0m\u001b[0;34m,\u001b[0m \u001b[0mstate\u001b[0m\u001b[0;34m:\u001b[0m \u001b[0mTrainerState\u001b[0m\u001b[0;34m,\u001b[0m \u001b[0mcontrol\u001b[0m\u001b[0;34m:\u001b[0m \u001b[0mTrainerControl\u001b[0m\u001b[0;34m)\u001b[0m\u001b[0;34m:\u001b[0m\u001b[0;34m\u001b[0m\u001b[0;34m\u001b[0m\u001b[0m\n",
            "\u001b[0;32m/usr/local/lib/python3.12/dist-packages/transformers/trainer_callback.py\u001b[0m in \u001b[0;36mcall_event\u001b[0;34m(self, event, args, state, control, **kwargs)\u001b[0m\n\u001b[1;32m    412\u001b[0m     \u001b[0;32mdef\u001b[0m \u001b[0mcall_event\u001b[0m\u001b[0;34m(\u001b[0m\u001b[0mself\u001b[0m\u001b[0;34m,\u001b[0m \u001b[0mevent\u001b[0m\u001b[0;34m,\u001b[0m \u001b[0margs\u001b[0m\u001b[0;34m,\u001b[0m \u001b[0mstate\u001b[0m\u001b[0;34m,\u001b[0m \u001b[0mcontrol\u001b[0m\u001b[0;34m,\u001b[0m \u001b[0;34m**\u001b[0m\u001b[0mkwargs\u001b[0m\u001b[0;34m)\u001b[0m\u001b[0;34m:\u001b[0m\u001b[0;34m\u001b[0m\u001b[0;34m\u001b[0m\u001b[0m\n\u001b[1;32m    413\u001b[0m         \u001b[0;32mfor\u001b[0m \u001b[0mcallback\u001b[0m \u001b[0;32min\u001b[0m \u001b[0mself\u001b[0m\u001b[0;34m.\u001b[0m\u001b[0mcallbacks\u001b[0m\u001b[0;34m:\u001b[0m\u001b[0;34m\u001b[0m\u001b[0;34m\u001b[0m\u001b[0m\n\u001b[0;32m--> 414\u001b[0;31m             result = getattr(callback, event)(\n\u001b[0m\u001b[1;32m    415\u001b[0m                 \u001b[0margs\u001b[0m\u001b[0;34m,\u001b[0m\u001b[0;34m\u001b[0m\u001b[0;34m\u001b[0m\u001b[0m\n\u001b[1;32m    416\u001b[0m                 \u001b[0mstate\u001b[0m\u001b[0;34m,\u001b[0m\u001b[0;34m\u001b[0m\u001b[0;34m\u001b[0m\u001b[0m\n",
            "\u001b[0;32m/usr/local/lib/python3.12/dist-packages/transformers/integrations/integration_utils.py\u001b[0m in \u001b[0;36mon_train_begin\u001b[0;34m(self, args, state, control, model, **kwargs)\u001b[0m\n\u001b[1;32m    765\u001b[0m             \u001b[0margs\u001b[0m\u001b[0;34m.\u001b[0m\u001b[0mrun_name\u001b[0m \u001b[0;34m=\u001b[0m \u001b[0;32mNone\u001b[0m\u001b[0;34m\u001b[0m\u001b[0;34m\u001b[0m\u001b[0m\n\u001b[1;32m    766\u001b[0m         \u001b[0;32mif\u001b[0m \u001b[0;32mnot\u001b[0m \u001b[0mself\u001b[0m\u001b[0;34m.\u001b[0m\u001b[0m_initialized\u001b[0m\u001b[0;34m:\u001b[0m\u001b[0;34m\u001b[0m\u001b[0;34m\u001b[0m\u001b[0m\n\u001b[0;32m--> 767\u001b[0;31m             \u001b[0mself\u001b[0m\u001b[0;34m.\u001b[0m\u001b[0msetup\u001b[0m\u001b[0;34m(\u001b[0m\u001b[0margs\u001b[0m\u001b[0;34m,\u001b[0m \u001b[0mstate\u001b[0m\u001b[0;34m,\u001b[0m \u001b[0mmodel\u001b[0m\u001b[0;34m,\u001b[0m \u001b[0;34m**\u001b[0m\u001b[0mkwargs\u001b[0m\u001b[0;34m)\u001b[0m\u001b[0;34m\u001b[0m\u001b[0;34m\u001b[0m\u001b[0m\n\u001b[0m\u001b[1;32m    768\u001b[0m \u001b[0;34m\u001b[0m\u001b[0m\n\u001b[1;32m    769\u001b[0m     \u001b[0;32mdef\u001b[0m \u001b[0mon_train_end\u001b[0m\u001b[0;34m(\u001b[0m\u001b[0mself\u001b[0m\u001b[0;34m,\u001b[0m \u001b[0margs\u001b[0m\u001b[0;34m,\u001b[0m \u001b[0mstate\u001b[0m\u001b[0;34m,\u001b[0m \u001b[0mcontrol\u001b[0m\u001b[0;34m,\u001b[0m \u001b[0mmodel\u001b[0m\u001b[0;34m=\u001b[0m\u001b[0;32mNone\u001b[0m\u001b[0;34m,\u001b[0m \u001b[0mtokenizer\u001b[0m\u001b[0;34m=\u001b[0m\u001b[0;32mNone\u001b[0m\u001b[0;34m,\u001b[0m \u001b[0;34m**\u001b[0m\u001b[0mkwargs\u001b[0m\u001b[0;34m)\u001b[0m\u001b[0;34m:\u001b[0m\u001b[0;34m\u001b[0m\u001b[0;34m\u001b[0m\u001b[0m\n",
            "\u001b[0;32m/usr/local/lib/python3.12/dist-packages/transformers/integrations/integration_utils.py\u001b[0m in \u001b[0;36msetup\u001b[0;34m(self, args, state, model, **kwargs)\u001b[0m\n\u001b[1;32m    738\u001b[0m \u001b[0;34m\u001b[0m\u001b[0m\n\u001b[1;32m    739\u001b[0m             \u001b[0;32mif\u001b[0m \u001b[0mself\u001b[0m\u001b[0;34m.\u001b[0m\u001b[0m_wandb\u001b[0m\u001b[0;34m.\u001b[0m\u001b[0mrun\u001b[0m \u001b[0;32mis\u001b[0m \u001b[0;32mNone\u001b[0m\u001b[0;34m:\u001b[0m\u001b[0;34m\u001b[0m\u001b[0;34m\u001b[0m\u001b[0m\n\u001b[0;32m--> 740\u001b[0;31m                 self._wandb.init(\n\u001b[0m\u001b[1;32m    741\u001b[0m                     \u001b[0mproject\u001b[0m\u001b[0;34m=\u001b[0m\u001b[0mos\u001b[0m\u001b[0;34m.\u001b[0m\u001b[0mgetenv\u001b[0m\u001b[0;34m(\u001b[0m\u001b[0;34m\"WANDB_PROJECT\"\u001b[0m\u001b[0;34m,\u001b[0m \u001b[0;34m\"huggingface\"\u001b[0m\u001b[0;34m)\u001b[0m\u001b[0;34m,\u001b[0m\u001b[0;34m\u001b[0m\u001b[0;34m\u001b[0m\u001b[0m\n\u001b[1;32m    742\u001b[0m                     \u001b[0;34m**\u001b[0m\u001b[0minit_args\u001b[0m\u001b[0;34m,\u001b[0m\u001b[0;34m\u001b[0m\u001b[0;34m\u001b[0m\u001b[0m\n",
            "\u001b[0;32m/usr/local/lib/python3.12/dist-packages/wandb/sdk/wandb_init.py\u001b[0m in \u001b[0;36minit\u001b[0;34m(entity, project, dir, id, name, notes, tags, config, config_exclude_keys, config_include_keys, allow_val_change, group, job_type, mode, force, anonymous, reinit, resume, resume_from, fork_from, save_code, tensorboard, sync_tensorboard, monitor_gym, settings)\u001b[0m\n\u001b[1;32m   1579\u001b[0m         \u001b[0;31m# Need to build delay into this sentry capture because our exit hooks\u001b[0m\u001b[0;34m\u001b[0m\u001b[0;34m\u001b[0m\u001b[0m\n\u001b[1;32m   1580\u001b[0m         \u001b[0;31m# mess with sentry's ability to send out errors before the program ends.\u001b[0m\u001b[0;34m\u001b[0m\u001b[0;34m\u001b[0m\u001b[0m\n\u001b[0;32m-> 1581\u001b[0;31m         \u001b[0mwandb\u001b[0m\u001b[0;34m.\u001b[0m\u001b[0m_sentry\u001b[0m\u001b[0;34m.\u001b[0m\u001b[0mreraise\u001b[0m\u001b[0;34m(\u001b[0m\u001b[0me\u001b[0m\u001b[0;34m)\u001b[0m\u001b[0;34m\u001b[0m\u001b[0;34m\u001b[0m\u001b[0m\n\u001b[0m",
            "\u001b[0;32m/usr/local/lib/python3.12/dist-packages/wandb/analytics/sentry.py\u001b[0m in \u001b[0;36mreraise\u001b[0;34m(self, exc)\u001b[0m\n\u001b[1;32m    160\u001b[0m         \u001b[0;31m# this will messily add this \"reraise\" function to the stack trace,\u001b[0m\u001b[0;34m\u001b[0m\u001b[0;34m\u001b[0m\u001b[0m\n\u001b[1;32m    161\u001b[0m         \u001b[0;31m# but hopefully it's not too bad\u001b[0m\u001b[0;34m\u001b[0m\u001b[0;34m\u001b[0m\u001b[0m\n\u001b[0;32m--> 162\u001b[0;31m         \u001b[0;32mraise\u001b[0m \u001b[0mexc\u001b[0m\u001b[0;34m.\u001b[0m\u001b[0mwith_traceback\u001b[0m\u001b[0;34m(\u001b[0m\u001b[0msys\u001b[0m\u001b[0;34m.\u001b[0m\u001b[0mexc_info\u001b[0m\u001b[0;34m(\u001b[0m\u001b[0;34m)\u001b[0m\u001b[0;34m[\u001b[0m\u001b[0;36m2\u001b[0m\u001b[0;34m]\u001b[0m\u001b[0;34m)\u001b[0m\u001b[0;34m\u001b[0m\u001b[0;34m\u001b[0m\u001b[0m\n\u001b[0m\u001b[1;32m    163\u001b[0m \u001b[0;34m\u001b[0m\u001b[0m\n\u001b[1;32m    164\u001b[0m     \u001b[0;34m@\u001b[0m\u001b[0m_safe_noop\u001b[0m\u001b[0;34m\u001b[0m\u001b[0;34m\u001b[0m\u001b[0m\n",
            "\u001b[0;32m/usr/local/lib/python3.12/dist-packages/wandb/sdk/wandb_init.py\u001b[0m in \u001b[0;36minit\u001b[0;34m(entity, project, dir, id, name, notes, tags, config, config_exclude_keys, config_include_keys, allow_val_change, group, job_type, mode, force, anonymous, reinit, resume, resume_from, fork_from, save_code, tensorboard, sync_tensorboard, monitor_gym, settings)\u001b[0m\n\u001b[1;32m   1502\u001b[0m         \u001b[0mwi\u001b[0m \u001b[0;34m=\u001b[0m \u001b[0m_WandbInit\u001b[0m\u001b[0;34m(\u001b[0m\u001b[0mwl\u001b[0m\u001b[0;34m,\u001b[0m \u001b[0minit_telemetry\u001b[0m\u001b[0;34m)\u001b[0m\u001b[0;34m\u001b[0m\u001b[0;34m\u001b[0m\u001b[0m\n\u001b[1;32m   1503\u001b[0m \u001b[0;34m\u001b[0m\u001b[0m\n\u001b[0;32m-> 1504\u001b[0;31m         \u001b[0mwi\u001b[0m\u001b[0;34m.\u001b[0m\u001b[0mmaybe_login\u001b[0m\u001b[0;34m(\u001b[0m\u001b[0minit_settings\u001b[0m\u001b[0;34m)\u001b[0m\u001b[0;34m\u001b[0m\u001b[0;34m\u001b[0m\u001b[0m\n\u001b[0m\u001b[1;32m   1505\u001b[0m         \u001b[0mrun_settings\u001b[0m\u001b[0;34m,\u001b[0m \u001b[0mshow_warnings\u001b[0m \u001b[0;34m=\u001b[0m \u001b[0mwi\u001b[0m\u001b[0;34m.\u001b[0m\u001b[0mmake_run_settings\u001b[0m\u001b[0;34m(\u001b[0m\u001b[0minit_settings\u001b[0m\u001b[0;34m)\u001b[0m\u001b[0;34m\u001b[0m\u001b[0;34m\u001b[0m\u001b[0m\n\u001b[1;32m   1506\u001b[0m \u001b[0;34m\u001b[0m\u001b[0m\n",
            "\u001b[0;32m/usr/local/lib/python3.12/dist-packages/wandb/sdk/wandb_init.py\u001b[0m in \u001b[0;36mmaybe_login\u001b[0;34m(self, init_settings)\u001b[0m\n\u001b[1;32m    188\u001b[0m             \u001b[0;32mreturn\u001b[0m\u001b[0;34m\u001b[0m\u001b[0;34m\u001b[0m\u001b[0m\n\u001b[1;32m    189\u001b[0m \u001b[0;34m\u001b[0m\u001b[0m\n\u001b[0;32m--> 190\u001b[0;31m         wandb_login._login(\n\u001b[0m\u001b[1;32m    191\u001b[0m             \u001b[0manonymous\u001b[0m\u001b[0;34m=\u001b[0m\u001b[0mrun_settings\u001b[0m\u001b[0;34m.\u001b[0m\u001b[0manonymous\u001b[0m\u001b[0;34m,\u001b[0m\u001b[0;34m\u001b[0m\u001b[0;34m\u001b[0m\u001b[0m\n\u001b[1;32m    192\u001b[0m             \u001b[0mhost\u001b[0m\u001b[0;34m=\u001b[0m\u001b[0mrun_settings\u001b[0m\u001b[0;34m.\u001b[0m\u001b[0mbase_url\u001b[0m\u001b[0;34m,\u001b[0m\u001b[0;34m\u001b[0m\u001b[0;34m\u001b[0m\u001b[0m\n",
            "\u001b[0;32m/usr/local/lib/python3.12/dist-packages/wandb/sdk/wandb_login.py\u001b[0m in \u001b[0;36m_login\u001b[0;34m(anonymous, key, relogin, host, force, timeout, verify, referrer, update_api_key, _silent, _disable_warning)\u001b[0m\n\u001b[1;32m    316\u001b[0m             \u001b[0mkey_is_pre_configured\u001b[0m \u001b[0;34m=\u001b[0m \u001b[0;32mTrue\u001b[0m\u001b[0;34m\u001b[0m\u001b[0;34m\u001b[0m\u001b[0m\n\u001b[1;32m    317\u001b[0m         \u001b[0;32melse\u001b[0m\u001b[0;34m:\u001b[0m\u001b[0;34m\u001b[0m\u001b[0;34m\u001b[0m\u001b[0m\n\u001b[0;32m--> 318\u001b[0;31m             \u001b[0mkey\u001b[0m\u001b[0;34m,\u001b[0m \u001b[0mkey_status\u001b[0m \u001b[0;34m=\u001b[0m \u001b[0mwlogin\u001b[0m\u001b[0;34m.\u001b[0m\u001b[0mprompt_api_key\u001b[0m\u001b[0;34m(\u001b[0m\u001b[0mreferrer\u001b[0m\u001b[0;34m=\u001b[0m\u001b[0mreferrer\u001b[0m\u001b[0;34m)\u001b[0m\u001b[0;34m\u001b[0m\u001b[0;34m\u001b[0m\u001b[0m\n\u001b[0m\u001b[1;32m    319\u001b[0m \u001b[0;34m\u001b[0m\u001b[0m\n\u001b[1;32m    320\u001b[0m     \u001b[0;32mif\u001b[0m \u001b[0mverify\u001b[0m\u001b[0;34m:\u001b[0m\u001b[0;34m\u001b[0m\u001b[0;34m\u001b[0m\u001b[0m\n",
            "\u001b[0;32m/usr/local/lib/python3.12/dist-packages/wandb/sdk/wandb_login.py\u001b[0m in \u001b[0;36mprompt_api_key\u001b[0;34m(self, referrer)\u001b[0m\n\u001b[1;32m    235\u001b[0m     ) -> Tuple[Optional[str], ApiKeyStatus]:\n\u001b[1;32m    236\u001b[0m         \u001b[0;34m\"\"\"Updates the global API key by prompting the user.\"\"\"\u001b[0m\u001b[0;34m\u001b[0m\u001b[0;34m\u001b[0m\u001b[0m\n\u001b[0;32m--> 237\u001b[0;31m         \u001b[0mkey\u001b[0m\u001b[0;34m,\u001b[0m \u001b[0mstatus\u001b[0m \u001b[0;34m=\u001b[0m \u001b[0mself\u001b[0m\u001b[0;34m.\u001b[0m\u001b[0m_prompt_api_key\u001b[0m\u001b[0;34m(\u001b[0m\u001b[0mreferrer\u001b[0m\u001b[0;34m)\u001b[0m\u001b[0;34m\u001b[0m\u001b[0;34m\u001b[0m\u001b[0m\n\u001b[0m\u001b[1;32m    238\u001b[0m         \u001b[0;32mif\u001b[0m \u001b[0mstatus\u001b[0m \u001b[0;34m==\u001b[0m \u001b[0mApiKeyStatus\u001b[0m\u001b[0;34m.\u001b[0m\u001b[0mNOTTY\u001b[0m\u001b[0;34m:\u001b[0m\u001b[0;34m\u001b[0m\u001b[0;34m\u001b[0m\u001b[0m\n\u001b[1;32m    239\u001b[0m             directive = (\n",
            "\u001b[0;32m/usr/local/lib/python3.12/dist-packages/wandb/sdk/wandb_login.py\u001b[0m in \u001b[0;36m_prompt_api_key\u001b[0;34m(self, referrer)\u001b[0m\n\u001b[1;32m    211\u001b[0m         \u001b[0;32mwhile\u001b[0m \u001b[0;32mTrue\u001b[0m\u001b[0;34m:\u001b[0m\u001b[0;34m\u001b[0m\u001b[0;34m\u001b[0m\u001b[0m\n\u001b[1;32m    212\u001b[0m             \u001b[0;32mtry\u001b[0m\u001b[0;34m:\u001b[0m\u001b[0;34m\u001b[0m\u001b[0;34m\u001b[0m\u001b[0m\n\u001b[0;32m--> 213\u001b[0;31m                 key = apikey.prompt_api_key(\n\u001b[0m\u001b[1;32m    214\u001b[0m                     \u001b[0mself\u001b[0m\u001b[0;34m.\u001b[0m\u001b[0m_settings\u001b[0m\u001b[0;34m,\u001b[0m\u001b[0;34m\u001b[0m\u001b[0;34m\u001b[0m\u001b[0m\n\u001b[1;32m    215\u001b[0m                     \u001b[0mapi\u001b[0m\u001b[0;34m=\u001b[0m\u001b[0mapi\u001b[0m\u001b[0;34m,\u001b[0m\u001b[0;34m\u001b[0m\u001b[0;34m\u001b[0m\u001b[0m\n",
            "\u001b[0;32m/usr/local/lib/python3.12/dist-packages/wandb/sdk/lib/apikey.py\u001b[0m in \u001b[0;36mprompt_api_key\u001b[0;34m(settings, api, input_callback, browser_callback, no_offline, no_create, local, referrer)\u001b[0m\n\u001b[1;32m    190\u001b[0m                 )\n\u001b[1;32m    191\u001b[0m             \u001b[0mwandb\u001b[0m\u001b[0;34m.\u001b[0m\u001b[0mtermlog\u001b[0m\u001b[0;34m(\u001b[0m\u001b[0m_api_key_prompt_str\u001b[0m\u001b[0;34m(\u001b[0m\u001b[0mapp_url\u001b[0m\u001b[0;34m,\u001b[0m \u001b[0mreferrer\u001b[0m\u001b[0;34m)\u001b[0m\u001b[0;34m)\u001b[0m\u001b[0;34m\u001b[0m\u001b[0;34m\u001b[0m\u001b[0m\n\u001b[0;32m--> 192\u001b[0;31m             \u001b[0mkey\u001b[0m \u001b[0;34m=\u001b[0m \u001b[0minput_callback\u001b[0m\u001b[0;34m(\u001b[0m\u001b[0mapi_ask\u001b[0m\u001b[0;34m)\u001b[0m\u001b[0;34m.\u001b[0m\u001b[0mstrip\u001b[0m\u001b[0;34m(\u001b[0m\u001b[0;34m)\u001b[0m\u001b[0;34m\u001b[0m\u001b[0;34m\u001b[0m\u001b[0m\n\u001b[0m\u001b[1;32m    193\u001b[0m     \u001b[0;32melif\u001b[0m \u001b[0mresult\u001b[0m \u001b[0;34m==\u001b[0m \u001b[0mLOGIN_CHOICE_NOTTY\u001b[0m\u001b[0;34m:\u001b[0m\u001b[0;34m\u001b[0m\u001b[0;34m\u001b[0m\u001b[0m\n\u001b[1;32m    194\u001b[0m         \u001b[0;31m# TODO: Needs refactor as this needs to be handled by caller\u001b[0m\u001b[0;34m\u001b[0m\u001b[0;34m\u001b[0m\u001b[0m\n",
            "\u001b[0;32m/usr/local/lib/python3.12/dist-packages/click/termui.py\u001b[0m in \u001b[0;36mprompt\u001b[0;34m(text, default, hide_input, confirmation_prompt, type, value_proc, prompt_suffix, show_default, err, show_choices)\u001b[0m\n\u001b[1;32m    166\u001b[0m     \u001b[0;32mwhile\u001b[0m \u001b[0;32mTrue\u001b[0m\u001b[0;34m:\u001b[0m\u001b[0;34m\u001b[0m\u001b[0;34m\u001b[0m\u001b[0m\n\u001b[1;32m    167\u001b[0m         \u001b[0;32mwhile\u001b[0m \u001b[0;32mTrue\u001b[0m\u001b[0;34m:\u001b[0m\u001b[0;34m\u001b[0m\u001b[0;34m\u001b[0m\u001b[0m\n\u001b[0;32m--> 168\u001b[0;31m             \u001b[0mvalue\u001b[0m \u001b[0;34m=\u001b[0m \u001b[0mprompt_func\u001b[0m\u001b[0;34m(\u001b[0m\u001b[0mprompt\u001b[0m\u001b[0;34m)\u001b[0m\u001b[0;34m\u001b[0m\u001b[0;34m\u001b[0m\u001b[0m\n\u001b[0m\u001b[1;32m    169\u001b[0m             \u001b[0;32mif\u001b[0m \u001b[0mvalue\u001b[0m\u001b[0;34m:\u001b[0m\u001b[0;34m\u001b[0m\u001b[0;34m\u001b[0m\u001b[0m\n\u001b[1;32m    170\u001b[0m                 \u001b[0;32mbreak\u001b[0m\u001b[0;34m\u001b[0m\u001b[0;34m\u001b[0m\u001b[0m\n",
            "\u001b[0;32m/usr/local/lib/python3.12/dist-packages/click/termui.py\u001b[0m in \u001b[0;36mprompt_func\u001b[0;34m(text)\u001b[0m\n\u001b[1;32m    149\u001b[0m             \u001b[0;32mif\u001b[0m \u001b[0mhide_input\u001b[0m\u001b[0;34m:\u001b[0m\u001b[0;34m\u001b[0m\u001b[0;34m\u001b[0m\u001b[0m\n\u001b[1;32m    150\u001b[0m                 \u001b[0mecho\u001b[0m\u001b[0;34m(\u001b[0m\u001b[0;32mNone\u001b[0m\u001b[0;34m,\u001b[0m \u001b[0merr\u001b[0m\u001b[0;34m=\u001b[0m\u001b[0merr\u001b[0m\u001b[0;34m)\u001b[0m\u001b[0;34m\u001b[0m\u001b[0;34m\u001b[0m\u001b[0m\n\u001b[0;32m--> 151\u001b[0;31m             \u001b[0;32mraise\u001b[0m \u001b[0mAbort\u001b[0m\u001b[0;34m(\u001b[0m\u001b[0;34m)\u001b[0m \u001b[0;32mfrom\u001b[0m \u001b[0;32mNone\u001b[0m\u001b[0;34m\u001b[0m\u001b[0;34m\u001b[0m\u001b[0m\n\u001b[0m\u001b[1;32m    152\u001b[0m \u001b[0;34m\u001b[0m\u001b[0m\n\u001b[1;32m    153\u001b[0m     \u001b[0;32mif\u001b[0m \u001b[0mvalue_proc\u001b[0m \u001b[0;32mis\u001b[0m \u001b[0;32mNone\u001b[0m\u001b[0;34m:\u001b[0m\u001b[0;34m\u001b[0m\u001b[0;34m\u001b[0m\u001b[0m\n",
            "\u001b[0;31mAbort\u001b[0m: "
          ]
        }
      ],
      "source": [
        "trainer.train()"
      ]
    },
    {
      "cell_type": "code",
      "execution_count": null,
      "metadata": {
        "id": "j_i6kvF5PIpx"
      },
      "outputs": [],
      "source": [
        "trainer.evaluate()"
      ]
    },
    {
      "cell_type": "code",
      "execution_count": null,
      "metadata": {
        "id": "2KOMV6iQPIpx"
      },
      "outputs": [],
      "source": [
        "trainer.save_model('bert_alice_vs_wizard')\n",
        "os.listdir('bert_alice_vs_wizard')"
      ]
    },
    {
      "cell_type": "code",
      "execution_count": null,
      "metadata": {
        "id": "1WpIt7WvPIpx"
      },
      "outputs": [],
      "source": [
        "loaded_model = AutoModelForSequenceClassification.from_pretrained('bert_alice_vs_wizard')\n",
        "loaded_model.device"
      ]
    },
    {
      "cell_type": "code",
      "execution_count": null,
      "metadata": {
        "id": "LrmSH5kSPIpx",
        "scrolled": true
      },
      "outputs": [],
      "source": [
        "\n",
        "loaded_model.to(device)\n",
        "loaded_model.device"
      ]
    },
    {
      "cell_type": "markdown",
      "metadata": {
        "id": "I_6MnEPTPIpx"
      },
      "source": [
        "## Predictions"
      ]
    },
    {
      "cell_type": "code",
      "execution_count": null,
      "metadata": {
        "id": "3_dt7C28PIpy"
      },
      "outputs": [],
      "source": [
        "sentence = 'Down the yellow brick rabbit hole'\n",
        "tokens = auto_tokenizer(sentence, return_tensors='pt')\n",
        "tokens"
      ]
    },
    {
      "cell_type": "code",
      "execution_count": null,
      "metadata": {
        "id": "WAJtVv5fPIpy"
      },
      "outputs": [],
      "source": [
        "print(type(tokens))\n",
        "tokens.to(loaded_model.device)"
      ]
    },
    {
      "cell_type": "code",
      "execution_count": null,
      "metadata": {
        "id": "Fs4-3g2DPIpy"
      },
      "outputs": [],
      "source": [
        "loaded_model.eval()\n",
        "logits = loaded_model(input_ids=tokens['input_ids'], attention_mask=tokens['attention_mask'])\n",
        "logits"
      ]
    },
    {
      "cell_type": "code",
      "execution_count": null,
      "metadata": {
        "id": "_81JJd68PIpy"
      },
      "outputs": [],
      "source": [
        "logits.logits.argmax(dim=1)"
      ]
    },
    {
      "cell_type": "markdown",
      "metadata": {
        "id": "AOIE2XY-PIpy"
      },
      "source": [
        "## Pipeline"
      ]
    },
    {
      "cell_type": "code",
      "execution_count": null,
      "metadata": {
        "id": "eTdPgNWAPIpy"
      },
      "outputs": [],
      "source": [
        "from transformers import TextClassificationPipeline\n",
        "device_index = loaded_model.device.index if loaded_model.device.type != 'cpu' else -1\n",
        "classifier = TextClassificationPipeline(model=loaded_model,\n",
        "                                        tokenizer=auto_tokenizer,\n",
        "                                        device=device_index)"
      ]
    },
    {
      "cell_type": "code",
      "execution_count": null,
      "metadata": {
        "id": "rkhu6QaOPIpz"
      },
      "outputs": [],
      "source": [
        "classifier(['Down the Yellow Brick Rabbit Hole', 'Alice rules!'])"
      ]
    },
    {
      "cell_type": "code",
      "execution_count": null,
      "metadata": {
        "id": "57PmBUrZPIpz"
      },
      "outputs": [],
      "source": [
        "loaded_model.config.id2label = {0: 'Wizard', 1: 'Alice'}"
      ]
    },
    {
      "cell_type": "code",
      "execution_count": null,
      "metadata": {
        "id": "2xsmzplHPIpz"
      },
      "outputs": [],
      "source": [
        "classifier(['Down the Yellow Brick Rabbit Hole', 'Alice rules!'])"
      ]
    },
    {
      "cell_type": "markdown",
      "metadata": {
        "id": "MPv9QGnPPIpz"
      },
      "source": [
        "## More Pipelines"
      ]
    },
    {
      "cell_type": "code",
      "execution_count": null,
      "metadata": {
        "id": "orvV3n9wPIpz"
      },
      "outputs": [],
      "source": [
        "from transformers import pipeline\n",
        "sentiment = pipeline('sentiment-analysis')"
      ]
    },
    {
      "cell_type": "code",
      "execution_count": null,
      "metadata": {
        "id": "ZGiwPvGfPIp0"
      },
      "outputs": [],
      "source": [
        "sentence = train_dataset[0]['sentence']\n",
        "print(sentence)\n",
        "print(sentiment(sentence))"
      ]
    },
    {
      "cell_type": "code",
      "execution_count": null,
      "metadata": {
        "id": "x456QWjEPIp0"
      },
      "outputs": [],
      "source": [
        "from transformers.pipelines import SUPPORTED_TASKS\n",
        "# UPDATED\n",
        "###########################################################\n",
        "# sentiment-analysis was replaced by text-classification\n",
        "# in the dictionary of supported tasks\n",
        "# SUPPORTED_TASKS['sentiment-analysis']\n",
        "SUPPORTED_TASKS['text-classification']\n",
        "###########################################################"
      ]
    },
    {
      "cell_type": "code",
      "execution_count": null,
      "metadata": {
        "id": "Xk3TWVXxPIp0"
      },
      "outputs": [],
      "source": [
        "SUPPORTED_TASKS['text-generation']"
      ]
    },
    {
      "cell_type": "markdown",
      "metadata": {
        "id": "qpfW8LWvPIp0"
      },
      "source": [
        "# GPT-2"
      ]
    },
    {
      "cell_type": "code",
      "execution_count": null,
      "metadata": {
        "id": "0Gs2m5QtPIp0"
      },
      "outputs": [],
      "source": [
        "text_generator = pipeline(\"text-generation\")"
      ]
    },
    {
      "cell_type": "code",
      "execution_count": null,
      "metadata": {
        "id": "sNIhhyloPIp1"
      },
      "outputs": [],
      "source": [
        "text_generator.model.config.task_specific_params"
      ]
    },
    {
      "cell_type": "code",
      "execution_count": null,
      "metadata": {
        "id": "JAlA7qvJPIp1"
      },
      "outputs": [],
      "source": [
        "base_text = \"\"\"\n",
        "Alice was beginning to get very tired of sitting by her sister on the bank, and of having nothing to do:  once or twice she had peeped into the book her sister was reading, but it had no pictures or conversations in it, `and what is the use of a book,'thought Alice `without pictures or conversation?' So she was considering in her own mind (as well as she could, for the hot day made her feel very sleepy and stupid), whether the pleasure of making a daisy-chain would be worth the trouble of getting up and picking the daisies, when suddenly a White Rabbit with pink eyes ran close by her.\n",
        "\"\"\""
      ]
    },
    {
      "cell_type": "code",
      "execution_count": null,
      "metadata": {
        "id": "OGsxW7xVPIp1"
      },
      "outputs": [],
      "source": [
        "result = text_generator(base_text, max_length=250)\n",
        "print(result[0]['generated_text'])"
      ]
    },
    {
      "cell_type": "markdown",
      "metadata": {
        "id": "Kb1uve8LPIp1"
      },
      "source": [
        "# Putting It All Together"
      ]
    },
    {
      "cell_type": "markdown",
      "metadata": {
        "id": "BBjmamx_PIp1"
      },
      "source": [
        "## Data Preparation"
      ]
    },
    {
      "cell_type": "code",
      "execution_count": null,
      "metadata": {
        "id": "rKf7qtJkPIp1"
      },
      "outputs": [],
      "source": [
        "dataset = load_dataset(path='csv', data_files=['texts/alice28-1476.sent.csv'], quotechar='\\\\', split=Split.TRAIN)"
      ]
    },
    {
      "cell_type": "code",
      "execution_count": null,
      "metadata": {
        "id": "sRxp47A-PIp2"
      },
      "outputs": [],
      "source": [
        "shuffled_dataset = dataset.shuffle(seed=42)\n",
        "split_dataset = shuffled_dataset.train_test_split(test_size=0.2, seed=42)\n",
        "train_dataset, test_dataset = split_dataset['train'], split_dataset['test']"
      ]
    },
    {
      "cell_type": "code",
      "execution_count": null,
      "metadata": {
        "id": "gVF5IzXsPIp2"
      },
      "outputs": [],
      "source": [
        "auto_tokenizer = AutoTokenizer.from_pretrained('gpt2')\n",
        "def tokenize(row):\n",
        "    return auto_tokenizer(row['sentence'])"
      ]
    },
    {
      "cell_type": "code",
      "execution_count": null,
      "metadata": {
        "id": "YUBOlXsqPIp2"
      },
      "outputs": [],
      "source": [
        "tokenized_train_dataset = train_dataset.map(tokenize, remove_columns=['source', 'sentence'], batched=True)\n",
        "tokenized_test_dataset = test_dataset.map(tokenize, remove_columns=['source', 'sentence'], batched=True)"
      ]
    },
    {
      "cell_type": "code",
      "execution_count": null,
      "metadata": {
        "id": "m-4cJ4pAPIp2"
      },
      "outputs": [],
      "source": [
        "list(map(len, tokenized_train_dataset[0:6]['input_ids']))"
      ]
    },
    {
      "cell_type": "markdown",
      "metadata": {
        "id": "VKWqqWJ3PIp2"
      },
      "source": [
        "### \"Packed\" Dataset"
      ]
    },
    {
      "cell_type": "markdown",
      "metadata": {
        "id": "U7aJwvXsPIp3"
      },
      "source": [
        "![](https://github.com/dvgodoy/PyTorchStepByStep/blob/master/images/block_tokens.png?raw=1)"
      ]
    },
    {
      "cell_type": "code",
      "execution_count": null,
      "metadata": {
        "id": "7lAMC3OtPIp3"
      },
      "outputs": [],
      "source": [
        "# Adapted from https://github.com/huggingface/transformers/blob/master/examples/pytorch/language-modeling/run_clm.py\n",
        "def group_texts(examples, block_size=128):\n",
        "    # Concatenate all texts.\n",
        "    concatenated_examples = {k: sum(examples[k], []) for k in examples.keys()}\n",
        "    total_length = len(concatenated_examples[list(examples.keys())[0]])\n",
        "    # We drop the small remainder, we could add padding if the model supported it instead of this drop, you can\n",
        "    # customize this part to your needs.\n",
        "    total_length = (total_length // block_size) * block_size\n",
        "    # Split by chunks of max_len.\n",
        "    result = {\n",
        "        k: [t[i : i + block_size] for i in range(0, total_length, block_size)]\n",
        "        for k, t in concatenated_examples.items()\n",
        "    }\n",
        "    result[\"labels\"] = result[\"input_ids\"].copy()\n",
        "    return result"
      ]
    },
    {
      "cell_type": "code",
      "execution_count": null,
      "metadata": {
        "id": "TirMA67-PIp3"
      },
      "outputs": [],
      "source": [
        "lm_train_dataset = tokenized_train_dataset.map(group_texts, batched=True)\n",
        "lm_test_dataset = tokenized_test_dataset.map(group_texts, batched=True)\n",
        "lm_train_dataset.set_format(type='torch')\n",
        "lm_test_dataset.set_format(type='torch')"
      ]
    },
    {
      "cell_type": "code",
      "execution_count": null,
      "metadata": {
        "id": "lwOa4nluPIp3"
      },
      "outputs": [],
      "source": [
        "print(lm_train_dataset[0]['input_ids'])"
      ]
    },
    {
      "cell_type": "code",
      "execution_count": null,
      "metadata": {
        "id": "hkJM5tc3PIp3"
      },
      "outputs": [],
      "source": [
        "len(lm_train_dataset), len(lm_test_dataset)"
      ]
    },
    {
      "cell_type": "markdown",
      "metadata": {
        "id": "MgLxoOb-PIp3"
      },
      "source": [
        "## Model Configuration & Training"
      ]
    },
    {
      "cell_type": "code",
      "execution_count": null,
      "metadata": {
        "id": "q9NLtw1APIp4"
      },
      "outputs": [],
      "source": [
        "from transformers import AutoModelForCausalLM\n",
        "model = AutoModelForCausalLM.from_pretrained('gpt2')\n",
        "print(model.__class__)"
      ]
    },
    {
      "cell_type": "code",
      "execution_count": null,
      "metadata": {
        "id": "4fI5PE_nPIp4"
      },
      "outputs": [],
      "source": [
        "model.resize_token_embeddings(len(auto_tokenizer))"
      ]
    },
    {
      "cell_type": "code",
      "execution_count": null,
      "metadata": {
        "id": "Ta_7BbrVPIp4"
      },
      "outputs": [],
      "source": [
        "training_args = TrainingArguments(\n",
        "    output_dir='output',\n",
        "    num_train_epochs=1,\n",
        "    per_device_train_batch_size=1,\n",
        "    per_device_eval_batch_size=8,\n",
        "    evaluation_strategy='steps',\n",
        "    eval_steps=50,\n",
        "    logging_steps=50,\n",
        "    gradient_accumulation_steps=4,\n",
        "    prediction_loss_only=True,\n",
        ")\n",
        "\n",
        "trainer = Trainer(model=model,\n",
        "                  args=training_args,\n",
        "                  train_dataset=lm_train_dataset,\n",
        "                  eval_dataset=lm_test_dataset)"
      ]
    },
    {
      "cell_type": "code",
      "execution_count": null,
      "metadata": {
        "id": "3WQN-YhePIp4"
      },
      "outputs": [],
      "source": [
        "trainer.train()"
      ]
    },
    {
      "cell_type": "code",
      "execution_count": null,
      "metadata": {
        "id": "_ru9UY-NPIp5"
      },
      "outputs": [],
      "source": [
        "trainer.evaluate()"
      ]
    },
    {
      "cell_type": "markdown",
      "metadata": {
        "id": "UYsl0aOiPIp5"
      },
      "source": [
        "## Generating Text"
      ]
    },
    {
      "cell_type": "code",
      "execution_count": null,
      "metadata": {
        "id": "xhkK5TIFPIp5"
      },
      "outputs": [],
      "source": [
        "device_index = model.device.index if model.device.type != 'cpu' else -1\n",
        "gpt2_gen = pipeline('text-generation', model=model, tokenizer=auto_tokenizer, device=device_index)"
      ]
    },
    {
      "cell_type": "code",
      "execution_count": null,
      "metadata": {
        "id": "PF0RfSp4PIp5"
      },
      "outputs": [],
      "source": [
        "result = gpt2_gen(base_text, max_length=250)\n",
        "print(result[0]['generated_text'])"
      ]
    },
    {
      "cell_type": "code",
      "execution_count": null,
      "metadata": {
        "id": "DQG_yBYhPIp6"
      },
      "outputs": [],
      "source": []
    }
  ],
  "metadata": {
    "accelerator": "GPU",
    "colab": {
      "gpuType": "T4",
      "provenance": [],
      "include_colab_link": true
    },
    "kernelspec": {
      "display_name": "Python 3",
      "language": "python",
      "name": "python3"
    },
    "language_info": {
      "codemirror_mode": {
        "name": "ipython",
        "version": 3
      },
      "file_extension": ".py",
      "mimetype": "text/x-python",
      "name": "python",
      "nbconvert_exporter": "python",
      "pygments_lexer": "ipython3",
      "version": "3.7.4"
    },
    "widgets": {
      "application/vnd.jupyter.widget-state+json": {
        "84fbe6bcd21e45fb958ac904539e54d4": {
          "model_module": "@jupyter-widgets/controls",
          "model_name": "HBoxModel",
          "model_module_version": "1.5.0",
          "state": {
            "_dom_classes": [],
            "_model_module": "@jupyter-widgets/controls",
            "_model_module_version": "1.5.0",
            "_model_name": "HBoxModel",
            "_view_count": null,
            "_view_module": "@jupyter-widgets/controls",
            "_view_module_version": "1.5.0",
            "_view_name": "HBoxView",
            "box_style": "",
            "children": [
              "IPY_MODEL_ed50390609f44708a5f26c18b1cd0275",
              "IPY_MODEL_931dabe2c9bd4b688822a5957ebc28f2",
              "IPY_MODEL_2ec0cd5228f649b8bd253f0fcc7914b3"
            ],
            "layout": "IPY_MODEL_9631f8b4b8a84cbe9415f5c567b88bb6"
          }
        },
        "ed50390609f44708a5f26c18b1cd0275": {
          "model_module": "@jupyter-widgets/controls",
          "model_name": "HTMLModel",
          "model_module_version": "1.5.0",
          "state": {
            "_dom_classes": [],
            "_model_module": "@jupyter-widgets/controls",
            "_model_module_version": "1.5.0",
            "_model_name": "HTMLModel",
            "_view_count": null,
            "_view_module": "@jupyter-widgets/controls",
            "_view_module_version": "1.5.0",
            "_view_name": "HTMLView",
            "description": "",
            "description_tooltip": null,
            "layout": "IPY_MODEL_30beb139ea5f4d198985402ffce704b3",
            "placeholder": "​",
            "style": "IPY_MODEL_c072cb1049d6486e8b62a93ed5152f31",
            "value": "Generating train split: "
          }
        },
        "931dabe2c9bd4b688822a5957ebc28f2": {
          "model_module": "@jupyter-widgets/controls",
          "model_name": "FloatProgressModel",
          "model_module_version": "1.5.0",
          "state": {
            "_dom_classes": [],
            "_model_module": "@jupyter-widgets/controls",
            "_model_module_version": "1.5.0",
            "_model_name": "FloatProgressModel",
            "_view_count": null,
            "_view_module": "@jupyter-widgets/controls",
            "_view_module_version": "1.5.0",
            "_view_name": "ProgressView",
            "bar_style": "success",
            "description": "",
            "description_tooltip": null,
            "layout": "IPY_MODEL_08350bab823b490981338822be7d456e",
            "max": 1,
            "min": 0,
            "orientation": "horizontal",
            "style": "IPY_MODEL_d15951e5d349498187ca7967f6c9a372",
            "value": 1
          }
        },
        "2ec0cd5228f649b8bd253f0fcc7914b3": {
          "model_module": "@jupyter-widgets/controls",
          "model_name": "HTMLModel",
          "model_module_version": "1.5.0",
          "state": {
            "_dom_classes": [],
            "_model_module": "@jupyter-widgets/controls",
            "_model_module_version": "1.5.0",
            "_model_name": "HTMLModel",
            "_view_count": null,
            "_view_module": "@jupyter-widgets/controls",
            "_view_module_version": "1.5.0",
            "_view_name": "HTMLView",
            "description": "",
            "description_tooltip": null,
            "layout": "IPY_MODEL_cbe4b78a62034a3a94bff6c09cdb697d",
            "placeholder": "​",
            "style": "IPY_MODEL_d6a2a4447fa940e583bddc1d182c6709",
            "value": " 3852/0 [00:00&lt;00:00, 59687.31 examples/s]"
          }
        },
        "9631f8b4b8a84cbe9415f5c567b88bb6": {
          "model_module": "@jupyter-widgets/base",
          "model_name": "LayoutModel",
          "model_module_version": "1.2.0",
          "state": {
            "_model_module": "@jupyter-widgets/base",
            "_model_module_version": "1.2.0",
            "_model_name": "LayoutModel",
            "_view_count": null,
            "_view_module": "@jupyter-widgets/base",
            "_view_module_version": "1.2.0",
            "_view_name": "LayoutView",
            "align_content": null,
            "align_items": null,
            "align_self": null,
            "border": null,
            "bottom": null,
            "display": null,
            "flex": null,
            "flex_flow": null,
            "grid_area": null,
            "grid_auto_columns": null,
            "grid_auto_flow": null,
            "grid_auto_rows": null,
            "grid_column": null,
            "grid_gap": null,
            "grid_row": null,
            "grid_template_areas": null,
            "grid_template_columns": null,
            "grid_template_rows": null,
            "height": null,
            "justify_content": null,
            "justify_items": null,
            "left": null,
            "margin": null,
            "max_height": null,
            "max_width": null,
            "min_height": null,
            "min_width": null,
            "object_fit": null,
            "object_position": null,
            "order": null,
            "overflow": null,
            "overflow_x": null,
            "overflow_y": null,
            "padding": null,
            "right": null,
            "top": null,
            "visibility": null,
            "width": null
          }
        },
        "30beb139ea5f4d198985402ffce704b3": {
          "model_module": "@jupyter-widgets/base",
          "model_name": "LayoutModel",
          "model_module_version": "1.2.0",
          "state": {
            "_model_module": "@jupyter-widgets/base",
            "_model_module_version": "1.2.0",
            "_model_name": "LayoutModel",
            "_view_count": null,
            "_view_module": "@jupyter-widgets/base",
            "_view_module_version": "1.2.0",
            "_view_name": "LayoutView",
            "align_content": null,
            "align_items": null,
            "align_self": null,
            "border": null,
            "bottom": null,
            "display": null,
            "flex": null,
            "flex_flow": null,
            "grid_area": null,
            "grid_auto_columns": null,
            "grid_auto_flow": null,
            "grid_auto_rows": null,
            "grid_column": null,
            "grid_gap": null,
            "grid_row": null,
            "grid_template_areas": null,
            "grid_template_columns": null,
            "grid_template_rows": null,
            "height": null,
            "justify_content": null,
            "justify_items": null,
            "left": null,
            "margin": null,
            "max_height": null,
            "max_width": null,
            "min_height": null,
            "min_width": null,
            "object_fit": null,
            "object_position": null,
            "order": null,
            "overflow": null,
            "overflow_x": null,
            "overflow_y": null,
            "padding": null,
            "right": null,
            "top": null,
            "visibility": null,
            "width": null
          }
        },
        "c072cb1049d6486e8b62a93ed5152f31": {
          "model_module": "@jupyter-widgets/controls",
          "model_name": "DescriptionStyleModel",
          "model_module_version": "1.5.0",
          "state": {
            "_model_module": "@jupyter-widgets/controls",
            "_model_module_version": "1.5.0",
            "_model_name": "DescriptionStyleModel",
            "_view_count": null,
            "_view_module": "@jupyter-widgets/base",
            "_view_module_version": "1.2.0",
            "_view_name": "StyleView",
            "description_width": ""
          }
        },
        "08350bab823b490981338822be7d456e": {
          "model_module": "@jupyter-widgets/base",
          "model_name": "LayoutModel",
          "model_module_version": "1.2.0",
          "state": {
            "_model_module": "@jupyter-widgets/base",
            "_model_module_version": "1.2.0",
            "_model_name": "LayoutModel",
            "_view_count": null,
            "_view_module": "@jupyter-widgets/base",
            "_view_module_version": "1.2.0",
            "_view_name": "LayoutView",
            "align_content": null,
            "align_items": null,
            "align_self": null,
            "border": null,
            "bottom": null,
            "display": null,
            "flex": null,
            "flex_flow": null,
            "grid_area": null,
            "grid_auto_columns": null,
            "grid_auto_flow": null,
            "grid_auto_rows": null,
            "grid_column": null,
            "grid_gap": null,
            "grid_row": null,
            "grid_template_areas": null,
            "grid_template_columns": null,
            "grid_template_rows": null,
            "height": null,
            "justify_content": null,
            "justify_items": null,
            "left": null,
            "margin": null,
            "max_height": null,
            "max_width": null,
            "min_height": null,
            "min_width": null,
            "object_fit": null,
            "object_position": null,
            "order": null,
            "overflow": null,
            "overflow_x": null,
            "overflow_y": null,
            "padding": null,
            "right": null,
            "top": null,
            "visibility": null,
            "width": "20px"
          }
        },
        "d15951e5d349498187ca7967f6c9a372": {
          "model_module": "@jupyter-widgets/controls",
          "model_name": "ProgressStyleModel",
          "model_module_version": "1.5.0",
          "state": {
            "_model_module": "@jupyter-widgets/controls",
            "_model_module_version": "1.5.0",
            "_model_name": "ProgressStyleModel",
            "_view_count": null,
            "_view_module": "@jupyter-widgets/base",
            "_view_module_version": "1.2.0",
            "_view_name": "StyleView",
            "bar_color": null,
            "description_width": ""
          }
        },
        "cbe4b78a62034a3a94bff6c09cdb697d": {
          "model_module": "@jupyter-widgets/base",
          "model_name": "LayoutModel",
          "model_module_version": "1.2.0",
          "state": {
            "_model_module": "@jupyter-widgets/base",
            "_model_module_version": "1.2.0",
            "_model_name": "LayoutModel",
            "_view_count": null,
            "_view_module": "@jupyter-widgets/base",
            "_view_module_version": "1.2.0",
            "_view_name": "LayoutView",
            "align_content": null,
            "align_items": null,
            "align_self": null,
            "border": null,
            "bottom": null,
            "display": null,
            "flex": null,
            "flex_flow": null,
            "grid_area": null,
            "grid_auto_columns": null,
            "grid_auto_flow": null,
            "grid_auto_rows": null,
            "grid_column": null,
            "grid_gap": null,
            "grid_row": null,
            "grid_template_areas": null,
            "grid_template_columns": null,
            "grid_template_rows": null,
            "height": null,
            "justify_content": null,
            "justify_items": null,
            "left": null,
            "margin": null,
            "max_height": null,
            "max_width": null,
            "min_height": null,
            "min_width": null,
            "object_fit": null,
            "object_position": null,
            "order": null,
            "overflow": null,
            "overflow_x": null,
            "overflow_y": null,
            "padding": null,
            "right": null,
            "top": null,
            "visibility": null,
            "width": null
          }
        },
        "d6a2a4447fa940e583bddc1d182c6709": {
          "model_module": "@jupyter-widgets/controls",
          "model_name": "DescriptionStyleModel",
          "model_module_version": "1.5.0",
          "state": {
            "_model_module": "@jupyter-widgets/controls",
            "_model_module_version": "1.5.0",
            "_model_name": "DescriptionStyleModel",
            "_view_count": null,
            "_view_module": "@jupyter-widgets/base",
            "_view_module_version": "1.2.0",
            "_view_name": "StyleView",
            "description_width": ""
          }
        },
        "3851f7513b59416991d022849549dcfd": {
          "model_module": "@jupyter-widgets/controls",
          "model_name": "HBoxModel",
          "model_module_version": "1.5.0",
          "state": {
            "_dom_classes": [],
            "_model_module": "@jupyter-widgets/controls",
            "_model_module_version": "1.5.0",
            "_model_name": "HBoxModel",
            "_view_count": null,
            "_view_module": "@jupyter-widgets/controls",
            "_view_module_version": "1.5.0",
            "_view_name": "HBoxView",
            "box_style": "",
            "children": [
              "IPY_MODEL_7e4c37a363ca4cbcbacecfed5ee07309",
              "IPY_MODEL_52404e24af0c4156932ccca3635af78a",
              "IPY_MODEL_8c26703d10304fbaae57d3559f7eeeb1"
            ],
            "layout": "IPY_MODEL_9dc7cafc09da4b169e63eb7aaadf67d5"
          }
        },
        "7e4c37a363ca4cbcbacecfed5ee07309": {
          "model_module": "@jupyter-widgets/controls",
          "model_name": "HTMLModel",
          "model_module_version": "1.5.0",
          "state": {
            "_dom_classes": [],
            "_model_module": "@jupyter-widgets/controls",
            "_model_module_version": "1.5.0",
            "_model_name": "HTMLModel",
            "_view_count": null,
            "_view_module": "@jupyter-widgets/controls",
            "_view_module_version": "1.5.0",
            "_view_name": "HTMLView",
            "description": "",
            "description_tooltip": null,
            "layout": "IPY_MODEL_f9a20dbb3e6d4ebdae2a471ff3a9cd8d",
            "placeholder": "​",
            "style": "IPY_MODEL_47775547abd7439dadae74ce674c2c45",
            "value": "Map: 100%"
          }
        },
        "52404e24af0c4156932ccca3635af78a": {
          "model_module": "@jupyter-widgets/controls",
          "model_name": "FloatProgressModel",
          "model_module_version": "1.5.0",
          "state": {
            "_dom_classes": [],
            "_model_module": "@jupyter-widgets/controls",
            "_model_module_version": "1.5.0",
            "_model_name": "FloatProgressModel",
            "_view_count": null,
            "_view_module": "@jupyter-widgets/controls",
            "_view_module_version": "1.5.0",
            "_view_name": "ProgressView",
            "bar_style": "success",
            "description": "",
            "description_tooltip": null,
            "layout": "IPY_MODEL_19d206a25527433fb6a15c584f1e609b",
            "max": 3852,
            "min": 0,
            "orientation": "horizontal",
            "style": "IPY_MODEL_6522a8b70e4e46ac8b9748b272117455",
            "value": 3852
          }
        },
        "8c26703d10304fbaae57d3559f7eeeb1": {
          "model_module": "@jupyter-widgets/controls",
          "model_name": "HTMLModel",
          "model_module_version": "1.5.0",
          "state": {
            "_dom_classes": [],
            "_model_module": "@jupyter-widgets/controls",
            "_model_module_version": "1.5.0",
            "_model_name": "HTMLModel",
            "_view_count": null,
            "_view_module": "@jupyter-widgets/controls",
            "_view_module_version": "1.5.0",
            "_view_name": "HTMLView",
            "description": "",
            "description_tooltip": null,
            "layout": "IPY_MODEL_09dc685361d84d0bb9bfc53e7b755612",
            "placeholder": "​",
            "style": "IPY_MODEL_1becfc48b0a34d9bad98eaf60a22566c",
            "value": " 3852/3852 [00:00&lt;00:00, 12046.59 examples/s]"
          }
        },
        "9dc7cafc09da4b169e63eb7aaadf67d5": {
          "model_module": "@jupyter-widgets/base",
          "model_name": "LayoutModel",
          "model_module_version": "1.2.0",
          "state": {
            "_model_module": "@jupyter-widgets/base",
            "_model_module_version": "1.2.0",
            "_model_name": "LayoutModel",
            "_view_count": null,
            "_view_module": "@jupyter-widgets/base",
            "_view_module_version": "1.2.0",
            "_view_name": "LayoutView",
            "align_content": null,
            "align_items": null,
            "align_self": null,
            "border": null,
            "bottom": null,
            "display": null,
            "flex": null,
            "flex_flow": null,
            "grid_area": null,
            "grid_auto_columns": null,
            "grid_auto_flow": null,
            "grid_auto_rows": null,
            "grid_column": null,
            "grid_gap": null,
            "grid_row": null,
            "grid_template_areas": null,
            "grid_template_columns": null,
            "grid_template_rows": null,
            "height": null,
            "justify_content": null,
            "justify_items": null,
            "left": null,
            "margin": null,
            "max_height": null,
            "max_width": null,
            "min_height": null,
            "min_width": null,
            "object_fit": null,
            "object_position": null,
            "order": null,
            "overflow": null,
            "overflow_x": null,
            "overflow_y": null,
            "padding": null,
            "right": null,
            "top": null,
            "visibility": null,
            "width": null
          }
        },
        "f9a20dbb3e6d4ebdae2a471ff3a9cd8d": {
          "model_module": "@jupyter-widgets/base",
          "model_name": "LayoutModel",
          "model_module_version": "1.2.0",
          "state": {
            "_model_module": "@jupyter-widgets/base",
            "_model_module_version": "1.2.0",
            "_model_name": "LayoutModel",
            "_view_count": null,
            "_view_module": "@jupyter-widgets/base",
            "_view_module_version": "1.2.0",
            "_view_name": "LayoutView",
            "align_content": null,
            "align_items": null,
            "align_self": null,
            "border": null,
            "bottom": null,
            "display": null,
            "flex": null,
            "flex_flow": null,
            "grid_area": null,
            "grid_auto_columns": null,
            "grid_auto_flow": null,
            "grid_auto_rows": null,
            "grid_column": null,
            "grid_gap": null,
            "grid_row": null,
            "grid_template_areas": null,
            "grid_template_columns": null,
            "grid_template_rows": null,
            "height": null,
            "justify_content": null,
            "justify_items": null,
            "left": null,
            "margin": null,
            "max_height": null,
            "max_width": null,
            "min_height": null,
            "min_width": null,
            "object_fit": null,
            "object_position": null,
            "order": null,
            "overflow": null,
            "overflow_x": null,
            "overflow_y": null,
            "padding": null,
            "right": null,
            "top": null,
            "visibility": null,
            "width": null
          }
        },
        "47775547abd7439dadae74ce674c2c45": {
          "model_module": "@jupyter-widgets/controls",
          "model_name": "DescriptionStyleModel",
          "model_module_version": "1.5.0",
          "state": {
            "_model_module": "@jupyter-widgets/controls",
            "_model_module_version": "1.5.0",
            "_model_name": "DescriptionStyleModel",
            "_view_count": null,
            "_view_module": "@jupyter-widgets/base",
            "_view_module_version": "1.2.0",
            "_view_name": "StyleView",
            "description_width": ""
          }
        },
        "19d206a25527433fb6a15c584f1e609b": {
          "model_module": "@jupyter-widgets/base",
          "model_name": "LayoutModel",
          "model_module_version": "1.2.0",
          "state": {
            "_model_module": "@jupyter-widgets/base",
            "_model_module_version": "1.2.0",
            "_model_name": "LayoutModel",
            "_view_count": null,
            "_view_module": "@jupyter-widgets/base",
            "_view_module_version": "1.2.0",
            "_view_name": "LayoutView",
            "align_content": null,
            "align_items": null,
            "align_self": null,
            "border": null,
            "bottom": null,
            "display": null,
            "flex": null,
            "flex_flow": null,
            "grid_area": null,
            "grid_auto_columns": null,
            "grid_auto_flow": null,
            "grid_auto_rows": null,
            "grid_column": null,
            "grid_gap": null,
            "grid_row": null,
            "grid_template_areas": null,
            "grid_template_columns": null,
            "grid_template_rows": null,
            "height": null,
            "justify_content": null,
            "justify_items": null,
            "left": null,
            "margin": null,
            "max_height": null,
            "max_width": null,
            "min_height": null,
            "min_width": null,
            "object_fit": null,
            "object_position": null,
            "order": null,
            "overflow": null,
            "overflow_x": null,
            "overflow_y": null,
            "padding": null,
            "right": null,
            "top": null,
            "visibility": null,
            "width": null
          }
        },
        "6522a8b70e4e46ac8b9748b272117455": {
          "model_module": "@jupyter-widgets/controls",
          "model_name": "ProgressStyleModel",
          "model_module_version": "1.5.0",
          "state": {
            "_model_module": "@jupyter-widgets/controls",
            "_model_module_version": "1.5.0",
            "_model_name": "ProgressStyleModel",
            "_view_count": null,
            "_view_module": "@jupyter-widgets/base",
            "_view_module_version": "1.2.0",
            "_view_name": "StyleView",
            "bar_color": null,
            "description_width": ""
          }
        },
        "09dc685361d84d0bb9bfc53e7b755612": {
          "model_module": "@jupyter-widgets/base",
          "model_name": "LayoutModel",
          "model_module_version": "1.2.0",
          "state": {
            "_model_module": "@jupyter-widgets/base",
            "_model_module_version": "1.2.0",
            "_model_name": "LayoutModel",
            "_view_count": null,
            "_view_module": "@jupyter-widgets/base",
            "_view_module_version": "1.2.0",
            "_view_name": "LayoutView",
            "align_content": null,
            "align_items": null,
            "align_self": null,
            "border": null,
            "bottom": null,
            "display": null,
            "flex": null,
            "flex_flow": null,
            "grid_area": null,
            "grid_auto_columns": null,
            "grid_auto_flow": null,
            "grid_auto_rows": null,
            "grid_column": null,
            "grid_gap": null,
            "grid_row": null,
            "grid_template_areas": null,
            "grid_template_columns": null,
            "grid_template_rows": null,
            "height": null,
            "justify_content": null,
            "justify_items": null,
            "left": null,
            "margin": null,
            "max_height": null,
            "max_width": null,
            "min_height": null,
            "min_width": null,
            "object_fit": null,
            "object_position": null,
            "order": null,
            "overflow": null,
            "overflow_x": null,
            "overflow_y": null,
            "padding": null,
            "right": null,
            "top": null,
            "visibility": null,
            "width": null
          }
        },
        "1becfc48b0a34d9bad98eaf60a22566c": {
          "model_module": "@jupyter-widgets/controls",
          "model_name": "DescriptionStyleModel",
          "model_module_version": "1.5.0",
          "state": {
            "_model_module": "@jupyter-widgets/controls",
            "_model_module_version": "1.5.0",
            "_model_name": "DescriptionStyleModel",
            "_view_count": null,
            "_view_module": "@jupyter-widgets/base",
            "_view_module_version": "1.2.0",
            "_view_name": "StyleView",
            "description_width": ""
          }
        },
        "6cd1d85a21c34b58b591d001ae452520": {
          "model_module": "@jupyter-widgets/controls",
          "model_name": "HBoxModel",
          "model_module_version": "1.5.0",
          "state": {
            "_dom_classes": [],
            "_model_module": "@jupyter-widgets/controls",
            "_model_module_version": "1.5.0",
            "_model_name": "HBoxModel",
            "_view_count": null,
            "_view_module": "@jupyter-widgets/controls",
            "_view_module_version": "1.5.0",
            "_view_name": "HBoxView",
            "box_style": "",
            "children": [
              "IPY_MODEL_7b4824a29f4f448985162acf9fdca6bc",
              "IPY_MODEL_ba089235fde14a9aa6a7b3a6d5177365",
              "IPY_MODEL_8dccd1b6290046ad8bf687f433d31bf8"
            ],
            "layout": "IPY_MODEL_ba43fc63a3c84084989223e767cdd0f1"
          }
        },
        "7b4824a29f4f448985162acf9fdca6bc": {
          "model_module": "@jupyter-widgets/controls",
          "model_name": "HTMLModel",
          "model_module_version": "1.5.0",
          "state": {
            "_dom_classes": [],
            "_model_module": "@jupyter-widgets/controls",
            "_model_module_version": "1.5.0",
            "_model_name": "HTMLModel",
            "_view_count": null,
            "_view_module": "@jupyter-widgets/controls",
            "_view_module_version": "1.5.0",
            "_view_name": "HTMLView",
            "description": "",
            "description_tooltip": null,
            "layout": "IPY_MODEL_014b95d0c82544fb8b55e3a05b77f758",
            "placeholder": "​",
            "style": "IPY_MODEL_af8b46b8ae904789859e830cd327e221",
            "value": "Map: 100%"
          }
        },
        "ba089235fde14a9aa6a7b3a6d5177365": {
          "model_module": "@jupyter-widgets/controls",
          "model_name": "FloatProgressModel",
          "model_module_version": "1.5.0",
          "state": {
            "_dom_classes": [],
            "_model_module": "@jupyter-widgets/controls",
            "_model_module_version": "1.5.0",
            "_model_name": "FloatProgressModel",
            "_view_count": null,
            "_view_module": "@jupyter-widgets/controls",
            "_view_module_version": "1.5.0",
            "_view_name": "ProgressView",
            "bar_style": "success",
            "description": "",
            "description_tooltip": null,
            "layout": "IPY_MODEL_165bf5f14abd4818a845ddbf74407b75",
            "max": 3081,
            "min": 0,
            "orientation": "horizontal",
            "style": "IPY_MODEL_0ba0cd8ae2b94ec08e382665fc3934d8",
            "value": 3081
          }
        },
        "8dccd1b6290046ad8bf687f433d31bf8": {
          "model_module": "@jupyter-widgets/controls",
          "model_name": "HTMLModel",
          "model_module_version": "1.5.0",
          "state": {
            "_dom_classes": [],
            "_model_module": "@jupyter-widgets/controls",
            "_model_module_version": "1.5.0",
            "_model_name": "HTMLModel",
            "_view_count": null,
            "_view_module": "@jupyter-widgets/controls",
            "_view_module_version": "1.5.0",
            "_view_name": "HTMLView",
            "description": "",
            "description_tooltip": null,
            "layout": "IPY_MODEL_c99923e7789040da88a4f92ff56f2a72",
            "placeholder": "​",
            "style": "IPY_MODEL_db077f1df80a496db53ae145a2632476",
            "value": " 3081/3081 [00:00&lt;00:00, 12013.79 examples/s]"
          }
        },
        "ba43fc63a3c84084989223e767cdd0f1": {
          "model_module": "@jupyter-widgets/base",
          "model_name": "LayoutModel",
          "model_module_version": "1.2.0",
          "state": {
            "_model_module": "@jupyter-widgets/base",
            "_model_module_version": "1.2.0",
            "_model_name": "LayoutModel",
            "_view_count": null,
            "_view_module": "@jupyter-widgets/base",
            "_view_module_version": "1.2.0",
            "_view_name": "LayoutView",
            "align_content": null,
            "align_items": null,
            "align_self": null,
            "border": null,
            "bottom": null,
            "display": null,
            "flex": null,
            "flex_flow": null,
            "grid_area": null,
            "grid_auto_columns": null,
            "grid_auto_flow": null,
            "grid_auto_rows": null,
            "grid_column": null,
            "grid_gap": null,
            "grid_row": null,
            "grid_template_areas": null,
            "grid_template_columns": null,
            "grid_template_rows": null,
            "height": null,
            "justify_content": null,
            "justify_items": null,
            "left": null,
            "margin": null,
            "max_height": null,
            "max_width": null,
            "min_height": null,
            "min_width": null,
            "object_fit": null,
            "object_position": null,
            "order": null,
            "overflow": null,
            "overflow_x": null,
            "overflow_y": null,
            "padding": null,
            "right": null,
            "top": null,
            "visibility": null,
            "width": null
          }
        },
        "014b95d0c82544fb8b55e3a05b77f758": {
          "model_module": "@jupyter-widgets/base",
          "model_name": "LayoutModel",
          "model_module_version": "1.2.0",
          "state": {
            "_model_module": "@jupyter-widgets/base",
            "_model_module_version": "1.2.0",
            "_model_name": "LayoutModel",
            "_view_count": null,
            "_view_module": "@jupyter-widgets/base",
            "_view_module_version": "1.2.0",
            "_view_name": "LayoutView",
            "align_content": null,
            "align_items": null,
            "align_self": null,
            "border": null,
            "bottom": null,
            "display": null,
            "flex": null,
            "flex_flow": null,
            "grid_area": null,
            "grid_auto_columns": null,
            "grid_auto_flow": null,
            "grid_auto_rows": null,
            "grid_column": null,
            "grid_gap": null,
            "grid_row": null,
            "grid_template_areas": null,
            "grid_template_columns": null,
            "grid_template_rows": null,
            "height": null,
            "justify_content": null,
            "justify_items": null,
            "left": null,
            "margin": null,
            "max_height": null,
            "max_width": null,
            "min_height": null,
            "min_width": null,
            "object_fit": null,
            "object_position": null,
            "order": null,
            "overflow": null,
            "overflow_x": null,
            "overflow_y": null,
            "padding": null,
            "right": null,
            "top": null,
            "visibility": null,
            "width": null
          }
        },
        "af8b46b8ae904789859e830cd327e221": {
          "model_module": "@jupyter-widgets/controls",
          "model_name": "DescriptionStyleModel",
          "model_module_version": "1.5.0",
          "state": {
            "_model_module": "@jupyter-widgets/controls",
            "_model_module_version": "1.5.0",
            "_model_name": "DescriptionStyleModel",
            "_view_count": null,
            "_view_module": "@jupyter-widgets/base",
            "_view_module_version": "1.2.0",
            "_view_name": "StyleView",
            "description_width": ""
          }
        },
        "165bf5f14abd4818a845ddbf74407b75": {
          "model_module": "@jupyter-widgets/base",
          "model_name": "LayoutModel",
          "model_module_version": "1.2.0",
          "state": {
            "_model_module": "@jupyter-widgets/base",
            "_model_module_version": "1.2.0",
            "_model_name": "LayoutModel",
            "_view_count": null,
            "_view_module": "@jupyter-widgets/base",
            "_view_module_version": "1.2.0",
            "_view_name": "LayoutView",
            "align_content": null,
            "align_items": null,
            "align_self": null,
            "border": null,
            "bottom": null,
            "display": null,
            "flex": null,
            "flex_flow": null,
            "grid_area": null,
            "grid_auto_columns": null,
            "grid_auto_flow": null,
            "grid_auto_rows": null,
            "grid_column": null,
            "grid_gap": null,
            "grid_row": null,
            "grid_template_areas": null,
            "grid_template_columns": null,
            "grid_template_rows": null,
            "height": null,
            "justify_content": null,
            "justify_items": null,
            "left": null,
            "margin": null,
            "max_height": null,
            "max_width": null,
            "min_height": null,
            "min_width": null,
            "object_fit": null,
            "object_position": null,
            "order": null,
            "overflow": null,
            "overflow_x": null,
            "overflow_y": null,
            "padding": null,
            "right": null,
            "top": null,
            "visibility": null,
            "width": null
          }
        },
        "0ba0cd8ae2b94ec08e382665fc3934d8": {
          "model_module": "@jupyter-widgets/controls",
          "model_name": "ProgressStyleModel",
          "model_module_version": "1.5.0",
          "state": {
            "_model_module": "@jupyter-widgets/controls",
            "_model_module_version": "1.5.0",
            "_model_name": "ProgressStyleModel",
            "_view_count": null,
            "_view_module": "@jupyter-widgets/base",
            "_view_module_version": "1.2.0",
            "_view_name": "StyleView",
            "bar_color": null,
            "description_width": ""
          }
        },
        "c99923e7789040da88a4f92ff56f2a72": {
          "model_module": "@jupyter-widgets/base",
          "model_name": "LayoutModel",
          "model_module_version": "1.2.0",
          "state": {
            "_model_module": "@jupyter-widgets/base",
            "_model_module_version": "1.2.0",
            "_model_name": "LayoutModel",
            "_view_count": null,
            "_view_module": "@jupyter-widgets/base",
            "_view_module_version": "1.2.0",
            "_view_name": "LayoutView",
            "align_content": null,
            "align_items": null,
            "align_self": null,
            "border": null,
            "bottom": null,
            "display": null,
            "flex": null,
            "flex_flow": null,
            "grid_area": null,
            "grid_auto_columns": null,
            "grid_auto_flow": null,
            "grid_auto_rows": null,
            "grid_column": null,
            "grid_gap": null,
            "grid_row": null,
            "grid_template_areas": null,
            "grid_template_columns": null,
            "grid_template_rows": null,
            "height": null,
            "justify_content": null,
            "justify_items": null,
            "left": null,
            "margin": null,
            "max_height": null,
            "max_width": null,
            "min_height": null,
            "min_width": null,
            "object_fit": null,
            "object_position": null,
            "order": null,
            "overflow": null,
            "overflow_x": null,
            "overflow_y": null,
            "padding": null,
            "right": null,
            "top": null,
            "visibility": null,
            "width": null
          }
        },
        "db077f1df80a496db53ae145a2632476": {
          "model_module": "@jupyter-widgets/controls",
          "model_name": "DescriptionStyleModel",
          "model_module_version": "1.5.0",
          "state": {
            "_model_module": "@jupyter-widgets/controls",
            "_model_module_version": "1.5.0",
            "_model_name": "DescriptionStyleModel",
            "_view_count": null,
            "_view_module": "@jupyter-widgets/base",
            "_view_module_version": "1.2.0",
            "_view_name": "StyleView",
            "description_width": ""
          }
        },
        "fac0aeff160d4ed8ae8cadef9499d012": {
          "model_module": "@jupyter-widgets/controls",
          "model_name": "HBoxModel",
          "model_module_version": "1.5.0",
          "state": {
            "_dom_classes": [],
            "_model_module": "@jupyter-widgets/controls",
            "_model_module_version": "1.5.0",
            "_model_name": "HBoxModel",
            "_view_count": null,
            "_view_module": "@jupyter-widgets/controls",
            "_view_module_version": "1.5.0",
            "_view_name": "HBoxView",
            "box_style": "",
            "children": [
              "IPY_MODEL_e7a1c16938864ec88f7289ce00b4b0ba",
              "IPY_MODEL_e307ca2b37694742a3b2ec8d3d470c2e",
              "IPY_MODEL_2810e9ead8784ade9c9c5220e6e2bba5"
            ],
            "layout": "IPY_MODEL_907585a9cc644c2e936aeb4310002611"
          }
        },
        "e7a1c16938864ec88f7289ce00b4b0ba": {
          "model_module": "@jupyter-widgets/controls",
          "model_name": "HTMLModel",
          "model_module_version": "1.5.0",
          "state": {
            "_dom_classes": [],
            "_model_module": "@jupyter-widgets/controls",
            "_model_module_version": "1.5.0",
            "_model_name": "HTMLModel",
            "_view_count": null,
            "_view_module": "@jupyter-widgets/controls",
            "_view_module_version": "1.5.0",
            "_view_name": "HTMLView",
            "description": "",
            "description_tooltip": null,
            "layout": "IPY_MODEL_d7e173d2c883416f9e7edb9d0e676856",
            "placeholder": "​",
            "style": "IPY_MODEL_1afd74770ca34439af9f968d3ca6a1e6",
            "value": "Map: 100%"
          }
        },
        "e307ca2b37694742a3b2ec8d3d470c2e": {
          "model_module": "@jupyter-widgets/controls",
          "model_name": "FloatProgressModel",
          "model_module_version": "1.5.0",
          "state": {
            "_dom_classes": [],
            "_model_module": "@jupyter-widgets/controls",
            "_model_module_version": "1.5.0",
            "_model_name": "FloatProgressModel",
            "_view_count": null,
            "_view_module": "@jupyter-widgets/controls",
            "_view_module_version": "1.5.0",
            "_view_name": "ProgressView",
            "bar_style": "success",
            "description": "",
            "description_tooltip": null,
            "layout": "IPY_MODEL_603983057dbd47c9b91602db958ceb1c",
            "max": 771,
            "min": 0,
            "orientation": "horizontal",
            "style": "IPY_MODEL_a422432ab1964e3988b8c138fa34e168",
            "value": 771
          }
        },
        "2810e9ead8784ade9c9c5220e6e2bba5": {
          "model_module": "@jupyter-widgets/controls",
          "model_name": "HTMLModel",
          "model_module_version": "1.5.0",
          "state": {
            "_dom_classes": [],
            "_model_module": "@jupyter-widgets/controls",
            "_model_module_version": "1.5.0",
            "_model_name": "HTMLModel",
            "_view_count": null,
            "_view_module": "@jupyter-widgets/controls",
            "_view_module_version": "1.5.0",
            "_view_name": "HTMLView",
            "description": "",
            "description_tooltip": null,
            "layout": "IPY_MODEL_ad600841b13e455eac778a7e010c0897",
            "placeholder": "​",
            "style": "IPY_MODEL_d84b21ac694e4b95a810b2b4e97f9b3b",
            "value": " 771/771 [00:00&lt;00:00, 9868.02 examples/s]"
          }
        },
        "907585a9cc644c2e936aeb4310002611": {
          "model_module": "@jupyter-widgets/base",
          "model_name": "LayoutModel",
          "model_module_version": "1.2.0",
          "state": {
            "_model_module": "@jupyter-widgets/base",
            "_model_module_version": "1.2.0",
            "_model_name": "LayoutModel",
            "_view_count": null,
            "_view_module": "@jupyter-widgets/base",
            "_view_module_version": "1.2.0",
            "_view_name": "LayoutView",
            "align_content": null,
            "align_items": null,
            "align_self": null,
            "border": null,
            "bottom": null,
            "display": null,
            "flex": null,
            "flex_flow": null,
            "grid_area": null,
            "grid_auto_columns": null,
            "grid_auto_flow": null,
            "grid_auto_rows": null,
            "grid_column": null,
            "grid_gap": null,
            "grid_row": null,
            "grid_template_areas": null,
            "grid_template_columns": null,
            "grid_template_rows": null,
            "height": null,
            "justify_content": null,
            "justify_items": null,
            "left": null,
            "margin": null,
            "max_height": null,
            "max_width": null,
            "min_height": null,
            "min_width": null,
            "object_fit": null,
            "object_position": null,
            "order": null,
            "overflow": null,
            "overflow_x": null,
            "overflow_y": null,
            "padding": null,
            "right": null,
            "top": null,
            "visibility": null,
            "width": null
          }
        },
        "d7e173d2c883416f9e7edb9d0e676856": {
          "model_module": "@jupyter-widgets/base",
          "model_name": "LayoutModel",
          "model_module_version": "1.2.0",
          "state": {
            "_model_module": "@jupyter-widgets/base",
            "_model_module_version": "1.2.0",
            "_model_name": "LayoutModel",
            "_view_count": null,
            "_view_module": "@jupyter-widgets/base",
            "_view_module_version": "1.2.0",
            "_view_name": "LayoutView",
            "align_content": null,
            "align_items": null,
            "align_self": null,
            "border": null,
            "bottom": null,
            "display": null,
            "flex": null,
            "flex_flow": null,
            "grid_area": null,
            "grid_auto_columns": null,
            "grid_auto_flow": null,
            "grid_auto_rows": null,
            "grid_column": null,
            "grid_gap": null,
            "grid_row": null,
            "grid_template_areas": null,
            "grid_template_columns": null,
            "grid_template_rows": null,
            "height": null,
            "justify_content": null,
            "justify_items": null,
            "left": null,
            "margin": null,
            "max_height": null,
            "max_width": null,
            "min_height": null,
            "min_width": null,
            "object_fit": null,
            "object_position": null,
            "order": null,
            "overflow": null,
            "overflow_x": null,
            "overflow_y": null,
            "padding": null,
            "right": null,
            "top": null,
            "visibility": null,
            "width": null
          }
        },
        "1afd74770ca34439af9f968d3ca6a1e6": {
          "model_module": "@jupyter-widgets/controls",
          "model_name": "DescriptionStyleModel",
          "model_module_version": "1.5.0",
          "state": {
            "_model_module": "@jupyter-widgets/controls",
            "_model_module_version": "1.5.0",
            "_model_name": "DescriptionStyleModel",
            "_view_count": null,
            "_view_module": "@jupyter-widgets/base",
            "_view_module_version": "1.2.0",
            "_view_name": "StyleView",
            "description_width": ""
          }
        },
        "603983057dbd47c9b91602db958ceb1c": {
          "model_module": "@jupyter-widgets/base",
          "model_name": "LayoutModel",
          "model_module_version": "1.2.0",
          "state": {
            "_model_module": "@jupyter-widgets/base",
            "_model_module_version": "1.2.0",
            "_model_name": "LayoutModel",
            "_view_count": null,
            "_view_module": "@jupyter-widgets/base",
            "_view_module_version": "1.2.0",
            "_view_name": "LayoutView",
            "align_content": null,
            "align_items": null,
            "align_self": null,
            "border": null,
            "bottom": null,
            "display": null,
            "flex": null,
            "flex_flow": null,
            "grid_area": null,
            "grid_auto_columns": null,
            "grid_auto_flow": null,
            "grid_auto_rows": null,
            "grid_column": null,
            "grid_gap": null,
            "grid_row": null,
            "grid_template_areas": null,
            "grid_template_columns": null,
            "grid_template_rows": null,
            "height": null,
            "justify_content": null,
            "justify_items": null,
            "left": null,
            "margin": null,
            "max_height": null,
            "max_width": null,
            "min_height": null,
            "min_width": null,
            "object_fit": null,
            "object_position": null,
            "order": null,
            "overflow": null,
            "overflow_x": null,
            "overflow_y": null,
            "padding": null,
            "right": null,
            "top": null,
            "visibility": null,
            "width": null
          }
        },
        "a422432ab1964e3988b8c138fa34e168": {
          "model_module": "@jupyter-widgets/controls",
          "model_name": "ProgressStyleModel",
          "model_module_version": "1.5.0",
          "state": {
            "_model_module": "@jupyter-widgets/controls",
            "_model_module_version": "1.5.0",
            "_model_name": "ProgressStyleModel",
            "_view_count": null,
            "_view_module": "@jupyter-widgets/base",
            "_view_module_version": "1.2.0",
            "_view_name": "StyleView",
            "bar_color": null,
            "description_width": ""
          }
        },
        "ad600841b13e455eac778a7e010c0897": {
          "model_module": "@jupyter-widgets/base",
          "model_name": "LayoutModel",
          "model_module_version": "1.2.0",
          "state": {
            "_model_module": "@jupyter-widgets/base",
            "_model_module_version": "1.2.0",
            "_model_name": "LayoutModel",
            "_view_count": null,
            "_view_module": "@jupyter-widgets/base",
            "_view_module_version": "1.2.0",
            "_view_name": "LayoutView",
            "align_content": null,
            "align_items": null,
            "align_self": null,
            "border": null,
            "bottom": null,
            "display": null,
            "flex": null,
            "flex_flow": null,
            "grid_area": null,
            "grid_auto_columns": null,
            "grid_auto_flow": null,
            "grid_auto_rows": null,
            "grid_column": null,
            "grid_gap": null,
            "grid_row": null,
            "grid_template_areas": null,
            "grid_template_columns": null,
            "grid_template_rows": null,
            "height": null,
            "justify_content": null,
            "justify_items": null,
            "left": null,
            "margin": null,
            "max_height": null,
            "max_width": null,
            "min_height": null,
            "min_width": null,
            "object_fit": null,
            "object_position": null,
            "order": null,
            "overflow": null,
            "overflow_x": null,
            "overflow_y": null,
            "padding": null,
            "right": null,
            "top": null,
            "visibility": null,
            "width": null
          }
        },
        "d84b21ac694e4b95a810b2b4e97f9b3b": {
          "model_module": "@jupyter-widgets/controls",
          "model_name": "DescriptionStyleModel",
          "model_module_version": "1.5.0",
          "state": {
            "_model_module": "@jupyter-widgets/controls",
            "_model_module_version": "1.5.0",
            "_model_name": "DescriptionStyleModel",
            "_view_count": null,
            "_view_module": "@jupyter-widgets/base",
            "_view_module_version": "1.2.0",
            "_view_name": "StyleView",
            "description_width": ""
          }
        },
        "ad6c357ac4f04cfa8ed36bfecddb5227": {
          "model_module": "@jupyter-widgets/controls",
          "model_name": "HBoxModel",
          "model_module_version": "1.5.0",
          "state": {
            "_dom_classes": [],
            "_model_module": "@jupyter-widgets/controls",
            "_model_module_version": "1.5.0",
            "_model_name": "HBoxModel",
            "_view_count": null,
            "_view_module": "@jupyter-widgets/controls",
            "_view_module_version": "1.5.0",
            "_view_name": "HBoxView",
            "box_style": "",
            "children": [
              "IPY_MODEL_3ed9a8a7e3714f8ba1006008f0850036",
              "IPY_MODEL_e3c73b54eaa94167bf165a89a5f2ae2b",
              "IPY_MODEL_f7e645a88e34429289e876516e105ffd"
            ],
            "layout": "IPY_MODEL_c48c273947a0424c9384b5d38575b604"
          }
        },
        "3ed9a8a7e3714f8ba1006008f0850036": {
          "model_module": "@jupyter-widgets/controls",
          "model_name": "HTMLModel",
          "model_module_version": "1.5.0",
          "state": {
            "_dom_classes": [],
            "_model_module": "@jupyter-widgets/controls",
            "_model_module_version": "1.5.0",
            "_model_name": "HTMLModel",
            "_view_count": null,
            "_view_module": "@jupyter-widgets/controls",
            "_view_module_version": "1.5.0",
            "_view_name": "HTMLView",
            "description": "",
            "description_tooltip": null,
            "layout": "IPY_MODEL_48eef16a0ab54d49b1ac471f1709bc5c",
            "placeholder": "​",
            "style": "IPY_MODEL_a1324c9f796c416ba40e3dfcd5299b60",
            "value": "Map: 100%"
          }
        },
        "e3c73b54eaa94167bf165a89a5f2ae2b": {
          "model_module": "@jupyter-widgets/controls",
          "model_name": "FloatProgressModel",
          "model_module_version": "1.5.0",
          "state": {
            "_dom_classes": [],
            "_model_module": "@jupyter-widgets/controls",
            "_model_module_version": "1.5.0",
            "_model_name": "FloatProgressModel",
            "_view_count": null,
            "_view_module": "@jupyter-widgets/controls",
            "_view_module_version": "1.5.0",
            "_view_name": "ProgressView",
            "bar_style": "success",
            "description": "",
            "description_tooltip": null,
            "layout": "IPY_MODEL_2cf40fdcfc9d46359f69a66322dcb6e3",
            "max": 3081,
            "min": 0,
            "orientation": "horizontal",
            "style": "IPY_MODEL_44653831c3a844daa9034bb386a29ed1",
            "value": 3081
          }
        },
        "f7e645a88e34429289e876516e105ffd": {
          "model_module": "@jupyter-widgets/controls",
          "model_name": "HTMLModel",
          "model_module_version": "1.5.0",
          "state": {
            "_dom_classes": [],
            "_model_module": "@jupyter-widgets/controls",
            "_model_module_version": "1.5.0",
            "_model_name": "HTMLModel",
            "_view_count": null,
            "_view_module": "@jupyter-widgets/controls",
            "_view_module_version": "1.5.0",
            "_view_name": "HTMLView",
            "description": "",
            "description_tooltip": null,
            "layout": "IPY_MODEL_d9590c72fbd44ee7ae8dab79cdde750c",
            "placeholder": "​",
            "style": "IPY_MODEL_525285600f324db18d1cb80f32e1766b",
            "value": " 3081/3081 [00:01&lt;00:00, 3425.66 examples/s]"
          }
        },
        "c48c273947a0424c9384b5d38575b604": {
          "model_module": "@jupyter-widgets/base",
          "model_name": "LayoutModel",
          "model_module_version": "1.2.0",
          "state": {
            "_model_module": "@jupyter-widgets/base",
            "_model_module_version": "1.2.0",
            "_model_name": "LayoutModel",
            "_view_count": null,
            "_view_module": "@jupyter-widgets/base",
            "_view_module_version": "1.2.0",
            "_view_name": "LayoutView",
            "align_content": null,
            "align_items": null,
            "align_self": null,
            "border": null,
            "bottom": null,
            "display": null,
            "flex": null,
            "flex_flow": null,
            "grid_area": null,
            "grid_auto_columns": null,
            "grid_auto_flow": null,
            "grid_auto_rows": null,
            "grid_column": null,
            "grid_gap": null,
            "grid_row": null,
            "grid_template_areas": null,
            "grid_template_columns": null,
            "grid_template_rows": null,
            "height": null,
            "justify_content": null,
            "justify_items": null,
            "left": null,
            "margin": null,
            "max_height": null,
            "max_width": null,
            "min_height": null,
            "min_width": null,
            "object_fit": null,
            "object_position": null,
            "order": null,
            "overflow": null,
            "overflow_x": null,
            "overflow_y": null,
            "padding": null,
            "right": null,
            "top": null,
            "visibility": null,
            "width": null
          }
        },
        "48eef16a0ab54d49b1ac471f1709bc5c": {
          "model_module": "@jupyter-widgets/base",
          "model_name": "LayoutModel",
          "model_module_version": "1.2.0",
          "state": {
            "_model_module": "@jupyter-widgets/base",
            "_model_module_version": "1.2.0",
            "_model_name": "LayoutModel",
            "_view_count": null,
            "_view_module": "@jupyter-widgets/base",
            "_view_module_version": "1.2.0",
            "_view_name": "LayoutView",
            "align_content": null,
            "align_items": null,
            "align_self": null,
            "border": null,
            "bottom": null,
            "display": null,
            "flex": null,
            "flex_flow": null,
            "grid_area": null,
            "grid_auto_columns": null,
            "grid_auto_flow": null,
            "grid_auto_rows": null,
            "grid_column": null,
            "grid_gap": null,
            "grid_row": null,
            "grid_template_areas": null,
            "grid_template_columns": null,
            "grid_template_rows": null,
            "height": null,
            "justify_content": null,
            "justify_items": null,
            "left": null,
            "margin": null,
            "max_height": null,
            "max_width": null,
            "min_height": null,
            "min_width": null,
            "object_fit": null,
            "object_position": null,
            "order": null,
            "overflow": null,
            "overflow_x": null,
            "overflow_y": null,
            "padding": null,
            "right": null,
            "top": null,
            "visibility": null,
            "width": null
          }
        },
        "a1324c9f796c416ba40e3dfcd5299b60": {
          "model_module": "@jupyter-widgets/controls",
          "model_name": "DescriptionStyleModel",
          "model_module_version": "1.5.0",
          "state": {
            "_model_module": "@jupyter-widgets/controls",
            "_model_module_version": "1.5.0",
            "_model_name": "DescriptionStyleModel",
            "_view_count": null,
            "_view_module": "@jupyter-widgets/base",
            "_view_module_version": "1.2.0",
            "_view_name": "StyleView",
            "description_width": ""
          }
        },
        "2cf40fdcfc9d46359f69a66322dcb6e3": {
          "model_module": "@jupyter-widgets/base",
          "model_name": "LayoutModel",
          "model_module_version": "1.2.0",
          "state": {
            "_model_module": "@jupyter-widgets/base",
            "_model_module_version": "1.2.0",
            "_model_name": "LayoutModel",
            "_view_count": null,
            "_view_module": "@jupyter-widgets/base",
            "_view_module_version": "1.2.0",
            "_view_name": "LayoutView",
            "align_content": null,
            "align_items": null,
            "align_self": null,
            "border": null,
            "bottom": null,
            "display": null,
            "flex": null,
            "flex_flow": null,
            "grid_area": null,
            "grid_auto_columns": null,
            "grid_auto_flow": null,
            "grid_auto_rows": null,
            "grid_column": null,
            "grid_gap": null,
            "grid_row": null,
            "grid_template_areas": null,
            "grid_template_columns": null,
            "grid_template_rows": null,
            "height": null,
            "justify_content": null,
            "justify_items": null,
            "left": null,
            "margin": null,
            "max_height": null,
            "max_width": null,
            "min_height": null,
            "min_width": null,
            "object_fit": null,
            "object_position": null,
            "order": null,
            "overflow": null,
            "overflow_x": null,
            "overflow_y": null,
            "padding": null,
            "right": null,
            "top": null,
            "visibility": null,
            "width": null
          }
        },
        "44653831c3a844daa9034bb386a29ed1": {
          "model_module": "@jupyter-widgets/controls",
          "model_name": "ProgressStyleModel",
          "model_module_version": "1.5.0",
          "state": {
            "_model_module": "@jupyter-widgets/controls",
            "_model_module_version": "1.5.0",
            "_model_name": "ProgressStyleModel",
            "_view_count": null,
            "_view_module": "@jupyter-widgets/base",
            "_view_module_version": "1.2.0",
            "_view_name": "StyleView",
            "bar_color": null,
            "description_width": ""
          }
        },
        "d9590c72fbd44ee7ae8dab79cdde750c": {
          "model_module": "@jupyter-widgets/base",
          "model_name": "LayoutModel",
          "model_module_version": "1.2.0",
          "state": {
            "_model_module": "@jupyter-widgets/base",
            "_model_module_version": "1.2.0",
            "_model_name": "LayoutModel",
            "_view_count": null,
            "_view_module": "@jupyter-widgets/base",
            "_view_module_version": "1.2.0",
            "_view_name": "LayoutView",
            "align_content": null,
            "align_items": null,
            "align_self": null,
            "border": null,
            "bottom": null,
            "display": null,
            "flex": null,
            "flex_flow": null,
            "grid_area": null,
            "grid_auto_columns": null,
            "grid_auto_flow": null,
            "grid_auto_rows": null,
            "grid_column": null,
            "grid_gap": null,
            "grid_row": null,
            "grid_template_areas": null,
            "grid_template_columns": null,
            "grid_template_rows": null,
            "height": null,
            "justify_content": null,
            "justify_items": null,
            "left": null,
            "margin": null,
            "max_height": null,
            "max_width": null,
            "min_height": null,
            "min_width": null,
            "object_fit": null,
            "object_position": null,
            "order": null,
            "overflow": null,
            "overflow_x": null,
            "overflow_y": null,
            "padding": null,
            "right": null,
            "top": null,
            "visibility": null,
            "width": null
          }
        },
        "525285600f324db18d1cb80f32e1766b": {
          "model_module": "@jupyter-widgets/controls",
          "model_name": "DescriptionStyleModel",
          "model_module_version": "1.5.0",
          "state": {
            "_model_module": "@jupyter-widgets/controls",
            "_model_module_version": "1.5.0",
            "_model_name": "DescriptionStyleModel",
            "_view_count": null,
            "_view_module": "@jupyter-widgets/base",
            "_view_module_version": "1.2.0",
            "_view_name": "StyleView",
            "description_width": ""
          }
        },
        "3cdb4dc1769b4f32bd256466f8a47948": {
          "model_module": "@jupyter-widgets/controls",
          "model_name": "HBoxModel",
          "model_module_version": "1.5.0",
          "state": {
            "_dom_classes": [],
            "_model_module": "@jupyter-widgets/controls",
            "_model_module_version": "1.5.0",
            "_model_name": "HBoxModel",
            "_view_count": null,
            "_view_module": "@jupyter-widgets/controls",
            "_view_module_version": "1.5.0",
            "_view_name": "HBoxView",
            "box_style": "",
            "children": [
              "IPY_MODEL_7e043746a5584a278e4f39d6270dabd5",
              "IPY_MODEL_05e98583d1f546a7940d2069f0ee61ad",
              "IPY_MODEL_29ae273fd10140969e11aa97e526ada1"
            ],
            "layout": "IPY_MODEL_753bfa91e07a42ca83039615653c544b"
          }
        },
        "7e043746a5584a278e4f39d6270dabd5": {
          "model_module": "@jupyter-widgets/controls",
          "model_name": "HTMLModel",
          "model_module_version": "1.5.0",
          "state": {
            "_dom_classes": [],
            "_model_module": "@jupyter-widgets/controls",
            "_model_module_version": "1.5.0",
            "_model_name": "HTMLModel",
            "_view_count": null,
            "_view_module": "@jupyter-widgets/controls",
            "_view_module_version": "1.5.0",
            "_view_name": "HTMLView",
            "description": "",
            "description_tooltip": null,
            "layout": "IPY_MODEL_12eeb97da24042fcbe3729a03afb4777",
            "placeholder": "​",
            "style": "IPY_MODEL_c895e9d31fc2481881f6e596c12d1613",
            "value": "Map: 100%"
          }
        },
        "05e98583d1f546a7940d2069f0ee61ad": {
          "model_module": "@jupyter-widgets/controls",
          "model_name": "FloatProgressModel",
          "model_module_version": "1.5.0",
          "state": {
            "_dom_classes": [],
            "_model_module": "@jupyter-widgets/controls",
            "_model_module_version": "1.5.0",
            "_model_name": "FloatProgressModel",
            "_view_count": null,
            "_view_module": "@jupyter-widgets/controls",
            "_view_module_version": "1.5.0",
            "_view_name": "ProgressView",
            "bar_style": "success",
            "description": "",
            "description_tooltip": null,
            "layout": "IPY_MODEL_af894e7420a94a9f8c5d7a1548ee7d36",
            "max": 771,
            "min": 0,
            "orientation": "horizontal",
            "style": "IPY_MODEL_15cb1d2f83674959b87fb412be95a446",
            "value": 771
          }
        },
        "29ae273fd10140969e11aa97e526ada1": {
          "model_module": "@jupyter-widgets/controls",
          "model_name": "HTMLModel",
          "model_module_version": "1.5.0",
          "state": {
            "_dom_classes": [],
            "_model_module": "@jupyter-widgets/controls",
            "_model_module_version": "1.5.0",
            "_model_name": "HTMLModel",
            "_view_count": null,
            "_view_module": "@jupyter-widgets/controls",
            "_view_module_version": "1.5.0",
            "_view_name": "HTMLView",
            "description": "",
            "description_tooltip": null,
            "layout": "IPY_MODEL_23b078952d734fa9901c029b698bffa7",
            "placeholder": "​",
            "style": "IPY_MODEL_ba8aeb74eea644d19de866f3bf87da17",
            "value": " 771/771 [00:00&lt;00:00, 5256.57 examples/s]"
          }
        },
        "753bfa91e07a42ca83039615653c544b": {
          "model_module": "@jupyter-widgets/base",
          "model_name": "LayoutModel",
          "model_module_version": "1.2.0",
          "state": {
            "_model_module": "@jupyter-widgets/base",
            "_model_module_version": "1.2.0",
            "_model_name": "LayoutModel",
            "_view_count": null,
            "_view_module": "@jupyter-widgets/base",
            "_view_module_version": "1.2.0",
            "_view_name": "LayoutView",
            "align_content": null,
            "align_items": null,
            "align_self": null,
            "border": null,
            "bottom": null,
            "display": null,
            "flex": null,
            "flex_flow": null,
            "grid_area": null,
            "grid_auto_columns": null,
            "grid_auto_flow": null,
            "grid_auto_rows": null,
            "grid_column": null,
            "grid_gap": null,
            "grid_row": null,
            "grid_template_areas": null,
            "grid_template_columns": null,
            "grid_template_rows": null,
            "height": null,
            "justify_content": null,
            "justify_items": null,
            "left": null,
            "margin": null,
            "max_height": null,
            "max_width": null,
            "min_height": null,
            "min_width": null,
            "object_fit": null,
            "object_position": null,
            "order": null,
            "overflow": null,
            "overflow_x": null,
            "overflow_y": null,
            "padding": null,
            "right": null,
            "top": null,
            "visibility": null,
            "width": null
          }
        },
        "12eeb97da24042fcbe3729a03afb4777": {
          "model_module": "@jupyter-widgets/base",
          "model_name": "LayoutModel",
          "model_module_version": "1.2.0",
          "state": {
            "_model_module": "@jupyter-widgets/base",
            "_model_module_version": "1.2.0",
            "_model_name": "LayoutModel",
            "_view_count": null,
            "_view_module": "@jupyter-widgets/base",
            "_view_module_version": "1.2.0",
            "_view_name": "LayoutView",
            "align_content": null,
            "align_items": null,
            "align_self": null,
            "border": null,
            "bottom": null,
            "display": null,
            "flex": null,
            "flex_flow": null,
            "grid_area": null,
            "grid_auto_columns": null,
            "grid_auto_flow": null,
            "grid_auto_rows": null,
            "grid_column": null,
            "grid_gap": null,
            "grid_row": null,
            "grid_template_areas": null,
            "grid_template_columns": null,
            "grid_template_rows": null,
            "height": null,
            "justify_content": null,
            "justify_items": null,
            "left": null,
            "margin": null,
            "max_height": null,
            "max_width": null,
            "min_height": null,
            "min_width": null,
            "object_fit": null,
            "object_position": null,
            "order": null,
            "overflow": null,
            "overflow_x": null,
            "overflow_y": null,
            "padding": null,
            "right": null,
            "top": null,
            "visibility": null,
            "width": null
          }
        },
        "c895e9d31fc2481881f6e596c12d1613": {
          "model_module": "@jupyter-widgets/controls",
          "model_name": "DescriptionStyleModel",
          "model_module_version": "1.5.0",
          "state": {
            "_model_module": "@jupyter-widgets/controls",
            "_model_module_version": "1.5.0",
            "_model_name": "DescriptionStyleModel",
            "_view_count": null,
            "_view_module": "@jupyter-widgets/base",
            "_view_module_version": "1.2.0",
            "_view_name": "StyleView",
            "description_width": ""
          }
        },
        "af894e7420a94a9f8c5d7a1548ee7d36": {
          "model_module": "@jupyter-widgets/base",
          "model_name": "LayoutModel",
          "model_module_version": "1.2.0",
          "state": {
            "_model_module": "@jupyter-widgets/base",
            "_model_module_version": "1.2.0",
            "_model_name": "LayoutModel",
            "_view_count": null,
            "_view_module": "@jupyter-widgets/base",
            "_view_module_version": "1.2.0",
            "_view_name": "LayoutView",
            "align_content": null,
            "align_items": null,
            "align_self": null,
            "border": null,
            "bottom": null,
            "display": null,
            "flex": null,
            "flex_flow": null,
            "grid_area": null,
            "grid_auto_columns": null,
            "grid_auto_flow": null,
            "grid_auto_rows": null,
            "grid_column": null,
            "grid_gap": null,
            "grid_row": null,
            "grid_template_areas": null,
            "grid_template_columns": null,
            "grid_template_rows": null,
            "height": null,
            "justify_content": null,
            "justify_items": null,
            "left": null,
            "margin": null,
            "max_height": null,
            "max_width": null,
            "min_height": null,
            "min_width": null,
            "object_fit": null,
            "object_position": null,
            "order": null,
            "overflow": null,
            "overflow_x": null,
            "overflow_y": null,
            "padding": null,
            "right": null,
            "top": null,
            "visibility": null,
            "width": null
          }
        },
        "15cb1d2f83674959b87fb412be95a446": {
          "model_module": "@jupyter-widgets/controls",
          "model_name": "ProgressStyleModel",
          "model_module_version": "1.5.0",
          "state": {
            "_model_module": "@jupyter-widgets/controls",
            "_model_module_version": "1.5.0",
            "_model_name": "ProgressStyleModel",
            "_view_count": null,
            "_view_module": "@jupyter-widgets/base",
            "_view_module_version": "1.2.0",
            "_view_name": "StyleView",
            "bar_color": null,
            "description_width": ""
          }
        },
        "23b078952d734fa9901c029b698bffa7": {
          "model_module": "@jupyter-widgets/base",
          "model_name": "LayoutModel",
          "model_module_version": "1.2.0",
          "state": {
            "_model_module": "@jupyter-widgets/base",
            "_model_module_version": "1.2.0",
            "_model_name": "LayoutModel",
            "_view_count": null,
            "_view_module": "@jupyter-widgets/base",
            "_view_module_version": "1.2.0",
            "_view_name": "LayoutView",
            "align_content": null,
            "align_items": null,
            "align_self": null,
            "border": null,
            "bottom": null,
            "display": null,
            "flex": null,
            "flex_flow": null,
            "grid_area": null,
            "grid_auto_columns": null,
            "grid_auto_flow": null,
            "grid_auto_rows": null,
            "grid_column": null,
            "grid_gap": null,
            "grid_row": null,
            "grid_template_areas": null,
            "grid_template_columns": null,
            "grid_template_rows": null,
            "height": null,
            "justify_content": null,
            "justify_items": null,
            "left": null,
            "margin": null,
            "max_height": null,
            "max_width": null,
            "min_height": null,
            "min_width": null,
            "object_fit": null,
            "object_position": null,
            "order": null,
            "overflow": null,
            "overflow_x": null,
            "overflow_y": null,
            "padding": null,
            "right": null,
            "top": null,
            "visibility": null,
            "width": null
          }
        },
        "ba8aeb74eea644d19de866f3bf87da17": {
          "model_module": "@jupyter-widgets/controls",
          "model_name": "DescriptionStyleModel",
          "model_module_version": "1.5.0",
          "state": {
            "_model_module": "@jupyter-widgets/controls",
            "_model_module_version": "1.5.0",
            "_model_name": "DescriptionStyleModel",
            "_view_count": null,
            "_view_module": "@jupyter-widgets/base",
            "_view_module_version": "1.2.0",
            "_view_name": "StyleView",
            "description_width": ""
          }
        }
      }
    }
  },
  "nbformat": 4,
  "nbformat_minor": 0
}